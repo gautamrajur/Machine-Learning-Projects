{
 "cells": [
  {
   "cell_type": "code",
   "execution_count": 212,
   "metadata": {
    "collapsed": false
   },
   "outputs": [],
   "source": [
    "import graphlab"
   ]
  },
  {
   "cell_type": "code",
   "execution_count": 213,
   "metadata": {
    "collapsed": false
   },
   "outputs": [],
   "source": [
    "url='E:\\Datset ofr FY Project\\Category and Attribute Prediction Benchmark-20171223T092747Z-001\\img-002\\img'\n",
    "data = graphlab.image_analysis.load_images(url)\n",
    "data['label']='Above_Average_Linen_Tee'"
   ]
  },
  {
   "cell_type": "code",
   "execution_count": 214,
   "metadata": {
    "collapsed": false
   },
   "outputs": [
    {
     "data": {
      "application/javascript": [
       "$(\"head\").append($(\"<link/>\").attr({\n",
       "  rel:  \"stylesheet\",\n",
       "  type: \"text/css\",\n",
       "  href: \"//cdnjs.cloudflare.com/ajax/libs/font-awesome/4.1.0/css/font-awesome.min.css\"\n",
       "}));\n",
       "$(\"head\").append($(\"<link/>\").attr({\n",
       "  rel:  \"stylesheet\",\n",
       "  type: \"text/css\",\n",
       "  href: \"https://static.turi.com/products/graphlab-create/2.1/canvas/css/canvas.css\"\n",
       "}));\n",
       "\n",
       "            (function(){\n",
       "\n",
       "                var e = null;\n",
       "                if (typeof element == 'undefined') {\n",
       "                    var scripts = document.getElementsByTagName('script');\n",
       "                    var thisScriptTag = scripts[scripts.length-1];\n",
       "                    var parentDiv = thisScriptTag.parentNode;\n",
       "                    e = document.createElement('div');\n",
       "                    parentDiv.appendChild(e);\n",
       "                } else {\n",
       "                    e = element[0];\n",
       "                }\n",
       "\n",
       "                if (typeof requirejs !== 'undefined') {\n",
       "                    // disable load timeout; ipython_app.js is large and can take a while to load.\n",
       "                    requirejs.config({waitSeconds: 0});\n",
       "                }\n",
       "\n",
       "                require(['https://static.turi.com/products/graphlab-create/2.1/canvas/js/ipython_app.js'], function(IPythonApp){\n",
       "                    var app = new IPythonApp();\n",
       "                    app.attachView('sframe','Summary', {\"ipython\": true, \"sketch\": {\"path\": {\"complete\": true, \"numeric\": false, \"num_unique\": 43, \"num_undefined\": 0, \"progress\": 1.0, \"frequent_items\": {\"E:/Datset ofr FY Project/Category and Attribute Prediction Benchmark-20171223T092747Z-001/img-002/img/Above_Average_Linen_Tee/img_00000030.jpg\": {\"frequency\": 1, \"value\": \"E:/Datset ofr FY ...\"}, \"E:/Datset ofr FY Project/Category and Attribute Prediction Benchmark-20171223T092747Z-001/img-002/img/Above_Average_Linen_Tee/img_00000036.jpg\": {\"frequency\": 1, \"value\": \"E:/Datset ofr FY ...\"}, \"E:/Datset ofr FY Project/Category and Attribute Prediction Benchmark-20171223T092747Z-001/img-002/img/Above_Average_Linen_Tee/img_00000006.jpg\": {\"frequency\": 1, \"value\": \"E:/Datset ofr FY ...\"}, \"E:/Datset ofr FY Project/Category and Attribute Prediction Benchmark-20171223T092747Z-001/img-002/img/Above_Average_Linen_Tee/img_00000013.jpg\": {\"frequency\": 1, \"value\": \"E:/Datset ofr FY ...\"}, \"E:/Datset ofr FY Project/Category and Attribute Prediction Benchmark-20171223T092747Z-001/img-002/img/Above_Average_Linen_Tee/img_00000029.jpg\": {\"frequency\": 1, \"value\": \"E:/Datset ofr FY ...\"}, \"E:/Datset ofr FY Project/Category and Attribute Prediction Benchmark-20171223T092747Z-001/img-002/img/Above_Average_Linen_Tee/img_00000002.jpg\": {\"frequency\": 1, \"value\": \"E:/Datset ofr FY ...\"}, \"E:/Datset ofr FY Project/Category and Attribute Prediction Benchmark-20171223T092747Z-001/img-002/img/Above_Average_Linen_Tee/img_00000033.jpg\": {\"frequency\": 1, \"value\": \"E:/Datset ofr FY ...\"}, \"E:/Datset ofr FY Project/Category and Attribute Prediction Benchmark-20171223T092747Z-001/img-002/img/Above_Average_Linen_Tee/img_00000022.jpg\": {\"frequency\": 1, \"value\": \"E:/Datset ofr FY ...\"}, \"E:/Datset ofr FY Project/Category and Attribute Prediction Benchmark-20171223T092747Z-001/img-002/img/Above_Average_Linen_Tee/img_00000026.jpg\": {\"frequency\": 1, \"value\": \"E:/Datset ofr FY ...\"}, \"E:/Datset ofr FY Project/Category and Attribute Prediction Benchmark-20171223T092747Z-001/img-002/img/Above_Average_Linen_Tee/img_00000010.jpg\": {\"frequency\": 1, \"value\": \"E:/Datset ofr FY ...\"}, \"E:/Datset ofr FY Project/Category and Attribute Prediction Benchmark-20171223T092747Z-001/img-002/img/Above_Average_Linen_Tee/img_00000043.jpg\": {\"frequency\": 1, \"value\": \"E:/Datset ofr FY ...\"}, \"E:/Datset ofr FY Project/Category and Attribute Prediction Benchmark-20171223T092747Z-001/img-002/img/Above_Average_Linen_Tee/img_00000019.jpg\": {\"frequency\": 1, \"value\": \"E:/Datset ofr FY ...\"}, \"E:/Datset ofr FY Project/Category and Attribute Prediction Benchmark-20171223T092747Z-001/img-002/img/Above_Average_Linen_Tee/img_00000016.jpg\": {\"frequency\": 1, \"value\": \"E:/Datset ofr FY ...\"}, \"E:/Datset ofr FY Project/Category and Attribute Prediction Benchmark-20171223T092747Z-001/img-002/img/Above_Average_Linen_Tee/img_00000032.jpg\": {\"frequency\": 1, \"value\": \"E:/Datset ofr FY ...\"}, \"E:/Datset ofr FY Project/Category and Attribute Prediction Benchmark-20171223T092747Z-001/img-002/img/Above_Average_Linen_Tee/img_00000008.jpg\": {\"frequency\": 1, \"value\": \"E:/Datset ofr FY ...\"}, \"E:/Datset ofr FY Project/Category and Attribute Prediction Benchmark-20171223T092747Z-001/img-002/img/Above_Average_Linen_Tee/img_00000034.jpg\": {\"frequency\": 1, \"value\": \"E:/Datset ofr FY ...\"}, \"E:/Datset ofr FY Project/Category and Attribute Prediction Benchmark-20171223T092747Z-001/img-002/img/Above_Average_Linen_Tee/img_00000041.jpg\": {\"frequency\": 1, \"value\": \"E:/Datset ofr FY ...\"}, \"E:/Datset ofr FY Project/Category and Attribute Prediction Benchmark-20171223T092747Z-001/img-002/img/Above_Average_Linen_Tee/img_00000017.jpg\": {\"frequency\": 1, \"value\": \"E:/Datset ofr FY ...\"}, \"E:/Datset ofr FY Project/Category and Attribute Prediction Benchmark-20171223T092747Z-001/img-002/img/Above_Average_Linen_Tee/img_00000018.jpg\": {\"frequency\": 1, \"value\": \"E:/Datset ofr FY ...\"}, \"E:/Datset ofr FY Project/Category and Attribute Prediction Benchmark-20171223T092747Z-001/img-002/img/Above_Average_Linen_Tee/img_00000037.jpg\": {\"frequency\": 1, \"value\": \"E:/Datset ofr FY ...\"}, \"E:/Datset ofr FY Project/Category and Attribute Prediction Benchmark-20171223T092747Z-001/img-002/img/Above_Average_Linen_Tee/img_00000009.jpg\": {\"frequency\": 1, \"value\": \"E:/Datset ofr FY ...\"}, \"E:/Datset ofr FY Project/Category and Attribute Prediction Benchmark-20171223T092747Z-001/img-002/img/Above_Average_Linen_Tee/img_00000040.jpg\": {\"frequency\": 1, \"value\": \"E:/Datset ofr FY ...\"}, \"E:/Datset ofr FY Project/Category and Attribute Prediction Benchmark-20171223T092747Z-001/img-002/img/Above_Average_Linen_Tee/img_00000012.jpg\": {\"frequency\": 1, \"value\": \"E:/Datset ofr FY ...\"}, \"E:/Datset ofr FY Project/Category and Attribute Prediction Benchmark-20171223T092747Z-001/img-002/img/Above_Average_Linen_Tee/img_00000014.jpg\": {\"frequency\": 1, \"value\": \"E:/Datset ofr FY ...\"}, \"E:/Datset ofr FY Project/Category and Attribute Prediction Benchmark-20171223T092747Z-001/img-002/img/Above_Average_Linen_Tee/img_00000028.jpg\": {\"frequency\": 1, \"value\": \"E:/Datset ofr FY ...\"}, \"E:/Datset ofr FY Project/Category and Attribute Prediction Benchmark-20171223T092747Z-001/img-002/img/Above_Average_Linen_Tee/img_00000023.jpg\": {\"frequency\": 1, \"value\": \"E:/Datset ofr FY ...\"}, \"E:/Datset ofr FY Project/Category and Attribute Prediction Benchmark-20171223T092747Z-001/img-002/img/Above_Average_Linen_Tee/img_00000025.jpg\": {\"frequency\": 1, \"value\": \"E:/Datset ofr FY ...\"}, \"E:/Datset ofr FY Project/Category and Attribute Prediction Benchmark-20171223T092747Z-001/img-002/img/Above_Average_Linen_Tee/img_00000011.jpg\": {\"frequency\": 1, \"value\": \"E:/Datset ofr FY ...\"}, \"E:/Datset ofr FY Project/Category and Attribute Prediction Benchmark-20171223T092747Z-001/img-002/img/Above_Average_Linen_Tee/img_00000004.jpg\": {\"frequency\": 1, \"value\": \"E:/Datset ofr FY ...\"}, \"E:/Datset ofr FY Project/Category and Attribute Prediction Benchmark-20171223T092747Z-001/img-002/img/Above_Average_Linen_Tee/img_00000015.jpg\": {\"frequency\": 1, \"value\": \"E:/Datset ofr FY ...\"}, \"E:/Datset ofr FY Project/Category and Attribute Prediction Benchmark-20171223T092747Z-001/img-002/img/Above_Average_Linen_Tee/img_00000020.jpg\": {\"frequency\": 1, \"value\": \"E:/Datset ofr FY ...\"}, \"E:/Datset ofr FY Project/Category and Attribute Prediction Benchmark-20171223T092747Z-001/img-002/img/Above_Average_Linen_Tee/img_00000031.jpg\": {\"frequency\": 1, \"value\": \"E:/Datset ofr FY ...\"}, \"E:/Datset ofr FY Project/Category and Attribute Prediction Benchmark-20171223T092747Z-001/img-002/img/Above_Average_Linen_Tee/img_00000035.jpg\": {\"frequency\": 1, \"value\": \"E:/Datset ofr FY ...\"}, \"E:/Datset ofr FY Project/Category and Attribute Prediction Benchmark-20171223T092747Z-001/img-002/img/Above_Average_Linen_Tee/img_00000007.jpg\": {\"frequency\": 1, \"value\": \"E:/Datset ofr FY ...\"}, \"E:/Datset ofr FY Project/Category and Attribute Prediction Benchmark-20171223T092747Z-001/img-002/img/Above_Average_Linen_Tee/img_00000001.jpg\": {\"frequency\": 1, \"value\": \"E:/Datset ofr FY ...\"}, \"E:/Datset ofr FY Project/Category and Attribute Prediction Benchmark-20171223T092747Z-001/img-002/img/Above_Average_Linen_Tee/img_00000021.jpg\": {\"frequency\": 1, \"value\": \"E:/Datset ofr FY ...\"}, \"E:/Datset ofr FY Project/Category and Attribute Prediction Benchmark-20171223T092747Z-001/img-002/img/Above_Average_Linen_Tee/img_00000027.jpg\": {\"frequency\": 1, \"value\": \"E:/Datset ofr FY ...\"}, \"E:/Datset ofr FY Project/Category and Attribute Prediction Benchmark-20171223T092747Z-001/img-002/img/Above_Average_Linen_Tee/img_00000038.jpg\": {\"frequency\": 1, \"value\": \"E:/Datset ofr FY ...\"}, \"E:/Datset ofr FY Project/Category and Attribute Prediction Benchmark-20171223T092747Z-001/img-002/img/Above_Average_Linen_Tee/img_00000024.jpg\": {\"frequency\": 1, \"value\": \"E:/Datset ofr FY ...\"}, \"E:/Datset ofr FY Project/Category and Attribute Prediction Benchmark-20171223T092747Z-001/img-002/img/Above_Average_Linen_Tee/img_00000042.jpg\": {\"frequency\": 1, \"value\": \"E:/Datset ofr FY ...\"}, \"E:/Datset ofr FY Project/Category and Attribute Prediction Benchmark-20171223T092747Z-001/img-002/img/Above_Average_Linen_Tee/img_00000039.jpg\": {\"frequency\": 1, \"value\": \"E:/Datset ofr FY ...\"}, \"E:/Datset ofr FY Project/Category and Attribute Prediction Benchmark-20171223T092747Z-001/img-002/img/Above_Average_Linen_Tee/img_00000005.jpg\": {\"frequency\": 1, \"value\": \"E:/Datset ofr FY ...\"}, \"E:/Datset ofr FY Project/Category and Attribute Prediction Benchmark-20171223T092747Z-001/img-002/img/Above_Average_Linen_Tee/img_00000003.jpg\": {\"frequency\": 1, \"value\": \"E:/Datset ofr FY ...\"}}, \"size\": 43}, \"image\": {\"progress\": 1.0, \"num_undefined\": 0, \"complete\": true, \"samples\": [{\"format\": \"jpeg\", \"value\": \"image/jpeg;base64,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\\n\", \"height\": 301, \"channels\": 3, \"width\": 227, \"type\": \"image\", \"id\": 500506752}, {\"format\": \"jpeg\", \"value\": \"image/jpeg;base64,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\\n\", \"height\": 301, \"channels\": 3, \"width\": 205, \"type\": \"image\", \"id\": 500531272}, {\"format\": \"jpeg\", \"value\": \"image/jpeg;base64,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\\n\", \"height\": 300, \"channels\": 3, \"width\": 247, \"type\": \"image\", \"id\": 500531328}, {\"format\": \"jpeg\", \"value\": \"image/jpeg;base64,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\\n\", \"height\": 301, \"channels\": 3, \"width\": 199, \"type\": \"image\", \"id\": 500531384}]}, \"label\": {\"complete\": true, \"numeric\": false, \"num_unique\": 1, \"num_undefined\": 0, \"progress\": 1.0, \"frequent_items\": {\"Above_Average_Linen_Tee\": {\"frequency\": 43, \"value\": \"Above_Average_Line ...\"}}, \"size\": 43}}, \"selected_variable\": {\"name\": [\"data\"], \"descriptives\": {\"rows\": 43, \"columns\": 3}, \"view_component\": \"Summary\", \"view_file\": \"sframe\", \"view_params\": {\"y\": null, \"x\": null, \"columns\": [\"path\", \"image\", \"label\"], \"view\": null}, \"view_components\": [\"Summary\", \"Table\", \"Bar Chart\", \"BoxWhisker Plot\", \"Line Chart\", \"Scatter Plot\", \"Heat Map\", \"Plots\"], \"type\": \"SFrame\", \"columns\": [{\"dtype\": \"str\", \"name\": \"path\"}, {\"dtype\": \"Image\", \"name\": \"image\"}, {\"dtype\": \"str\", \"name\": \"label\"}], \"column_identifiers\": [\"path\", \"image\", \"label\"]}, \"columns\": [{\"dtype\": \"str\", \"name\": \"path\"}, {\"dtype\": \"Image\", \"name\": \"image\"}, {\"dtype\": \"str\", \"name\": \"label\"}]}, e);\n",
       "                });\n",
       "            })();\n",
       "        "
      ]
     },
     "metadata": {},
     "output_type": "display_data"
    },
    {
     "data": {
      "text/html": [
       "<div style=\"max-height:1000px;max-width:1500px;overflow:auto;\"><table frame=\"box\" rules=\"cols\">\n",
       "    <tr>\n",
       "        <th style=\"padding-left: 1em; padding-right: 1em; text-align: center\">path</th>\n",
       "        <th style=\"padding-left: 1em; padding-right: 1em; text-align: center\">image</th>\n",
       "        <th style=\"padding-left: 1em; padding-right: 1em; text-align: center\">label</th>\n",
       "    </tr>\n",
       "    <tr>\n",
       "        <td style=\"padding-left: 1em; padding-right: 1em; text-align: center; vertical-align: top\">E:/Datset ofr FY<br>Project/Category and ...</td>\n",
       "        <td style=\"padding-left: 1em; padding-right: 1em; text-align: center; vertical-align: top\">Height: 301 Width: 227</td>\n",
       "        <td style=\"padding-left: 1em; padding-right: 1em; text-align: center; vertical-align: top\">Above_Average_Linen_Tee</td>\n",
       "    </tr>\n",
       "    <tr>\n",
       "        <td style=\"padding-left: 1em; padding-right: 1em; text-align: center; vertical-align: top\">E:/Datset ofr FY<br>Project/Category and ...</td>\n",
       "        <td style=\"padding-left: 1em; padding-right: 1em; text-align: center; vertical-align: top\">Height: 301 Width: 205</td>\n",
       "        <td style=\"padding-left: 1em; padding-right: 1em; text-align: center; vertical-align: top\">Above_Average_Linen_Tee</td>\n",
       "    </tr>\n",
       "    <tr>\n",
       "        <td style=\"padding-left: 1em; padding-right: 1em; text-align: center; vertical-align: top\">E:/Datset ofr FY<br>Project/Category and ...</td>\n",
       "        <td style=\"padding-left: 1em; padding-right: 1em; text-align: center; vertical-align: top\">Height: 300 Width: 247</td>\n",
       "        <td style=\"padding-left: 1em; padding-right: 1em; text-align: center; vertical-align: top\">Above_Average_Linen_Tee</td>\n",
       "    </tr>\n",
       "    <tr>\n",
       "        <td style=\"padding-left: 1em; padding-right: 1em; text-align: center; vertical-align: top\">E:/Datset ofr FY<br>Project/Category and ...</td>\n",
       "        <td style=\"padding-left: 1em; padding-right: 1em; text-align: center; vertical-align: top\">Height: 301 Width: 199</td>\n",
       "        <td style=\"padding-left: 1em; padding-right: 1em; text-align: center; vertical-align: top\">Above_Average_Linen_Tee</td>\n",
       "    </tr>\n",
       "    <tr>\n",
       "        <td style=\"padding-left: 1em; padding-right: 1em; text-align: center; vertical-align: top\">E:/Datset ofr FY<br>Project/Category and ...</td>\n",
       "        <td style=\"padding-left: 1em; padding-right: 1em; text-align: center; vertical-align: top\">Height: 300 Width: 300</td>\n",
       "        <td style=\"padding-left: 1em; padding-right: 1em; text-align: center; vertical-align: top\">Above_Average_Linen_Tee</td>\n",
       "    </tr>\n",
       "    <tr>\n",
       "        <td style=\"padding-left: 1em; padding-right: 1em; text-align: center; vertical-align: top\">E:/Datset ofr FY<br>Project/Category and ...</td>\n",
       "        <td style=\"padding-left: 1em; padding-right: 1em; text-align: center; vertical-align: top\">Height: 279 Width: 300</td>\n",
       "        <td style=\"padding-left: 1em; padding-right: 1em; text-align: center; vertical-align: top\">Above_Average_Linen_Tee</td>\n",
       "    </tr>\n",
       "    <tr>\n",
       "        <td style=\"padding-left: 1em; padding-right: 1em; text-align: center; vertical-align: top\">E:/Datset ofr FY<br>Project/Category and ...</td>\n",
       "        <td style=\"padding-left: 1em; padding-right: 1em; text-align: center; vertical-align: top\">Height: 300 Width: 205</td>\n",
       "        <td style=\"padding-left: 1em; padding-right: 1em; text-align: center; vertical-align: top\">Above_Average_Linen_Tee</td>\n",
       "    </tr>\n",
       "    <tr>\n",
       "        <td style=\"padding-left: 1em; padding-right: 1em; text-align: center; vertical-align: top\">E:/Datset ofr FY<br>Project/Category and ...</td>\n",
       "        <td style=\"padding-left: 1em; padding-right: 1em; text-align: center; vertical-align: top\">Height: 300 Width: 300</td>\n",
       "        <td style=\"padding-left: 1em; padding-right: 1em; text-align: center; vertical-align: top\">Above_Average_Linen_Tee</td>\n",
       "    </tr>\n",
       "    <tr>\n",
       "        <td style=\"padding-left: 1em; padding-right: 1em; text-align: center; vertical-align: top\">E:/Datset ofr FY<br>Project/Category and ...</td>\n",
       "        <td style=\"padding-left: 1em; padding-right: 1em; text-align: center; vertical-align: top\">Height: 300 Width: 300</td>\n",
       "        <td style=\"padding-left: 1em; padding-right: 1em; text-align: center; vertical-align: top\">Above_Average_Linen_Tee</td>\n",
       "    </tr>\n",
       "    <tr>\n",
       "        <td style=\"padding-left: 1em; padding-right: 1em; text-align: center; vertical-align: top\">E:/Datset ofr FY<br>Project/Category and ...</td>\n",
       "        <td style=\"padding-left: 1em; padding-right: 1em; text-align: center; vertical-align: top\">Height: 300 Width: 196</td>\n",
       "        <td style=\"padding-left: 1em; padding-right: 1em; text-align: center; vertical-align: top\">Above_Average_Linen_Tee</td>\n",
       "    </tr>\n",
       "</table>\n",
       "[43 rows x 3 columns]<br/>Note: Only the head of the SFrame is printed.<br/>You can use print_rows(num_rows=m, num_columns=n) to print more rows and columns.\n",
       "</div>"
      ],
      "text/plain": [
       "Columns:\n",
       "\tpath\tstr\n",
       "\timage\tImage\n",
       "\tlabel\tstr\n",
       "\n",
       "Rows: 43\n",
       "\n",
       "Data:\n",
       "+-------------------------------+------------------------+\n",
       "|              path             |         image          |\n",
       "+-------------------------------+------------------------+\n",
       "| E:/Datset ofr FY Project/C... | Height: 301 Width: 227 |\n",
       "| E:/Datset ofr FY Project/C... | Height: 301 Width: 205 |\n",
       "| E:/Datset ofr FY Project/C... | Height: 300 Width: 247 |\n",
       "| E:/Datset ofr FY Project/C... | Height: 301 Width: 199 |\n",
       "| E:/Datset ofr FY Project/C... | Height: 300 Width: 300 |\n",
       "| E:/Datset ofr FY Project/C... | Height: 279 Width: 300 |\n",
       "| E:/Datset ofr FY Project/C... | Height: 300 Width: 205 |\n",
       "| E:/Datset ofr FY Project/C... | Height: 300 Width: 300 |\n",
       "| E:/Datset ofr FY Project/C... | Height: 300 Width: 300 |\n",
       "| E:/Datset ofr FY Project/C... | Height: 300 Width: 196 |\n",
       "+-------------------------------+------------------------+\n",
       "+-------------------------+\n",
       "|          label          |\n",
       "+-------------------------+\n",
       "| Above_Average_Linen_Tee |\n",
       "| Above_Average_Linen_Tee |\n",
       "| Above_Average_Linen_Tee |\n",
       "| Above_Average_Linen_Tee |\n",
       "| Above_Average_Linen_Tee |\n",
       "| Above_Average_Linen_Tee |\n",
       "| Above_Average_Linen_Tee |\n",
       "| Above_Average_Linen_Tee |\n",
       "| Above_Average_Linen_Tee |\n",
       "| Above_Average_Linen_Tee |\n",
       "+-------------------------+\n",
       "[43 rows x 3 columns]\n",
       "Note: Only the head of the SFrame is printed.\n",
       "You can use print_rows(num_rows=m, num_columns=n) to print more rows and columns."
      ]
     },
     "execution_count": 214,
     "metadata": {},
     "output_type": "execute_result"
    }
   ],
   "source": [
    "graphlab.canvas.set_target('ipynb')\n",
    "data.show()\n",
    "data"
   ]
  },
  {
   "cell_type": "code",
   "execution_count": 215,
   "metadata": {
    "collapsed": false
   },
   "outputs": [],
   "source": [
    "url2='E:\\Datset ofr FY Project\\Category and Attribute Prediction Benchmark-20171223T092747Z-001\\img-002\\img2'\n",
    "data2 = graphlab.image_analysis.load_images(url)\n",
    "data2['label']='Abstract_Diamond_Fringe_Kimono'"
   ]
  },
  {
   "cell_type": "code",
   "execution_count": 216,
   "metadata": {
    "collapsed": false
   },
   "outputs": [
    {
     "data": {
      "application/javascript": [
       "$(\"head\").append($(\"<link/>\").attr({\n",
       "  rel:  \"stylesheet\",\n",
       "  type: \"text/css\",\n",
       "  href: \"//cdnjs.cloudflare.com/ajax/libs/font-awesome/4.1.0/css/font-awesome.min.css\"\n",
       "}));\n",
       "$(\"head\").append($(\"<link/>\").attr({\n",
       "  rel:  \"stylesheet\",\n",
       "  type: \"text/css\",\n",
       "  href: \"https://static.turi.com/products/graphlab-create/2.1/canvas/css/canvas.css\"\n",
       "}));\n",
       "\n",
       "            (function(){\n",
       "\n",
       "                var e = null;\n",
       "                if (typeof element == 'undefined') {\n",
       "                    var scripts = document.getElementsByTagName('script');\n",
       "                    var thisScriptTag = scripts[scripts.length-1];\n",
       "                    var parentDiv = thisScriptTag.parentNode;\n",
       "                    e = document.createElement('div');\n",
       "                    parentDiv.appendChild(e);\n",
       "                } else {\n",
       "                    e = element[0];\n",
       "                }\n",
       "\n",
       "                if (typeof requirejs !== 'undefined') {\n",
       "                    // disable load timeout; ipython_app.js is large and can take a while to load.\n",
       "                    requirejs.config({waitSeconds: 0});\n",
       "                }\n",
       "\n",
       "                require(['https://static.turi.com/products/graphlab-create/2.1/canvas/js/ipython_app.js'], function(IPythonApp){\n",
       "                    var app = new IPythonApp();\n",
       "                    app.attachView('sframe','Summary', {\"ipython\": true, \"sketch\": {\"path\": {\"complete\": true, \"numeric\": false, \"num_unique\": 43, \"num_undefined\": 0, \"progress\": 1.0, \"frequent_items\": {\"E:/Datset ofr FY Project/Category and Attribute Prediction Benchmark-20171223T092747Z-001/img-002/img/Above_Average_Linen_Tee/img_00000030.jpg\": {\"frequency\": 1, \"value\": \"E:/Datset ofr FY ...\"}, \"E:/Datset ofr FY Project/Category and Attribute Prediction Benchmark-20171223T092747Z-001/img-002/img/Above_Average_Linen_Tee/img_00000036.jpg\": {\"frequency\": 1, \"value\": \"E:/Datset ofr FY ...\"}, \"E:/Datset ofr FY Project/Category and Attribute Prediction Benchmark-20171223T092747Z-001/img-002/img/Above_Average_Linen_Tee/img_00000006.jpg\": {\"frequency\": 1, \"value\": \"E:/Datset ofr FY ...\"}, \"E:/Datset ofr FY Project/Category and Attribute Prediction Benchmark-20171223T092747Z-001/img-002/img/Above_Average_Linen_Tee/img_00000013.jpg\": {\"frequency\": 1, \"value\": \"E:/Datset ofr FY ...\"}, \"E:/Datset ofr FY Project/Category and Attribute Prediction Benchmark-20171223T092747Z-001/img-002/img/Above_Average_Linen_Tee/img_00000029.jpg\": {\"frequency\": 1, \"value\": \"E:/Datset ofr FY ...\"}, \"E:/Datset ofr FY Project/Category and Attribute Prediction Benchmark-20171223T092747Z-001/img-002/img/Above_Average_Linen_Tee/img_00000002.jpg\": {\"frequency\": 1, \"value\": \"E:/Datset ofr FY ...\"}, \"E:/Datset ofr FY Project/Category and Attribute Prediction Benchmark-20171223T092747Z-001/img-002/img/Above_Average_Linen_Tee/img_00000033.jpg\": {\"frequency\": 1, \"value\": \"E:/Datset ofr FY ...\"}, \"E:/Datset ofr FY Project/Category and Attribute Prediction Benchmark-20171223T092747Z-001/img-002/img/Above_Average_Linen_Tee/img_00000022.jpg\": {\"frequency\": 1, \"value\": \"E:/Datset ofr FY ...\"}, \"E:/Datset ofr FY Project/Category and Attribute Prediction Benchmark-20171223T092747Z-001/img-002/img/Above_Average_Linen_Tee/img_00000026.jpg\": {\"frequency\": 1, \"value\": \"E:/Datset ofr FY ...\"}, \"E:/Datset ofr FY Project/Category and Attribute Prediction Benchmark-20171223T092747Z-001/img-002/img/Above_Average_Linen_Tee/img_00000010.jpg\": {\"frequency\": 1, \"value\": \"E:/Datset ofr FY ...\"}, \"E:/Datset ofr FY Project/Category and Attribute Prediction Benchmark-20171223T092747Z-001/img-002/img/Above_Average_Linen_Tee/img_00000043.jpg\": {\"frequency\": 1, \"value\": \"E:/Datset ofr FY ...\"}, \"E:/Datset ofr FY Project/Category and Attribute Prediction Benchmark-20171223T092747Z-001/img-002/img/Above_Average_Linen_Tee/img_00000019.jpg\": {\"frequency\": 1, \"value\": \"E:/Datset ofr FY ...\"}, \"E:/Datset ofr FY Project/Category and Attribute Prediction Benchmark-20171223T092747Z-001/img-002/img/Above_Average_Linen_Tee/img_00000016.jpg\": {\"frequency\": 1, \"value\": \"E:/Datset ofr FY ...\"}, \"E:/Datset ofr FY Project/Category and Attribute Prediction Benchmark-20171223T092747Z-001/img-002/img/Above_Average_Linen_Tee/img_00000032.jpg\": {\"frequency\": 1, \"value\": \"E:/Datset ofr FY ...\"}, \"E:/Datset ofr FY Project/Category and Attribute Prediction Benchmark-20171223T092747Z-001/img-002/img/Above_Average_Linen_Tee/img_00000008.jpg\": {\"frequency\": 1, \"value\": \"E:/Datset ofr FY ...\"}, \"E:/Datset ofr FY Project/Category and Attribute Prediction Benchmark-20171223T092747Z-001/img-002/img/Above_Average_Linen_Tee/img_00000034.jpg\": {\"frequency\": 1, \"value\": \"E:/Datset ofr FY ...\"}, \"E:/Datset ofr FY Project/Category and Attribute Prediction Benchmark-20171223T092747Z-001/img-002/img/Above_Average_Linen_Tee/img_00000041.jpg\": {\"frequency\": 1, \"value\": \"E:/Datset ofr FY ...\"}, \"E:/Datset ofr FY Project/Category and Attribute Prediction Benchmark-20171223T092747Z-001/img-002/img/Above_Average_Linen_Tee/img_00000017.jpg\": {\"frequency\": 1, \"value\": \"E:/Datset ofr FY ...\"}, \"E:/Datset ofr FY Project/Category and Attribute Prediction Benchmark-20171223T092747Z-001/img-002/img/Above_Average_Linen_Tee/img_00000018.jpg\": {\"frequency\": 1, \"value\": \"E:/Datset ofr FY ...\"}, \"E:/Datset ofr FY Project/Category and Attribute Prediction Benchmark-20171223T092747Z-001/img-002/img/Above_Average_Linen_Tee/img_00000037.jpg\": {\"frequency\": 1, \"value\": \"E:/Datset ofr FY ...\"}, \"E:/Datset ofr FY Project/Category and Attribute Prediction Benchmark-20171223T092747Z-001/img-002/img/Above_Average_Linen_Tee/img_00000009.jpg\": {\"frequency\": 1, \"value\": \"E:/Datset ofr FY ...\"}, \"E:/Datset ofr FY Project/Category and Attribute Prediction Benchmark-20171223T092747Z-001/img-002/img/Above_Average_Linen_Tee/img_00000040.jpg\": {\"frequency\": 1, \"value\": \"E:/Datset ofr FY ...\"}, \"E:/Datset ofr FY Project/Category and Attribute Prediction Benchmark-20171223T092747Z-001/img-002/img/Above_Average_Linen_Tee/img_00000012.jpg\": {\"frequency\": 1, \"value\": \"E:/Datset ofr FY ...\"}, \"E:/Datset ofr FY Project/Category and Attribute Prediction Benchmark-20171223T092747Z-001/img-002/img/Above_Average_Linen_Tee/img_00000014.jpg\": {\"frequency\": 1, \"value\": \"E:/Datset ofr FY ...\"}, \"E:/Datset ofr FY Project/Category and Attribute Prediction Benchmark-20171223T092747Z-001/img-002/img/Above_Average_Linen_Tee/img_00000028.jpg\": {\"frequency\": 1, \"value\": \"E:/Datset ofr FY ...\"}, \"E:/Datset ofr FY Project/Category and Attribute Prediction Benchmark-20171223T092747Z-001/img-002/img/Above_Average_Linen_Tee/img_00000023.jpg\": {\"frequency\": 1, \"value\": \"E:/Datset ofr FY ...\"}, \"E:/Datset ofr FY Project/Category and Attribute Prediction Benchmark-20171223T092747Z-001/img-002/img/Above_Average_Linen_Tee/img_00000025.jpg\": {\"frequency\": 1, \"value\": \"E:/Datset ofr FY ...\"}, \"E:/Datset ofr FY Project/Category and Attribute Prediction Benchmark-20171223T092747Z-001/img-002/img/Above_Average_Linen_Tee/img_00000011.jpg\": {\"frequency\": 1, \"value\": \"E:/Datset ofr FY ...\"}, \"E:/Datset ofr FY Project/Category and Attribute Prediction Benchmark-20171223T092747Z-001/img-002/img/Above_Average_Linen_Tee/img_00000004.jpg\": {\"frequency\": 1, \"value\": \"E:/Datset ofr FY ...\"}, \"E:/Datset ofr FY Project/Category and Attribute Prediction Benchmark-20171223T092747Z-001/img-002/img/Above_Average_Linen_Tee/img_00000015.jpg\": {\"frequency\": 1, \"value\": \"E:/Datset ofr FY ...\"}, \"E:/Datset ofr FY Project/Category and Attribute Prediction Benchmark-20171223T092747Z-001/img-002/img/Above_Average_Linen_Tee/img_00000020.jpg\": {\"frequency\": 1, \"value\": \"E:/Datset ofr FY ...\"}, \"E:/Datset ofr FY Project/Category and Attribute Prediction Benchmark-20171223T092747Z-001/img-002/img/Above_Average_Linen_Tee/img_00000031.jpg\": {\"frequency\": 1, \"value\": \"E:/Datset ofr FY ...\"}, \"E:/Datset ofr FY Project/Category and Attribute Prediction Benchmark-20171223T092747Z-001/img-002/img/Above_Average_Linen_Tee/img_00000035.jpg\": {\"frequency\": 1, \"value\": \"E:/Datset ofr FY ...\"}, \"E:/Datset ofr FY Project/Category and Attribute Prediction Benchmark-20171223T092747Z-001/img-002/img/Above_Average_Linen_Tee/img_00000007.jpg\": {\"frequency\": 1, \"value\": \"E:/Datset ofr FY ...\"}, \"E:/Datset ofr FY Project/Category and Attribute Prediction Benchmark-20171223T092747Z-001/img-002/img/Above_Average_Linen_Tee/img_00000001.jpg\": {\"frequency\": 1, \"value\": \"E:/Datset ofr FY ...\"}, \"E:/Datset ofr FY Project/Category and Attribute Prediction Benchmark-20171223T092747Z-001/img-002/img/Above_Average_Linen_Tee/img_00000021.jpg\": {\"frequency\": 1, \"value\": \"E:/Datset ofr FY ...\"}, \"E:/Datset ofr FY Project/Category and Attribute Prediction Benchmark-20171223T092747Z-001/img-002/img/Above_Average_Linen_Tee/img_00000027.jpg\": {\"frequency\": 1, \"value\": \"E:/Datset ofr FY ...\"}, \"E:/Datset ofr FY Project/Category and Attribute Prediction Benchmark-20171223T092747Z-001/img-002/img/Above_Average_Linen_Tee/img_00000038.jpg\": {\"frequency\": 1, \"value\": \"E:/Datset ofr FY ...\"}, \"E:/Datset ofr FY Project/Category and Attribute Prediction Benchmark-20171223T092747Z-001/img-002/img/Above_Average_Linen_Tee/img_00000024.jpg\": {\"frequency\": 1, \"value\": \"E:/Datset ofr FY ...\"}, \"E:/Datset ofr FY Project/Category and Attribute Prediction Benchmark-20171223T092747Z-001/img-002/img/Above_Average_Linen_Tee/img_00000042.jpg\": {\"frequency\": 1, \"value\": \"E:/Datset ofr FY ...\"}, \"E:/Datset ofr FY Project/Category and Attribute Prediction Benchmark-20171223T092747Z-001/img-002/img/Above_Average_Linen_Tee/img_00000039.jpg\": {\"frequency\": 1, \"value\": \"E:/Datset ofr FY ...\"}, \"E:/Datset ofr FY Project/Category and Attribute Prediction Benchmark-20171223T092747Z-001/img-002/img/Above_Average_Linen_Tee/img_00000005.jpg\": {\"frequency\": 1, \"value\": \"E:/Datset ofr FY ...\"}, \"E:/Datset ofr FY Project/Category and Attribute Prediction Benchmark-20171223T092747Z-001/img-002/img/Above_Average_Linen_Tee/img_00000003.jpg\": {\"frequency\": 1, \"value\": \"E:/Datset ofr FY ...\"}}, \"size\": 43}, \"image\": {\"progress\": 1.0, \"num_undefined\": 0, \"complete\": true, \"samples\": [{\"format\": \"jpeg\", \"value\": \"image/jpeg;base64,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\\n\", \"height\": 300, \"channels\": 3, \"width\": 213, \"type\": \"image\", \"id\": 500532056}, {\"format\": \"jpeg\", \"value\": \"image/jpeg;base64,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\\n\", \"height\": 300, \"channels\": 3, \"width\": 300, \"type\": \"image\", \"id\": 500531888}, {\"format\": \"jpeg\", \"value\": \"image/jpeg;base64,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\\n\", \"height\": 300, \"channels\": 3, \"width\": 196, \"type\": \"image\", \"id\": 500532392}, {\"format\": \"jpeg\", \"value\": \"image/jpeg;base64,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\\n\", \"height\": 301, \"channels\": 3, \"width\": 205, \"type\": \"image\", \"id\": 500532224}]}, \"label\": {\"complete\": true, \"numeric\": false, \"num_unique\": 1, \"num_undefined\": 0, \"progress\": 1.0, \"frequent_items\": {\"Abstract_Diamond_Fringe_Kimono\": {\"frequency\": 43, \"value\": \"Abstract_Diamond_F ...\"}}, \"size\": 43}}, \"selected_variable\": {\"name\": [\"data2\"], \"descriptives\": {\"rows\": 43, \"columns\": 3}, \"view_component\": \"Summary\", \"view_file\": \"sframe\", \"view_params\": {\"y\": null, \"x\": null, \"columns\": [\"path\", \"image\", \"label\"], \"view\": null}, \"view_components\": [\"Summary\", \"Table\", \"Bar Chart\", \"BoxWhisker Plot\", \"Line Chart\", \"Scatter Plot\", \"Heat Map\", \"Plots\"], \"type\": \"SFrame\", \"columns\": [{\"dtype\": \"str\", \"name\": \"path\"}, {\"dtype\": \"Image\", \"name\": \"image\"}, {\"dtype\": \"str\", \"name\": \"label\"}], \"column_identifiers\": [\"path\", \"image\", \"label\"]}, \"columns\": [{\"dtype\": \"str\", \"name\": \"path\"}, {\"dtype\": \"Image\", \"name\": \"image\"}, {\"dtype\": \"str\", \"name\": \"label\"}]}, e);\n",
       "                });\n",
       "            })();\n",
       "        "
      ]
     },
     "metadata": {},
     "output_type": "display_data"
    },
    {
     "data": {
      "text/html": [
       "<div style=\"max-height:1000px;max-width:1500px;overflow:auto;\"><table frame=\"box\" rules=\"cols\">\n",
       "    <tr>\n",
       "        <th style=\"padding-left: 1em; padding-right: 1em; text-align: center\">path</th>\n",
       "        <th style=\"padding-left: 1em; padding-right: 1em; text-align: center\">image</th>\n",
       "        <th style=\"padding-left: 1em; padding-right: 1em; text-align: center\">label</th>\n",
       "    </tr>\n",
       "    <tr>\n",
       "        <td style=\"padding-left: 1em; padding-right: 1em; text-align: center; vertical-align: top\">E:/Datset ofr FY<br>Project/Category and ...</td>\n",
       "        <td style=\"padding-left: 1em; padding-right: 1em; text-align: center; vertical-align: top\">Height: 300 Width: 213</td>\n",
       "        <td style=\"padding-left: 1em; padding-right: 1em; text-align: center; vertical-align: top\">Abstract_Diamond_Fringe_K<br>imono ...</td>\n",
       "    </tr>\n",
       "    <tr>\n",
       "        <td style=\"padding-left: 1em; padding-right: 1em; text-align: center; vertical-align: top\">E:/Datset ofr FY<br>Project/Category and ...</td>\n",
       "        <td style=\"padding-left: 1em; padding-right: 1em; text-align: center; vertical-align: top\">Height: 300 Width: 300</td>\n",
       "        <td style=\"padding-left: 1em; padding-right: 1em; text-align: center; vertical-align: top\">Abstract_Diamond_Fringe_K<br>imono ...</td>\n",
       "    </tr>\n",
       "    <tr>\n",
       "        <td style=\"padding-left: 1em; padding-right: 1em; text-align: center; vertical-align: top\">E:/Datset ofr FY<br>Project/Category and ...</td>\n",
       "        <td style=\"padding-left: 1em; padding-right: 1em; text-align: center; vertical-align: top\">Height: 300 Width: 196</td>\n",
       "        <td style=\"padding-left: 1em; padding-right: 1em; text-align: center; vertical-align: top\">Abstract_Diamond_Fringe_K<br>imono ...</td>\n",
       "    </tr>\n",
       "    <tr>\n",
       "        <td style=\"padding-left: 1em; padding-right: 1em; text-align: center; vertical-align: top\">E:/Datset ofr FY<br>Project/Category and ...</td>\n",
       "        <td style=\"padding-left: 1em; padding-right: 1em; text-align: center; vertical-align: top\">Height: 301 Width: 205</td>\n",
       "        <td style=\"padding-left: 1em; padding-right: 1em; text-align: center; vertical-align: top\">Abstract_Diamond_Fringe_K<br>imono ...</td>\n",
       "    </tr>\n",
       "    <tr>\n",
       "        <td style=\"padding-left: 1em; padding-right: 1em; text-align: center; vertical-align: top\">E:/Datset ofr FY<br>Project/Category and ...</td>\n",
       "        <td style=\"padding-left: 1em; padding-right: 1em; text-align: center; vertical-align: top\">Height: 300 Width: 300</td>\n",
       "        <td style=\"padding-left: 1em; padding-right: 1em; text-align: center; vertical-align: top\">Abstract_Diamond_Fringe_K<br>imono ...</td>\n",
       "    </tr>\n",
       "    <tr>\n",
       "        <td style=\"padding-left: 1em; padding-right: 1em; text-align: center; vertical-align: top\">E:/Datset ofr FY<br>Project/Category and ...</td>\n",
       "        <td style=\"padding-left: 1em; padding-right: 1em; text-align: center; vertical-align: top\">Height: 300 Width: 196</td>\n",
       "        <td style=\"padding-left: 1em; padding-right: 1em; text-align: center; vertical-align: top\">Abstract_Diamond_Fringe_K<br>imono ...</td>\n",
       "    </tr>\n",
       "    <tr>\n",
       "        <td style=\"padding-left: 1em; padding-right: 1em; text-align: center; vertical-align: top\">E:/Datset ofr FY<br>Project/Category and ...</td>\n",
       "        <td style=\"padding-left: 1em; padding-right: 1em; text-align: center; vertical-align: top\">Height: 300 Width: 205</td>\n",
       "        <td style=\"padding-left: 1em; padding-right: 1em; text-align: center; vertical-align: top\">Abstract_Diamond_Fringe_K<br>imono ...</td>\n",
       "    </tr>\n",
       "    <tr>\n",
       "        <td style=\"padding-left: 1em; padding-right: 1em; text-align: center; vertical-align: top\">E:/Datset ofr FY<br>Project/Category and ...</td>\n",
       "        <td style=\"padding-left: 1em; padding-right: 1em; text-align: center; vertical-align: top\">Height: 300 Width: 210</td>\n",
       "        <td style=\"padding-left: 1em; padding-right: 1em; text-align: center; vertical-align: top\">Abstract_Diamond_Fringe_K<br>imono ...</td>\n",
       "    </tr>\n",
       "    <tr>\n",
       "        <td style=\"padding-left: 1em; padding-right: 1em; text-align: center; vertical-align: top\">E:/Datset ofr FY<br>Project/Category and ...</td>\n",
       "        <td style=\"padding-left: 1em; padding-right: 1em; text-align: center; vertical-align: top\">Height: 300 Width: 196</td>\n",
       "        <td style=\"padding-left: 1em; padding-right: 1em; text-align: center; vertical-align: top\">Abstract_Diamond_Fringe_K<br>imono ...</td>\n",
       "    </tr>\n",
       "    <tr>\n",
       "        <td style=\"padding-left: 1em; padding-right: 1em; text-align: center; vertical-align: top\">E:/Datset ofr FY<br>Project/Category and ...</td>\n",
       "        <td style=\"padding-left: 1em; padding-right: 1em; text-align: center; vertical-align: top\">Height: 301 Width: 199</td>\n",
       "        <td style=\"padding-left: 1em; padding-right: 1em; text-align: center; vertical-align: top\">Abstract_Diamond_Fringe_K<br>imono ...</td>\n",
       "    </tr>\n",
       "</table>\n",
       "[43 rows x 3 columns]<br/>Note: Only the head of the SFrame is printed.<br/>You can use print_rows(num_rows=m, num_columns=n) to print more rows and columns.\n",
       "</div>"
      ],
      "text/plain": [
       "Columns:\n",
       "\tpath\tstr\n",
       "\timage\tImage\n",
       "\tlabel\tstr\n",
       "\n",
       "Rows: 43\n",
       "\n",
       "Data:\n",
       "+-------------------------------+------------------------+\n",
       "|              path             |         image          |\n",
       "+-------------------------------+------------------------+\n",
       "| E:/Datset ofr FY Project/C... | Height: 300 Width: 213 |\n",
       "| E:/Datset ofr FY Project/C... | Height: 300 Width: 300 |\n",
       "| E:/Datset ofr FY Project/C... | Height: 300 Width: 196 |\n",
       "| E:/Datset ofr FY Project/C... | Height: 301 Width: 205 |\n",
       "| E:/Datset ofr FY Project/C... | Height: 300 Width: 300 |\n",
       "| E:/Datset ofr FY Project/C... | Height: 300 Width: 196 |\n",
       "| E:/Datset ofr FY Project/C... | Height: 300 Width: 205 |\n",
       "| E:/Datset ofr FY Project/C... | Height: 300 Width: 210 |\n",
       "| E:/Datset ofr FY Project/C... | Height: 300 Width: 196 |\n",
       "| E:/Datset ofr FY Project/C... | Height: 301 Width: 199 |\n",
       "+-------------------------------+------------------------+\n",
       "+--------------------------------+\n",
       "|             label              |\n",
       "+--------------------------------+\n",
       "| Abstract_Diamond_Fringe_Kimono |\n",
       "| Abstract_Diamond_Fringe_Kimono |\n",
       "| Abstract_Diamond_Fringe_Kimono |\n",
       "| Abstract_Diamond_Fringe_Kimono |\n",
       "| Abstract_Diamond_Fringe_Kimono |\n",
       "| Abstract_Diamond_Fringe_Kimono |\n",
       "| Abstract_Diamond_Fringe_Kimono |\n",
       "| Abstract_Diamond_Fringe_Kimono |\n",
       "| Abstract_Diamond_Fringe_Kimono |\n",
       "| Abstract_Diamond_Fringe_Kimono |\n",
       "+--------------------------------+\n",
       "[43 rows x 3 columns]\n",
       "Note: Only the head of the SFrame is printed.\n",
       "You can use print_rows(num_rows=m, num_columns=n) to print more rows and columns."
      ]
     },
     "execution_count": 216,
     "metadata": {},
     "output_type": "execute_result"
    }
   ],
   "source": [
    "graphlab.canvas.set_target('ipynb')\n",
    "data2.show()\n",
    "data2"
   ]
  },
  {
   "cell_type": "code",
   "execution_count": 217,
   "metadata": {
    "collapsed": false
   },
   "outputs": [
    {
     "data": {
      "text/plain": [
       "(Columns:\n",
       " \tpath\tstr\n",
       " \timage\tImage\n",
       " \tlabel\tstr\n",
       " \n",
       " Rows: 43\n",
       " \n",
       " Data:\n",
       " +-------------------------------+------------------------+\n",
       " |              path             |         image          |\n",
       " +-------------------------------+------------------------+\n",
       " | E:/Datset ofr FY Project/C... | Height: 301 Width: 227 |\n",
       " | E:/Datset ofr FY Project/C... | Height: 301 Width: 205 |\n",
       " | E:/Datset ofr FY Project/C... | Height: 300 Width: 247 |\n",
       " | E:/Datset ofr FY Project/C... | Height: 301 Width: 199 |\n",
       " | E:/Datset ofr FY Project/C... | Height: 300 Width: 300 |\n",
       " | E:/Datset ofr FY Project/C... | Height: 279 Width: 300 |\n",
       " | E:/Datset ofr FY Project/C... | Height: 300 Width: 205 |\n",
       " | E:/Datset ofr FY Project/C... | Height: 300 Width: 300 |\n",
       " | E:/Datset ofr FY Project/C... | Height: 300 Width: 300 |\n",
       " | E:/Datset ofr FY Project/C... | Height: 300 Width: 196 |\n",
       " +-------------------------------+------------------------+\n",
       " +-------------------------+\n",
       " |          label          |\n",
       " +-------------------------+\n",
       " | Above_Average_Linen_Tee |\n",
       " | Above_Average_Linen_Tee |\n",
       " | Above_Average_Linen_Tee |\n",
       " | Above_Average_Linen_Tee |\n",
       " | Above_Average_Linen_Tee |\n",
       " | Above_Average_Linen_Tee |\n",
       " | Above_Average_Linen_Tee |\n",
       " | Above_Average_Linen_Tee |\n",
       " | Above_Average_Linen_Tee |\n",
       " | Above_Average_Linen_Tee |\n",
       " +-------------------------+\n",
       " [43 rows x 3 columns]\n",
       " Note: Only the head of the SFrame is printed.\n",
       " You can use print_rows(num_rows=m, num_columns=n) to print more rows and columns.,\n",
       " Columns:\n",
       " \tpath\tstr\n",
       " \timage\tImage\n",
       " \tlabel\tstr\n",
       " \n",
       " Rows: 43\n",
       " \n",
       " Data:\n",
       " +-------------------------------+------------------------+\n",
       " |              path             |         image          |\n",
       " +-------------------------------+------------------------+\n",
       " | E:/Datset ofr FY Project/C... | Height: 300 Width: 213 |\n",
       " | E:/Datset ofr FY Project/C... | Height: 300 Width: 300 |\n",
       " | E:/Datset ofr FY Project/C... | Height: 300 Width: 196 |\n",
       " | E:/Datset ofr FY Project/C... | Height: 301 Width: 205 |\n",
       " | E:/Datset ofr FY Project/C... | Height: 300 Width: 300 |\n",
       " | E:/Datset ofr FY Project/C... | Height: 300 Width: 196 |\n",
       " | E:/Datset ofr FY Project/C... | Height: 300 Width: 205 |\n",
       " | E:/Datset ofr FY Project/C... | Height: 300 Width: 210 |\n",
       " | E:/Datset ofr FY Project/C... | Height: 300 Width: 196 |\n",
       " | E:/Datset ofr FY Project/C... | Height: 301 Width: 199 |\n",
       " +-------------------------------+------------------------+\n",
       " +--------------------------------+\n",
       " |             label              |\n",
       " +--------------------------------+\n",
       " | Abstract_Diamond_Fringe_Kimono |\n",
       " | Abstract_Diamond_Fringe_Kimono |\n",
       " | Abstract_Diamond_Fringe_Kimono |\n",
       " | Abstract_Diamond_Fringe_Kimono |\n",
       " | Abstract_Diamond_Fringe_Kimono |\n",
       " | Abstract_Diamond_Fringe_Kimono |\n",
       " | Abstract_Diamond_Fringe_Kimono |\n",
       " | Abstract_Diamond_Fringe_Kimono |\n",
       " | Abstract_Diamond_Fringe_Kimono |\n",
       " | Abstract_Diamond_Fringe_Kimono |\n",
       " +--------------------------------+\n",
       " [43 rows x 3 columns]\n",
       " Note: Only the head of the SFrame is printed.\n",
       " You can use print_rows(num_rows=m, num_columns=n) to print more rows and columns.)"
      ]
     },
     "execution_count": 217,
     "metadata": {},
     "output_type": "execute_result"
    }
   ],
   "source": [
    "data,data2"
   ]
  },
  {
   "cell_type": "code",
   "execution_count": 218,
   "metadata": {
    "collapsed": false
   },
   "outputs": [],
   "source": [
    "data = data.append(data2)"
   ]
  },
  {
   "cell_type": "code",
   "execution_count": 219,
   "metadata": {
    "collapsed": false
   },
   "outputs": [
    {
     "name": "stdout",
     "output_type": "stream",
     "text": [
      "Canvas is accessible via web browser at the URL: http://localhost:49366/index.html\n",
      "Opening Canvas in default web browser.\n"
     ]
    },
    {
     "data": {
      "text/html": [
       "<div style=\"max-height:1000px;max-width:1500px;overflow:auto;\"><table frame=\"box\" rules=\"cols\">\n",
       "    <tr>\n",
       "        <th style=\"padding-left: 1em; padding-right: 1em; text-align: center\">path</th>\n",
       "        <th style=\"padding-left: 1em; padding-right: 1em; text-align: center\">image</th>\n",
       "        <th style=\"padding-left: 1em; padding-right: 1em; text-align: center\">label</th>\n",
       "        <th style=\"padding-left: 1em; padding-right: 1em; text-align: center\">feature</th>\n",
       "    </tr>\n",
       "    <tr>\n",
       "        <td style=\"padding-left: 1em; padding-right: 1em; text-align: center; vertical-align: top\">E:/Datset ofr FY<br>Project/Category and ...</td>\n",
       "        <td style=\"padding-left: 1em; padding-right: 1em; text-align: center; vertical-align: top\">Height: 301 Width: 227</td>\n",
       "        <td style=\"padding-left: 1em; padding-right: 1em; text-align: center; vertical-align: top\">Above_Average_Linen_Tee</td>\n",
       "        <td style=\"padding-left: 1em; padding-right: 1em; text-align: center; vertical-align: top\"></td>\n",
       "    </tr>\n",
       "    <tr>\n",
       "        <td style=\"padding-left: 1em; padding-right: 1em; text-align: center; vertical-align: top\">E:/Datset ofr FY<br>Project/Category and ...</td>\n",
       "        <td style=\"padding-left: 1em; padding-right: 1em; text-align: center; vertical-align: top\">Height: 301 Width: 205</td>\n",
       "        <td style=\"padding-left: 1em; padding-right: 1em; text-align: center; vertical-align: top\">Above_Average_Linen_Tee</td>\n",
       "        <td style=\"padding-left: 1em; padding-right: 1em; text-align: center; vertical-align: top\"></td>\n",
       "    </tr>\n",
       "    <tr>\n",
       "        <td style=\"padding-left: 1em; padding-right: 1em; text-align: center; vertical-align: top\">E:/Datset ofr FY<br>Project/Category and ...</td>\n",
       "        <td style=\"padding-left: 1em; padding-right: 1em; text-align: center; vertical-align: top\">Height: 300 Width: 247</td>\n",
       "        <td style=\"padding-left: 1em; padding-right: 1em; text-align: center; vertical-align: top\">Above_Average_Linen_Tee</td>\n",
       "        <td style=\"padding-left: 1em; padding-right: 1em; text-align: center; vertical-align: top\"></td>\n",
       "    </tr>\n",
       "    <tr>\n",
       "        <td style=\"padding-left: 1em; padding-right: 1em; text-align: center; vertical-align: top\">E:/Datset ofr FY<br>Project/Category and ...</td>\n",
       "        <td style=\"padding-left: 1em; padding-right: 1em; text-align: center; vertical-align: top\">Height: 301 Width: 199</td>\n",
       "        <td style=\"padding-left: 1em; padding-right: 1em; text-align: center; vertical-align: top\">Above_Average_Linen_Tee</td>\n",
       "        <td style=\"padding-left: 1em; padding-right: 1em; text-align: center; vertical-align: top\"></td>\n",
       "    </tr>\n",
       "    <tr>\n",
       "        <td style=\"padding-left: 1em; padding-right: 1em; text-align: center; vertical-align: top\">E:/Datset ofr FY<br>Project/Category and ...</td>\n",
       "        <td style=\"padding-left: 1em; padding-right: 1em; text-align: center; vertical-align: top\">Height: 300 Width: 300</td>\n",
       "        <td style=\"padding-left: 1em; padding-right: 1em; text-align: center; vertical-align: top\">Above_Average_Linen_Tee</td>\n",
       "        <td style=\"padding-left: 1em; padding-right: 1em; text-align: center; vertical-align: top\"></td>\n",
       "    </tr>\n",
       "    <tr>\n",
       "        <td style=\"padding-left: 1em; padding-right: 1em; text-align: center; vertical-align: top\">E:/Datset ofr FY<br>Project/Category and ...</td>\n",
       "        <td style=\"padding-left: 1em; padding-right: 1em; text-align: center; vertical-align: top\">Height: 279 Width: 300</td>\n",
       "        <td style=\"padding-left: 1em; padding-right: 1em; text-align: center; vertical-align: top\">Above_Average_Linen_Tee</td>\n",
       "        <td style=\"padding-left: 1em; padding-right: 1em; text-align: center; vertical-align: top\"></td>\n",
       "    </tr>\n",
       "    <tr>\n",
       "        <td style=\"padding-left: 1em; padding-right: 1em; text-align: center; vertical-align: top\">E:/Datset ofr FY<br>Project/Category and ...</td>\n",
       "        <td style=\"padding-left: 1em; padding-right: 1em; text-align: center; vertical-align: top\">Height: 300 Width: 205</td>\n",
       "        <td style=\"padding-left: 1em; padding-right: 1em; text-align: center; vertical-align: top\">Above_Average_Linen_Tee</td>\n",
       "        <td style=\"padding-left: 1em; padding-right: 1em; text-align: center; vertical-align: top\"></td>\n",
       "    </tr>\n",
       "    <tr>\n",
       "        <td style=\"padding-left: 1em; padding-right: 1em; text-align: center; vertical-align: top\">E:/Datset ofr FY<br>Project/Category and ...</td>\n",
       "        <td style=\"padding-left: 1em; padding-right: 1em; text-align: center; vertical-align: top\">Height: 300 Width: 300</td>\n",
       "        <td style=\"padding-left: 1em; padding-right: 1em; text-align: center; vertical-align: top\">Above_Average_Linen_Tee</td>\n",
       "        <td style=\"padding-left: 1em; padding-right: 1em; text-align: center; vertical-align: top\"></td>\n",
       "    </tr>\n",
       "    <tr>\n",
       "        <td style=\"padding-left: 1em; padding-right: 1em; text-align: center; vertical-align: top\">E:/Datset ofr FY<br>Project/Category and ...</td>\n",
       "        <td style=\"padding-left: 1em; padding-right: 1em; text-align: center; vertical-align: top\">Height: 300 Width: 300</td>\n",
       "        <td style=\"padding-left: 1em; padding-right: 1em; text-align: center; vertical-align: top\">Above_Average_Linen_Tee</td>\n",
       "        <td style=\"padding-left: 1em; padding-right: 1em; text-align: center; vertical-align: top\"></td>\n",
       "    </tr>\n",
       "    <tr>\n",
       "        <td style=\"padding-left: 1em; padding-right: 1em; text-align: center; vertical-align: top\">E:/Datset ofr FY<br>Project/Category and ...</td>\n",
       "        <td style=\"padding-left: 1em; padding-right: 1em; text-align: center; vertical-align: top\">Height: 300 Width: 196</td>\n",
       "        <td style=\"padding-left: 1em; padding-right: 1em; text-align: center; vertical-align: top\">Above_Average_Linen_Tee</td>\n",
       "        <td style=\"padding-left: 1em; padding-right: 1em; text-align: center; vertical-align: top\"></td>\n",
       "    </tr>\n",
       "</table>\n",
       "[86 rows x 4 columns]<br/>Note: Only the head of the SFrame is printed.<br/>You can use print_rows(num_rows=m, num_columns=n) to print more rows and columns.\n",
       "</div>"
      ],
      "text/plain": [
       "Columns:\n",
       "\tpath\tstr\n",
       "\timage\tImage\n",
       "\tlabel\tstr\n",
       "\tfeature\tstr\n",
       "\n",
       "Rows: 86\n",
       "\n",
       "Data:\n",
       "+-------------------------------+------------------------+\n",
       "|              path             |         image          |\n",
       "+-------------------------------+------------------------+\n",
       "| E:/Datset ofr FY Project/C... | Height: 301 Width: 227 |\n",
       "| E:/Datset ofr FY Project/C... | Height: 301 Width: 205 |\n",
       "| E:/Datset ofr FY Project/C... | Height: 300 Width: 247 |\n",
       "| E:/Datset ofr FY Project/C... | Height: 301 Width: 199 |\n",
       "| E:/Datset ofr FY Project/C... | Height: 300 Width: 300 |\n",
       "| E:/Datset ofr FY Project/C... | Height: 279 Width: 300 |\n",
       "| E:/Datset ofr FY Project/C... | Height: 300 Width: 205 |\n",
       "| E:/Datset ofr FY Project/C... | Height: 300 Width: 300 |\n",
       "| E:/Datset ofr FY Project/C... | Height: 300 Width: 300 |\n",
       "| E:/Datset ofr FY Project/C... | Height: 300 Width: 196 |\n",
       "+-------------------------------+------------------------+\n",
       "+-------------------------+---------+\n",
       "|          label          | feature |\n",
       "+-------------------------+---------+\n",
       "| Above_Average_Linen_Tee |         |\n",
       "| Above_Average_Linen_Tee |         |\n",
       "| Above_Average_Linen_Tee |         |\n",
       "| Above_Average_Linen_Tee |         |\n",
       "| Above_Average_Linen_Tee |         |\n",
       "| Above_Average_Linen_Tee |         |\n",
       "| Above_Average_Linen_Tee |         |\n",
       "| Above_Average_Linen_Tee |         |\n",
       "| Above_Average_Linen_Tee |         |\n",
       "| Above_Average_Linen_Tee |         |\n",
       "+-------------------------+---------+\n",
       "[86 rows x 4 columns]\n",
       "Note: Only the head of the SFrame is printed.\n",
       "You can use print_rows(num_rows=m, num_columns=n) to print more rows and columns."
      ]
     },
     "execution_count": 219,
     "metadata": {},
     "output_type": "execute_result"
    }
   ],
   "source": [
    "graphlab.canvas.set_target('browser')\n",
    "data.show()\n",
    "data['feature']=''\n",
    "data"
   ]
  },
  {
   "cell_type": "code",
   "execution_count": 220,
   "metadata": {
    "collapsed": false
   },
   "outputs": [],
   "source": [
    "imagenet_model = graphlab.load_model('https://static.turi.com/products/graphlab-create/resources/models/python2.7/imagenet_model_iter45')\n",
    "data['image'] = graphlab.image_analysis.resize(data['image'], 256, 256, 3, decode=True)\n",
    "data['imagenet_features'] = imagenet_model.extract_features(data)\n",
    "data,tdata = data.random_split(0.8)"
   ]
  },
  {
   "cell_type": "code",
   "execution_count": 221,
   "metadata": {
    "collapsed": false
   },
   "outputs": [],
   "source": [
    "data\n",
    "del(data['feature'])"
   ]
  },
  {
   "cell_type": "code",
   "execution_count": 222,
   "metadata": {
    "collapsed": false
   },
   "outputs": [
    {
     "data": {
      "text/html": [
       "<div style=\"max-height:1000px;max-width:1500px;overflow:auto;\"><table frame=\"box\" rules=\"cols\">\n",
       "    <tr>\n",
       "        <th style=\"padding-left: 1em; padding-right: 1em; text-align: center\">path</th>\n",
       "        <th style=\"padding-left: 1em; padding-right: 1em; text-align: center\">image</th>\n",
       "        <th style=\"padding-left: 1em; padding-right: 1em; text-align: center\">label</th>\n",
       "        <th style=\"padding-left: 1em; padding-right: 1em; text-align: center\">imagenet_features</th>\n",
       "    </tr>\n",
       "    <tr>\n",
       "        <td style=\"padding-left: 1em; padding-right: 1em; text-align: center; vertical-align: top\">E:/Datset ofr FY<br>Project/Category and ...</td>\n",
       "        <td style=\"padding-left: 1em; padding-right: 1em; text-align: center; vertical-align: top\">Height: 256 Width: 256</td>\n",
       "        <td style=\"padding-left: 1em; padding-right: 1em; text-align: center; vertical-align: top\">Above_Average_Linen_Tee</td>\n",
       "        <td style=\"padding-left: 1em; padding-right: 1em; text-align: center; vertical-align: top\">[0.0, 0.0, 0.0,<br>0.277620077133, ...</td>\n",
       "    </tr>\n",
       "    <tr>\n",
       "        <td style=\"padding-left: 1em; padding-right: 1em; text-align: center; vertical-align: top\">E:/Datset ofr FY<br>Project/Category and ...</td>\n",
       "        <td style=\"padding-left: 1em; padding-right: 1em; text-align: center; vertical-align: top\">Height: 256 Width: 256</td>\n",
       "        <td style=\"padding-left: 1em; padding-right: 1em; text-align: center; vertical-align: top\">Above_Average_Linen_Tee</td>\n",
       "        <td style=\"padding-left: 1em; padding-right: 1em; text-align: center; vertical-align: top\">[0.0, 0.0,<br>0.0706693530083, ...</td>\n",
       "    </tr>\n",
       "    <tr>\n",
       "        <td style=\"padding-left: 1em; padding-right: 1em; text-align: center; vertical-align: top\">E:/Datset ofr FY<br>Project/Category and ...</td>\n",
       "        <td style=\"padding-left: 1em; padding-right: 1em; text-align: center; vertical-align: top\">Height: 256 Width: 256</td>\n",
       "        <td style=\"padding-left: 1em; padding-right: 1em; text-align: center; vertical-align: top\">Above_Average_Linen_Tee</td>\n",
       "        <td style=\"padding-left: 1em; padding-right: 1em; text-align: center; vertical-align: top\">[0.0, 0.0, 3.61040258408,<br>1.18595790863, 0.0, ...</td>\n",
       "    </tr>\n",
       "    <tr>\n",
       "        <td style=\"padding-left: 1em; padding-right: 1em; text-align: center; vertical-align: top\">E:/Datset ofr FY<br>Project/Category and ...</td>\n",
       "        <td style=\"padding-left: 1em; padding-right: 1em; text-align: center; vertical-align: top\">Height: 256 Width: 256</td>\n",
       "        <td style=\"padding-left: 1em; padding-right: 1em; text-align: center; vertical-align: top\">Above_Average_Linen_Tee</td>\n",
       "        <td style=\"padding-left: 1em; padding-right: 1em; text-align: center; vertical-align: top\">[0.0, 0.0, 4.64549016953,<br>0.0, 3.17392659187, 0.0, ...</td>\n",
       "    </tr>\n",
       "    <tr>\n",
       "        <td style=\"padding-left: 1em; padding-right: 1em; text-align: center; vertical-align: top\">E:/Datset ofr FY<br>Project/Category and ...</td>\n",
       "        <td style=\"padding-left: 1em; padding-right: 1em; text-align: center; vertical-align: top\">Height: 256 Width: 256</td>\n",
       "        <td style=\"padding-left: 1em; padding-right: 1em; text-align: center; vertical-align: top\">Above_Average_Linen_Tee</td>\n",
       "        <td style=\"padding-left: 1em; padding-right: 1em; text-align: center; vertical-align: top\">[0.0, 0.0245329141617,<br>0.43729788065, ...</td>\n",
       "    </tr>\n",
       "    <tr>\n",
       "        <td style=\"padding-left: 1em; padding-right: 1em; text-align: center; vertical-align: top\">E:/Datset ofr FY<br>Project/Category and ...</td>\n",
       "        <td style=\"padding-left: 1em; padding-right: 1em; text-align: center; vertical-align: top\">Height: 256 Width: 256</td>\n",
       "        <td style=\"padding-left: 1em; padding-right: 1em; text-align: center; vertical-align: top\">Above_Average_Linen_Tee</td>\n",
       "        <td style=\"padding-left: 1em; padding-right: 1em; text-align: center; vertical-align: top\">[0.0, 0.0,<br>0.463815569878, 0.0, ...</td>\n",
       "    </tr>\n",
       "    <tr>\n",
       "        <td style=\"padding-left: 1em; padding-right: 1em; text-align: center; vertical-align: top\">E:/Datset ofr FY<br>Project/Category and ...</td>\n",
       "        <td style=\"padding-left: 1em; padding-right: 1em; text-align: center; vertical-align: top\">Height: 256 Width: 256</td>\n",
       "        <td style=\"padding-left: 1em; padding-right: 1em; text-align: center; vertical-align: top\">Above_Average_Linen_Tee</td>\n",
       "        <td style=\"padding-left: 1em; padding-right: 1em; text-align: center; vertical-align: top\">[0.0, 0.0,<br>0.947342336178, ...</td>\n",
       "    </tr>\n",
       "    <tr>\n",
       "        <td style=\"padding-left: 1em; padding-right: 1em; text-align: center; vertical-align: top\">E:/Datset ofr FY<br>Project/Category and ...</td>\n",
       "        <td style=\"padding-left: 1em; padding-right: 1em; text-align: center; vertical-align: top\">Height: 256 Width: 256</td>\n",
       "        <td style=\"padding-left: 1em; padding-right: 1em; text-align: center; vertical-align: top\">Above_Average_Linen_Tee</td>\n",
       "        <td style=\"padding-left: 1em; padding-right: 1em; text-align: center; vertical-align: top\">[0.0, 0.0,<br>0.891606509686, 0.0,  ...</td>\n",
       "    </tr>\n",
       "    <tr>\n",
       "        <td style=\"padding-left: 1em; padding-right: 1em; text-align: center; vertical-align: top\">E:/Datset ofr FY<br>Project/Category and ...</td>\n",
       "        <td style=\"padding-left: 1em; padding-right: 1em; text-align: center; vertical-align: top\">Height: 256 Width: 256</td>\n",
       "        <td style=\"padding-left: 1em; padding-right: 1em; text-align: center; vertical-align: top\">Above_Average_Linen_Tee</td>\n",
       "        <td style=\"padding-left: 1em; padding-right: 1em; text-align: center; vertical-align: top\">[0.0, 0.0, 2.18659210205,<br>0.0, 1.47008526325, 0.0, ...</td>\n",
       "    </tr>\n",
       "    <tr>\n",
       "        <td style=\"padding-left: 1em; padding-right: 1em; text-align: center; vertical-align: top\">E:/Datset ofr FY<br>Project/Category and ...</td>\n",
       "        <td style=\"padding-left: 1em; padding-right: 1em; text-align: center; vertical-align: top\">Height: 256 Width: 256</td>\n",
       "        <td style=\"padding-left: 1em; padding-right: 1em; text-align: center; vertical-align: top\">Above_Average_Linen_Tee</td>\n",
       "        <td style=\"padding-left: 1em; padding-right: 1em; text-align: center; vertical-align: top\">[0.0, 0.0, 0.0,<br>0.135150849819, 0.0,  ...</td>\n",
       "    </tr>\n",
       "</table>\n",
       "[? rows x 4 columns]<br/>Note: Only the head of the SFrame is printed. This SFrame is lazily evaluated.<br/>You can use sf.materialize() to force materialization.\n",
       "</div>"
      ],
      "text/plain": [
       "Columns:\n",
       "\tpath\tstr\n",
       "\timage\tImage\n",
       "\tlabel\tstr\n",
       "\timagenet_features\tarray\n",
       "\n",
       "Rows: Unknown\n",
       "\n",
       "Data:\n",
       "+-------------------------------+------------------------+\n",
       "|              path             |         image          |\n",
       "+-------------------------------+------------------------+\n",
       "| E:/Datset ofr FY Project/C... | Height: 256 Width: 256 |\n",
       "| E:/Datset ofr FY Project/C... | Height: 256 Width: 256 |\n",
       "| E:/Datset ofr FY Project/C... | Height: 256 Width: 256 |\n",
       "| E:/Datset ofr FY Project/C... | Height: 256 Width: 256 |\n",
       "| E:/Datset ofr FY Project/C... | Height: 256 Width: 256 |\n",
       "| E:/Datset ofr FY Project/C... | Height: 256 Width: 256 |\n",
       "| E:/Datset ofr FY Project/C... | Height: 256 Width: 256 |\n",
       "| E:/Datset ofr FY Project/C... | Height: 256 Width: 256 |\n",
       "| E:/Datset ofr FY Project/C... | Height: 256 Width: 256 |\n",
       "| E:/Datset ofr FY Project/C... | Height: 256 Width: 256 |\n",
       "+-------------------------------+------------------------+\n",
       "+-------------------------+-------------------------------+\n",
       "|          label          |       imagenet_features       |\n",
       "+-------------------------+-------------------------------+\n",
       "| Above_Average_Linen_Tee | [0.0, 0.0, 0.0, 0.27762007... |\n",
       "| Above_Average_Linen_Tee | [0.0, 0.0, 0.0706693530083... |\n",
       "| Above_Average_Linen_Tee | [0.0, 0.0, 3.61040258408, ... |\n",
       "| Above_Average_Linen_Tee | [0.0, 0.0, 4.64549016953, ... |\n",
       "| Above_Average_Linen_Tee | [0.0, 0.0245329141617, 0.4... |\n",
       "| Above_Average_Linen_Tee | [0.0, 0.0, 0.463815569878,... |\n",
       "| Above_Average_Linen_Tee | [0.0, 0.0, 0.947342336178,... |\n",
       "| Above_Average_Linen_Tee | [0.0, 0.0, 0.891606509686,... |\n",
       "| Above_Average_Linen_Tee | [0.0, 0.0, 2.18659210205, ... |\n",
       "| Above_Average_Linen_Tee | [0.0, 0.0, 0.0, 0.13515084... |\n",
       "+-------------------------+-------------------------------+\n",
       "[? rows x 4 columns]\n",
       "Note: Only the head of the SFrame is printed. This SFrame is lazily evaluated.\n",
       "You can use sf.materialize() to force materialization."
      ]
     },
     "execution_count": 222,
     "metadata": {},
     "output_type": "execute_result"
    }
   ],
   "source": [
    "data"
   ]
  },
  {
   "cell_type": "code",
   "execution_count": 223,
   "metadata": {
    "collapsed": false
   },
   "outputs": [
    {
     "data": {
      "text/html": [
       "<pre>Starting brute force nearest neighbors model training.</pre>"
      ],
      "text/plain": [
       "Starting brute force nearest neighbors model training."
      ]
     },
     "metadata": {},
     "output_type": "display_data"
    }
   ],
   "source": [
    "model1 = graphlab.nearest_neighbor_classifier.create(data, target='label', features=['imagenet_features'])"
   ]
  },
  {
   "cell_type": "code",
   "execution_count": 224,
   "metadata": {
    "collapsed": false
   },
   "outputs": [
    {
     "data": {
      "text/html": [
       "<pre>Starting blockwise querying.</pre>"
      ],
      "text/plain": [
       "Starting blockwise querying."
      ]
     },
     "metadata": {},
     "output_type": "display_data"
    },
    {
     "data": {
      "text/html": [
       "<pre>max rows per data block: 4348</pre>"
      ],
      "text/plain": [
       "max rows per data block: 4348"
      ]
     },
     "metadata": {},
     "output_type": "display_data"
    },
    {
     "data": {
      "text/html": [
       "<pre>number of reference data blocks: 4</pre>"
      ],
      "text/plain": [
       "number of reference data blocks: 4"
      ]
     },
     "metadata": {},
     "output_type": "display_data"
    },
    {
     "data": {
      "text/html": [
       "<pre>number of query data blocks: 1</pre>"
      ],
      "text/plain": [
       "number of query data blocks: 1"
      ]
     },
     "metadata": {},
     "output_type": "display_data"
    },
    {
     "data": {
      "text/html": [
       "<pre>+--------------+---------+-------------+--------------+</pre>"
      ],
      "text/plain": [
       "+--------------+---------+-------------+--------------+"
      ]
     },
     "metadata": {},
     "output_type": "display_data"
    },
    {
     "data": {
      "text/html": [
       "<pre>| Query points | # Pairs | % Complete. | Elapsed Time |</pre>"
      ],
      "text/plain": [
       "| Query points | # Pairs | % Complete. | Elapsed Time |"
      ]
     },
     "metadata": {},
     "output_type": "display_data"
    },
    {
     "data": {
      "text/html": [
       "<pre>+--------------+---------+-------------+--------------+</pre>"
      ],
      "text/plain": [
       "+--------------+---------+-------------+--------------+"
      ]
     },
     "metadata": {},
     "output_type": "display_data"
    },
    {
     "data": {
      "text/html": [
       "<pre>| 77           | 1463    | 24.6753     | 15.642ms     |</pre>"
      ],
      "text/plain": [
       "| 77           | 1463    | 24.6753     | 15.642ms     |"
      ]
     },
     "metadata": {},
     "output_type": "display_data"
    },
    {
     "data": {
      "text/html": [
       "<pre>| Done         | 5929    | 100         | 18.574ms     |</pre>"
      ],
      "text/plain": [
       "| Done         | 5929    | 100         | 18.574ms     |"
      ]
     },
     "metadata": {},
     "output_type": "display_data"
    },
    {
     "data": {
      "text/html": [
       "<pre>+--------------+---------+-------------+--------------+</pre>"
      ],
      "text/plain": [
       "+--------------+---------+-------------+--------------+"
      ]
     },
     "metadata": {},
     "output_type": "display_data"
    },
    {
     "data": {
      "text/html": [
       "<pre>Starting blockwise querying.</pre>"
      ],
      "text/plain": [
       "Starting blockwise querying."
      ]
     },
     "metadata": {},
     "output_type": "display_data"
    },
    {
     "data": {
      "text/html": [
       "<pre>max rows per data block: 4348</pre>"
      ],
      "text/plain": [
       "max rows per data block: 4348"
      ]
     },
     "metadata": {},
     "output_type": "display_data"
    },
    {
     "data": {
      "text/html": [
       "<pre>number of reference data blocks: 4</pre>"
      ],
      "text/plain": [
       "number of reference data blocks: 4"
      ]
     },
     "metadata": {},
     "output_type": "display_data"
    },
    {
     "data": {
      "text/html": [
       "<pre>number of query data blocks: 1</pre>"
      ],
      "text/plain": [
       "number of query data blocks: 1"
      ]
     },
     "metadata": {},
     "output_type": "display_data"
    },
    {
     "data": {
      "text/html": [
       "<pre>+--------------+---------+-------------+--------------+</pre>"
      ],
      "text/plain": [
       "+--------------+---------+-------------+--------------+"
      ]
     },
     "metadata": {},
     "output_type": "display_data"
    },
    {
     "data": {
      "text/html": [
       "<pre>| Query points | # Pairs | % Complete. | Elapsed Time |</pre>"
      ],
      "text/plain": [
       "| Query points | # Pairs | % Complete. | Elapsed Time |"
      ]
     },
     "metadata": {},
     "output_type": "display_data"
    },
    {
     "data": {
      "text/html": [
       "<pre>+--------------+---------+-------------+--------------+</pre>"
      ],
      "text/plain": [
       "+--------------+---------+-------------+--------------+"
      ]
     },
     "metadata": {},
     "output_type": "display_data"
    },
    {
     "data": {
      "text/html": [
       "<pre>| 77           | 1463    | 24.6753     | 28.353ms     |</pre>"
      ],
      "text/plain": [
       "| 77           | 1463    | 24.6753     | 28.353ms     |"
      ]
     },
     "metadata": {},
     "output_type": "display_data"
    },
    {
     "data": {
      "text/html": [
       "<pre>| Done         | 5929    | 100         | 35.194ms     |</pre>"
      ],
      "text/plain": [
       "| Done         | 5929    | 100         | 35.194ms     |"
      ]
     },
     "metadata": {},
     "output_type": "display_data"
    },
    {
     "data": {
      "text/html": [
       "<pre>+--------------+---------+-------------+--------------+</pre>"
      ],
      "text/plain": [
       "+--------------+---------+-------------+--------------+"
      ]
     },
     "metadata": {},
     "output_type": "display_data"
    },
    {
     "data": {
      "text/plain": [
       "{'accuracy': 0.5584415584415584, 'confusion_matrix': Columns:\n",
       " \ttarget_label\tstr\n",
       " \tpredicted_label\tstr\n",
       " \tcount\tint\n",
       " \n",
       " Rows: 4\n",
       " \n",
       " Data:\n",
       " +--------------------------------+--------------------------------+-------+\n",
       " |          target_label          |        predicted_label         | count |\n",
       " +--------------------------------+--------------------------------+-------+\n",
       " |    Above_Average_Linen_Tee     | Abstract_Diamond_Fringe_Kimono |   9   |\n",
       " |    Above_Average_Linen_Tee     |    Above_Average_Linen_Tee     |   30  |\n",
       " | Abstract_Diamond_Fringe_Kimono | Abstract_Diamond_Fringe_Kimono |   13  |\n",
       " | Abstract_Diamond_Fringe_Kimono |    Above_Average_Linen_Tee     |   25  |\n",
       " +--------------------------------+--------------------------------+-------+\n",
       " [4 rows x 3 columns], 'roc_curve': Columns:\n",
       " \tthreshold\tfloat\n",
       " \tfpr\tfloat\n",
       " \ttpr\tfloat\n",
       " \tp\tint\n",
       " \tn\tint\n",
       " \n",
       " Rows: 100001\n",
       " \n",
       " Data:\n",
       " +-----------+-----+-----+----+----+\n",
       " | threshold | fpr | tpr | p  | n  |\n",
       " +-----------+-----+-----+----+----+\n",
       " |    0.0    | 1.0 | 1.0 | 38 | 39 |\n",
       " |   1e-05   | 1.0 | 1.0 | 38 | 39 |\n",
       " |   2e-05   | 1.0 | 1.0 | 38 | 39 |\n",
       " |   3e-05   | 1.0 | 1.0 | 38 | 39 |\n",
       " |   4e-05   | 1.0 | 1.0 | 38 | 39 |\n",
       " |   5e-05   | 1.0 | 1.0 | 38 | 39 |\n",
       " |   6e-05   | 1.0 | 1.0 | 38 | 39 |\n",
       " |   7e-05   | 1.0 | 1.0 | 38 | 39 |\n",
       " |   8e-05   | 1.0 | 1.0 | 38 | 39 |\n",
       " |   9e-05   | 1.0 | 1.0 | 38 | 39 |\n",
       " +-----------+-----+-----+----+----+\n",
       " [100001 rows x 5 columns]\n",
       " Note: Only the head of the SFrame is printed.\n",
       " You can use print_rows(num_rows=m, num_columns=n) to print more rows and columns.}"
      ]
     },
     "execution_count": 224,
     "metadata": {},
     "output_type": "execute_result"
    }
   ],
   "source": [
    "model1.evaluate(data)"
   ]
  },
  {
   "cell_type": "code",
   "execution_count": 225,
   "metadata": {
    "collapsed": false
   },
   "outputs": [
    {
     "data": {
      "text/html": [
       "<pre>Starting brute force nearest neighbors model training.</pre>"
      ],
      "text/plain": [
       "Starting brute force nearest neighbors model training."
      ]
     },
     "metadata": {},
     "output_type": "display_data"
    }
   ],
   "source": [
    "deep_features_model = graphlab.nearest_neighbor_classifier.create(data,target='label',\n",
    "                                                         features=['imagenet_features'],verbose=True)"
   ]
  },
  {
   "cell_type": "code",
   "execution_count": 226,
   "metadata": {
    "collapsed": false
   },
   "outputs": [
    {
     "data": {
      "text/html": [
       "<pre>Starting pairwise querying.</pre>"
      ],
      "text/plain": [
       "Starting pairwise querying."
      ]
     },
     "metadata": {},
     "output_type": "display_data"
    },
    {
     "data": {
      "text/html": [
       "<pre>+--------------+---------+-------------+--------------+</pre>"
      ],
      "text/plain": [
       "+--------------+---------+-------------+--------------+"
      ]
     },
     "metadata": {},
     "output_type": "display_data"
    },
    {
     "data": {
      "text/html": [
       "<pre>| Query points | # Pairs | % Complete. | Elapsed Time |</pre>"
      ],
      "text/plain": [
       "| Query points | # Pairs | % Complete. | Elapsed Time |"
      ]
     },
     "metadata": {},
     "output_type": "display_data"
    },
    {
     "data": {
      "text/html": [
       "<pre>+--------------+---------+-------------+--------------+</pre>"
      ],
      "text/plain": [
       "+--------------+---------+-------------+--------------+"
      ]
     },
     "metadata": {},
     "output_type": "display_data"
    },
    {
     "data": {
      "text/html": [
       "<pre>| 0            | 9       | 1.2987      | 52.829ms     |</pre>"
      ],
      "text/plain": [
       "| 0            | 9       | 1.2987      | 52.829ms     |"
      ]
     },
     "metadata": {},
     "output_type": "display_data"
    },
    {
     "data": {
      "text/html": [
       "<pre>| Done         |         | 100         | 61.625ms     |</pre>"
      ],
      "text/plain": [
       "| Done         |         | 100         | 61.625ms     |"
      ]
     },
     "metadata": {},
     "output_type": "display_data"
    },
    {
     "data": {
      "text/html": [
       "<pre>+--------------+---------+-------------+--------------+</pre>"
      ],
      "text/plain": [
       "+--------------+---------+-------------+--------------+"
      ]
     },
     "metadata": {},
     "output_type": "display_data"
    },
    {
     "data": {
      "text/html": [
       "<pre>Starting pairwise querying.</pre>"
      ],
      "text/plain": [
       "Starting pairwise querying."
      ]
     },
     "metadata": {},
     "output_type": "display_data"
    },
    {
     "data": {
      "text/html": [
       "<pre>+--------------+---------+-------------+--------------+</pre>"
      ],
      "text/plain": [
       "+--------------+---------+-------------+--------------+"
      ]
     },
     "metadata": {},
     "output_type": "display_data"
    },
    {
     "data": {
      "text/html": [
       "<pre>| Query points | # Pairs | % Complete. | Elapsed Time |</pre>"
      ],
      "text/plain": [
       "| Query points | # Pairs | % Complete. | Elapsed Time |"
      ]
     },
     "metadata": {},
     "output_type": "display_data"
    },
    {
     "data": {
      "text/html": [
       "<pre>+--------------+---------+-------------+--------------+</pre>"
      ],
      "text/plain": [
       "+--------------+---------+-------------+--------------+"
      ]
     },
     "metadata": {},
     "output_type": "display_data"
    },
    {
     "data": {
      "text/html": [
       "<pre>| 0            | 9       | 1.2987      | 2.934ms      |</pre>"
      ],
      "text/plain": [
       "| 0            | 9       | 1.2987      | 2.934ms      |"
      ]
     },
     "metadata": {},
     "output_type": "display_data"
    },
    {
     "data": {
      "text/html": [
       "<pre>| Done         |         | 100         | 13.686ms     |</pre>"
      ],
      "text/plain": [
       "| Done         |         | 100         | 13.686ms     |"
      ]
     },
     "metadata": {},
     "output_type": "display_data"
    },
    {
     "data": {
      "text/html": [
       "<pre>+--------------+---------+-------------+--------------+</pre>"
      ],
      "text/plain": [
       "+--------------+---------+-------------+--------------+"
      ]
     },
     "metadata": {},
     "output_type": "display_data"
    },
    {
     "data": {
      "text/plain": [
       "{'accuracy': 0.1111111111111111, 'confusion_matrix': Columns:\n",
       " \ttarget_label\tstr\n",
       " \tpredicted_label\tstr\n",
       " \tcount\tint\n",
       " \n",
       " Rows: 3\n",
       " \n",
       " Data:\n",
       " +--------------------------------+--------------------------------+-------+\n",
       " |          target_label          |        predicted_label         | count |\n",
       " +--------------------------------+--------------------------------+-------+\n",
       " |    Above_Average_Linen_Tee     | Abstract_Diamond_Fringe_Kimono |   3   |\n",
       " |    Above_Average_Linen_Tee     |    Above_Average_Linen_Tee     |   1   |\n",
       " | Abstract_Diamond_Fringe_Kimono |    Above_Average_Linen_Tee     |   5   |\n",
       " +--------------------------------+--------------------------------+-------+\n",
       " [3 rows x 3 columns], 'roc_curve': Columns:\n",
       " \tthreshold\tfloat\n",
       " \tfpr\tfloat\n",
       " \ttpr\tfloat\n",
       " \tp\tint\n",
       " \tn\tint\n",
       " \n",
       " Rows: 100001\n",
       " \n",
       " Data:\n",
       " +-----------+-----+-----+---+---+\n",
       " | threshold | fpr | tpr | p | n |\n",
       " +-----------+-----+-----+---+---+\n",
       " |    0.0    | 1.0 | 1.0 | 5 | 4 |\n",
       " |   1e-05   | 1.0 | 1.0 | 5 | 4 |\n",
       " |   2e-05   | 1.0 | 1.0 | 5 | 4 |\n",
       " |   3e-05   | 1.0 | 1.0 | 5 | 4 |\n",
       " |   4e-05   | 1.0 | 1.0 | 5 | 4 |\n",
       " |   5e-05   | 1.0 | 1.0 | 5 | 4 |\n",
       " |   6e-05   | 1.0 | 1.0 | 5 | 4 |\n",
       " |   7e-05   | 1.0 | 1.0 | 5 | 4 |\n",
       " |   8e-05   | 1.0 | 1.0 | 5 | 4 |\n",
       " |   9e-05   | 1.0 | 1.0 | 5 | 4 |\n",
       " +-----------+-----+-----+---+---+\n",
       " [100001 rows x 5 columns]\n",
       " Note: Only the head of the SFrame is printed.\n",
       " You can use print_rows(num_rows=m, num_columns=n) to print more rows and columns.}"
      ]
     },
     "execution_count": 226,
     "metadata": {},
     "output_type": "execute_result"
    }
   ],
   "source": [
    "deep_features_model.evaluate(tdata)"
   ]
  },
  {
   "cell_type": "code",
   "execution_count": null,
   "metadata": {
    "collapsed": true
   },
   "outputs": [],
   "source": []
  },
  {
   "cell_type": "code",
   "execution_count": null,
   "metadata": {
    "collapsed": true
   },
   "outputs": [],
   "source": []
  },
  {
   "cell_type": "code",
   "execution_count": null,
   "metadata": {
    "collapsed": true
   },
   "outputs": [],
   "source": []
  },
  {
   "cell_type": "code",
   "execution_count": null,
   "metadata": {
    "collapsed": true
   },
   "outputs": [],
   "source": []
  },
  {
   "cell_type": "code",
   "execution_count": null,
   "metadata": {
    "collapsed": true
   },
   "outputs": [],
   "source": []
  }
 ],
 "metadata": {
  "kernelspec": {
   "display_name": "Python 2",
   "language": "python",
   "name": "python2"
  },
  "language_info": {
   "codemirror_mode": {
    "name": "ipython",
    "version": 2
   },
   "file_extension": ".py",
   "mimetype": "text/x-python",
   "name": "python",
   "nbconvert_exporter": "python",
   "pygments_lexer": "ipython2",
   "version": "2.7.11"
  }
 },
 "nbformat": 4,
 "nbformat_minor": 0
}
