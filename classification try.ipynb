{
 "cells": [
  {
   "cell_type": "code",
   "execution_count": 1,
   "metadata": {
    "collapsed": false
   },
   "outputs": [],
   "source": [
    "import graphlab"
   ]
  },
  {
   "cell_type": "code",
   "execution_count": 2,
   "metadata": {
    "collapsed": false
   },
   "outputs": [
    {
     "name": "stdout",
     "output_type": "stream",
     "text": [
      "This non-commercial license of GraphLab Create for academic use is assigned to vartikanarang.hcst.cs14@sgei.org and will expire on October 01, 2018.\n"
     ]
    },
    {
     "name": "stderr",
     "output_type": "stream",
     "text": [
      "[INFO] graphlab.cython.cy_server: GraphLab Create v2.1 started. Logging: C:\\Users\\Ridhima\\AppData\\Local\\Temp\\graphlab_server_1515307391.log.0\n"
     ]
    },
    {
     "data": {
      "application/javascript": [
       "$(\"head\").append($(\"<link/>\").attr({\n",
       "  rel:  \"stylesheet\",\n",
       "  type: \"text/css\",\n",
       "  href: \"//cdnjs.cloudflare.com/ajax/libs/font-awesome/4.1.0/css/font-awesome.min.css\"\n",
       "}));\n",
       "$(\"head\").append($(\"<link/>\").attr({\n",
       "  rel:  \"stylesheet\",\n",
       "  type: \"text/css\",\n",
       "  href: \"https://static.turi.com/products/graphlab-create/2.1/canvas/css/canvas.css\"\n",
       "}));\n",
       "\n",
       "            (function(){\n",
       "\n",
       "                var e = null;\n",
       "                if (typeof element == 'undefined') {\n",
       "                    var scripts = document.getElementsByTagName('script');\n",
       "                    var thisScriptTag = scripts[scripts.length-1];\n",
       "                    var parentDiv = thisScriptTag.parentNode;\n",
       "                    e = document.createElement('div');\n",
       "                    parentDiv.appendChild(e);\n",
       "                } else {\n",
       "                    e = element[0];\n",
       "                }\n",
       "\n",
       "                if (typeof requirejs !== 'undefined') {\n",
       "                    // disable load timeout; ipython_app.js is large and can take a while to load.\n",
       "                    requirejs.config({waitSeconds: 0});\n",
       "                }\n",
       "\n",
       "                require(['https://static.turi.com/products/graphlab-create/2.1/canvas/js/ipython_app.js'], function(IPythonApp){\n",
       "                    var app = new IPythonApp();\n",
       "                    app.attachView('sframe','Summary', {\"ipython\": true, \"sketch\": {\"path\": {\"complete\": true, \"numeric\": false, \"num_unique\": 43, \"num_undefined\": 0, \"progress\": 1.0, \"frequent_items\": {\"G:/img-002/img/Above_Average_Linen_Tee/img_00000021.jpg\": {\"frequency\": 1, \"value\": \"G:/img-002/img/Abo ...\"}, \"G:/img-002/img/Above_Average_Linen_Tee/img_00000012.jpg\": {\"frequency\": 1, \"value\": \"G:/img-002/img/Abo ...\"}, \"G:/img-002/img/Above_Average_Linen_Tee/img_00000029.jpg\": {\"frequency\": 1, \"value\": \"G:/img-002/img/Abo ...\"}, \"G:/img-002/img/Above_Average_Linen_Tee/img_00000015.jpg\": {\"frequency\": 1, \"value\": \"G:/img-002/img/Abo ...\"}, \"G:/img-002/img/Above_Average_Linen_Tee/img_00000014.jpg\": {\"frequency\": 1, \"value\": \"G:/img-002/img/Abo ...\"}, \"G:/img-002/img/Above_Average_Linen_Tee/img_00000026.jpg\": {\"frequency\": 1, \"value\": \"G:/img-002/img/Abo ...\"}, \"G:/img-002/img/Above_Average_Linen_Tee/img_00000022.jpg\": {\"frequency\": 1, \"value\": \"G:/img-002/img/Abo ...\"}, \"G:/img-002/img/Above_Average_Linen_Tee/img_00000036.jpg\": {\"frequency\": 1, \"value\": \"G:/img-002/img/Abo ...\"}, \"G:/img-002/img/Above_Average_Linen_Tee/img_00000007.jpg\": {\"frequency\": 1, \"value\": \"G:/img-002/img/Abo ...\"}, \"G:/img-002/img/Above_Average_Linen_Tee/img_00000033.jpg\": {\"frequency\": 1, \"value\": \"G:/img-002/img/Abo ...\"}, \"G:/img-002/img/Above_Average_Linen_Tee/img_00000019.jpg\": {\"frequency\": 1, \"value\": \"G:/img-002/img/Abo ...\"}, \"G:/img-002/img/Above_Average_Linen_Tee/img_00000041.jpg\": {\"frequency\": 1, \"value\": \"G:/img-002/img/Abo ...\"}, \"G:/img-002/img/Above_Average_Linen_Tee/img_00000039.jpg\": {\"frequency\": 1, \"value\": \"G:/img-002/img/Abo ...\"}, \"G:/img-002/img/Above_Average_Linen_Tee/img_00000009.jpg\": {\"frequency\": 1, \"value\": \"G:/img-002/img/Abo ...\"}, \"G:/img-002/img/Above_Average_Linen_Tee/img_00000042.jpg\": {\"frequency\": 1, \"value\": \"G:/img-002/img/Abo ...\"}, \"G:/img-002/img/Above_Average_Linen_Tee/img_00000001.jpg\": {\"frequency\": 1, \"value\": \"G:/img-002/img/Abo ...\"}, \"G:/img-002/img/Above_Average_Linen_Tee/img_00000027.jpg\": {\"frequency\": 1, \"value\": \"G:/img-002/img/Abo ...\"}, \"G:/img-002/img/Above_Average_Linen_Tee/img_00000010.jpg\": {\"frequency\": 1, \"value\": \"G:/img-002/img/Abo ...\"}, \"G:/img-002/img/Above_Average_Linen_Tee/img_00000037.jpg\": {\"frequency\": 1, \"value\": \"G:/img-002/img/Abo ...\"}, \"G:/img-002/img/Above_Average_Linen_Tee/img_00000031.jpg\": {\"frequency\": 1, \"value\": \"G:/img-002/img/Abo ...\"}, \"G:/img-002/img/Above_Average_Linen_Tee/img_00000004.jpg\": {\"frequency\": 1, \"value\": \"G:/img-002/img/Abo ...\"}, \"G:/img-002/img/Above_Average_Linen_Tee/img_00000003.jpg\": {\"frequency\": 1, \"value\": \"G:/img-002/img/Abo ...\"}, \"G:/img-002/img/Above_Average_Linen_Tee/img_00000002.jpg\": {\"frequency\": 1, \"value\": \"G:/img-002/img/Abo ...\"}, \"G:/img-002/img/Above_Average_Linen_Tee/img_00000040.jpg\": {\"frequency\": 1, \"value\": \"G:/img-002/img/Abo ...\"}, \"G:/img-002/img/Above_Average_Linen_Tee/img_00000032.jpg\": {\"frequency\": 1, \"value\": \"G:/img-002/img/Abo ...\"}, \"G:/img-002/img/Above_Average_Linen_Tee/img_00000017.jpg\": {\"frequency\": 1, \"value\": \"G:/img-002/img/Abo ...\"}, \"G:/img-002/img/Above_Average_Linen_Tee/img_00000013.jpg\": {\"frequency\": 1, \"value\": \"G:/img-002/img/Abo ...\"}, \"G:/img-002/img/Above_Average_Linen_Tee/img_00000005.jpg\": {\"frequency\": 1, \"value\": \"G:/img-002/img/Abo ...\"}, \"G:/img-002/img/Above_Average_Linen_Tee/img_00000018.jpg\": {\"frequency\": 1, \"value\": \"G:/img-002/img/Abo ...\"}, \"G:/img-002/img/Above_Average_Linen_Tee/img_00000020.jpg\": {\"frequency\": 1, \"value\": \"G:/img-002/img/Abo ...\"}, \"G:/img-002/img/Above_Average_Linen_Tee/img_00000006.jpg\": {\"frequency\": 1, \"value\": \"G:/img-002/img/Abo ...\"}, \"G:/img-002/img/Above_Average_Linen_Tee/img_00000043.jpg\": {\"frequency\": 1, \"value\": \"G:/img-002/img/Abo ...\"}, \"G:/img-002/img/Above_Average_Linen_Tee/img_00000016.jpg\": {\"frequency\": 1, \"value\": \"G:/img-002/img/Abo ...\"}, \"G:/img-002/img/Above_Average_Linen_Tee/img_00000035.jpg\": {\"frequency\": 1, \"value\": \"G:/img-002/img/Abo ...\"}, \"G:/img-002/img/Above_Average_Linen_Tee/img_00000038.jpg\": {\"frequency\": 1, \"value\": \"G:/img-002/img/Abo ...\"}, \"G:/img-002/img/Above_Average_Linen_Tee/img_00000023.jpg\": {\"frequency\": 1, \"value\": \"G:/img-002/img/Abo ...\"}, \"G:/img-002/img/Above_Average_Linen_Tee/img_00000034.jpg\": {\"frequency\": 1, \"value\": \"G:/img-002/img/Abo ...\"}, \"G:/img-002/img/Above_Average_Linen_Tee/img_00000011.jpg\": {\"frequency\": 1, \"value\": \"G:/img-002/img/Abo ...\"}, \"G:/img-002/img/Above_Average_Linen_Tee/img_00000025.jpg\": {\"frequency\": 1, \"value\": \"G:/img-002/img/Abo ...\"}, \"G:/img-002/img/Above_Average_Linen_Tee/img_00000030.jpg\": {\"frequency\": 1, \"value\": \"G:/img-002/img/Abo ...\"}, \"G:/img-002/img/Above_Average_Linen_Tee/img_00000024.jpg\": {\"frequency\": 1, \"value\": \"G:/img-002/img/Abo ...\"}, \"G:/img-002/img/Above_Average_Linen_Tee/img_00000008.jpg\": {\"frequency\": 1, \"value\": \"G:/img-002/img/Abo ...\"}, \"G:/img-002/img/Above_Average_Linen_Tee/img_00000028.jpg\": {\"frequency\": 1, \"value\": \"G:/img-002/img/Abo ...\"}}, \"size\": 43}, \"image\": {\"progress\": 1.0, \"num_undefined\": 0, \"complete\": true, \"samples\": [{\"format\": \"jpeg\", \"value\": \"image/jpeg;base64,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\\n\", \"height\": 301, \"channels\": 3, \"width\": 199, \"type\": \"image\", \"id\": 378849768}, {\"format\": \"jpeg\", \"value\": \"image/jpeg;base64,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\\n\", \"height\": 301, \"channels\": 3, \"width\": 199, \"type\": \"image\", \"id\": 378849880}, {\"format\": \"jpeg\", \"value\": \"image/jpeg;base64,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\\n\", \"height\": 300, \"channels\": 3, \"width\": 300, \"type\": \"image\", \"id\": 378849992}, {\"format\": \"jpeg\", \"value\": \"image/jpeg;base64,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\\n\", \"height\": 300, \"channels\": 3, \"width\": 300, \"type\": \"image\", \"id\": 378850104}]}, \"label\": {\"complete\": true, \"numeric\": false, \"num_unique\": 1, \"num_undefined\": 0, \"progress\": 1.0, \"frequent_items\": {\"Above_Average_Linen_Tee\": {\"frequency\": 43, \"value\": \"Above_Average_Line ...\"}}, \"size\": 43}}, \"selected_variable\": {\"name\": [\"data\"], \"descriptives\": {\"rows\": 43, \"columns\": 3}, \"view_component\": \"Summary\", \"view_file\": \"sframe\", \"view_params\": {\"y\": null, \"x\": null, \"columns\": [\"path\", \"image\", \"label\"], \"view\": null}, \"view_components\": [\"Summary\", \"Table\", \"Bar Chart\", \"BoxWhisker Plot\", \"Line Chart\", \"Scatter Plot\", \"Heat Map\", \"Plots\"], \"type\": \"SFrame\", \"columns\": [{\"dtype\": \"str\", \"name\": \"path\"}, {\"dtype\": \"Image\", \"name\": \"image\"}, {\"dtype\": \"str\", \"name\": \"label\"}], \"column_identifiers\": [\"path\", \"image\", \"label\"]}, \"columns\": [{\"dtype\": \"str\", \"name\": \"path\"}, {\"dtype\": \"Image\", \"name\": \"image\"}, {\"dtype\": \"str\", \"name\": \"label\"}]}, e);\n",
       "                });\n",
       "            })();\n",
       "        "
      ]
     },
     "metadata": {},
     "output_type": "display_data"
    },
    {
     "data": {
      "text/html": [
       "<div style=\"max-height:1000px;max-width:1500px;overflow:auto;\"><table frame=\"box\" rules=\"cols\">\n",
       "    <tr>\n",
       "        <th style=\"padding-left: 1em; padding-right: 1em; text-align: center\">path</th>\n",
       "        <th style=\"padding-left: 1em; padding-right: 1em; text-align: center\">image</th>\n",
       "        <th style=\"padding-left: 1em; padding-right: 1em; text-align: center\">label</th>\n",
       "    </tr>\n",
       "    <tr>\n",
       "        <td style=\"padding-left: 1em; padding-right: 1em; text-align: center; vertical-align: top\">G:/img-002/img/Above_Aver<br>age_Linen_Tee/img_000 ...</td>\n",
       "        <td style=\"padding-left: 1em; padding-right: 1em; text-align: center; vertical-align: top\">Height: 301 Width: 199</td>\n",
       "        <td style=\"padding-left: 1em; padding-right: 1em; text-align: center; vertical-align: top\">Above_Average_Linen_Tee</td>\n",
       "    </tr>\n",
       "    <tr>\n",
       "        <td style=\"padding-left: 1em; padding-right: 1em; text-align: center; vertical-align: top\">G:/img-002/img/Above_Aver<br>age_Linen_Tee/img_000 ...</td>\n",
       "        <td style=\"padding-left: 1em; padding-right: 1em; text-align: center; vertical-align: top\">Height: 301 Width: 199</td>\n",
       "        <td style=\"padding-left: 1em; padding-right: 1em; text-align: center; vertical-align: top\">Above_Average_Linen_Tee</td>\n",
       "    </tr>\n",
       "    <tr>\n",
       "        <td style=\"padding-left: 1em; padding-right: 1em; text-align: center; vertical-align: top\">G:/img-002/img/Above_Aver<br>age_Linen_Tee/img_000 ...</td>\n",
       "        <td style=\"padding-left: 1em; padding-right: 1em; text-align: center; vertical-align: top\">Height: 300 Width: 300</td>\n",
       "        <td style=\"padding-left: 1em; padding-right: 1em; text-align: center; vertical-align: top\">Above_Average_Linen_Tee</td>\n",
       "    </tr>\n",
       "    <tr>\n",
       "        <td style=\"padding-left: 1em; padding-right: 1em; text-align: center; vertical-align: top\">G:/img-002/img/Above_Aver<br>age_Linen_Tee/img_000 ...</td>\n",
       "        <td style=\"padding-left: 1em; padding-right: 1em; text-align: center; vertical-align: top\">Height: 300 Width: 300</td>\n",
       "        <td style=\"padding-left: 1em; padding-right: 1em; text-align: center; vertical-align: top\">Above_Average_Linen_Tee</td>\n",
       "    </tr>\n",
       "    <tr>\n",
       "        <td style=\"padding-left: 1em; padding-right: 1em; text-align: center; vertical-align: top\">G:/img-002/img/Above_Aver<br>age_Linen_Tee/img_000 ...</td>\n",
       "        <td style=\"padding-left: 1em; padding-right: 1em; text-align: center; vertical-align: top\">Height: 301 Width: 205</td>\n",
       "        <td style=\"padding-left: 1em; padding-right: 1em; text-align: center; vertical-align: top\">Above_Average_Linen_Tee</td>\n",
       "    </tr>\n",
       "    <tr>\n",
       "        <td style=\"padding-left: 1em; padding-right: 1em; text-align: center; vertical-align: top\">G:/img-002/img/Above_Aver<br>age_Linen_Tee/img_000 ...</td>\n",
       "        <td style=\"padding-left: 1em; padding-right: 1em; text-align: center; vertical-align: top\">Height: 300 Width: 300</td>\n",
       "        <td style=\"padding-left: 1em; padding-right: 1em; text-align: center; vertical-align: top\">Above_Average_Linen_Tee</td>\n",
       "    </tr>\n",
       "    <tr>\n",
       "        <td style=\"padding-left: 1em; padding-right: 1em; text-align: center; vertical-align: top\">G:/img-002/img/Above_Aver<br>age_Linen_Tee/img_000 ...</td>\n",
       "        <td style=\"padding-left: 1em; padding-right: 1em; text-align: center; vertical-align: top\">Height: 300 Width: 205</td>\n",
       "        <td style=\"padding-left: 1em; padding-right: 1em; text-align: center; vertical-align: top\">Above_Average_Linen_Tee</td>\n",
       "    </tr>\n",
       "    <tr>\n",
       "        <td style=\"padding-left: 1em; padding-right: 1em; text-align: center; vertical-align: top\">G:/img-002/img/Above_Aver<br>age_Linen_Tee/img_000 ...</td>\n",
       "        <td style=\"padding-left: 1em; padding-right: 1em; text-align: center; vertical-align: top\">Height: 300 Width: 205</td>\n",
       "        <td style=\"padding-left: 1em; padding-right: 1em; text-align: center; vertical-align: top\">Above_Average_Linen_Tee</td>\n",
       "    </tr>\n",
       "    <tr>\n",
       "        <td style=\"padding-left: 1em; padding-right: 1em; text-align: center; vertical-align: top\">G:/img-002/img/Above_Aver<br>age_Linen_Tee/img_000 ...</td>\n",
       "        <td style=\"padding-left: 1em; padding-right: 1em; text-align: center; vertical-align: top\">Height: 279 Width: 300</td>\n",
       "        <td style=\"padding-left: 1em; padding-right: 1em; text-align: center; vertical-align: top\">Above_Average_Linen_Tee</td>\n",
       "    </tr>\n",
       "    <tr>\n",
       "        <td style=\"padding-left: 1em; padding-right: 1em; text-align: center; vertical-align: top\">G:/img-002/img/Above_Aver<br>age_Linen_Tee/img_000 ...</td>\n",
       "        <td style=\"padding-left: 1em; padding-right: 1em; text-align: center; vertical-align: top\">Height: 301 Width: 199</td>\n",
       "        <td style=\"padding-left: 1em; padding-right: 1em; text-align: center; vertical-align: top\">Above_Average_Linen_Tee</td>\n",
       "    </tr>\n",
       "</table>\n",
       "[43 rows x 3 columns]<br/>Note: Only the head of the SFrame is printed.<br/>You can use print_rows(num_rows=m, num_columns=n) to print more rows and columns.\n",
       "</div>"
      ],
      "text/plain": [
       "Columns:\n",
       "\tpath\tstr\n",
       "\timage\tImage\n",
       "\tlabel\tstr\n",
       "\n",
       "Rows: 43\n",
       "\n",
       "Data:\n",
       "+-------------------------------+------------------------+\n",
       "|              path             |         image          |\n",
       "+-------------------------------+------------------------+\n",
       "| G:/img-002/img/Above_Avera... | Height: 301 Width: 199 |\n",
       "| G:/img-002/img/Above_Avera... | Height: 301 Width: 199 |\n",
       "| G:/img-002/img/Above_Avera... | Height: 300 Width: 300 |\n",
       "| G:/img-002/img/Above_Avera... | Height: 300 Width: 300 |\n",
       "| G:/img-002/img/Above_Avera... | Height: 301 Width: 205 |\n",
       "| G:/img-002/img/Above_Avera... | Height: 300 Width: 300 |\n",
       "| G:/img-002/img/Above_Avera... | Height: 300 Width: 205 |\n",
       "| G:/img-002/img/Above_Avera... | Height: 300 Width: 205 |\n",
       "| G:/img-002/img/Above_Avera... | Height: 279 Width: 300 |\n",
       "| G:/img-002/img/Above_Avera... | Height: 301 Width: 199 |\n",
       "+-------------------------------+------------------------+\n",
       "+-------------------------+\n",
       "|          label          |\n",
       "+-------------------------+\n",
       "| Above_Average_Linen_Tee |\n",
       "| Above_Average_Linen_Tee |\n",
       "| Above_Average_Linen_Tee |\n",
       "| Above_Average_Linen_Tee |\n",
       "| Above_Average_Linen_Tee |\n",
       "| Above_Average_Linen_Tee |\n",
       "| Above_Average_Linen_Tee |\n",
       "| Above_Average_Linen_Tee |\n",
       "| Above_Average_Linen_Tee |\n",
       "| Above_Average_Linen_Tee |\n",
       "+-------------------------+\n",
       "[43 rows x 3 columns]\n",
       "Note: Only the head of the SFrame is printed.\n",
       "You can use print_rows(num_rows=m, num_columns=n) to print more rows and columns."
      ]
     },
     "execution_count": 2,
     "metadata": {},
     "output_type": "execute_result"
    }
   ],
   "source": [
    "url='G:\\img-002\\img\\Above_Average_Linen_Tee'\n",
    "data = graphlab.image_analysis.load_images(url)\n",
    "data['label']='Above_Average_Linen_Tee'\n",
    "graphlab.canvas.set_target('ipynb')\n",
    "data.show()\n",
    "data\n",
    "#img.show()"
   ]
  },
  {
   "cell_type": "code",
   "execution_count": 31,
   "metadata": {
    "collapsed": false
   },
   "outputs": [
    {
     "data": {
      "application/javascript": [
       "$(\"head\").append($(\"<link/>\").attr({\n",
       "  rel:  \"stylesheet\",\n",
       "  type: \"text/css\",\n",
       "  href: \"//cdnjs.cloudflare.com/ajax/libs/font-awesome/4.1.0/css/font-awesome.min.css\"\n",
       "}));\n",
       "$(\"head\").append($(\"<link/>\").attr({\n",
       "  rel:  \"stylesheet\",\n",
       "  type: \"text/css\",\n",
       "  href: \"https://static.turi.com/products/graphlab-create/2.1/canvas/css/canvas.css\"\n",
       "}));\n",
       "\n",
       "            (function(){\n",
       "\n",
       "                var e = null;\n",
       "                if (typeof element == 'undefined') {\n",
       "                    var scripts = document.getElementsByTagName('script');\n",
       "                    var thisScriptTag = scripts[scripts.length-1];\n",
       "                    var parentDiv = thisScriptTag.parentNode;\n",
       "                    e = document.createElement('div');\n",
       "                    parentDiv.appendChild(e);\n",
       "                } else {\n",
       "                    e = element[0];\n",
       "                }\n",
       "\n",
       "                if (typeof requirejs !== 'undefined') {\n",
       "                    // disable load timeout; ipython_app.js is large and can take a while to load.\n",
       "                    requirejs.config({waitSeconds: 0});\n",
       "                }\n",
       "\n",
       "                require(['https://static.turi.com/products/graphlab-create/2.1/canvas/js/ipython_app.js'], function(IPythonApp){\n",
       "                    var app = new IPythonApp();\n",
       "                    app.attachView('sframe','Summary', {\"ipython\": true, \"sketch\": {\"path\": {\"complete\": true, \"numeric\": false, \"num_unique\": 25, \"num_undefined\": 0, \"progress\": 1.0, \"frequent_items\": {\"G:/img-002/img/Abstract_Diamond_Fringe_Kimono/img_00000001.jpg\": {\"frequency\": 1, \"value\": \"G:/img-002/img/Abs ...\"}, \"G:/img-002/img/Abstract_Diamond_Fringe_Kimono/img_00000010.jpg\": {\"frequency\": 1, \"value\": \"G:/img-002/img/Abs ...\"}, \"G:/img-002/img/Abstract_Diamond_Fringe_Kimono/img_00000023.jpg\": {\"frequency\": 1, \"value\": \"G:/img-002/img/Abs ...\"}, \"G:/img-002/img/Abstract_Diamond_Fringe_Kimono/img_00000004.jpg\": {\"frequency\": 1, \"value\": \"G:/img-002/img/Abs ...\"}, \"G:/img-002/img/Abstract_Diamond_Fringe_Kimono/img_00000002.jpg\": {\"frequency\": 1, \"value\": \"G:/img-002/img/Abs ...\"}, \"G:/img-002/img/Abstract_Diamond_Fringe_Kimono/img_00000011.jpg\": {\"frequency\": 1, \"value\": \"G:/img-002/img/Abs ...\"}, \"G:/img-002/img/Abstract_Diamond_Fringe_Kimono/img_00000017.jpg\": {\"frequency\": 1, \"value\": \"G:/img-002/img/Abs ...\"}, \"G:/img-002/img/Abstract_Diamond_Fringe_Kimono/img_00000008.jpg\": {\"frequency\": 1, \"value\": \"G:/img-002/img/Abs ...\"}, \"G:/img-002/img/Abstract_Diamond_Fringe_Kimono/img_00000014.jpg\": {\"frequency\": 1, \"value\": \"G:/img-002/img/Abs ...\"}, \"G:/img-002/img/Abstract_Diamond_Fringe_Kimono/img_00000006.jpg\": {\"frequency\": 1, \"value\": \"G:/img-002/img/Abs ...\"}, \"G:/img-002/img/Abstract_Diamond_Fringe_Kimono/img_00000009.jpg\": {\"frequency\": 1, \"value\": \"G:/img-002/img/Abs ...\"}, \"G:/img-002/img/Abstract_Diamond_Fringe_Kimono/img_00000013.jpg\": {\"frequency\": 1, \"value\": \"G:/img-002/img/Abs ...\"}, \"G:/img-002/img/Abstract_Diamond_Fringe_Kimono/img_00000005.jpg\": {\"frequency\": 1, \"value\": \"G:/img-002/img/Abs ...\"}, \"G:/img-002/img/Abstract_Diamond_Fringe_Kimono/img_00000020.jpg\": {\"frequency\": 1, \"value\": \"G:/img-002/img/Abs ...\"}, \"G:/img-002/img/Abstract_Diamond_Fringe_Kimono/img_00000018.jpg\": {\"frequency\": 1, \"value\": \"G:/img-002/img/Abs ...\"}, \"G:/img-002/img/Abstract_Diamond_Fringe_Kimono/img_00000012.jpg\": {\"frequency\": 1, \"value\": \"G:/img-002/img/Abs ...\"}, \"G:/img-002/img/Abstract_Diamond_Fringe_Kimono/img_00000025.jpg\": {\"frequency\": 1, \"value\": \"G:/img-002/img/Abs ...\"}, \"G:/img-002/img/Abstract_Diamond_Fringe_Kimono/img_00000016.jpg\": {\"frequency\": 1, \"value\": \"G:/img-002/img/Abs ...\"}, \"G:/img-002/img/Abstract_Diamond_Fringe_Kimono/img_00000024.jpg\": {\"frequency\": 1, \"value\": \"G:/img-002/img/Abs ...\"}, \"G:/img-002/img/Abstract_Diamond_Fringe_Kimono/img_00000022.jpg\": {\"frequency\": 1, \"value\": \"G:/img-002/img/Abs ...\"}, \"G:/img-002/img/Abstract_Diamond_Fringe_Kimono/img_00000003.jpg\": {\"frequency\": 1, \"value\": \"G:/img-002/img/Abs ...\"}, \"G:/img-002/img/Abstract_Diamond_Fringe_Kimono/img_00000021.jpg\": {\"frequency\": 1, \"value\": \"G:/img-002/img/Abs ...\"}, \"G:/img-002/img/Abstract_Diamond_Fringe_Kimono/img_00000019.jpg\": {\"frequency\": 1, \"value\": \"G:/img-002/img/Abs ...\"}, \"G:/img-002/img/Abstract_Diamond_Fringe_Kimono/img_00000015.jpg\": {\"frequency\": 1, \"value\": \"G:/img-002/img/Abs ...\"}, \"G:/img-002/img/Abstract_Diamond_Fringe_Kimono/img_00000007.jpg\": {\"frequency\": 1, \"value\": \"G:/img-002/img/Abs ...\"}}, \"size\": 25}, \"image\": {\"progress\": 1.0, \"num_undefined\": 0, \"complete\": true, \"samples\": [{\"format\": \"jpeg\", \"value\": \"image/jpeg;base64,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\\n\", \"height\": 300, \"channels\": 3, \"width\": 236, \"type\": \"image\", \"id\": 2246325752}, {\"format\": \"jpeg\", \"value\": \"image/jpeg;base64,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\\n\", \"height\": 300, \"channels\": 3, \"width\": 205, \"type\": \"image\", \"id\": 2246327488}, {\"format\": \"jpeg\", \"value\": \"image/jpeg;base64,/9j/4AAQSkZJRgABAQAAAQABAAD/2wBDAAgGBgcGBQgHBwcJCQgKDBQNDAsLDBkSEw8UHRofHh0aHBwgJC4nICIsIxwcKDcpLDAxNDQ0Hyc5PTgyPC4zNDL/2wBDAQkJCQwLDBgNDRgyIRwhMjIyMjIyMjIyMjIyMjIyMjIyMjIyMjIyMjIyMjIyMjIyMjIyMjIyMjIyMjIyMjIyMjL/wAARCADvASwDASIAAhEBAxEB/8QAHwAAAQUBAQEBAQEAAAAAAAAAAAECAwQFBgcICQoL/8QAtRAAAgEDAwIEAwUFBAQAAAF9AQIDAAQRBRIhMUEGE1FhByJxFDKBkaEII0KxwRVS0fAkM2JyggkKFhcYGRolJicoKSo0NTY3ODk6Q0RFRkdISUpTVFVWV1hZWmNkZWZnaGlqc3R1dnd4eXqDhIWGh4iJipKTlJWWl5iZmqKjpKWmp6ipqrKztLW2t7i5usLDxMXGx8jJytLT1NXW19jZ2uHi4+Tl5ufo6erx8vP09fb3+Pn6/8QAHwEAAwEBAQEBAQEBAQAAAAAAAAECAwQFBgcICQoL/8QAtREAAgECBAQDBAcFBAQAAQJ3AAECAxEEBSExBhJBUQdhcRMiMoEIFEKRobHBCSMzUvAVYnLRChYkNOEl8RcYGRomJygpKjU2Nzg5OkNERUZHSElKU1RVVldYWVpjZGVmZ2hpanN0dXZ3eHl6goOEhYaHiImKkpOUlZaXmJmaoqOkpaanqKmqsrO0tba3uLm6wsPExcbHyMnK0tPU1dbX2Nna4uPk5ebn6Onq8vP09fb3+Pn6/9oADAMBAAIRAxEAPwD2JpmPSoTOQPmHWjbvOASgqMwt135rDkuVzDXuTnG3iqmoQR6np1zZSqNk8TRn8RipXDqdxKge9RbycnNTysLny3qNnNp2oT2M4xLA5RvqKuafOljNaXDDISVWI9ga9L+JHgqTVJTrOmIGuAuLiIcFwP4h715hNHutY48YbofzrZtSRdPR3R7kmtjz2hVJPKwrYXPOR2Hel8TQpP4dk2g7eDhhg1x/gnxjZiGKy1GOQ3UI2JIozuA4Gfeup8R3Nxdaa6xIYkZTjdyTXnSi4ySse2qsJQ5oni91CGMmO1ZTpsOCK3rjEcLZPz42msaZWcbgvr0r0oM8eqrnafB91HjyJHGVaGQH8q+hWS36hRXzx8IePH9ucZAhkz+VfRRkTOcD8BTlFN6mF2iIJC3GwH8KDHADjaAaVmYn5Riogu8tuGG9RUciDmZIEhPO0Vo2eI4SEwBnJFZKxvjj9TV21ZvJKgjOaVkgu2aXnEd80ouPaqY3KORSFm7ZpNgaBmUikzG3BA/KqAc9MnNShsdjmpTuMmeK3PWND+FQPZ2sn/LNfqKUnuTioi2OQ3OaGhpiNYQYxg8VA+noThTinu7YOD+tRq0nYk1LQXPPPjBZmHwXvDZAuUzXgjNgV9H/ABQtmvfh/qOBlodsv/fLDNfNTNniuik/dEx8K+ZKAema6/wW99bXFytjaxTSOMbpVB2j8a5i3j5CqOT0r0z4YLCbu9hkxvCg1lXnaLZ14aneSR2PhrULqCNkvLSKM9SkXQVma7ea1Kl1HDaQCzdSrJtAOPXNdJElt5k2QdwxtIbFWJ7eM2Tvt/h54riVS2tj0HSTsrnzZcQ+XeSxEYwcVScbWOa6HXbfZrd0R08w1hXS7ZDXo0pXR5VaHK2QZr2b4JXLvp+qWpyVSRXA+o/+tXixr3X4AQKdP1i5kHBlRAfoP/r1c9jBHozxFjnaBTPKYdq3XWH0FN2wnjavNYsq5hlW2n09qQKcVttDB/dA/CmeVEOirUjuUzLKQQQrVBI0oyMge1WThhjHFV2Ckn09a1ckZWZVk3EfM/4CoPnzx0qaSPc2FHXoaclmz7lLldozx61Ls9i4xbZiazqkGn2chlkCsQQM+teE3AM9zNJCP3Yf5T7Zr1jxxbL9lt1dyw3Odo4yeMDJ9a81hiZ717ZQAqIVJqdjeECPw7CX8TxR44YH88Zr2HUxjTQSCdqf0rgfDemGPU474LujjJJPfpgV2Oraoj2cihH27SBkVzVZXkjtox5Ys8huP38h25OWJHvTHs3REXoX6D8KsQk+a0eMkNx6g1LqVrcm8SQI+IyOAO/p+ldKbOWS6npPws8GTaMJdY1AFLidPLii7ovUk+5r0wAke3vXn3w31Ge7sbkS3DP5ZC7GPIHPNd2spA9a0vfU45KzsW8ADGCT9aQqO64zVbzec7eaXzs9RRcRISAwAHXuDVyxUNAT33HrWf5gP8I4q7ZvmHJ9e1O/cC58ykYXik3lGy1OWYDsKbJtl7flQmugNCks5zyce1CiTOfLzimE7FKqWFAklRRhvzp8rFzEhXe2JRimNbISSGwPSmm4l6MgP1qB5pc/KgH0pctg5h0kDDhWFQPuj+XeD9Kazz4789agcsOSeaiSKTEvraG/sJ7OfmKeMxuPYivlzxFoF34b1qWwu4yNpJjkxxIvZhX1EJCayPEOg6d4g017bUYVYAEo+PmjPqDRGVhnzlari4Jb+GPj61u+C9UGk+KVMzYjmXYTnjNUr+yXStRlgVvMETbAxGMgdKoFA2XHDKc1MkpKzOuLcWmj26HSbt55WWYP5jZEjAkoPat2d/7P0aQ3VwX2JzI+BniuX8GarfXFrbxmQFDEMFhk+lS+NRM2m3Su5YLE3HauJtt8rPWlW5opnkl7di/vryePlGk49uetZeoIAQe+Aau2SbI3BHBbGfwqrdgTM7cgY6V3w0Z4825LUyicc+lfTHwY0lbD4fQzyJiS7kaX8M4H8q+ffDnh298S63BptlEzs7DzG7Indj7Yr6ysLOPS9OtrG3XbBBGI1wOwrZs5X2L5jj78/U1EzqhwoB98U0nnjmnbec7Km4rETMZm+ViDjgVExYNhhzU+xlkBAxTSoYkmNjRqKxATgHK1BIQcgAAVMM9Dx7mopSQPWpZRWUZbO08dKlgfEVyW69KVF4X1J6VGpwZVyPmk5PbGKaiawdkY95aQ3BlnuoUkiVcIhHUmvPNZ8IXVlei9tVZ7aSP5ivOPX3r0zVyI4YYkxy2W59uKxNX8RWuha1Z6bfhUtLmAsZB0jfOP++adaH7v3dyqU17T3tipoltHEvkRRmQFA44/DrU+qWQlAhIGTyQBwBS201vEEljmjViCVbzM7hngAVf1TVdO0Oxe61KRBI44jByzn0ArzpQkmrHoxqxknfQ860rRPN1aSBUCz/aN5DDkqOcD2rqLDwxKdQ8+5UHkPjrgnpmqHw9urnxL43ub2RVjiij3KuMhATjH5V65ewRrOnljL45wOv1ruhTaj725586vNK0djn4dNgsZTJFEiuwAZlXGfrWmsGcFR1Gagkk3tg/3sD860AHRnUc4Y4+lOOq1JrxStYrmJlPI4oMYPJAqx5Tsc0G3LDp+FMwKbJ6VfsQog+Y7TmoVtDu+apoogYzhhgHFDQFxBH3YMKjZvLbCCmAgDCmpEjwcnJz60rdgADcOc/hTlTIzwKCvIwMH1pcHbyBRqGgjD5eDzVeTPTdk/Sptp6AZNRMjAkt1pXkgsirKHUdcfWqruQ2TzVuQ5zn8M1DtzGSBj0Jo5rjUbuyIvMULk+nWuc1TxFFb7opLaaPPRmxyPUe1dI2mvPaltx+92rkPF2mPttxuBR0Iyq5YEDOKNLXNfZWdmePeIJzf6xcyRKViDZqoIHVA/QMgNWb/AHRE+YMLKcog5+UHqasWVpJdWyFvu7j+GaybsjojG7sej/DSIyaPbSMvKbkP55q547Yx6Nesox8hpPB7Lo+m7LhNgkYuuPQ1R8a6kl3p10kaMQYyASOK5W7zudtmoWPJYpC0X0PP5VdsLOCaYNdORAx+YjriqMB2OUxkMMitGW3eXTQkSMd5G3A7e1dbZxW0PfvBOmaPp2kBdJggRW+/KnLOfc10pcnAZiRXmXwluXfQJY5XJkSXac+leiBiOc9K1TujikrOxc+VeRn6ml8wMdoYiqgkbrSiVsdMUXsIssdv8VNLqT941X80g5NHnMegouBM44IIqhc3MUBAdgCeAKrzaj+7ZssD9axftZ1C/hizuJbFczrOWkUdSoJfEzflZlkj25y3HFVJ/kuI4w5XfJii/n/0mJEypHNVLmYHUrYBud7E/gprtjvYylpFFe+YT37EZ25wAe4rhPizEV1XTMrj/RT+HzHiu8ADlXzx3I7VyfxQt47jX9CtwxMbw7c9yC3X61rLRGa3OHFw1rZx38cxWWSEQxqG5DDhm9sD+dZM00s775ZHkb+87En9a7vVtD0uLSr7YIw9sMxhGJK+zD65rhCtY05KeqNKkXHRnrPwPtwZ9WmLdkULj6816Hqd28BnYNllXapHck/4fzrj/hFG1j4P1C+KAGSY7WxycAD+ddHM4ZIA7oSfmdT2Pb+dVJXTFTdpDbeCUy26yZUM4x3z61uXOy0uSHfO5QR+FZ0RVL6No2bK/LheRnHNGrOWngd37EfyrOS5YaFylzyVydr2Ldja2PUGpYLi3mk8tJHV/wDarm7y5VFIEmWqvaaiWfG/BArnjOY5QijrbyZbVN7zNg9FAHJpNJlSa1dm5zIa5PUtd2QFZCJD/DWv4VujcaSZCOfNIrWLblfoZy5VHzOkJQdhxSJKr9iMelVzLnop/KrEbKOdpBrYxHAjpk/TFMkwD97g9qHyGyGH0qNlZhgjmldDHEEDAb9KgcN35FSDI4bj3qNzgdSagZA4bPBxSsQBj0IH6805FLyDg496ZOhA3+rgDH1p20NKfxFwHZpxfpljz+lc3qNvFc3HkPydpccdR3rduCx0uONSNzkH6DOazJ0VWklOc7RHk9lHLVUI66mk5aP1PMvFvhKCXzX08MrRLuMeepPJx6fSuf8ACtk892lpcbhHyeP4vSvX9Fj86SZ5kQxM25nYdDWbd6LYSQW+o2qxoFbdvTgMO44rnxS5dupvhXzb9CSxWFrXE4UNF8rZ/T86y/EdskllgJhH4Vcct7n2rStGQXqTPb4gkGFLSFiefvHNW5LSPUbl3/gQFVz6+tcbi42udqnGSaieHpp0P2m/coxaNgsKj13d66ubRsWGnxQKwlUCRiRjgn+WKl1/S7fRddtY1mPmXsgHlLycZGT7f416jpuhQT2hu0ywlgCZA+6A2e9dlGLmrs4q0lB2RgaDYJo1kiwwkSMMu2fvE+orrrNo7mIkDDD7wPalnsIrZk2AKrEKB9KbZDbdSFB0XmtV8VjCUVKHMWRCQMgHFM2kHkHHoau+ZgEAfjUDZY4OeKZzEBTPJUgfWoynPerDAkcHpVdiwNOwXOLvbtpZDGhwgNLoI3alJIo/1SdfTNZFzeiNfl61v+HoDFpxmbh5RuJ9u1c9Gnrc66k+hPMxe7ZySQq4BqLY0+q20cfMjlsZ6ZxWjpAR7uXzCgTH8XeqqRouuxHcMBWbjtyK6o7mMnpYii3wzzQMMbWOD6YP/wBeuc8fjz/GOgQFkDeUCxU8Alv/AK1dJcOq61MnO2Q/ID/n2rgvHkhHjG2CZQxWyYwenBNaS1RMdx+tRlNEu2Lcovl/K+4vkjl+OvHT/J4KT5UJ7iuq1CV30HDOxLbScnryK56KD7Te21uB/rZVXH1NZ0k0tS6lr6Hunh+B9L8AaVaIvzTkeb2255JpZFIyX6yvvI9F6AVsTQiO3sEKYjijZtvoOlYssjNI0rgjceBSqdjXDrVs09LVmuBMX4RNoX3P/wBao/EMvlCFgcc/0qfS9zMyDoo28CsvxkZI7S3TJzv78YBFXOPuWMnL37nOXFyzsdpyetVxKTzGcHvioY42DbgTn61J5G3kcMeeKwUA5itJG0jr82QecV6T4Kt4hoh3HH70/TtXBRRbTkjk12vhO6tktGtZWxJvLKG6Ee1Ny5RKPMdb5GR8jrt9AKYzIwIBwRxzVeSXdgK+weg71F5uyUnAK98ms1WT3K9g+hdWIFN33j70u3j7uKYL5EXgAVE+oqB1AodaCEqM30JGIIPGfeq8jqoyTgVHLf7ULFlx6Vh6jfiaMp0981nKuuhpHDvqbsEnJkXn0pj5MALZBEuAM8VV0kldNV2bIJJB9qcLhp0j3H5d4wPfOK6Yu8U2Ty2ehJdSDyWiVyjhdob0rN1JlWNoTJ92LDEc4Y+v4VJd7ZdQWInAZsZHtzWbfMZGlznEkpbI9BwP0reK1MmybQgn70+YRIRwmcZHc5ryHQPHFzov2zS7kG4sZZWI5+aMk9R7e1ey6DGcyBV+bGd+OR7V83ahg6jd7RhTM+B6fMampFS0YRk4u6PWrfxTp7SeQNizRp5beZIF2YHLY9O9WNU+JGg6Rp/lafIb+6C8BAQmfUsff0ry6+uI102O5Qn7TfRhHH9xU4J/4Fj9Kwzyaw9ipbmyrSj8J2vg29uvEPxMs76/Jmcl3b0QBTjHoAcV9F2UgXTxICNoDdeehNfP/wAH4GfxVc3A6QWp+UDOckf4V7tbv5XhdZH5O1m/MmtrJLQx3epWMpnnLsVIVSfpT9Iw0sxPUpWdbyH7FK/UsO1aOiRsiSySjAI4rKG51VNItGmqBowQoPHekY44MZPbgVnNfSkbQ2ADiqx1GSJ/9acn8aydZJ2MvYu17mzuUDDIQPcUfufb8qo2Wqs8uy4KlT0Nae9DyBxWkZpq6M3CzseHNtaRfMztyA2OeK7nT7i1uLZxE42qmFI9R7VxnlLknqRSRzS20vmRuysOeKpOw9zq7Y7jOccjpUcTeZqCLkcwMM/jTdI1eykmngu0MUpXAc8rk9/amwjN+wUhmWMgeh5q4NXZU1ori6nmK7hmBzgA5+lcL42k83xtPj7qwKF+myvR9W06VLeDIDZHBB7GuC8d27RXenaiF/19sYn/AN9Pl/kRWsjJbmVqAxo4HptGPxFVfCsBuPF2nLjIWTf+QzUM9+09uYimATnNbXw+g87xWrf884WP5kD+tTFWLk7nrepzl7pIt239yqgZ/H/CqfkOzRKy8Ajknp60ty8ct1Owb9+rBBz90AdalYvIkYZs+aRlsZOM9ahayNU+WFkbejJGUJ2NGScsSOprnPHQEjxMmeHCkfnXS205BWIYIAwGZetc/wCJlBLZwT5gP86p9WYHJLE55wcfSp1jIGCKsqAcCmvgDpWTkWosiEYY4rsPD+nW9/oclvMP3iyl0ccMp9Qa5FNyZIHJ9a7TwwWXQ2uATuhmYkDuuBkf59KS1BqyKbX8ukym21EZbOIpQOJB/Q+1RS6m0zgqSF9u9b/iiLT38OXVxeAmBE8xWQZYHsR+lefabqAkKxncfRyMZrnqUZLVbHTTqxej3Ou3gW4dic+lVRcCViMH8aqzXrFBGcbcYx0qqboRDIYljWHKaKehbu79YoygIZ/5Vgy3MgfBOdxwB9aVnJYs7ck5PvSaUpvdajVcssXzH0q4Qu7Gcp2R3ETpa6THD1ZVwfrVaCcmONTgYYYAHvUk74tHViSxORkdOO3tVKH5So9xXe1skYRejYkk3/E13dlVjVV2aSKJmOSc5/76NMmdre6uJcjIjC5HbJp8bma3t3IAJ64GO5reJgzY0VXSOZ2ZfIUfMpGTntXgvhqxh1Xxg63Sb4Q0kjDt1r3S1kjgtL6UsdyQv8ucDGDk14l4Jt557nUri3kaMxRgs6ruOC3Ix3yAayraJl017yOi1bQtMk8PajcyJb+ZBvMLwNnAJyPoTnmvLyK9G1wpD4dvriyhFtaTqsbxvHtdpNwOcdMdeg74rzvtWVBOz1Lqu7Wlj0z4QRJH/bN8w5REjz6Zya9dvsxeDYyDj5Fz+Jryj4Zo48J35Cn9/eogb/gPT9a9a19P+JLbW6/xSomBW8vhM4/ER6ZAPsYUorfKPz/yalib7MFToGycFhnr2/KqV1LLb2oii+XJ+cCpyRJbI8mWdQQCe1TEuae5UkuIVVzIp6nmsW9vFzlTjHvUF9eEnAY9TWNPdMW5I25xg1x8t3c1u7WOgtL9ZVYlunrUjat5Z2iY49jXKPKQSY8gY65qm4m3ZWRcHnk1SiZu5cVSckrzSFE3jd93IzirjxMeR/KonhkC/drRNA4iPHHHq2dwCMgOSau6LKi3MgjYOy7sEHIPUjFZT2E97fqZT+52AbF4Jx6mtW2sI9PvIzEpTd8hAJxUwklVfmdEoylRXkdTq1wt5pihQfMUAvnoPauQ8XwjUfCU7Ip3WEySjPXYw2t+uDXQKjCBlZsOVDFTVaG3S4eWyf8A1V7A8B+pHH64rttpocR4xniu5+GdsjXOo3L5+VURSB6kn+lcNMjW8skMgxJGxVh7jivQ/h0xg0a9dULPNLtXAJPAFSM7yxtiyypKsflnmSQEhhz0qVU824LouEUYUegHSnpZXVtYFsbQ2MxjqfrVuEC1tHSUIJCM7mOetTA1nZLRjrZpE2soyScVha+G8vLHkuM/Wt23lQLE6OWEec8YBJ9q53U23ziMLgH585yc5py2ZkjLjjzjJqXyhjvVmODipNioOhNc3KXzMoFFWtfRvFWl6LHJZahOIkc7lYqT1HQ4qhIu7JxUcdro90yJe2wmuVYMibuXXPYZ9P5mi6jqwldqyN1NZ0/WvD9xpsKT3SAmJGjiJUjOVOfUDH5VycyQ2ljJbSTLDPbyvsjkiZW9uenNXtLvdPjeaI2skSWxVJCM7Y23c9DyMZrP126tHe3u47SMxr/rHcH5umM9zx/OrpyVaNkOdOdN6ai22px3MCg/NL0I9KjknCOQCOO2azY5YV1m4ktYwlu4DRoOi5/pSShw5Y/UmsXT1LVTQW7vmK7RxXQ+E4GitZLqQHdNwPZR/wDXrl4IDeXkUI/jbB9h3r0K2iWFNijCKAqj2Fa0o2M5yuXIYJrhCIh846H09qq3Hmw3AWVWDHrmtDTJVS5IkUeWeSxb7p9aPEFzDth8pwzLnn0FaW1FdpGPZRQ3N0UuDuSR/mAODgVcmt7SDymtSTBC2TuPYk/1rJMskMls0YxtjJZiM4z3qV7ln0hVUBRwxwOvJrSKdyGJrE623h3WJducWz4PpkY/rXjvhPVZtMS5WNA4uWWNgTjGATmvU/FMrJ4H1l1PJgUfmRXj+jYLQjsZifyX/wCvU1UmrMqDadzf8U6k0mgx2hRyTIoaSSTcSAK4lvu/Wul8SMTbwDPy7+PwFc05qKStEqo7yPbfhhaLF4Ls5ZFz9o1B3HPQAYzj8K9FvVWeW0i/6aFvpgGuZ8DWfkeBdAG0dDIT7tk/1rqnjEczORuzu2jPGTWr2M1uYGpSF70LnJyBn8a1GwLF8jtWRcpjUYwc8uvWtqSJP7NbJbIXOPWop9TWr0PKLm5luJGwSFye9RM0jxeUSGHY9xS7hkn0Jp6k4HYVnYzuyAiSMbQNykcqaYI3cZ3EexNWjHnJz1o8tRRdILM20D9NtSlWK9MZ9q0TEAOExTWAx0+tCpWB129CnZLtvEDDIJAqm+ohr+4WR1Qx3YC7jjuMVfkVjzGcGsxLOO+1GbaoeQYkKnnB71mqdqmp2wrc1DTpoztbiwkvpGeB1Z1VVIbjNY/2aWJwcqHikz1+6Qe/5V0NgxhtkLEnKADBxzjmovssRlkYjBk4Yg11e0S0ORU5M8Z+Immrp3i25ZFxFdKtwnp8w5/XNbnguDzNDgUEgeaznH1IFX/iNo/2vS9OmWTEts7W5JHUHlf8+9X/AAzpq6dpNvbjOQuWJ7k9a58RUtGy6nThaTc7vZG7bxTXEyRtK5jHzHJNbE8P+jJIzYXG1mx1rKjaWOVJIxlIyN49Rmt1Jhc2h67D04rTDLlp+pGLk5VPJGJHdSLmHflOxPpUUtkZrlSGwQnrVpIlhmbcmVPfHSkmnX7SSFIBXg9M1rN2RylRrd7fJZg3tmoGkDdqlbe78nIJ70hQZ6VySlc3jGxnzMW+7wKsWJhG3zIPOZmAxkZOM8c9Oufwp0sBYcCuY1a3zqGGAA2DPFCYTTtobOnXdtDf3bPbgyBkXAkX5SDknryfequoWVrqd3bzNcWlvZRqEKvcBWYDr2+tYgt4QuBEM+pUVJFEsWMoMH2qqTVNWiTV5qj5pDriaObXrk2/l+TtATyzlQB0waS4UlcZ/Kn+WudwznuPaoZmXPXFNkpCWE/2C5MxXfxgiu/0i/srq0cltxdf3ZY8qfQ150FJXrxVjT7+TTrkk5aJ+HUdx6j3oTsNo7pBiVyTkqMVT1GQhDg8nj8a0YJdPvrJrqyuN+AFdMYII65Hasu5ZZLuOM9Cw/Sr3kmafYKt67mdokz0CYFWYFzpaj0jH8zVcu+JgTgE5yGH6/nirtohWyCn/nkDW0XdnOzE8aSlPh/qGP4hCv8A49/9avK9GBzbHPAaRjj/AICK9U8ZxeZ8O9QbHKPEc+26vG4bl4dm0D5dwGfc/wD1qmepUXY2fETZit8f3nP61zbnLY7mr13eyXap5gxs9DVa0iM+pWsPXzJkXj3YUkrKw5O7ufUvh6DyPD+jwY+WONVPHotXdcYC3Qj7pz0qLTgY7C2J6YOM9uabrj5s4/UnmnLuKGrMSWWNrmAYIG5cEnkYNb2qTmCziSNSfl3Hj+Ef/rrBFuXubcnhsjHPT8K2NW/e2yZAJ24wOP5VMEy6trnmy2qtJIW7sTx9aU26oTtq1cKYbyePIGxyOBUZYkVjKVgUGVWQKOnApgVnGVGBUku48ZNIAygBW4qOYrksdn5isegH4UwoD0AwaRgPSmM+3oSK6mzkURrRjqBzUlskcMjXCxgMzYfHcdKj3b+mfyqzbAGMrjrSTvoaU7xdzRiKfcLDbjK81IR0wc1mKZDMilc84OPrxWqgVkJDdODkVnJHZGWupgeK7cz6RIQM5KNj3Vh/Sno0cKKpHPHGK17i28+IxkAq3fHFQWujzkTPcMpGOAo4GKidJzaNoVo00xbTE1rOcEZwBxUelSyWSys3zRs4J9vpWhGBAoRsDuT61XSMNHd+WRgsSPpW8IqKsclSo5Nlq5HmOrLhlPoMVSuYlM8e3Jwp/nU0cvlp5YBzng0zP71vbAH+fxpVX7pEFqVvKJJPf0qRbQ9W4FPLiM5FRtdyY+7XOnFGrUnsSGFVHArkfECKNTA6MUGDXS/aHY81yviFi+qDGSfLHT61V0yVFrcogkdganySuDgfjVdEIXlsenFOJAyM5PvQFh7qD2BNV5LdHGeh+tOTezD5ieanMbAfMD+NK5SiiiyBOOMVCcqwbI4OcVpPb726darT2DBC2cYFCmDgWNBkkW8knjdkJJPHcelXoNR+26pdSeXsWNSox69z+tVtDgwHbsFNN0M7redzyXkIz+OajCtubOnFxShHTU1l3eQWZAwBxwORW5Z5edIXB2PAM5xkda59SThC2FaQk8+n/wCutyNs3Vu68B4R09Oa74rU84zfE0Xn+A9dh5IjgDAn2YGvAxg19EtB9o0vWrM8+baSAD/gJNfOgJFKWjBDmOBWj4UgF14x0qIjI+0Kx47L839KzHbIrofh/CZfGdsw/wCWSO+fTjH9aXUZ9JwA/YoSyg/ITz0zuqtrWDCgKt9/gjtxzVyJGFlCMMwKKMDAqHUnjcRO0qeXC2WOc846cUt0EXZmLaBX1PJG58BQD2Fat8jmBAAfkbJqOyuUu5pLmNP3a8A4wWNR6pqwtWiyNxJ5XHX8acdEOT1OQ1GE/wBqTlurEN19RUQgTGQBWjdEXV5JPGG2vzg9qjEWK5pRVxqbM9olPamlVBxx+VaLuq/dBJ+lVGQMxP8ASo5SuZnUvb5XBFVntz6Vpvgng5qMj2ra5kZ3lMCMDpUkLFJACpwT2qdkUn0qCdgijGCc04vUEF3dxWpWQqzbwVJHAXHPX8KW21B3SOIBEYrklec/j/Wq0qrewtGzcMvlnHZic/8A165OXxzpmnTSW8nmyGMmIrGnIxx1NZ1ee/unZQcLe90O2kuriRHkUuuwfc6ZHt74ro7dh9kUtzuXJ9a8ul8ZKsEc1jai9tWGSyyjzYvX5OvH1r0jTLhL3Rre8jKtHLEGEi8A8elVRjJfETiJQduUoahhmb2UD9ag092EjR8bSvU9jUsx3+a5zg4A/Oo7RAztgHORzXR1MGSfvPOUeVx3OelSQ/dPGSTmpZLry1JAG4jYGxUEZ4AArGq+g4dxxweNoqF4s9KlYHORQQTWDRrcphQsnzDisHXIQNR+XugNdK8RYe9c9qozf7TydgovZCWsjJMPOTn6UwxcdM4rRjiJPzdKsi0jJ3Kc0k2VJGQg28BcYpxSWXhScd60/s8aOTgnNTxqp6J+laKnzGEqriY6wye+fSq2qrcR6bM0S5cLxk10RTn7vP0rI14kWscSDmSQKf50SpKCbCFaVSaiUNMOqDTVaCKRXO7dvVemPlwc+vWrOgW84sUWYYlErbh71s2gWOxKt8qIuSTUGnNs83aR8smQfYis8LK87WO7FU7Qve5H9ndZenv9DWtGxH2Rh0Cbc/Qmp7BEmR23bWJ5DAHtT3tnWKBEUNyw+Ug9816Cep5pJY4XWQjD5ZMqfoa+b9Ri+yapd2zDDRTOh/AkV9JNG0dzDdDACFcjPIrwrx/aJZ+PNYiAwrXBkHHZvm/rSnuNHNE8dK7b4U24m8TXMjDiK2J49yP8K4kqK9I+D9nJPfarKilgkaL+ZNStxnuEJRoYXY4wMjjtis3VEsxHGs86xKzl27AnFaMe6DTUBI34wOc1zHiP5LOMHrlqzqy5YNo1oQ55pGzps9glsQlwrRknbtOQP8ayNRt3nnVkYsCSQcdqXSrUR6dBGdu/3HIz3rTlheIRswA6gVafu6mU93YwPs88b/MuB64pWZfxq7dXjb9gGFrPaPzCWPeuaclfQuMX1IZdu0ktVFrghsKOKvSwZH3hVGSMhyKz1NNOx1bn5s5ppY+tSuo6+lRHHer5zLlIXBLdahmj3KeeByanYc0jD93L6bDmrjLUVilDIEw8hARJskngAKnP6V4drUsU2uXksUiyI8pYMOhzXpfi3VGhiWygbIIuHlx7R8D9a8qIDHoPpWidi4wurlqxlkCusbsrKPMjIPIYf4ivfPCF8bnwh5qscCNWC9lJGSB+NeB6cDHex84UnBz6EV6joct5b/CoeTIYnM4IkjPzAKDnGf8Ad6Vd0KUGjuRBMbBJJCSDkgDgY4plujSW9yqttJHBA9qw/DmvXmr2BN0VCbY9igYZAVzlvUkg10VmoEUjgg54HPNNNXJaaKdtDLsKu5cK3Gc8VdjFNACoF71JH1rBu7uWtEOZaZsyamx3pDxUsVyFhxWDqcCPeh8HdtA4rfbk1lzbTqDq2M7AcUkr6BqlczkjXHXB96nS1B538VaES84ApksZVRyMVqo2MXK5EsaoeeanR4xxjFRAgHBNK0XOc5FWQyRlQ/wisjWbQyWReMYaFhIPwrR2sO/60pfgqw4PFErSVgg3GSkuhkXU4OiOryKqu4UsTjg1HokguJb5VIJRE4XnnBpur6SJrCWGEMyNg+WDyCOhFafh+yhs+kKpNMo8045YgVhQhyvXoejXrxmtOv4WL+mWLDfJKwUcED1rQFpHIR5hKuf7vAx1ptuQCck+hq4o3OjBiAD0rVzZCpojvLLfaRhGwVwpPc+leVfE3w5NfeMBcQyohmtY2O4H5iMgn9K9iZd9vIvfrXBeN1J1PSJz0MTxn6gg/wBairUko3RpToQc0meWN4H1zGYoY5h/sOP616b8GtIvtLtdbF7btC7yRgb+4ANWtPOUBHpXS6Af3FwSTy/9KyoV5TlysvEYWFOPMjXmRorI4fOWAHsPSuY8TnCWinqSf510106vbBEUjbIASe5rndfhM81kgPOfT3raqrxsYYdpSv6mgsYwSSBxyB0pl55pSMZ7n8KnVQIwG6noopsqF2OD04q6jsjCCuzKkjBPJ59KQrgYAq95Q3kY/GpFtF6sc1yqLZq2omUYtwxt/Oo/7NZuQDWwYUXotNLNngHFWqZHtBrOahZiTT5CN3FRlgDU8oriEnvTXOY5ADyUNNdutY/iTUxpmgXVwGw5Qon1bgVUVZi3djzu91NDFNPOxDzNeqvHckACuZUEgccimyXE0+1ZJCyhmYDHdjk1LGpVea0bOmKFaXamDwx4Feh6JcmX4ZwWiKVA1RYy553fKXP+FeZSOJJcjoen0r07w8QPh9bx45GpiYn0BVkH8qaFN3R0HgaJ5fDkV3MNzzOrFu7Y3AfTArp4lxcLydoPP4VleEI/K8GaWmMEqpP5E/1rdhXdke5/rSvqYSeo9IgfmxUoQLTY2wopzHPQ1k5DGsRTDz0pdozxShfWpVxkZGK858Z6jdWXiQC3nePMC/dOPWvS9ua8l+IxKeKVGf8Al3X+ZrSO4imvibVl/wCX1z9QDUjeLdW2gGZSPdBXPrJ6mn7wRg1omS4m2PFeok5bym+q11XhnVbvVhKJokVFUEMuea4CytXvbpIU6Hkn2r2HQtLj07TY4wgDsAxp3JaRC6HPSomjJrXlt1ckiqzW2PWlcVjPEZz1NTQJi6jbPepmgA6g0iR4kU5PWnFajLMjeU7Pg7TjGPWrUD+YyMjfLjoaqXKPLa7EOG7Hp3qWzaO2hj89wjYyQegonHsdFOfc105JHqK4rxxD/oVnL/FFcFfwZf8A61dmhJQuMZHvzXOeM4t+jSkr910ce3P/ANespq8Gjpg/fRhaaw8jnjiuo0IhdNLg/Mztj09K461kMdtx1rtPDgRtLiWQHLE8/jXPhfjNsa/cNiZmktztTDJJggd/eqd9ZlxFLHxPEAceq55FbK48knbtJJ61n3KGSaPaMkx9j716CVzybtFOFSFMjnucUuGC/qaldcAqSe3FIWwMCsar6GkO5TkJHb8arvLNnjOKvMTuwAKhkTJ6CsDa6KLXEynrTBqDgfdzViWLA55qqYwDgA4oTYmovdEryc4qMyZqJnyfemk8cmtTlHNIK4f4jXmNItrdesk24/gP/r1vavrNtpVq01w+ABwo6t7CvLvEXiFtduY3WIxRRjCqTnk96djSmm3cy1Xkela1tp7TaXfXmD5VvH1/2iQB/OsqIFmCqpJzwB3r0qbTV0P4aXwuVAlnQMQezEjaKaVzac+VHmMa7nX2r1fw1LbTeC108OpuZjH5aA8/fk5/A15TBnk+1dT4AiurnxVaLC+EhDO5x0XHI/WmnqEl7tz2qxtfsel2dsBgQiNCPQ7KuQDBY98n+RpoK+WynOTIGHsBSI4Xp1JP5UPQ5dx3J70mW7GlzTQ2DWZTJIywOSRTmY9sfjUZPHWk3Z6dKaiFxS756A/jXkvxIkJ8ToSOfs6/zNesnjjvXkfxK/5GdOcH7Ov8zTtYqDuzlhJgc0pkzxUHbjrWpolkbif7RIP3UZ492pltHSeEreOPU4LVx++cebL7DnA/SvUPP2jkH8K8/wDDMe/xEzY5CE5/Cu6kQ0zKW5L5yP0OKCRjqKqbSDTvfNTcRIxX1qB9mcBj7YpHUmoJVOxsHBx19KqL1EXFuIo4kDyjpgDqSf8AIqC2u4XmmZllCOoK7mGMkfdx61Qdg1q4BLN/B+n/ANeqk91bWt3JHPMqrcMJYxvGQOhb354/ClWnJK6OihGMpcsjr4tREcZAi2yEYVGb+dUdTle8sZ7eUhcowYBRz7fhVT7bYpH50s8LWkYCmUSDj6nt9KgufEmmC3W5tp1vCW8uNrflQ+OFf0z0Getc6lOTsdbVOKucxHIVQIcZ9u9ejaDE8Gk2hKcvhgcetefwRidvOVSqyYdVIxtB5A/DOK9OtVMdlbRIQfLCpn3xVYaNpMnGTvCPmXbkloE68nPvVOXgxgDnbgetW0XFusb5yOPxqjfNJEsYUAknG49q7VsecRyyFmwT93ioi2elLsweec0uK55au5stEV5Mg5pCCQKnZfaomUnoahodyFgTwRUflH0q1im0rEtmM64qF846Vfeyn7qPzqvJaTD+A0aomx4X4le+Ot3ou95ZXIyc4APTH4VlpzgZ617J4r09rjw9qCGE5ERcHHdea8V3Fe9XF3Rqnc7HwPp39qeKLODHyRt5r5H8K/8A169C+Klsw8IbowxC3CFsDoOev6VzXwci83V9RnPJSFVH4n/61dh8UL+Wx8GTJEyqbmRYWz1KnJOPyqk7aEy1mjwy3GIn/KvWvhPpvk6fd6k6/NM3lIT/AHR1/WvJ7dGleOGMEu7AADuTX0RoWnf2RodpZBeY0G7jv1NTezNKnw2NDnqaM01m44FQtI27GKTkYKBOSRShjUSyZHNIWOeOapMlonDZ6mmu2BwagEpB9qR3JGaoQ8TEHFeP/E24C+Kk+U/8e68j6mvV85Pua8w+IMUcniRC6g4gXP5mpk0ka4e7mcNHK8zhI1cse1d5ppVbKGPcm4LyAR171kaJYwIZ5Ao3FQAfTNXV0q3RWkZiPlbJwOAe9Smmjaq2nZnTeD5Fm1yeRHDLswCK71zla86+HOJZJpABt24G0YGMivQ2UDoTUz30Mn5kWMdaOO9Ix5qMtz0qbiHN7VF5ayfIxOG4NPLcVCX2gn0rSO5LIUCQzxqOm5yT64B/xFeZ/FcqL/S0XAZLcg4Pqc13Gv6oulaY94y7nETBF9WdgorxzxVJJc+J7+ZnLZl2gE9AOOPyrcEm9SLR9XutIu/OglIVxtkQ/MHU+oPB/GuiguXspZtY02FIUhKrf2y8xyo3R1X+6fTscYrjFOTjoa7DRiDBcxswKzaTIGHrtYkflgVQmbHjDxPfWOo2h0+SNLeW3STbsBI5IIz9Qa9M8KeKRrWnwyvEqSyRqzIhJK9Rux3GeK8W8WiMNpXltkNp8chz23ZNeg/DGytp7QXQnxdvZm38rPQCQnd+oFQtG7GstYK7PV5mI2x5LOBke+aq3jM08CFcDBbPrTZrgi4kSJiSOCMcZGM80jBsR8cDJ+ppt+6YrcGwOtRgA81JsJGc00RnOTWbZY0g9+lNKipDxxTGOOtQ5AMYYFQnOalJyaZigCy5OfuioX2n+D9KmkNQnFW2QZOsQmbSryONBveF1XjuQa+aJQUYqQQynBB7GvqiRc14N8RPD8ej+IfOhwILwGVUH8J7j86SZpB9DrvgTKjXurQOuS0SMD6YJH9awPirr6a14ve3tZWe0swIlXnAf+I/n3rT+CEhj8YTxj7r2rZ/Ag1w2vyC68VapKiBFa6kwo7fMabehSXvmp4Hs4rzxlpsU7bY/NDZx1xzivpkpCeqr+Qr53+GFvHJ4+sVmXcFDuoz0IHFfRzMP7opwWgq29isYYD/AAr+VMNrbn+Bfyqwdv8AdH5Um1T/AAiqsY3K32S3J+4v5U02Vv8A3R+BqyUHYCmlR0NFhlQ6bbH+H9aYdLg/2vzq5tFJsFFgKB0mHsW/OvH/AImQi28UqgJx9mU8/jXtxUV4l8VePF4H/Tsn8zUVFobUPjKWmW4isUl3EmU9PTFZnirU/s9mljG2JJ/vn0T/AOvWpbyeVpcDHkKpNee3t6+oXst0/V2+Ueg7ClFaF1NZs9g+GCA2crdMIB+tehMAAa4H4Y8aVI3so/nXcSSc4ptaGE37zGMeaiJ55pWbnFRO1ZiuK7jFQ4Lo49v60MarzXf2W1uJiudkZbH0FWtxHBeMbuSae8hBykNzaW6qD6kuf6VxXiBceItRHpcP/Ouh8QTc6jdY6atAc9+I2Nc1qV0l9rF5cxgqk0zOAewJq2bwRWWLeBxkV0WnJGljKzuT/wAS+VCAeR89YcakHAOKiaeQysVcqHBXAPUelJNlzijoPGD251G0its+THYW6rnr9zv+dek/CO3CQw3BX5TAUzjqd5P8hXjMzvIwLsSQoUE+g6V7x8M1I8FWkgwCsUzA+vzGmRU0jY65mMscwDbfOJKj3P8AkVaYYiiJPUH8OaoRPjySBzuA/wDHTVpSWiOeqO38zSvoY9SU8ComcCgP2pDjOcVi22WiMvntTDyeakxnpShR6UkhtkZXvTMH0qcgE4ppQetaXsSf/9k=\\n\", \"height\": 239, \"channels\": 3, \"width\": 300, \"type\": \"image\", \"id\": 378848536}, {\"format\": \"jpeg\", \"value\": \"image/jpeg;base64,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\\n\", \"height\": 300, \"channels\": 3, \"width\": 205, \"type\": \"image\", \"id\": 2246975896}]}, \"label\": {\"complete\": true, \"numeric\": false, \"num_unique\": 1, \"num_undefined\": 0, \"progress\": 1.0, \"frequent_items\": {\"Abstract_Diamond_Fringe_Kimono\": {\"frequency\": 25, \"value\": \"Abstract_Diamond_F ...\"}}, \"size\": 25}}, \"selected_variable\": {\"name\": [\"data2\"], \"descriptives\": {\"rows\": 25, \"columns\": 3}, \"view_component\": \"Summary\", \"view_file\": \"sframe\", \"view_params\": {\"y\": null, \"x\": null, \"columns\": [\"path\", \"image\", \"label\"], \"view\": null}, \"view_components\": [\"Summary\", \"Table\", \"Bar Chart\", \"BoxWhisker Plot\", \"Line Chart\", \"Scatter Plot\", \"Heat Map\", \"Plots\"], \"type\": \"SFrame\", \"columns\": [{\"dtype\": \"str\", \"name\": \"path\"}, {\"dtype\": \"Image\", \"name\": \"image\"}, {\"dtype\": \"str\", \"name\": \"label\"}], \"column_identifiers\": [\"path\", \"image\", \"label\"]}, \"columns\": [{\"dtype\": \"str\", \"name\": \"path\"}, {\"dtype\": \"Image\", \"name\": \"image\"}, {\"dtype\": \"str\", \"name\": \"label\"}]}, e);\n",
       "                });\n",
       "            })();\n",
       "        "
      ]
     },
     "metadata": {},
     "output_type": "display_data"
    },
    {
     "data": {
      "application/javascript": [
       "$(\"head\").append($(\"<link/>\").attr({\n",
       "  rel:  \"stylesheet\",\n",
       "  type: \"text/css\",\n",
       "  href: \"//cdnjs.cloudflare.com/ajax/libs/font-awesome/4.1.0/css/font-awesome.min.css\"\n",
       "}));\n",
       "$(\"head\").append($(\"<link/>\").attr({\n",
       "  rel:  \"stylesheet\",\n",
       "  type: \"text/css\",\n",
       "  href: \"https://static.turi.com/products/graphlab-create/2.1/canvas/css/canvas.css\"\n",
       "}));\n",
       "\n",
       "            (function(){\n",
       "\n",
       "                var e = null;\n",
       "                if (typeof element == 'undefined') {\n",
       "                    var scripts = document.getElementsByTagName('script');\n",
       "                    var thisScriptTag = scripts[scripts.length-1];\n",
       "                    var parentDiv = thisScriptTag.parentNode;\n",
       "                    e = document.createElement('div');\n",
       "                    parentDiv.appendChild(e);\n",
       "                } else {\n",
       "                    e = element[0];\n",
       "                }\n",
       "\n",
       "                if (typeof requirejs !== 'undefined') {\n",
       "                    // disable load timeout; ipython_app.js is large and can take a while to load.\n",
       "                    requirejs.config({waitSeconds: 0});\n",
       "                }\n",
       "\n",
       "                require(['https://static.turi.com/products/graphlab-create/2.1/canvas/js/ipython_app.js'], function(IPythonApp){\n",
       "                    var app = new IPythonApp();\n",
       "                    app.attachView('sframe','Summary', {\"ipython\": true, \"sketch\": {\"path\": {\"complete\": true, \"numeric\": false, \"num_unique\": 28, \"num_undefined\": 0, \"progress\": 1.0, \"frequent_items\": {\"G:/img-002/img/Abstract_Diamond_Print_Jumpsuit/img_00000019.jpg\": {\"frequency\": 1, \"value\": \"G:/img-002/img/Abs ...\"}, \"G:/img-002/img/Abstract_Diamond_Print_Jumpsuit/img_00000026.jpg\": {\"frequency\": 1, \"value\": \"G:/img-002/img/Abs ...\"}, \"G:/img-002/img/Abstract_Diamond_Print_Jumpsuit/img_00000005.jpg\": {\"frequency\": 1, \"value\": \"G:/img-002/img/Abs ...\"}, \"G:/img-002/img/Abstract_Diamond_Print_Jumpsuit/img_00000007.jpg\": {\"frequency\": 1, \"value\": \"G:/img-002/img/Abs ...\"}, \"G:/img-002/img/Abstract_Diamond_Print_Jumpsuit/img_00000020.jpg\": {\"frequency\": 1, \"value\": \"G:/img-002/img/Abs ...\"}, \"G:/img-002/img/Abstract_Diamond_Print_Jumpsuit/img_00000001.jpg\": {\"frequency\": 1, \"value\": \"G:/img-002/img/Abs ...\"}, \"G:/img-002/img/Abstract_Diamond_Print_Jumpsuit/img_00000023.jpg\": {\"frequency\": 1, \"value\": \"G:/img-002/img/Abs ...\"}, \"G:/img-002/img/Abstract_Diamond_Print_Jumpsuit/img_00000012.jpg\": {\"frequency\": 1, \"value\": \"G:/img-002/img/Abs ...\"}, \"G:/img-002/img/Abstract_Diamond_Print_Jumpsuit/img_00000025.jpg\": {\"frequency\": 1, \"value\": \"G:/img-002/img/Abs ...\"}, \"G:/img-002/img/Abstract_Diamond_Print_Jumpsuit/img_00000016.jpg\": {\"frequency\": 1, \"value\": \"G:/img-002/img/Abs ...\"}, \"G:/img-002/img/Abstract_Diamond_Print_Jumpsuit/img_00000002.jpg\": {\"frequency\": 1, \"value\": \"G:/img-002/img/Abs ...\"}, \"G:/img-002/img/Abstract_Diamond_Print_Jumpsuit/img_00000011.jpg\": {\"frequency\": 1, \"value\": \"G:/img-002/img/Abs ...\"}, \"G:/img-002/img/Abstract_Diamond_Print_Jumpsuit/img_00000017.jpg\": {\"frequency\": 1, \"value\": \"G:/img-002/img/Abs ...\"}, \"G:/img-002/img/Abstract_Diamond_Print_Jumpsuit/img_00000003.jpg\": {\"frequency\": 1, \"value\": \"G:/img-002/img/Abs ...\"}, \"G:/img-002/img/Abstract_Diamond_Print_Jumpsuit/img_00000014.jpg\": {\"frequency\": 1, \"value\": \"G:/img-002/img/Abs ...\"}, \"G:/img-002/img/Abstract_Diamond_Print_Jumpsuit/img_00000006.jpg\": {\"frequency\": 1, \"value\": \"G:/img-002/img/Abs ...\"}, \"G:/img-002/img/Abstract_Diamond_Print_Jumpsuit/img_00000013.jpg\": {\"frequency\": 1, \"value\": \"G:/img-002/img/Abs ...\"}, \"G:/img-002/img/Abstract_Diamond_Print_Jumpsuit/img_00000008.jpg\": {\"frequency\": 1, \"value\": \"G:/img-002/img/Abs ...\"}, \"G:/img-002/img/Abstract_Diamond_Print_Jumpsuit/img_00000018.jpg\": {\"frequency\": 1, \"value\": \"G:/img-002/img/Abs ...\"}, \"G:/img-002/img/Abstract_Diamond_Print_Jumpsuit/img_00000015.jpg\": {\"frequency\": 1, \"value\": \"G:/img-002/img/Abs ...\"}, \"G:/img-002/img/Abstract_Diamond_Print_Jumpsuit/img_00000027.jpg\": {\"frequency\": 1, \"value\": \"G:/img-002/img/Abs ...\"}, \"G:/img-002/img/Abstract_Diamond_Print_Jumpsuit/img_00000010.jpg\": {\"frequency\": 1, \"value\": \"G:/img-002/img/Abs ...\"}, \"G:/img-002/img/Abstract_Diamond_Print_Jumpsuit/img_00000009.jpg\": {\"frequency\": 1, \"value\": \"G:/img-002/img/Abs ...\"}, \"G:/img-002/img/Abstract_Diamond_Print_Jumpsuit/img_00000004.jpg\": {\"frequency\": 1, \"value\": \"G:/img-002/img/Abs ...\"}, \"G:/img-002/img/Abstract_Diamond_Print_Jumpsuit/img_00000028.jpg\": {\"frequency\": 1, \"value\": \"G:/img-002/img/Abs ...\"}, \"G:/img-002/img/Abstract_Diamond_Print_Jumpsuit/img_00000022.jpg\": {\"frequency\": 1, \"value\": \"G:/img-002/img/Abs ...\"}, \"G:/img-002/img/Abstract_Diamond_Print_Jumpsuit/img_00000024.jpg\": {\"frequency\": 1, \"value\": \"G:/img-002/img/Abs ...\"}, \"G:/img-002/img/Abstract_Diamond_Print_Jumpsuit/img_00000021.jpg\": {\"frequency\": 1, \"value\": \"G:/img-002/img/Abs ...\"}}, \"size\": 28}, \"image\": {\"progress\": 1.0, \"num_undefined\": 0, \"complete\": true, \"samples\": [{\"format\": \"jpeg\", \"value\": \"image/jpeg;base64,/9j/4AAQSkZJRgABAQAAAQABAAD/2wBDAAgGBgcGBQgHBwcJCQgKDBQNDAsLDBkSEw8UHRofHh0aHBwgJC4nICIsIxwcKDcpLDAxNDQ0Hyc5PTgyPC4zNDL/2wBDAQkJCQwLDBgNDRgyIRwhMjIyMjIyMjIyMjIyMjIyMjIyMjIyMjIyMjIyMjIyMjIyMjIyMjIyMjIyMjIyMjIyMjL/wAARCAEsAMgDASIAAhEBAxEB/8QAHwAAAQUBAQEBAQEAAAAAAAAAAAECAwQFBgcICQoL/8QAtRAAAgEDAwIEAwUFBAQAAAF9AQIDAAQRBRIhMUEGE1FhByJxFDKBkaEII0KxwRVS0fAkM2JyggkKFhcYGRolJicoKSo0NTY3ODk6Q0RFRkdISUpTVFVWV1hZWmNkZWZnaGlqc3R1dnd4eXqDhIWGh4iJipKTlJWWl5iZmqKjpKWmp6ipqrKztLW2t7i5usLDxMXGx8jJytLT1NXW19jZ2uHi4+Tl5ufo6erx8vP09fb3+Pn6/8QAHwEAAwEBAQEBAQEBAQAAAAAAAAECAwQFBgcICQoL/8QAtREAAgECBAQDBAcFBAQAAQJ3AAECAxEEBSExBhJBUQdhcRMiMoEIFEKRobHBCSMzUvAVYnLRChYkNOEl8RcYGRomJygpKjU2Nzg5OkNERUZHSElKU1RVVldYWVpjZGVmZ2hpanN0dXZ3eHl6goOEhYaHiImKkpOUlZaXmJmaoqOkpaanqKmqsrO0tba3uLm6wsPExcbHyMnK0tPU1dbX2Nna4uPk5ebn6Onq8vP09fb3+Pn6/9oADAMBAAIRAxEAPwByRAdqnVR6UBaeBXlHpCgCnCkAp4FACingUAU8CkAgFOApQKdigBMUuKXFGKAExRinYprOqDLED60ALijFQSXttEMvKo/GmrqdkQD9ojwenNK6HZlnFJiiOaOYZjdXH+yc0/FMQ3FGKfikxQAzFIRUmKQigCIjimEVMRTdtAEBWmlKnK00rQBWZKKnK0UwIAKUClxTgKAEAp6jmgCpFHNIBQKeBSgU4CgBAKUCnAUoFADcUYp+KMUAUtQv4dNtTNMSedqqOrH0FYCw6lrEnml1ROygHCj+tOv5vtviyK2P+rgQnHueprr7KNFg+UDisKs2tEddCkmuZnMyeGnkXhs+gPIrJvNE1GJzvCSAdB0Arv2IVutUrwhnJFZKpJHS6cWee2lxNpOoLJGzcnDqTxXoFpOt1brKvcflXA+KVCXURACgnkiui8KXW+KSEtnPzj8a6k7pM4akbNo6PFGKdijFUYjCKaRUhpMUgI8UmKkxSYoGRkUhFSEUmKYiErRUhFFAFUClApwFKBQAgFSqKRVqRVxQAoFOApQKXFABilxRinCgBMUuKWigDg1mFv40vGfkbGx+FTQ+NGF2sQjCQOcK+DhvxqzrGiO/iEXUZ2pPCyOfQ7cVy1n4D1h7rNzMVt0P3w/BGewqeWm2+ZnTCVRRXIrna65qs1jpn2ottQrkNXDW/jOWOYNLIWBPK+YSwH8s+1ei6lYQ3mlQ2s67oim0g9q5tfhpatc+fNdM8fBC4xnHvWdGVJRfObVo1W1yFXxKFuNLgus8bgc47GrfgdpLmWacKRCF2jP6Vb1yyjl0qS3GNqAEY9q0fCdulvo6xoEIByHX+IHv/SqpyTjYzrwavI3KKdSVZyDcUhFOooGMxSYp+KTFADcUmKdijFMRGRRTyKKAKuKcBT8U4CgBoFPApQKXFAABTgKAKdigBMUuKWjFABilxRilxQBSv4mdUZeqEsfyquLqSW0MYI3HgZrUZQeoyDxWBdJJEZY4mCP0ViM4/CsKq1TO3Cz0cSh5GvzzRCe9t1iQ/MBzuHoB9K1pZnihERckAcGuT/spGnyU1m4nJzuDbU/QVtxxvDCFkeVv+upyRUTSO1qxHc3cNrbS3N04SFMFmPOOa0/D9/bXtu0lqMRE/KMY49cVx3jKfOjC1T/ltKoPsBz/AErS8KubaKOPsFFaxilFSOKtOUm4dDusUEUkR3KDT8VocQykxT8UmKQDMUU7FFMBuKTFOxRigYwiinYopiIKcBQBSigBRSgUAU4CgAxS4op2KAExSgUuKUCgAxRinYoxQA08CuXvb8y6w0CRg7V6nqxrqjjFcPNIsniQSJkoSQPpis6mxvh0+a46fxTPCfKQhAvGCcYrNuNckuehBP8As1oatpMV8N4ASUfxev1qrpGkGCTzJgCwPyj096yXJa53u5Q8QWbLpdoZT+8MhZ/y6VY0Odt0ZA42gHPtVjxdFIdFMyDJhcMfp0/rXPeHZ5lu8ZyAckCtI+9Tuc89J2PVbGUPGB3HT6VexWFp824ALwQ3etyNxIgI+hpwd0clSNmBWkK1JikxVkEWKMU8ikxQAzFIRT8UmKAG4op2KKYFbFOFApQKQxwpaQCngUxABTgKAKcBQAmKUClxSgUgExS4pelRtOqyiLaxcjIAFS5pbsqMJS2RHeOYrOV1+8FOPrXFaYj3GpMHiZWQu25hjpgf1rsZjPMCnl4U8EZHNZ81tLHfWbCMqpLx9fUZ/wDZaxlNS0R20aUoq7I/IJbkZHeporYOThMCtiKFFUKVxUhCKMKBmsbnQc1qloH02eJlz5w8pVPcscf1rAXwo+nXJeyYtGesTnkfQ967C4Tz9VihLjZEhlIx3PC/+zVZa1XGdzE1XM4qyJcU3dnO2MrxNtkjZXBzgit60cmUnGFYfrSS2yeQ7ljlQSOlPsI1NqkhLEnOSTTjO25lUoOSui5ijFR+cEbDH5f73pUprpjNSV0cU6coOzGkU3FPxSYpkDMUYp2KMUAR4op+KKYFUCnYoApwFAwUU8ChRTgKBABTsUAU7FACYoYhVLHtTsVFc8RD/eFTJ2TZUFeSTJI42PzMeTVWc+Xq0H0x/OrETH14rOu5tupCRlx5ZA/DFcL31PVpRu7I0WiUsSRzVW/iC28bgnckyMOf9oD+tWVlWRA6MCDUN/8ANYTeoXcPqOaqL1Bxdi4uCoPrzTScU2Fg0KkdKh1CY21lNMoyyr8o9WPA/Uii2okV7RhJcXNwBw0hRT7Lx/MGrm72qC2hW2tYoV/gULn19TT2lWMcnnsPWhyRaWgy8dUtZBnkjA+tPscCyRDyy5BH41l3sxklRPVhVxZfs8PmngM+w/lWandie1izcOuzGOaSycvEynnY2PwqF5Ay5FLphyZx7g10Un7xz4hfuy9ikxT6TFdJ543FIRT8UmKAIyKKfiimBVApwFAFOApDACpAKQCnYoEGKUCgU8CgBAKgvB/ozH0IP61ZxUV2u6zlA/u5pS2ZUHaSZBbkySqo+pqjqODfS+2P5VZspAshb/ZxVG4YteSk9zXA9j2KPxjInkhf93nHpVv7WrIVlGM8ZFVZCAvXFVXkA6UkzqcVLVm1osnm6ZGc5K5Q/gcf0pL9hJdW1uem8yv9F6f+PFfyrA0e/e2kuVQ5QTNlD6Hn+tTrfrf6rcSx52IqxjnvyT/MflWjdrs5JU2rM15bgsdsX51XfEYJLZbuaBIqL159BVdt8rZ7VyuTe49yMEyXinsKm10yR+FnmjHzLcKfwyAajCiMk96vXo87w48Hdo2b8eorSn8SM56WKlpMXt1ye1X9JOZbj8P61j2BP2Vc+la+jcvct/uj+ddNNe8Z4j+GzVxSYpaTmuk80MUmKcOaMUxjCKKdiigCqBTwKAKcBSAAKcBQBTgKAEAp1GKcBQIAKCoZSp6EYpQKcBTAwbU4k2n7y/8A6qozSZuJcHncavsu3UZAP77Vl3g8q/J/hfmuKSPaw7964O571A74FJLOOR3qqzlmx2NQkd3QzZLma2vLll/1LqSFx98gAEDv6Ve8OpHFp6lEaNXO4IxyQD0BPrjFc/eNIGu5FztWMxg5xhiSMj8cflXSaLaPb6ckTSF2RVUse5xk/wA63rWVM82MpSnK+yNlSCKUNg4FQxthKhvLgwWzlT8x4FcNruxd7E8sqnIzzWnK4+x+3l/0rnLZWk2JklmOK2bqdTY3CLwUQqfyreEbMxqO9ilYnFsPpW3oi5hnb1cD9KxLXi2H0roNDH+gufWQ/wAhW9P4icT/AAy/ikNPpproPPGjNOoFLQAYooFFAEAFOAoFOFAwApQKBS0hABTgKSnCgBcUuKKWmIwLs+XqEh/2j/Ksi/cyQ7+6H9K1dTYJfSE9Nwz+VZ+opFbsibwfMGMA9jXK92epTdlFmNKzZDgZz2oAO8MR1qtBdpcRSpGwZ43Kn2YdRWjbkXEcUmOCM1Mrx3PRg1JXRhaoWaeOzhQSTSHzDF/sjn9SAK3NLeYwOJVCS8blz0OOlWZFSJjNtjyB8zdDiq2lyxO9y/nIWLYEYbkY4yRSnLmhaxhOmoXd9zQyEQZ61l6i+4xp/tZNXPMLOSfwrlNd1O98547GNSV4Mrc49gKmjTcpaGE5KKOx0SLeHuH4A4QfzNVdUuvsthdv1LsEA+pxVXwvq882iW0sgDSLuikBGMsO/wCWKTWHMllkgYknX8Op/pWqhyzszFPm1NGyYvar9K6XReLBv+uh/kK5mwXECr6iuk0Y/wCiSL6SH+Qq4fEGJ/hmlTTS02tjzwBp1Mpc0wFLYopj9aKBjFangioFOakFICUUtIOlLQIWnU2nUAOpRSCimI5nWz++nPvj9KoWEzXVnOH8tzGCOR8y8djVzUW84McZ3sT+tVNHtJ11C5ZCPJUKrr/eJ6fkM/nXLdO56qVoowNB0sW+nz3ci/v55Wkb8zVj96CLeNvJXli57A+lbj2xsbQiRSFXIwVxmsFZoblQGUkI+Qj8bwD0I70NuTbZ1UPdjZDfstxfo1tpoeQsCHu5eUX/AHfU/oKnFhPYwRpNp7lk6TQkMQfocGutt5Y2t0aIARkcADGKgvZcRY/vHFRKemxjJuTuznjcIzNGWxMvysp6g9qtLYxyQGMoNhGMAVHJEssxkI+Zf4vStvRo0urdpHGVRto/2uKhOy0JbtqzE8NaatpPf2jncrSb9pGQMgYPtUHiCB7OKO2AJje5G1/UAE11M+nteyKYXMDISAUGCeK5zXreWO3so5ZN5a4Zx7fLitoS5pXZl10JrQbQo7YroNGbCzr7hqw4P9SvHStXTpNl0o7OpH49acX7xVeN6bNomm0UlbnmC0hoNNc4FMYFs0VHniimAxetSiq6Nk1ODSGTL0p1MQ08UEiinCm0uaAHCqmq38GmaZPd3DlY1XGQMnJ4FWxVTU9psJVZQwOBgjPcUN2VxxV5JHHy67p7xK/nFRgffGMVv21oIbUEkiRvmbB/Sqc2iadcyws9qgYOG+XjOOeR+FaznJOa5W1bQ9OTezMnU5XFv8xPt+VcyLaObCOoOBvVvQ5rodblzGB2ANc3DcBEjdum4IfxOKSv0Oyilyamvpmopbq1tM4Ug/Lk1bkm88tzwhxXLS6bHNfteiWRZVUoUB+VvQ4rb0/5rESbs+azPz7moqpWujOaalqiZUDqc9M1taGR5Eijpv8A6CshBlOa0dFbasnoWrOJhU+E2VcpPgHANRXGnR3VrJCwBBJI9j6inSZMyVZSQIzAiqML2OTt18syW7/6yNsH396tqfKMUn91wag1UmDXRIBhZFB/Gp7lw9sWHpWt9mdK96JvUUyN98KN6qD+lLmuo8mwtRyNTXc5wKjJpgSdqKTPFFMZAp5qUGq4PNSg0gLCNUnmKO9Vd2BTCxJoAuGWkEhqBGyKfQItI+aq6mf9EPuy/wA6ljODVbVGzBGPWQf1pT+Fl0l76KaPuuSB/CmPzqaQFwQDjI61RsX33c/tj+tX2OAT6CuU9CW5zeqFlhcMckA1jWCrMskbdsEVraw3yyCsmx+WRz64/lVLZnbT0ghLm9hsLlvtEipuHy5PU1r6X/yC7cH+7XO6oElnBmRX2qSu4Zwa6DS2zplv/uCpqpciMqjd9S0D1qzpzlWIB/iqoMlqkt22SPj2NYx3MJ7HQ7mcqc08TMLgJ1B61Xt5Qyj35qWIE3Oa0OczPEUZMUNwB/q25+h/yKrh91tnsRW3fQia2ZGHBBBrnrY5tSp6qSp/DiqWqN6T0sdHYndYQH/YFTk8VU0pt2mxe2R+tWWPFdS2POkrSaISeabmg9aTNMRIDkUU1TwaKYFcGpQagzUinikMV2pAabIaFagRMhwamBqsDzU4PFAEgNVNRbLW6/7RP6VZzVK6ObpB/dQn8z/9apn8JrQV6iMzSZN2oXiehX+tak5xGRWFoTM2uakcfKAoz75Na92+FH1rnlozue7Od1Q5WQ+9Z1v8qbvpWhfYMRY9yTWfCcwHHamtjtW1jO10yo0bRFQdwDbv7veuh0k/8Sq1/wCuS/yrA11S1i0gHKjNbWiyB9HtGB6xD+VOrrSXqctT+IXwfnp8R/f4/vKajTrmnA7biM++K5luTLY17FvlGexrTGFkz61iWb/vGWteIFiGrRnMyxIu5GrllGy9u4x/e3AfUZrqz0xXK3Pya/KvZ4gf1IpwNKT1NfRHzZuv92Qj+tXyeKyNFba91Hn+IGtUmuqOxyVlabISeaShuppG6A1RmKp5opoPzUUwKytkCpUPFZcE56E1oRtSGSP0qMNg0ruMYqLNAFhXFWI2yKog1YgbIoAs5rNlkD3crdgNo/CtEGsUkiedQOjsKipsdOESc2R6GArXL45eZyfwwKl1CTbt981FpK7HuEP3g5JH1wag1KT96i96xlrI6ktWZ16cw9egqnZ9GB7ird1zG30qjan94R7ULY7BmoRCWxdDzlSKm8OtjQLRR/DGBRP/AKlx9aTQRt0qFfQH+Zpy/h28zmqr3kzXjYgU53AaM+jCmH5VFNl+7XOtyehftXxcke9b1s+VrloJMXQOa6K0Pz49q0ZzyRoE1y+pfL4hgI/jiYfkR/jXSFsDNcvqkpPiGxQdCrk/pTp7jp/EX7BvL1aROzp+orXJrnmk8nU45ewPP0rfJrog9DHExtO5E5+Y0p5SmOfmpc/JVmA3NFNzRQBgq2CDWnFJlBWSDV+3bKCmwLG7JoBqPPNOzQBKDxUsLYaqwbipYjzUgXgeKxo3LtI/qxP61pyPst5G9FJrDM3kWbP6CoqHZg1q2W7PH2qdgOdorMvm3agB/dWrGi3BuI2lIILKpIPY1Su2zfTH04rJqzOuOsyKY5jas2E7ZjWkeUNZp4npxNyxLhlPvTdF4sVHozD9TSOSEzTdEfMEi+kjChr3GY1ehrMcjFLIf3f4U3NOf/VVzmRXjciVG9a6eyly6+61yo+VYn7ZrfsJRvj9M4rWWxi9zbJ4NcpPvn8TF1GUgiwf95jn+QFdPI22Jj7VgWJDRyTkDdK5P4ZwP5UQ0uyqSvIr3LE3Ck9NwzXVbciuWvQQCR16100EnmW8b/3lBrensZ4tapkL8MRRn5aJfvmmZ6CtDkFPFFKx4ooA5wGrts3FUelWLdu1MRbLc04GoN3NOVuaAJwaliqAGpo+lIZaXDKVPQjBrmNUjmt4p7ZTuwuUOOSK6RDzVPUbZriAmMAyqcqCcZ9RSaub0KnJLXZmV4Yv59Ss3uLkKJidrbRgcZHT8KiuuLqbHrS+Hraazv76GRHjVyJFVx0JznBouebibPXNY1PiZ20fi0IAcpWfKMPmrXmAcCoJQDx3pI6WM3Zj9aj0hwk06/7efz//AFU1D+8ZM8Cq8Uq2+qovaQlT/MVpa6aMau1zo88mpH/1VQIRnOeCM1OclOK5GtTNEKsBarkZBYitKwPzoB/eFcxfao9o/wBl8hZVI3k7sFT7flW74bvYdR2mPOVYBkbqtbyg1HmMG9bHS3DYgauZ+2pa6dE2RgbR+Zx/Wujv2EcDc8YrlNNSK9SwhlIwXBYYznqcUqauaUpcqbL92wMSvjNbGjyF9KhLdQCv5Gucu7kQWzpgkoWQEe3FdJpkZh02BG67cn6nmtoqxGLasiSX71MAOafJ96m5qjiGu1FRseaKYGG33M0sEmGrJ/t6yaPBZwfdafDq1mWBE6jPrV8rJujb3c0oeqSXlu/SaM/8CqdJFb7rKfoaQy8hyKsR/dqpGeKtp92pY0SqaM0i9aG4PHSgBTz+FZOs2KrplxPCWWbKndnpyAeK091R36+Zpdyv/TMn+tKy3LhOSaSZ54sl8GZWucY4+6KXzbuOPcJUbPcrV17VpTvQgZ6inrZKI8P83fFPmj2O9KXc5+ea5JyZCp77RXS+D7C3vo7ma8iWZ0ddjN1Xg9KyNShVYgyqBg9q6PwQuNPuT6yj+VaNpw0OWrzLdmmuiTgkLLHt7E5zisvxFLcaLb2+wJK0pIJOcDGP8a69elc141j822swOu9sfkKwjThe7RMas27XOQaZ7uXzZAN2MYAwKjgae1uFnt3eGZejocGrUYZGAx9atbVbBKgmtea2h0cl0Jc+INWuIfIecMX+UEIAxpt6919ldbOGaLKKiOSFIOACRg565qtcx+beRIABllA/Ou8m0JJp3fz9isc4VBkD0z/9ak7K1kQpRi2pMxtOsReG1s1G2OFFaU9eB2/GuxGBwKr2trBZxCOCMKvc9yfUnvUxPNSYVanPK5HMeajLYFLMeajc/LQZjCaKYTRTA8kGSAB1qzFAMZJBI7ZqtEASDVtSUKgdCK6pGSBmIIAPFSxysnIJzn1qvnLVKOVzUsaNCDULhekrj/gRq/Hrd5HgCZz9ax16U9eTg1m0Wmb0fiO8B5ZTj1Wp18VSKf3kUbD05BrnpPlUY4quTk0lFDudeniiF8E27AeoYVcTXrGeB0beu5SORnrXC7jTzIyrkdc0OIXNeB+APSrBI29azIGO0GruTgVi1qepCV0UdSXMD8c1t+CGBsblfSQH9KxbljnFV7EtFI4RiATng1qtY2OWv3PTlYEcVzvi4/ubL/fb+QrJiu54wNsj/wDfRqDUbua4jhWVywViRk+1StzGmveQ3arLz19aYx2/40ik4pHJwaR3NjbZGl1qzHVTKv8AOvSS3NedafIY9Ut3ABKuCM124upGHIX8qcjiqfEXN9Gc1CjFlyakFSZiNy1RyDAoYndTHJ2mmIgLUVExNFNAf//Z\\n\", \"height\": 300, \"channels\": 3, \"width\": 200, \"type\": \"image\", \"id\": 2246977856}, {\"format\": \"jpeg\", \"value\": \"image/jpeg;base64,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\\n\", \"height\": 300, \"channels\": 3, \"width\": 300, \"type\": \"image\", \"id\": 2246977912}, {\"format\": \"jpeg\", \"value\": \"image/jpeg;base64,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\\n\", \"height\": 300, \"channels\": 3, \"width\": 209, \"type\": \"image\", \"id\": 2246977968}, {\"format\": \"jpeg\", \"value\": \"image/jpeg;base64,/9j/4AAQSkZJRgABAQAAAQABAAD/2wBDAAgGBgcGBQgHBwcJCQgKDBQNDAsLDBkSEw8UHRofHh0aHBwgJC4nICIsIxwcKDcpLDAxNDQ0Hyc5PTgyPC4zNDL/2wBDAQkJCQwLDBgNDRgyIRwhMjIyMjIyMjIyMjIyMjIyMjIyMjIyMjIyMjIyMjIyMjIyMjIyMjIyMjIyMjIyMjIyMjL/wAARCAEtAMgDASIAAhEBAxEB/8QAHwAAAQUBAQEBAQEAAAAAAAAAAAECAwQFBgcICQoL/8QAtRAAAgEDAwIEAwUFBAQAAAF9AQIDAAQRBRIhMUEGE1FhByJxFDKBkaEII0KxwRVS0fAkM2JyggkKFhcYGRolJicoKSo0NTY3ODk6Q0RFRkdISUpTVFVWV1hZWmNkZWZnaGlqc3R1dnd4eXqDhIWGh4iJipKTlJWWl5iZmqKjpKWmp6ipqrKztLW2t7i5usLDxMXGx8jJytLT1NXW19jZ2uHi4+Tl5ufo6erx8vP09fb3+Pn6/8QAHwEAAwEBAQEBAQEBAQAAAAAAAAECAwQFBgcICQoL/8QAtREAAgECBAQDBAcFBAQAAQJ3AAECAxEEBSExBhJBUQdhcRMiMoEIFEKRobHBCSMzUvAVYnLRChYkNOEl8RcYGRomJygpKjU2Nzg5OkNERUZHSElKU1RVVldYWVpjZGVmZ2hpanN0dXZ3eHl6goOEhYaHiImKkpOUlZaXmJmaoqOkpaanqKmqsrO0tba3uLm6wsPExcbHyMnK0tPU1dbX2Nna4uPk5ebn6Onq8vP09fb3+Pn6/9oADAMBAAIRAxEAPwD3ULTgKUClqgExS0UtACUUtFACUUtFACUUUUAFJS0UAJRRRQAUUUUAJRS0lABSUtFMBtFLSUAJTSKdRQBGVop5FFAE1LRRSAKKKKACiiigAooooAKKKKACkpaKAEpKXFAIIyCCPUGgBKKMUUAFJS0UAJRS0lABSUtJTASkpaKAEooooAmooopAFFFFABRRS0AJRS0lABRRRQAUUVzfj3XJ/DvgrUtRtf8Aj6CCKD2dyFB/DOfwoA8c+M3i+/uvE0mh2epqum2yL5i28hGZD94OR1x6VkfB3XH0vx7bxT6mkFjdI8UqSyEI7Y+Trxndjmq+hfC/WNdszeSubcMc4lU5fPeq+t/DHVtHt5ZwyzxpydoPT1o547XNeR2Pq2iuI+FGvXWveArWS+cyXVrI1rI5PL7cbSffaR+VdvQZCUUtJQAUUUUAJRRRQAlJTqSmA00UtFAEtFFFIApaKKACiiigAooooASiiigArk/H9jJqmk2dkOImu45JD3wpHT8/0rrKq6hapdWrKwyygsuPXFJ7aFRaT1OK0rxHpf2o6YlwRcR/KF25HHHUZA/HFUfFPiLTrT/QnuM3LjiMLxz6k4H61pQWllEzXgtkSZiN7BffrxWJqS6XcW0lzJbJO8c7+X8pAds5BPr/APWrm0OpLqXPhQJ7S21axESrZrc+bE/8RZgMj0xxXpANc94c0qHR7MpGWMkzeZKW/vHsPYVtmYLwOtdSTscs2m9CekqETHPNTA5FBIUUUUAFJS0lABSUtJTASig0UAS0tFFIAooooAKKKKACiiigAoorN1W5dGjgjcpvBLEdcUm7K40ruxaub20s08y6uoIEzjdLIFGfxrMXxXodw0yWepW95LD99LeQOR+VeafF7yIfBqxlsyTXcYQHqcZJ/SvGtOupLW/jkjkeJxwJI2KsD2xSi3JXL5Ume6eIzO9o/mX0lhBK24XEedqHOdrbeQK5jQb6K21yztZb59QtftO+a5ZmMaE9AC3J5xmorDx1rkMCxzraX8WMH7Qm1vzXr+VY+qeJ7yUs0cFnbryfLRCwH0yayUWmdPN7vL0Poa3OcMCCDyCO9TsVLcda+XNP+I/ibR5WktNUlePdnyZVDxnHbaR8o69MV9EWOvJJbxTXUPlLIisWByBkZ59q6G0tzk5H0NyrEbAjFVwQQCCCCMgjvSg4OabILVJQpyM0VIwooooASiiimAlFFFAEtFFFIAooooAKKKKACiiigArnNUlP9ozEc+WoA/LP9a6OuYv2Bv71uynH5Cs6mxpT3PCPif4hOsa7HYxt+4sVIPvI2M/kMD864tXCNG/Ugg/XBq7r+X16/kIA33DnHX+I1nyh85PTHB9a1irJIb3O4jijZMKpAPPWsTXDHBaoEzulO3JPbvW5poDaeGzk+WvPviue8TBjdwwqOEjLfmf/AK1QtzST0OfkJIC8celfRWiammoeGrN8gk2yZH/ARXzpIDkevevZ/hzE7eDDcyt3KLz/AAqTSrbIVPc9W8OT+doFoSclVKH/AICSP6Vq1zXhebGkQr6lm/Nia6RDkVqtjCW7LEf3afTUGFp1SISiiigBDRRRQAhooNFMCWiiikAUUUUAFFFFABRRRQAVxl/LizvZ/wC8WIrrriTybaWQ/wAKk1wusu0ekTIvJC9qzn2NaZ85awT/AGlcHnPmHNV4n3rh8nH3eelb/jnTjpfi+/s8YCFCPxRT/U1zyjBGDWy2FudnpN0F0lMjhRt49q5rVbw3GoyygjK4UfgMVp6O5bTJBnhZMfTPNc/OcyucgjcamK1ZcnoiuzFm5r2vwQkkXgDy2yDtMmPqSf614tDE01zFEo+aRwo+pOK+htBsFt/Dk0I6BAi/gKmrsFM2vDhItYx2Cj+VddAMgZrlfDqf6JEfVRXUx8CtTB7lyioRIRUqsGGRUWAKKWkoAKSlpKACikNFMRLRRRSGFFFFABRRRQAUUUUAZ2sS7beOIdZH5+g5/wAK5S7Xz1SD+KWdU/DP+Ga6HV23ahEnZY8/mf8A61Ylmgm8QRg8iJGkx6HoP51k9Zm0dInl3xs0w2+v2WpquEvIPLY/7aH/AOJYflXlwNeufHPUI3vNI0pcGSJHuH9t2FUf+OmvI9uD2/OughbG9okyx2s4PXcD9eKwHbcxJ6kk1LHNJblgnBPUEZqA5Jzg0rDb0L/h6Hz/ABHp8ZPHnBvy5/pX0RpS/wDEuQHozmvnnw/dRWPiGyuZ+Ilkw7EfdBBGfwzX0To2G09U/iVjWdXYuG5o6GoSIx/3HK/rXRp92ud09tmp3MXrtcfyP8q6KP7tXF3imYzVpMdUkXWo6kj602SS0lFFSMSig0UxCUUUUAS0UlLSGFFFFABRRRQAUUUUAYGrHbqm49BCP5ms/wAPRebcXl4f43ESfQcn9T+lW/ET+W00o/ggGfpk1Lo0IsNGtzMNpSPzZM9ifmNRFe82aSfuI+dfiZqB1H4h6u4bckMgt056BFCn9c1yajAJJGQM4Jqe+umvtRurxjlriZ5Tn/aYn+tQKeoBGTx+FbCGnG4cDFDZVirDB78dKVwAOOfU0nXnjigY11yD6HvXvvw/1Yal4dtHZsyqgR/95flP8gfxrwTtjGa9I+E9+UlvLQnhHWQc9m+U/qFqJq8Rx3PW4m2eISPWDP8A48K6WE5UVy5O3WIX/vQkfqK6S3OUFFP4SanxFmpI+lR1JH0pszH0UUlIAoopKYBRSUUAS0tJRSGLRRRQAUUUUAFFFFAHPauouLi4h/haPyz+X/16Zqt7EPB2o3z7hGLGVm29R8hBx+NZ+sfbF12xRZNqCaV5sfxAISo/H+lZnxDvBp/wkuhGCpuEjtwD1G5xu/QNUQerNJLRHzfEpAUde2BU6DYvUA7snP8An/PtUa4AOe3rTHk3H27VsIdLJvwozgE8nqaYCQe4qPdzUiKXzzgepoAGO45xXU/Du5MPikwg/wDHxbug/wB4YYf+g1y0gC8Vs+CWI8aaX7ykfmpoA+hI3857GYdGU8+mef6V0tqflFctbFRY2qA7ZVYque7DJx+VdNYyCWFXXoR+XtWdN6WCoupfp8feo+1PjOGq2ZktJS0VICUlLSGmAlFFFAEtFFFIYtFJS0AFFFFABQaKSgDG1rSWvStxbvsuEwRnocdD7Hn8elcH8XpJj8ObVbiFY5nvIwyKeAQr16iwrzL42Kf+ENtWxnF8v/oD0Ja3HzN6Hz6fuPkenPpVVmxVv/lk/rx0qpJ0qyxEYHNTK+OATgjsat/2PPH4XTW2I8ma8Nsi467V3E/rj8KpJ8wI/GgQMcnmus+G9l9q8XQy7flto2lJ/DaP1NckT0r074U2eIL+8I+Z5FiB9gMn+YoQPY9D1FB9ngYMQ63MbRgDPOcH9K6zS9otlKrtDMzD6Ek5rGS181k3E7R1HrW3bHaABwBU8vvNg5XikaS9KUcGmIcin0zMnHSimr92nVICUUUUwEopKKAJaKKKQwooooAKKKKACiiigBCK85+NMG/wCZMA+Vdxsc+4Yf1r0euG+LyFvhtqJAJ2SRMeO28f40IFufMuDtYelVJsKpOKtqSA30qTSLL+09f02xxkXF1HGR7Fhn9Kss9I8b6QNC+EPhyxIAkW4SSTjq7o7N/PH4V5YpAUfKO+TXufxtT/AIpfTyDgC+xgf9c2rwzjb170CQgHz9MgV7n8NtP+z+FrMkfNMWlP4nj9AK8OjUuwVRlmIUDHUmvpfwzp62OnWtovSCJY/wAhTQSN6KHgHFWo0xUsUfyiptlK5AsfSpaYoxT6QEqfdp1RxmnmkAUlLSUAJRRRQBLRRRSGFFFFABRRRQAUUUUAFch8UXCfDbWtxxujRRxnkutdfXlHx11hrbw/Y6THnN3KZXKyYIVMYBXHIJb81oQI8D7N6AV0Hw5g8/4g6UcZELNMf+Aqcfriub3ttbnivQ/hBos8+sXGsthbeBDAueru2CcfQfzFaFvY7X40uq+CrVSMl71MfgjV4J0UdcmvoD4zQh/A0EhxmK7jIz7hh/Wvn5+p56UhR2Nzwbai98W6bCRlRL5jD/dBb+lfSelx/KDXg3wstvP8VvJjIht2P4kgf419C6fFtRafQUjTjXCin4oQcU6pJEoopQMmgBU+9UtQ/dNSg5FIApKWkoASiiigCWiiikMKKKKACiiigAooooAK+avjRqUl78Qbi33ZjtIY4VHPHG4/q1fStfKnxM/5KTreTn9//wCyimtxo5IqfLOBwT61758LbAJ4D02ZB/rZJXb67yP5AV4G5AJwSAB6+1fTnw1szafDzQ43HzNB5uP99iw/QiqHLYwfjXcpb+BoLdj89xdxhR/ugsf6fnXz+VJTtXsHx8uWN/odlk7FilmI9yQP6V5CB+7Jz7UBHY9I+DcG/U9TkI+7FGv5k/4V71aJhRXjnwYsStjqF6w4llWNf+AjJ/8AQhXtFuuFFNkvcsjpRRRUiCnIOabUijApANcd6EPalfpTU60ASUlLSUAJRRRQBLRRRSGFFFFABRRRQAUUUUAFfJ/xDlE3xD1xxyPtbL19OP6V9YDqK+P/ABS4l8Yay4bO6+m5/wCBmnEaKFhYSatqdpp8P37qdIVHuxAzX11ZW0VpbQ20K7YoUWNB6KowP0FfO/wi08X/AI+hmkTellBJPk9m4VT/AOPV9HwiqCR4P8emB8V6UgPK2GSPrI3+FeWH7g96734y3n2v4kXceSVtYIoRj/d3H9WNcNBA91cQ28fLyOEUe5OKENbH0J8NrH7F4Q05CuGkQzN9WOf5Yr0OAfKK57Q7Zba1hgQfJEixr9AMV0kQwooZA+iiikAoGTUtNQU6pYCEZFAXFLRQAlJS0UwG0UtFAElFJmjNIYtFJmjNADqKbmjNAC0UmaM0ADFgpK4LY4z0zXx5rttd2PiG9ttQAW9jnYTBDkB92Tj1HcV9h5rybxd4I0jxJqV3qlw00N2SQ0kTYB28DIPHSjmS3KirmF8DLMmTW75vSKEcc/xMf5CvbYFzgVwfw18PwaBoUyRF2eecu7ueSBwv04rt7gXBsLgWhQXJiYQlzhQ+Dtz7ZxVX0Je58oeML5dW8a61eoxKS3kmw+qg7R+gFXPAFh9t8WWzkZjtwZj+HT9SKbqHgHxVptzLDPpFxKyHDSQASqffIrsPhvol3YJczXlsYZJWVVD8NgZzkducflTVi3sev6WuI1raU4FZVgu2MVohqGZk26lXk1DuqeLhc0mBKOBRTc0ZqQHUlNzRmmA6kzTc0ZoAXNFNzRQA/dRuqOlzQA/dRmmZozQA/NGaZmjNAD91GaZmkzQBDqF19ms3cHDnhfrXHXsmyycDkkEY9TitnW5/9MiRgfLCkE+hP/6qz4Ykn1SNTysQDNkcDuP6VlLWVjaFlG5saXa/ZLKGHjcq/Nj171p7wi5JqqrgDI5NNdmcHucVvYxOU1yR5InaJHaV5SV2EjA7n8qq+HoGeFXcHOTw3Ud+avPMqIUkYxyZJKsORVvRodsTsVPLkgnuKypS1N6itE2IQEQVNvqJY3PQYHvUqw/3j+VbGA+PLn2q0DgYqBflGBwKXcakCbdRuqHcaXdRYCXdRuqHcaNxoAl3Um6ot1G6gCXdRUO6igCejNJmlzQAuaM0lJmgB2aSkooAXNGabSUAcz4l0e+1aZY4bmaGDOT5IUFh6Enp+VWdH0iPTLYR7QoHYMWJ9yT1NbZGaYUpJK9yr6WEUxjt+dP3oQVxgEY4qPZS7aZJyesWN884MVjczbWyrxyx7c5/2ua3dNS4WLzLmJI3PSMNu2/j0q9tox7UkkinK4u+l3U3FLVEjs0ZptLSAXNLmm5ooAXNFNozQAtJmkzRmmAZopM0UAWAacKiU1IDSAXFGKUUtACYoxS0UANxRinUlADCKTFPNJigBlGKcRijFADCDRTqKAGYo207AowPSgBu2jHtTsCkPFADce1GKd2oxQA3FJTsUlACc00/SnGmkmmAhIopjMaKAP/Z\\n\", \"height\": 301, \"channels\": 3, \"width\": 200, \"type\": \"image\", \"id\": 2246978024}]}, \"label\": {\"complete\": true, \"numeric\": false, \"num_unique\": 1, \"num_undefined\": 0, \"progress\": 1.0, \"frequent_items\": {\"Abstract_Diamond_Print_Jumpsuit\": {\"frequency\": 28, \"value\": \"Abstract_Diamond_P ...\"}}, \"size\": 28}}, \"selected_variable\": {\"name\": [\"data3\"], \"descriptives\": {\"rows\": 28, \"columns\": 3}, \"view_component\": \"Summary\", \"view_file\": \"sframe\", \"view_params\": {\"y\": null, \"x\": null, \"columns\": [\"path\", \"image\", \"label\"], \"view\": null}, \"view_components\": [\"Summary\", \"Table\", \"Bar Chart\", \"BoxWhisker Plot\", \"Line Chart\", \"Scatter Plot\", \"Heat Map\", \"Plots\"], \"type\": \"SFrame\", \"columns\": [{\"dtype\": \"str\", \"name\": \"path\"}, {\"dtype\": \"Image\", \"name\": \"image\"}, {\"dtype\": \"str\", \"name\": \"label\"}], \"column_identifiers\": [\"path\", \"image\", \"label\"]}, \"columns\": [{\"dtype\": \"str\", \"name\": \"path\"}, {\"dtype\": \"Image\", \"name\": \"image\"}, {\"dtype\": \"str\", \"name\": \"label\"}]}, e);\n",
       "                });\n",
       "            })();\n",
       "        "
      ]
     },
     "metadata": {},
     "output_type": "display_data"
    },
    {
     "data": {
      "text/html": [
       "<div style=\"max-height:1000px;max-width:1500px;overflow:auto;\"><table frame=\"box\" rules=\"cols\">\n",
       "    <tr>\n",
       "        <th style=\"padding-left: 1em; padding-right: 1em; text-align: center\">path</th>\n",
       "        <th style=\"padding-left: 1em; padding-right: 1em; text-align: center\">image</th>\n",
       "        <th style=\"padding-left: 1em; padding-right: 1em; text-align: center\">label</th>\n",
       "    </tr>\n",
       "    <tr>\n",
       "        <td style=\"padding-left: 1em; padding-right: 1em; text-align: center; vertical-align: top\">G:/img-002/img/Abstract_D<br>iamond_Print_Jumpsuit ...</td>\n",
       "        <td style=\"padding-left: 1em; padding-right: 1em; text-align: center; vertical-align: top\">Height: 300 Width: 200</td>\n",
       "        <td style=\"padding-left: 1em; padding-right: 1em; text-align: center; vertical-align: top\">Abstract_Diamond_Print_Ju<br>mpsuit ...</td>\n",
       "    </tr>\n",
       "    <tr>\n",
       "        <td style=\"padding-left: 1em; padding-right: 1em; text-align: center; vertical-align: top\">G:/img-002/img/Abstract_D<br>iamond_Print_Jumpsuit ...</td>\n",
       "        <td style=\"padding-left: 1em; padding-right: 1em; text-align: center; vertical-align: top\">Height: 300 Width: 300</td>\n",
       "        <td style=\"padding-left: 1em; padding-right: 1em; text-align: center; vertical-align: top\">Abstract_Diamond_Print_Ju<br>mpsuit ...</td>\n",
       "    </tr>\n",
       "    <tr>\n",
       "        <td style=\"padding-left: 1em; padding-right: 1em; text-align: center; vertical-align: top\">G:/img-002/img/Abstract_D<br>iamond_Print_Jumpsuit ...</td>\n",
       "        <td style=\"padding-left: 1em; padding-right: 1em; text-align: center; vertical-align: top\">Height: 300 Width: 209</td>\n",
       "        <td style=\"padding-left: 1em; padding-right: 1em; text-align: center; vertical-align: top\">Abstract_Diamond_Print_Ju<br>mpsuit ...</td>\n",
       "    </tr>\n",
       "    <tr>\n",
       "        <td style=\"padding-left: 1em; padding-right: 1em; text-align: center; vertical-align: top\">G:/img-002/img/Abstract_D<br>iamond_Print_Jumpsuit ...</td>\n",
       "        <td style=\"padding-left: 1em; padding-right: 1em; text-align: center; vertical-align: top\">Height: 301 Width: 200</td>\n",
       "        <td style=\"padding-left: 1em; padding-right: 1em; text-align: center; vertical-align: top\">Abstract_Diamond_Print_Ju<br>mpsuit ...</td>\n",
       "    </tr>\n",
       "    <tr>\n",
       "        <td style=\"padding-left: 1em; padding-right: 1em; text-align: center; vertical-align: top\">G:/img-002/img/Abstract_D<br>iamond_Print_Jumpsuit ...</td>\n",
       "        <td style=\"padding-left: 1em; padding-right: 1em; text-align: center; vertical-align: top\">Height: 300 Width: 300</td>\n",
       "        <td style=\"padding-left: 1em; padding-right: 1em; text-align: center; vertical-align: top\">Abstract_Diamond_Print_Ju<br>mpsuit ...</td>\n",
       "    </tr>\n",
       "    <tr>\n",
       "        <td style=\"padding-left: 1em; padding-right: 1em; text-align: center; vertical-align: top\">G:/img-002/img/Abstract_D<br>iamond_Print_Jumpsuit ...</td>\n",
       "        <td style=\"padding-left: 1em; padding-right: 1em; text-align: center; vertical-align: top\">Height: 301 Width: 205</td>\n",
       "        <td style=\"padding-left: 1em; padding-right: 1em; text-align: center; vertical-align: top\">Abstract_Diamond_Print_Ju<br>mpsuit ...</td>\n",
       "    </tr>\n",
       "    <tr>\n",
       "        <td style=\"padding-left: 1em; padding-right: 1em; text-align: center; vertical-align: top\">G:/img-002/img/Abstract_D<br>iamond_Print_Jumpsuit ...</td>\n",
       "        <td style=\"padding-left: 1em; padding-right: 1em; text-align: center; vertical-align: top\">Height: 300 Width: 200</td>\n",
       "        <td style=\"padding-left: 1em; padding-right: 1em; text-align: center; vertical-align: top\">Abstract_Diamond_Print_Ju<br>mpsuit ...</td>\n",
       "    </tr>\n",
       "    <tr>\n",
       "        <td style=\"padding-left: 1em; padding-right: 1em; text-align: center; vertical-align: top\">G:/img-002/img/Abstract_D<br>iamond_Print_Jumpsuit ...</td>\n",
       "        <td style=\"padding-left: 1em; padding-right: 1em; text-align: center; vertical-align: top\">Height: 300 Width: 300</td>\n",
       "        <td style=\"padding-left: 1em; padding-right: 1em; text-align: center; vertical-align: top\">Abstract_Diamond_Print_Ju<br>mpsuit ...</td>\n",
       "    </tr>\n",
       "    <tr>\n",
       "        <td style=\"padding-left: 1em; padding-right: 1em; text-align: center; vertical-align: top\">G:/img-002/img/Abstract_D<br>iamond_Print_Jumpsuit ...</td>\n",
       "        <td style=\"padding-left: 1em; padding-right: 1em; text-align: center; vertical-align: top\">Height: 300 Width: 300</td>\n",
       "        <td style=\"padding-left: 1em; padding-right: 1em; text-align: center; vertical-align: top\">Abstract_Diamond_Print_Ju<br>mpsuit ...</td>\n",
       "    </tr>\n",
       "    <tr>\n",
       "        <td style=\"padding-left: 1em; padding-right: 1em; text-align: center; vertical-align: top\">G:/img-002/img/Abstract_D<br>iamond_Print_Jumpsuit ...</td>\n",
       "        <td style=\"padding-left: 1em; padding-right: 1em; text-align: center; vertical-align: top\">Height: 300 Width: 205</td>\n",
       "        <td style=\"padding-left: 1em; padding-right: 1em; text-align: center; vertical-align: top\">Abstract_Diamond_Print_Ju<br>mpsuit ...</td>\n",
       "    </tr>\n",
       "</table>\n",
       "[28 rows x 3 columns]<br/>Note: Only the head of the SFrame is printed.<br/>You can use print_rows(num_rows=m, num_columns=n) to print more rows and columns.\n",
       "</div>"
      ],
      "text/plain": [
       "Columns:\n",
       "\tpath\tstr\n",
       "\timage\tImage\n",
       "\tlabel\tstr\n",
       "\n",
       "Rows: 28\n",
       "\n",
       "Data:\n",
       "+-------------------------------+------------------------+\n",
       "|              path             |         image          |\n",
       "+-------------------------------+------------------------+\n",
       "| G:/img-002/img/Abstract_Di... | Height: 300 Width: 200 |\n",
       "| G:/img-002/img/Abstract_Di... | Height: 300 Width: 300 |\n",
       "| G:/img-002/img/Abstract_Di... | Height: 300 Width: 209 |\n",
       "| G:/img-002/img/Abstract_Di... | Height: 301 Width: 200 |\n",
       "| G:/img-002/img/Abstract_Di... | Height: 300 Width: 300 |\n",
       "| G:/img-002/img/Abstract_Di... | Height: 301 Width: 205 |\n",
       "| G:/img-002/img/Abstract_Di... | Height: 300 Width: 200 |\n",
       "| G:/img-002/img/Abstract_Di... | Height: 300 Width: 300 |\n",
       "| G:/img-002/img/Abstract_Di... | Height: 300 Width: 300 |\n",
       "| G:/img-002/img/Abstract_Di... | Height: 300 Width: 205 |\n",
       "+-------------------------------+------------------------+\n",
       "+-------------------------------+\n",
       "|             label             |\n",
       "+-------------------------------+\n",
       "| Abstract_Diamond_Print_Jum... |\n",
       "| Abstract_Diamond_Print_Jum... |\n",
       "| Abstract_Diamond_Print_Jum... |\n",
       "| Abstract_Diamond_Print_Jum... |\n",
       "| Abstract_Diamond_Print_Jum... |\n",
       "| Abstract_Diamond_Print_Jum... |\n",
       "| Abstract_Diamond_Print_Jum... |\n",
       "| Abstract_Diamond_Print_Jum... |\n",
       "| Abstract_Diamond_Print_Jum... |\n",
       "| Abstract_Diamond_Print_Jum... |\n",
       "+-------------------------------+\n",
       "[28 rows x 3 columns]\n",
       "Note: Only the head of the SFrame is printed.\n",
       "You can use print_rows(num_rows=m, num_columns=n) to print more rows and columns."
      ]
     },
     "execution_count": 31,
     "metadata": {},
     "output_type": "execute_result"
    }
   ],
   "source": [
    "url='G:\\img-002\\img\\Abstract_Diamond_Fringe_Kimono'\n",
    "data2 = graphlab.image_analysis.load_images(url)\n",
    "data2['label']='Abstract_Diamond_Fringe_Kimono'\n",
    "graphlab.canvas.set_target('ipynb')\n",
    "data2.show()\n",
    "data2\n",
    "url='G:\\img-002\\img\\Abstract_Diamond_Print_Jumpsuit'\n",
    "data3 = graphlab.image_analysis.load_images(url)\n",
    "data3['label']='Abstract_Diamond_Print_Jumpsuit'\n",
    "graphlab.canvas.set_target('ipynb')\n",
    "data3.show()\n",
    "data3"
   ]
  },
  {
   "cell_type": "code",
   "execution_count": 32,
   "metadata": {
    "collapsed": false
   },
   "outputs": [],
   "source": [
    "data = data.append(data2)\n",
    "data = data.append(data3)"
   ]
  },
  {
   "cell_type": "code",
   "execution_count": 35,
   "metadata": {
    "collapsed": false
   },
   "outputs": [
    {
     "name": "stdout",
     "output_type": "stream",
     "text": [
      "Canvas is updated and available in a tab in the default browser.\n",
      "+-------------------------------+------------------------+\n",
      "|              path             |         image          |\n",
      "+-------------------------------+------------------------+\n",
      "| G:/img-002/img/Above_Avera... | Height: 301 Width: 199 |\n",
      "| G:/img-002/img/Above_Avera... | Height: 301 Width: 199 |\n",
      "| G:/img-002/img/Above_Avera... | Height: 300 Width: 300 |\n",
      "| G:/img-002/img/Above_Avera... | Height: 300 Width: 300 |\n",
      "| G:/img-002/img/Above_Avera... | Height: 301 Width: 205 |\n",
      "| G:/img-002/img/Above_Avera... | Height: 300 Width: 300 |\n",
      "| G:/img-002/img/Above_Avera... | Height: 300 Width: 205 |\n",
      "| G:/img-002/img/Above_Avera... | Height: 300 Width: 205 |\n",
      "| G:/img-002/img/Above_Avera... | Height: 279 Width: 300 |\n",
      "| G:/img-002/img/Above_Avera... | Height: 301 Width: 199 |\n",
      "| G:/img-002/img/Above_Avera... | Height: 300 Width: 300 |\n",
      "| G:/img-002/img/Above_Avera... | Height: 300 Width: 205 |\n",
      "| G:/img-002/img/Above_Avera... | Height: 300 Width: 196 |\n",
      "| G:/img-002/img/Above_Avera... | Height: 300 Width: 205 |\n",
      "| G:/img-002/img/Above_Avera... | Height: 300 Width: 300 |\n",
      "| G:/img-002/img/Above_Avera... | Height: 300 Width: 300 |\n",
      "| G:/img-002/img/Above_Avera... | Height: 301 Width: 227 |\n",
      "| G:/img-002/img/Above_Avera... | Height: 300 Width: 300 |\n",
      "| G:/img-002/img/Above_Avera... | Height: 301 Width: 205 |\n",
      "| G:/img-002/img/Above_Avera... | Height: 301 Width: 199 |\n",
      "| G:/img-002/img/Above_Avera... | Height: 300 Width: 205 |\n",
      "| G:/img-002/img/Above_Avera... | Height: 300 Width: 300 |\n",
      "| G:/img-002/img/Above_Avera... | Height: 300 Width: 205 |\n",
      "| G:/img-002/img/Above_Avera... | Height: 300 Width: 247 |\n",
      "| G:/img-002/img/Above_Avera... | Height: 300 Width: 210 |\n",
      "| G:/img-002/img/Above_Avera... | Height: 300 Width: 196 |\n",
      "| G:/img-002/img/Above_Avera... | Height: 250 Width: 200 |\n",
      "| G:/img-002/img/Above_Avera... | Height: 300 Width: 205 |\n",
      "| G:/img-002/img/Above_Avera... | Height: 250 Width: 200 |\n",
      "| G:/img-002/img/Above_Avera... | Height: 300 Width: 205 |\n",
      "| G:/img-002/img/Above_Avera... | Height: 300 Width: 192 |\n",
      "| G:/img-002/img/Above_Avera... | Height: 300 Width: 213 |\n",
      "| G:/img-002/img/Above_Avera... | Height: 300 Width: 226 |\n",
      "| G:/img-002/img/Above_Avera... | Height: 300 Width: 205 |\n",
      "| G:/img-002/img/Above_Avera... | Height: 301 Width: 199 |\n",
      "| G:/img-002/img/Above_Avera... | Height: 300 Width: 207 |\n",
      "| G:/img-002/img/Above_Avera... | Height: 300 Width: 300 |\n",
      "| G:/img-002/img/Above_Avera... | Height: 300 Width: 300 |\n",
      "| G:/img-002/img/Above_Avera... | Height: 301 Width: 199 |\n",
      "| G:/img-002/img/Above_Avera... | Height: 300 Width: 196 |\n",
      "| G:/img-002/img/Above_Avera... | Height: 300 Width: 300 |\n",
      "| G:/img-002/img/Above_Avera... | Height: 250 Width: 200 |\n",
      "| G:/img-002/img/Above_Avera... | Height: 301 Width: 227 |\n",
      "| G:/img-002/img/Abstract_Di... | Height: 301 Width: 205 |\n",
      "| G:/img-002/img/Abstract_Di... | Height: 300 Width: 241 |\n",
      "| G:/img-002/img/Abstract_Di... | Height: 300 Width: 200 |\n",
      "| G:/img-002/img/Abstract_Di... | Height: 300 Width: 210 |\n",
      "| G:/img-002/img/Abstract_Di... | Height: 300 Width: 300 |\n",
      "| G:/img-002/img/Abstract_Di... | Height: 300 Width: 200 |\n",
      "| G:/img-002/img/Abstract_Di... | Height: 300 Width: 205 |\n",
      "| G:/img-002/img/Abstract_Di... | Height: 300 Width: 200 |\n",
      "| G:/img-002/img/Abstract_Di... | Height: 300 Width: 205 |\n",
      "| G:/img-002/img/Abstract_Di... | Height: 301 Width: 205 |\n",
      "| G:/img-002/img/Abstract_Di... | Height: 300 Width: 300 |\n",
      "| G:/img-002/img/Abstract_Di... | Height: 300 Width: 205 |\n",
      "| G:/img-002/img/Abstract_Di... | Height: 300 Width: 236 |\n",
      "| G:/img-002/img/Abstract_Di... | Height: 300 Width: 205 |\n",
      "| G:/img-002/img/Abstract_Di... | Height: 300 Width: 200 |\n",
      "| G:/img-002/img/Abstract_Di... | Height: 301 Width: 205 |\n",
      "| G:/img-002/img/Abstract_Di... | Height: 300 Width: 293 |\n",
      "| G:/img-002/img/Abstract_Di... | Height: 300 Width: 205 |\n",
      "| G:/img-002/img/Abstract_Di... | Height: 201 Width: 300 |\n",
      "| G:/img-002/img/Abstract_Di... | Height: 300 Width: 240 |\n",
      "| G:/img-002/img/Abstract_Di... | Height: 300 Width: 300 |\n",
      "| G:/img-002/img/Abstract_Di... | Height: 239 Width: 300 |\n",
      "| G:/img-002/img/Abstract_Di... | Height: 300 Width: 205 |\n",
      "| G:/img-002/img/Abstract_Di... | Height: 300 Width: 300 |\n",
      "| G:/img-002/img/Abstract_Di... | Height: 300 Width: 205 |\n",
      "| G:/img-002/img/Abstract_Di... | Height: 300 Width: 236 |\n",
      "| G:/img-002/img/Abstract_Di... | Height: 300 Width: 205 |\n",
      "| G:/img-002/img/Abstract_Di... | Height: 239 Width: 300 |\n",
      "| G:/img-002/img/Abstract_Di... | Height: 300 Width: 205 |\n",
      "| G:/img-002/img/Abstract_Di... | Height: 300 Width: 210 |\n",
      "| G:/img-002/img/Abstract_Di... | Height: 300 Width: 300 |\n",
      "| G:/img-002/img/Abstract_Di... | Height: 300 Width: 205 |\n",
      "| G:/img-002/img/Abstract_Di... | Height: 300 Width: 300 |\n",
      "| G:/img-002/img/Abstract_Di... | Height: 300 Width: 200 |\n",
      "| G:/img-002/img/Abstract_Di... | Height: 301 Width: 205 |\n",
      "| G:/img-002/img/Abstract_Di... | Height: 300 Width: 205 |\n",
      "| G:/img-002/img/Abstract_Di... | Height: 300 Width: 300 |\n",
      "| G:/img-002/img/Abstract_Di... | Height: 300 Width: 293 |\n",
      "| G:/img-002/img/Abstract_Di... | Height: 300 Width: 200 |\n",
      "| G:/img-002/img/Abstract_Di... | Height: 300 Width: 200 |\n",
      "| G:/img-002/img/Abstract_Di... | Height: 300 Width: 241 |\n",
      "| G:/img-002/img/Abstract_Di... | Height: 301 Width: 205 |\n",
      "| G:/img-002/img/Abstract_Di... | Height: 300 Width: 300 |\n",
      "| G:/img-002/img/Abstract_Di... | Height: 300 Width: 205 |\n",
      "| G:/img-002/img/Abstract_Di... | Height: 201 Width: 300 |\n",
      "| G:/img-002/img/Abstract_Di... | Height: 300 Width: 205 |\n",
      "| G:/img-002/img/Abstract_Di... | Height: 300 Width: 205 |\n",
      "| G:/img-002/img/Abstract_Di... | Height: 300 Width: 240 |\n",
      "| G:/img-002/img/Abstract_Di... | Height: 301 Width: 205 |\n",
      "| G:/img-002/img/Abstract_Di... | Height: 300 Width: 200 |\n",
      "| G:/img-002/img/Abstract_Di... | Height: 300 Width: 200 |\n",
      "| G:/img-002/img/Abstract_Di... | Height: 300 Width: 300 |\n",
      "| G:/img-002/img/Abstract_Di... | Height: 300 Width: 209 |\n",
      "| G:/img-002/img/Abstract_Di... | Height: 301 Width: 200 |\n",
      "| G:/img-002/img/Abstract_Di... | Height: 300 Width: 300 |\n",
      "| G:/img-002/img/Abstract_Di... | Height: 301 Width: 205 |\n",
      "| G:/img-002/img/Abstract_Di... | Height: 300 Width: 200 |\n",
      "| G:/img-002/img/Abstract_Di... | Height: 300 Width: 300 |\n",
      "| G:/img-002/img/Abstract_Di... | Height: 300 Width: 300 |\n",
      "| G:/img-002/img/Abstract_Di... | Height: 300 Width: 205 |\n",
      "| G:/img-002/img/Abstract_Di... | Height: 300 Width: 300 |\n",
      "| G:/img-002/img/Abstract_Di... | Height: 300 Width: 300 |\n",
      "| G:/img-002/img/Abstract_Di... | Height: 300 Width: 236 |\n",
      "| G:/img-002/img/Abstract_Di... | Height: 300 Width: 201 |\n",
      "| G:/img-002/img/Abstract_Di... | Height: 300 Width: 219 |\n",
      "| G:/img-002/img/Abstract_Di... | Height: 300 Width: 205 |\n",
      "| G:/img-002/img/Abstract_Di... | Height: 300 Width: 205 |\n",
      "| G:/img-002/img/Abstract_Di... | Height: 301 Width: 246 |\n",
      "| G:/img-002/img/Abstract_Di... | Height: 300 Width: 205 |\n",
      "| G:/img-002/img/Abstract_Di... | Height: 300 Width: 240 |\n",
      "| G:/img-002/img/Abstract_Di... | Height: 300 Width: 205 |\n",
      "| G:/img-002/img/Abstract_Di... | Height: 300 Width: 200 |\n",
      "| G:/img-002/img/Abstract_Di... | Height: 274 Width: 224 |\n",
      "| G:/img-002/img/Abstract_Di... | Height: 300 Width: 199 |\n",
      "| G:/img-002/img/Abstract_Di... | Height: 300 Width: 170 |\n",
      "| G:/img-002/img/Abstract_Di... | Height: 300 Width: 300 |\n",
      "| G:/img-002/img/Abstract_Di... | Height: 300 Width: 300 |\n",
      "| G:/img-002/img/Abstract_Di... | Height: 300 Width: 196 |\n",
      "+-------------------------------+------------------------+\n",
      "+--------------------------------+\n",
      "|             label              |\n",
      "+--------------------------------+\n",
      "|    Above_Average_Linen_Tee     |\n",
      "|    Above_Average_Linen_Tee     |\n",
      "|    Above_Average_Linen_Tee     |\n",
      "|    Above_Average_Linen_Tee     |\n",
      "|    Above_Average_Linen_Tee     |\n",
      "|    Above_Average_Linen_Tee     |\n",
      "|    Above_Average_Linen_Tee     |\n",
      "|    Above_Average_Linen_Tee     |\n",
      "|    Above_Average_Linen_Tee     |\n",
      "|    Above_Average_Linen_Tee     |\n",
      "|    Above_Average_Linen_Tee     |\n",
      "|    Above_Average_Linen_Tee     |\n",
      "|    Above_Average_Linen_Tee     |\n",
      "|    Above_Average_Linen_Tee     |\n",
      "|    Above_Average_Linen_Tee     |\n",
      "|    Above_Average_Linen_Tee     |\n",
      "|    Above_Average_Linen_Tee     |\n",
      "|    Above_Average_Linen_Tee     |\n",
      "|    Above_Average_Linen_Tee     |\n",
      "|    Above_Average_Linen_Tee     |\n",
      "|    Above_Average_Linen_Tee     |\n",
      "|    Above_Average_Linen_Tee     |\n",
      "|    Above_Average_Linen_Tee     |\n",
      "|    Above_Average_Linen_Tee     |\n",
      "|    Above_Average_Linen_Tee     |\n",
      "|    Above_Average_Linen_Tee     |\n",
      "|    Above_Average_Linen_Tee     |\n",
      "|    Above_Average_Linen_Tee     |\n",
      "|    Above_Average_Linen_Tee     |\n",
      "|    Above_Average_Linen_Tee     |\n",
      "|    Above_Average_Linen_Tee     |\n",
      "|    Above_Average_Linen_Tee     |\n",
      "|    Above_Average_Linen_Tee     |\n",
      "|    Above_Average_Linen_Tee     |\n",
      "|    Above_Average_Linen_Tee     |\n",
      "|    Above_Average_Linen_Tee     |\n",
      "|    Above_Average_Linen_Tee     |\n",
      "|    Above_Average_Linen_Tee     |\n",
      "|    Above_Average_Linen_Tee     |\n",
      "|    Above_Average_Linen_Tee     |\n",
      "|    Above_Average_Linen_Tee     |\n",
      "|    Above_Average_Linen_Tee     |\n",
      "|    Above_Average_Linen_Tee     |\n",
      "| Abstract_Diamond_Fringe_Kimono |\n",
      "| Abstract_Diamond_Fringe_Kimono |\n",
      "| Abstract_Diamond_Fringe_Kimono |\n",
      "| Abstract_Diamond_Fringe_Kimono |\n",
      "| Abstract_Diamond_Fringe_Kimono |\n",
      "| Abstract_Diamond_Fringe_Kimono |\n",
      "| Abstract_Diamond_Fringe_Kimono |\n",
      "| Abstract_Diamond_Fringe_Kimono |\n",
      "| Abstract_Diamond_Fringe_Kimono |\n",
      "| Abstract_Diamond_Fringe_Kimono |\n",
      "| Abstract_Diamond_Fringe_Kimono |\n",
      "| Abstract_Diamond_Fringe_Kimono |\n",
      "| Abstract_Diamond_Fringe_Kimono |\n",
      "| Abstract_Diamond_Fringe_Kimono |\n",
      "| Abstract_Diamond_Fringe_Kimono |\n",
      "| Abstract_Diamond_Fringe_Kimono |\n",
      "| Abstract_Diamond_Fringe_Kimono |\n",
      "| Abstract_Diamond_Fringe_Kimono |\n",
      "| Abstract_Diamond_Fringe_Kimono |\n",
      "| Abstract_Diamond_Fringe_Kimono |\n",
      "| Abstract_Diamond_Fringe_Kimono |\n",
      "| Abstract_Diamond_Fringe_Kimono |\n",
      "| Abstract_Diamond_Fringe_Kimono |\n",
      "| Abstract_Diamond_Fringe_Kimono |\n",
      "| Abstract_Diamond_Fringe_Kimono |\n",
      "| Abstract_Diamond_Fringe_Kimono |\n",
      "| Abstract_Diamond_Fringe_Kimono |\n",
      "| Abstract_Diamond_Fringe_Kimono |\n",
      "| Abstract_Diamond_Fringe_Kimono |\n",
      "| Abstract_Diamond_Fringe_Kimono |\n",
      "| Abstract_Diamond_Fringe_Kimono |\n",
      "| Abstract_Diamond_Fringe_Kimono |\n",
      "| Abstract_Diamond_Fringe_Kimono |\n",
      "| Abstract_Diamond_Fringe_Kimono |\n",
      "| Abstract_Diamond_Fringe_Kimono |\n",
      "| Abstract_Diamond_Fringe_Kimono |\n",
      "| Abstract_Diamond_Fringe_Kimono |\n",
      "| Abstract_Diamond_Fringe_Kimono |\n",
      "| Abstract_Diamond_Fringe_Kimono |\n",
      "| Abstract_Diamond_Fringe_Kimono |\n",
      "| Abstract_Diamond_Fringe_Kimono |\n",
      "| Abstract_Diamond_Fringe_Kimono |\n",
      "| Abstract_Diamond_Fringe_Kimono |\n",
      "| Abstract_Diamond_Fringe_Kimono |\n",
      "| Abstract_Diamond_Fringe_Kimono |\n",
      "| Abstract_Diamond_Fringe_Kimono |\n",
      "| Abstract_Diamond_Fringe_Kimono |\n",
      "| Abstract_Diamond_Fringe_Kimono |\n",
      "| Abstract_Diamond_Fringe_Kimono |\n",
      "| Abstract_Diamond_Fringe_Kimono |\n",
      "| Abstract_Diamond_Print_Jum...  |\n",
      "| Abstract_Diamond_Print_Jum...  |\n",
      "| Abstract_Diamond_Print_Jum...  |\n",
      "| Abstract_Diamond_Print_Jum...  |\n",
      "| Abstract_Diamond_Print_Jum...  |\n",
      "| Abstract_Diamond_Print_Jum...  |\n",
      "| Abstract_Diamond_Print_Jum...  |\n",
      "| Abstract_Diamond_Print_Jum...  |\n",
      "| Abstract_Diamond_Print_Jum...  |\n",
      "| Abstract_Diamond_Print_Jum...  |\n",
      "| Abstract_Diamond_Print_Jum...  |\n",
      "| Abstract_Diamond_Print_Jum...  |\n",
      "| Abstract_Diamond_Print_Jum...  |\n",
      "| Abstract_Diamond_Print_Jum...  |\n",
      "| Abstract_Diamond_Print_Jum...  |\n",
      "| Abstract_Diamond_Print_Jum...  |\n",
      "| Abstract_Diamond_Print_Jum...  |\n",
      "| Abstract_Diamond_Print_Jum...  |\n",
      "| Abstract_Diamond_Print_Jum...  |\n",
      "| Abstract_Diamond_Print_Jum...  |\n",
      "| Abstract_Diamond_Print_Jum...  |\n",
      "| Abstract_Diamond_Print_Jum...  |\n",
      "| Abstract_Diamond_Print_Jum...  |\n",
      "| Abstract_Diamond_Print_Jum...  |\n",
      "| Abstract_Diamond_Print_Jum...  |\n",
      "| Abstract_Diamond_Print_Jum...  |\n",
      "| Abstract_Diamond_Print_Jum...  |\n",
      "| Abstract_Diamond_Print_Jum...  |\n",
      "+--------------------------------+\n",
      "[121 rows x 3 columns]\n",
      "\n"
     ]
    }
   ],
   "source": [
    "graphlab.canvas.set_target('browser')\n",
    "data.show()\n",
    "data.print_rows(num_rows=121, num_columns=3)"
   ]
  },
  {
   "cell_type": "code",
   "execution_count": 6,
   "metadata": {
    "collapsed": false
   },
   "outputs": [
    {
     "data": {
      "text/html": [
       "<pre>Downloading https://static.turi.com/products/graphlab-create/resources/models/python2.7/imagenet_model_iter45/dir_archive.ini to C:/Users/Ridhima/AppData/Local/Temp/graphlab-Ridhima/6508/6b8473b5-c889-4b87-9762-a6167c963531.ini</pre>"
      ],
      "text/plain": [
       "Downloading https://static.turi.com/products/graphlab-create/resources/models/python2.7/imagenet_model_iter45/dir_archive.ini to C:/Users/Ridhima/AppData/Local/Temp/graphlab-Ridhima/6508/6b8473b5-c889-4b87-9762-a6167c963531.ini"
      ]
     },
     "metadata": {},
     "output_type": "display_data"
    },
    {
     "data": {
      "text/html": [
       "<pre>Downloading https://static.turi.com/products/graphlab-create/resources/models/python2.7/imagenet_model_iter45/objects.bin to C:/Users/Ridhima/AppData/Local/Temp/graphlab-Ridhima/6508/53cfc770-7049-4738-b5b2-2eb927685a6c.bin</pre>"
      ],
      "text/plain": [
       "Downloading https://static.turi.com/products/graphlab-create/resources/models/python2.7/imagenet_model_iter45/objects.bin to C:/Users/Ridhima/AppData/Local/Temp/graphlab-Ridhima/6508/53cfc770-7049-4738-b5b2-2eb927685a6c.bin"
      ]
     },
     "metadata": {},
     "output_type": "display_data"
    }
   ],
   "source": [
    "extractor = graphlab.feature_engineering.DeepFeatureExtractor(features = 'image',\n",
    "                                                        model='auto')"
   ]
  },
  {
   "cell_type": "code",
   "execution_count": 36,
   "metadata": {
    "collapsed": true
   },
   "outputs": [],
   "source": [
    "extractor = extractor.fit(data)"
   ]
  },
  {
   "cell_type": "code",
   "execution_count": 37,
   "metadata": {
    "collapsed": true
   },
   "outputs": [],
   "source": [
    "extracted_model = extractor['model']"
   ]
  },
  {
   "cell_type": "code",
   "execution_count": 38,
   "metadata": {
    "collapsed": false
   },
   "outputs": [
    {
     "data": {
      "text/html": [
       "<pre>Images being resized.</pre>"
      ],
      "text/plain": [
       "Images being resized."
      ]
     },
     "metadata": {},
     "output_type": "display_data"
    }
   ],
   "source": [
    "features_sf = extractor.transform(data)"
   ]
  },
  {
   "cell_type": "code",
   "execution_count": 41,
   "metadata": {
    "collapsed": false
   },
   "outputs": [
    {
     "name": "stdout",
     "output_type": "stream",
     "text": [
      "+-------------------------------+------------------------+\n",
      "|              path             |         image          |\n",
      "+-------------------------------+------------------------+\n",
      "| G:/img-002/img/Above_Avera... | Height: 301 Width: 199 |\n",
      "| G:/img-002/img/Above_Avera... | Height: 301 Width: 199 |\n",
      "| G:/img-002/img/Above_Avera... | Height: 300 Width: 300 |\n",
      "| G:/img-002/img/Above_Avera... | Height: 300 Width: 300 |\n",
      "| G:/img-002/img/Above_Avera... | Height: 301 Width: 205 |\n",
      "| G:/img-002/img/Above_Avera... | Height: 300 Width: 300 |\n",
      "| G:/img-002/img/Above_Avera... | Height: 300 Width: 205 |\n",
      "| G:/img-002/img/Above_Avera... | Height: 300 Width: 205 |\n",
      "| G:/img-002/img/Above_Avera... | Height: 279 Width: 300 |\n",
      "| G:/img-002/img/Above_Avera... | Height: 301 Width: 199 |\n",
      "| G:/img-002/img/Above_Avera... | Height: 300 Width: 300 |\n",
      "| G:/img-002/img/Above_Avera... | Height: 300 Width: 205 |\n",
      "| G:/img-002/img/Above_Avera... | Height: 300 Width: 196 |\n",
      "| G:/img-002/img/Above_Avera... | Height: 300 Width: 205 |\n",
      "| G:/img-002/img/Above_Avera... | Height: 300 Width: 300 |\n",
      "| G:/img-002/img/Above_Avera... | Height: 300 Width: 300 |\n",
      "| G:/img-002/img/Above_Avera... | Height: 301 Width: 227 |\n",
      "| G:/img-002/img/Above_Avera... | Height: 300 Width: 300 |\n",
      "| G:/img-002/img/Above_Avera... | Height: 301 Width: 205 |\n",
      "| G:/img-002/img/Above_Avera... | Height: 301 Width: 199 |\n",
      "| G:/img-002/img/Above_Avera... | Height: 300 Width: 205 |\n",
      "| G:/img-002/img/Above_Avera... | Height: 300 Width: 300 |\n",
      "| G:/img-002/img/Above_Avera... | Height: 300 Width: 205 |\n",
      "| G:/img-002/img/Above_Avera... | Height: 300 Width: 247 |\n",
      "| G:/img-002/img/Above_Avera... | Height: 300 Width: 210 |\n",
      "| G:/img-002/img/Above_Avera... | Height: 300 Width: 196 |\n",
      "| G:/img-002/img/Above_Avera... | Height: 250 Width: 200 |\n",
      "| G:/img-002/img/Above_Avera... | Height: 300 Width: 205 |\n",
      "| G:/img-002/img/Above_Avera... | Height: 250 Width: 200 |\n",
      "| G:/img-002/img/Above_Avera... | Height: 300 Width: 205 |\n",
      "| G:/img-002/img/Above_Avera... | Height: 300 Width: 192 |\n",
      "| G:/img-002/img/Above_Avera... | Height: 300 Width: 213 |\n",
      "| G:/img-002/img/Above_Avera... | Height: 300 Width: 226 |\n",
      "| G:/img-002/img/Above_Avera... | Height: 300 Width: 205 |\n",
      "| G:/img-002/img/Above_Avera... | Height: 301 Width: 199 |\n",
      "| G:/img-002/img/Above_Avera... | Height: 300 Width: 207 |\n",
      "| G:/img-002/img/Above_Avera... | Height: 300 Width: 300 |\n",
      "| G:/img-002/img/Above_Avera... | Height: 300 Width: 300 |\n",
      "| G:/img-002/img/Above_Avera... | Height: 301 Width: 199 |\n",
      "| G:/img-002/img/Above_Avera... | Height: 300 Width: 196 |\n",
      "| G:/img-002/img/Above_Avera... | Height: 300 Width: 300 |\n",
      "| G:/img-002/img/Above_Avera... | Height: 250 Width: 200 |\n",
      "| G:/img-002/img/Above_Avera... | Height: 301 Width: 227 |\n",
      "| G:/img-002/img/Abstract_Di... | Height: 301 Width: 205 |\n",
      "| G:/img-002/img/Abstract_Di... | Height: 300 Width: 241 |\n",
      "| G:/img-002/img/Abstract_Di... | Height: 300 Width: 200 |\n",
      "| G:/img-002/img/Abstract_Di... | Height: 300 Width: 210 |\n",
      "| G:/img-002/img/Abstract_Di... | Height: 300 Width: 300 |\n",
      "| G:/img-002/img/Abstract_Di... | Height: 300 Width: 200 |\n",
      "| G:/img-002/img/Abstract_Di... | Height: 300 Width: 205 |\n",
      "| G:/img-002/img/Abstract_Di... | Height: 300 Width: 200 |\n",
      "| G:/img-002/img/Abstract_Di... | Height: 300 Width: 205 |\n",
      "| G:/img-002/img/Abstract_Di... | Height: 301 Width: 205 |\n",
      "| G:/img-002/img/Abstract_Di... | Height: 300 Width: 300 |\n",
      "| G:/img-002/img/Abstract_Di... | Height: 300 Width: 205 |\n",
      "| G:/img-002/img/Abstract_Di... | Height: 300 Width: 236 |\n",
      "| G:/img-002/img/Abstract_Di... | Height: 300 Width: 205 |\n",
      "| G:/img-002/img/Abstract_Di... | Height: 300 Width: 200 |\n",
      "| G:/img-002/img/Abstract_Di... | Height: 301 Width: 205 |\n",
      "| G:/img-002/img/Abstract_Di... | Height: 300 Width: 293 |\n",
      "| G:/img-002/img/Abstract_Di... | Height: 300 Width: 205 |\n",
      "| G:/img-002/img/Abstract_Di... | Height: 201 Width: 300 |\n",
      "| G:/img-002/img/Abstract_Di... | Height: 300 Width: 240 |\n",
      "| G:/img-002/img/Abstract_Di... | Height: 300 Width: 300 |\n",
      "| G:/img-002/img/Abstract_Di... | Height: 239 Width: 300 |\n",
      "| G:/img-002/img/Abstract_Di... | Height: 300 Width: 205 |\n",
      "| G:/img-002/img/Abstract_Di... | Height: 300 Width: 300 |\n",
      "| G:/img-002/img/Abstract_Di... | Height: 300 Width: 205 |\n",
      "| G:/img-002/img/Abstract_Di... | Height: 300 Width: 236 |\n",
      "| G:/img-002/img/Abstract_Di... | Height: 300 Width: 205 |\n",
      "| G:/img-002/img/Abstract_Di... | Height: 239 Width: 300 |\n",
      "| G:/img-002/img/Abstract_Di... | Height: 300 Width: 205 |\n",
      "| G:/img-002/img/Abstract_Di... | Height: 300 Width: 210 |\n",
      "| G:/img-002/img/Abstract_Di... | Height: 300 Width: 300 |\n",
      "| G:/img-002/img/Abstract_Di... | Height: 300 Width: 205 |\n",
      "| G:/img-002/img/Abstract_Di... | Height: 300 Width: 300 |\n",
      "| G:/img-002/img/Abstract_Di... | Height: 300 Width: 200 |\n",
      "| G:/img-002/img/Abstract_Di... | Height: 301 Width: 205 |\n",
      "| G:/img-002/img/Abstract_Di... | Height: 300 Width: 205 |\n",
      "| G:/img-002/img/Abstract_Di... | Height: 300 Width: 300 |\n",
      "| G:/img-002/img/Abstract_Di... | Height: 300 Width: 293 |\n",
      "| G:/img-002/img/Abstract_Di... | Height: 300 Width: 200 |\n",
      "| G:/img-002/img/Abstract_Di... | Height: 300 Width: 200 |\n",
      "| G:/img-002/img/Abstract_Di... | Height: 300 Width: 241 |\n",
      "| G:/img-002/img/Abstract_Di... | Height: 301 Width: 205 |\n",
      "| G:/img-002/img/Abstract_Di... | Height: 300 Width: 300 |\n",
      "| G:/img-002/img/Abstract_Di... | Height: 300 Width: 205 |\n",
      "| G:/img-002/img/Abstract_Di... | Height: 201 Width: 300 |\n",
      "| G:/img-002/img/Abstract_Di... | Height: 300 Width: 205 |\n",
      "| G:/img-002/img/Abstract_Di... | Height: 300 Width: 205 |\n",
      "| G:/img-002/img/Abstract_Di... | Height: 300 Width: 240 |\n",
      "| G:/img-002/img/Abstract_Di... | Height: 301 Width: 205 |\n",
      "| G:/img-002/img/Abstract_Di... | Height: 300 Width: 200 |\n",
      "| G:/img-002/img/Abstract_Di... | Height: 300 Width: 200 |\n",
      "| G:/img-002/img/Abstract_Di... | Height: 300 Width: 300 |\n",
      "| G:/img-002/img/Abstract_Di... | Height: 300 Width: 209 |\n",
      "| G:/img-002/img/Abstract_Di... | Height: 301 Width: 200 |\n",
      "| G:/img-002/img/Abstract_Di... | Height: 300 Width: 300 |\n",
      "| G:/img-002/img/Abstract_Di... | Height: 301 Width: 205 |\n",
      "| G:/img-002/img/Abstract_Di... | Height: 300 Width: 200 |\n",
      "| G:/img-002/img/Abstract_Di... | Height: 300 Width: 300 |\n",
      "| G:/img-002/img/Abstract_Di... | Height: 300 Width: 300 |\n",
      "| G:/img-002/img/Abstract_Di... | Height: 300 Width: 205 |\n",
      "| G:/img-002/img/Abstract_Di... | Height: 300 Width: 300 |\n",
      "| G:/img-002/img/Abstract_Di... | Height: 300 Width: 300 |\n",
      "| G:/img-002/img/Abstract_Di... | Height: 300 Width: 236 |\n",
      "| G:/img-002/img/Abstract_Di... | Height: 300 Width: 201 |\n",
      "| G:/img-002/img/Abstract_Di... | Height: 300 Width: 219 |\n",
      "| G:/img-002/img/Abstract_Di... | Height: 300 Width: 205 |\n",
      "| G:/img-002/img/Abstract_Di... | Height: 300 Width: 205 |\n",
      "| G:/img-002/img/Abstract_Di... | Height: 301 Width: 246 |\n",
      "| G:/img-002/img/Abstract_Di... | Height: 300 Width: 205 |\n",
      "| G:/img-002/img/Abstract_Di... | Height: 300 Width: 240 |\n",
      "| G:/img-002/img/Abstract_Di... | Height: 300 Width: 205 |\n",
      "| G:/img-002/img/Abstract_Di... | Height: 300 Width: 200 |\n",
      "| G:/img-002/img/Abstract_Di... | Height: 274 Width: 224 |\n",
      "| G:/img-002/img/Abstract_Di... | Height: 300 Width: 199 |\n",
      "| G:/img-002/img/Abstract_Di... | Height: 300 Width: 170 |\n",
      "| G:/img-002/img/Abstract_Di... | Height: 300 Width: 300 |\n",
      "| G:/img-002/img/Abstract_Di... | Height: 300 Width: 300 |\n",
      "| G:/img-002/img/Abstract_Di... | Height: 300 Width: 196 |\n",
      "+-------------------------------+------------------------+\n",
      "+--------------------------------+-------------------------------+\n",
      "|             label              |      deep_features.image      |\n",
      "+--------------------------------+-------------------------------+\n",
      "|    Above_Average_Linen_Tee     | [0.0, 0.0, 1.52621912956, ... |\n",
      "|    Above_Average_Linen_Tee     | [0.0, 0.0, 3.61040472984, ... |\n",
      "|    Above_Average_Linen_Tee     | [0.0, 0.0, 3.19046235085, ... |\n",
      "|    Above_Average_Linen_Tee     | [0.0, 0.183017671108, 0.93... |\n",
      "|    Above_Average_Linen_Tee     | [0.0, 0.0, 5.83628749847, ... |\n",
      "|    Above_Average_Linen_Tee     | [0.0, 0.0, 2.30908203125, ... |\n",
      "|    Above_Average_Linen_Tee     | [0.0, 0.0, 0.854649960995,... |\n",
      "|    Above_Average_Linen_Tee     | [0.0, 0.0, 0.0, 0.0, 0.0, ... |\n",
      "|    Above_Average_Linen_Tee     | [0.0, 0.0245333909988, 0.4... |\n",
      "|    Above_Average_Linen_Tee     | [0.0, 0.0, 2.63520240784, ... |\n",
      "|    Above_Average_Linen_Tee     | [0.0, 0.0, 0.89160835743, ... |\n",
      "|    Above_Average_Linen_Tee     | [0.0, 0.0, 3.62335348129, ... |\n",
      "|    Above_Average_Linen_Tee     | [0.0, 0.0, 0.0, 0.0, 0.0, ... |\n",
      "|    Above_Average_Linen_Tee     | [0.0, 0.0, 0.463813185692,... |\n",
      "|    Above_Average_Linen_Tee     | [0.0, 0.0, 1.44604110718, ... |\n",
      "|    Above_Average_Linen_Tee     | [0.0, 0.0, 3.06293344498, ... |\n",
      "|    Above_Average_Linen_Tee     | [0.0, 1.20726561546, 3.607... |\n",
      "|    Above_Average_Linen_Tee     | [0.0, 0.0, 0.947343051434,... |\n",
      "|    Above_Average_Linen_Tee     | [0.0, 0.0, 0.0, 0.27762120... |\n",
      "|    Above_Average_Linen_Tee     | [0.0, 0.0, 3.7734913826, 0... |\n",
      "|    Above_Average_Linen_Tee     | [0.0, 0.0, 3.44956636429, ... |\n",
      "|    Above_Average_Linen_Tee     | [0.0, 0.0, 3.19691038132, ... |\n",
      "|    Above_Average_Linen_Tee     | [0.0, 0.0, 5.50026702881, ... |\n",
      "|    Above_Average_Linen_Tee     | [0.0, 0.0, 0.0706681609154... |\n",
      "|    Above_Average_Linen_Tee     | [0.0, 0.487744182348, 3.74... |\n",
      "|    Above_Average_Linen_Tee     | [0.0, 0.237813830376, 4.62... |\n",
      "|    Above_Average_Linen_Tee     | [0.0, 0.0, 0.0, 0.32578116... |\n",
      "|    Above_Average_Linen_Tee     | [0.0, 0.0, 3.08246326447, ... |\n",
      "|    Above_Average_Linen_Tee     | [0.0, 0.0, 1.79767882824, ... |\n",
      "|    Above_Average_Linen_Tee     | [0.0, 0.0, 1.03586614132, ... |\n",
      "|    Above_Average_Linen_Tee     | [0.0, 0.0, 0.0, 1.14009273... |\n",
      "|    Above_Average_Linen_Tee     | [0.0, 0.0, 0.0, 0.13515180... |\n",
      "|    Above_Average_Linen_Tee     | [0.0, 0.0, 1.85925030708, ... |\n",
      "|    Above_Average_Linen_Tee     | [0.0, 0.0, 3.85754084587, ... |\n",
      "|    Above_Average_Linen_Tee     | [0.0, 0.0, 4.25287723541, ... |\n",
      "|    Above_Average_Linen_Tee     | [0.0, 0.0, 2.004956007, 0.... |\n",
      "|    Above_Average_Linen_Tee     | [0.0, 0.0, 2.53580236435, ... |\n",
      "|    Above_Average_Linen_Tee     | [0.0, 0.0, 4.64549255371, ... |\n",
      "|    Above_Average_Linen_Tee     | [0.0, 0.0, 0.0, 3.59661722... |\n",
      "|    Above_Average_Linen_Tee     | [0.0, 0.0, 2.18659234047, ... |\n",
      "|    Above_Average_Linen_Tee     | [0.0, 0.0, 0.633937895298,... |\n",
      "|    Above_Average_Linen_Tee     | [0.0, 0.0, 3.8485224247, 0... |\n",
      "|    Above_Average_Linen_Tee     | [0.0, 0.0, 0.0, 0.0, 0.597... |\n",
      "| Abstract_Diamond_Fringe_Kimono | [0.0, 0.0, 2.83542943001, ... |\n",
      "| Abstract_Diamond_Fringe_Kimono | [0.0, 0.0, 2.88076496124, ... |\n",
      "| Abstract_Diamond_Fringe_Kimono | [0.0, 0.0, 3.67813754082, ... |\n",
      "| Abstract_Diamond_Fringe_Kimono | [0.0, 0.80502808094, 0.0, ... |\n",
      "| Abstract_Diamond_Fringe_Kimono | [0.0, 0.660918354988, 2.53... |\n",
      "| Abstract_Diamond_Fringe_Kimono | [0.0, 0.0, 1.32953298092, ... |\n",
      "| Abstract_Diamond_Fringe_Kimono | [0.0, 0.666019976139, 0.0,... |\n",
      "| Abstract_Diamond_Fringe_Kimono | [0.0, 0.0, 0.340844988823,... |\n",
      "| Abstract_Diamond_Fringe_Kimono | [0.0, 0.0, 4.38139247894, ... |\n",
      "| Abstract_Diamond_Fringe_Kimono | [0.0, 0.0, 3.75547719002, ... |\n",
      "| Abstract_Diamond_Fringe_Kimono | [0.0, 0.0, 3.03551149368, ... |\n",
      "| Abstract_Diamond_Fringe_Kimono | [0.0, 0.0, 3.60492634773, ... |\n",
      "| Abstract_Diamond_Fringe_Kimono | [0.0, 0.0, 1.93627417088, ... |\n",
      "| Abstract_Diamond_Fringe_Kimono | [0.0, 0.0, 4.08398723602, ... |\n",
      "| Abstract_Diamond_Fringe_Kimono | [0.0, 0.0, 0.0, 0.71267473... |\n",
      "| Abstract_Diamond_Fringe_Kimono | [0.0, 0.0, 1.38334584236, ... |\n",
      "| Abstract_Diamond_Fringe_Kimono | [0.0, 0.0, 2.60927438736, ... |\n",
      "| Abstract_Diamond_Fringe_Kimono | [0.0, 0.0, 3.52417993546, ... |\n",
      "| Abstract_Diamond_Fringe_Kimono | [0.0, 0.0, 0.0, 0.0, 0.0, ... |\n",
      "| Abstract_Diamond_Fringe_Kimono | [0.0, 0.0, 1.40088701248, ... |\n",
      "| Abstract_Diamond_Fringe_Kimono | [0.0, 0.0, 1.92849957943, ... |\n",
      "| Abstract_Diamond_Fringe_Kimono | [0.0, 0.0, 0.0, 1.97085034... |\n",
      "| Abstract_Diamond_Fringe_Kimono | [0.0, 0.691367030144, 2.63... |\n",
      "| Abstract_Diamond_Fringe_Kimono | [0.0, 0.0, 0.0, 0.0, 0.0, ... |\n",
      "| Abstract_Diamond_Fringe_Kimono | [0.0, 0.0, 2.45643401146, ... |\n",
      "| Abstract_Diamond_Fringe_Kimono | [0.0, 0.0, 1.93627381325, ... |\n",
      "| Abstract_Diamond_Fringe_Kimono | [0.0, 0.0, 4.38139200211, ... |\n",
      "| Abstract_Diamond_Fringe_Kimono | [0.0, 0.0, 0.0, 1.97085034... |\n",
      "| Abstract_Diamond_Fringe_Kimono | [0.0, 0.0, 4.08398628235, ... |\n",
      "| Abstract_Diamond_Fringe_Kimono | [0.0, 0.80502808094, 0.0, ... |\n",
      "| Abstract_Diamond_Fringe_Kimono | [0.0, 0.0, 3.03551149368, ... |\n",
      "| Abstract_Diamond_Fringe_Kimono | [0.0, 0.0, 3.60492634773, ... |\n",
      "| Abstract_Diamond_Fringe_Kimono | [0.0, 0.66091799736, 2.535... |\n",
      "| Abstract_Diamond_Fringe_Kimono | [0.0, 0.0, 1.32953238487, ... |\n",
      "| Abstract_Diamond_Fringe_Kimono | [0.0, 0.0, 3.75547766685, ... |\n",
      "| Abstract_Diamond_Fringe_Kimono | [0.0, 0.666020393372, 0.0,... |\n",
      "| Abstract_Diamond_Fringe_Kimono | [0.0, 0.0, 1.92849969864, ... |\n",
      "| Abstract_Diamond_Fringe_Kimono | [0.0, 0.0, 2.60927438736, ... |\n",
      "| Abstract_Diamond_Fringe_Kimono | [0.0, 0.0, 0.0, 0.71267473... |\n",
      "| Abstract_Diamond_Fringe_Kimono | [0.0, 0.0, 3.67813754082, ... |\n",
      "| Abstract_Diamond_Fringe_Kimono | [0.0, 0.0, 2.88076496124, ... |\n",
      "| Abstract_Diamond_Fringe_Kimono | [0.0, 0.0, 1.38334560394, ... |\n",
      "| Abstract_Diamond_Fringe_Kimono | [0.0, 0.0, 0.0, 0.0, 0.0, ... |\n",
      "| Abstract_Diamond_Fringe_Kimono | [0.0, 0.0, 2.45643377304, ... |\n",
      "| Abstract_Diamond_Fringe_Kimono | [0.0, 0.0, 0.0, 0.0, 0.0, ... |\n",
      "| Abstract_Diamond_Fringe_Kimono | [0.0, 0.691367208958, 2.63... |\n",
      "| Abstract_Diamond_Fringe_Kimono | [0.0, 0.0, 3.52417993546, ... |\n",
      "| Abstract_Diamond_Fringe_Kimono | [0.0, 0.0, 1.40088653564, ... |\n",
      "| Abstract_Diamond_Fringe_Kimono | [0.0, 0.0, 2.83542943001, ... |\n",
      "| Abstract_Diamond_Fringe_Kimono | [0.0, 0.0, 0.340845227242,... |\n",
      "| Abstract_Diamond_Print_Jum...  | [0.0, 0.0, 1.57291924953, ... |\n",
      "| Abstract_Diamond_Print_Jum...  | [0.0, 0.0, 0.0, 0.0, 0.0, ... |\n",
      "| Abstract_Diamond_Print_Jum...  | [0.0, 0.788640260696, 0.0,... |\n",
      "| Abstract_Diamond_Print_Jum...  | [0.0, 0.0, 0.0, 0.0, 0.0, ... |\n",
      "| Abstract_Diamond_Print_Jum...  | [0.0, 1.59007585049, 0.640... |\n",
      "| Abstract_Diamond_Print_Jum...  | [0.0, 0.0, 0.0, 0.0, 0.0, ... |\n",
      "| Abstract_Diamond_Print_Jum...  | [0.0, 0.0, 0.0, 0.0, 0.0, ... |\n",
      "| Abstract_Diamond_Print_Jum...  | [0.0, 0.55071169138, 0.0, ... |\n",
      "| Abstract_Diamond_Print_Jum...  | [0.0, 0.0, 0.268594264984,... |\n",
      "| Abstract_Diamond_Print_Jum...  | [0.0, 0.0, 2.47177743912, ... |\n",
      "| Abstract_Diamond_Print_Jum...  | [0.0, 0.0, 2.54203486443, ... |\n",
      "| Abstract_Diamond_Print_Jum...  | [0.0, 0.0, 0.0, 0.0, 0.0, ... |\n",
      "| Abstract_Diamond_Print_Jum...  | [0.0, 0.0, 0.0, 0.0, 0.0, ... |\n",
      "| Abstract_Diamond_Print_Jum...  | [0.0, 0.0, 0.0, 2.78088998... |\n",
      "| Abstract_Diamond_Print_Jum...  | [1.20553803444, 0.0, 0.0, ... |\n",
      "| Abstract_Diamond_Print_Jum...  | [1.40610814095, 0.0, 1.467... |\n",
      "| Abstract_Diamond_Print_Jum...  | [0.0, 0.0, 0.0, 0.0, 0.0, ... |\n",
      "| Abstract_Diamond_Print_Jum...  | [0.0, 0.0, 1.64257526398, ... |\n",
      "| Abstract_Diamond_Print_Jum...  | [0.0, 0.0, 0.0, 0.0, 0.0, ... |\n",
      "| Abstract_Diamond_Print_Jum...  | [0.0, 0.0, 1.43227529526, ... |\n",
      "| Abstract_Diamond_Print_Jum...  | [0.0, 0.0, 0.0, 0.0, 0.0, ... |\n",
      "| Abstract_Diamond_Print_Jum...  | [0.0, 0.0, 0.0, 0.0, 0.362... |\n",
      "| Abstract_Diamond_Print_Jum...  | [0.0, 0.0, 2.07240271568, ... |\n",
      "| Abstract_Diamond_Print_Jum...  | [0.0, 0.0, 0.0, 0.0, 0.0, ... |\n",
      "| Abstract_Diamond_Print_Jum...  | [0.0, 0.0, 3.88695406914, ... |\n",
      "| Abstract_Diamond_Print_Jum...  | [0.0, 0.0, 0.0, 0.0, 0.0, ... |\n",
      "| Abstract_Diamond_Print_Jum...  | [0.0, 0.430367052555, 3.47... |\n",
      "| Abstract_Diamond_Print_Jum...  | [0.0, 0.0, 2.3081548214, 0... |\n",
      "+--------------------------------+-------------------------------+\n",
      "[121 rows x 4 columns]\n",
      "\n",
      "None\n"
     ]
    }
   ],
   "source": [
    "print features_sf.print_rows(num_rows=121)"
   ]
  },
  {
   "cell_type": "code",
   "execution_count": 42,
   "metadata": {
    "collapsed": false
   },
   "outputs": [
    {
     "data": {
      "text/html": [
       "<pre>WARNING: The number of feature dimensions in this problem is very large in comparison with the number of examples. Unless an appropriate regularization value is set, this model may not provide accurate predictions for a validation/test set.</pre>"
      ],
      "text/plain": [
       "WARNING: The number of feature dimensions in this problem is very large in comparison with the number of examples. Unless an appropriate regularization value is set, this model may not provide accurate predictions for a validation/test set."
      ]
     },
     "metadata": {},
     "output_type": "display_data"
    },
    {
     "data": {
      "text/html": [
       "<pre>WARNING: Detected extremely low variance for feature(s) 'deep_features.image' because all entries are nearly the same.\n",
       "Proceeding with model training using all features. If the model does not provide results of adequate quality, exclude the above mentioned feature(s) from the input dataset.</pre>"
      ],
      "text/plain": [
       "WARNING: Detected extremely low variance for feature(s) 'deep_features.image' because all entries are nearly the same.\n",
       "Proceeding with model training using all features. If the model does not provide results of adequate quality, exclude the above mentioned feature(s) from the input dataset."
      ]
     },
     "metadata": {},
     "output_type": "display_data"
    },
    {
     "data": {
      "text/html": [
       "<pre>Logistic regression:</pre>"
      ],
      "text/plain": [
       "Logistic regression:"
      ]
     },
     "metadata": {},
     "output_type": "display_data"
    },
    {
     "data": {
      "text/html": [
       "<pre>--------------------------------------------------------</pre>"
      ],
      "text/plain": [
       "--------------------------------------------------------"
      ]
     },
     "metadata": {},
     "output_type": "display_data"
    },
    {
     "data": {
      "text/html": [
       "<pre>Number of examples          : 60</pre>"
      ],
      "text/plain": [
       "Number of examples          : 60"
      ]
     },
     "metadata": {},
     "output_type": "display_data"
    },
    {
     "data": {
      "text/html": [
       "<pre>Number of classes           : 3</pre>"
      ],
      "text/plain": [
       "Number of classes           : 3"
      ]
     },
     "metadata": {},
     "output_type": "display_data"
    },
    {
     "data": {
      "text/html": [
       "<pre>Number of feature columns   : 1</pre>"
      ],
      "text/plain": [
       "Number of feature columns   : 1"
      ]
     },
     "metadata": {},
     "output_type": "display_data"
    },
    {
     "data": {
      "text/html": [
       "<pre>Number of unpacked features : 4096</pre>"
      ],
      "text/plain": [
       "Number of unpacked features : 4096"
      ]
     },
     "metadata": {},
     "output_type": "display_data"
    },
    {
     "data": {
      "text/html": [
       "<pre>Number of coefficients    : 8194</pre>"
      ],
      "text/plain": [
       "Number of coefficients    : 8194"
      ]
     },
     "metadata": {},
     "output_type": "display_data"
    },
    {
     "data": {
      "text/html": [
       "<pre>Starting L-BFGS</pre>"
      ],
      "text/plain": [
       "Starting L-BFGS"
      ]
     },
     "metadata": {},
     "output_type": "display_data"
    },
    {
     "data": {
      "text/html": [
       "<pre>--------------------------------------------------------</pre>"
      ],
      "text/plain": [
       "--------------------------------------------------------"
      ]
     },
     "metadata": {},
     "output_type": "display_data"
    },
    {
     "data": {
      "text/html": [
       "<pre>+-----------+----------+-----------+--------------+-------------------+</pre>"
      ],
      "text/plain": [
       "+-----------+----------+-----------+--------------+-------------------+"
      ]
     },
     "metadata": {},
     "output_type": "display_data"
    },
    {
     "data": {
      "text/html": [
       "<pre>| Iteration | Passes   | Step size | Elapsed Time | Training-accuracy |</pre>"
      ],
      "text/plain": [
       "| Iteration | Passes   | Step size | Elapsed Time | Training-accuracy |"
      ]
     },
     "metadata": {},
     "output_type": "display_data"
    },
    {
     "data": {
      "text/html": [
       "<pre>+-----------+----------+-----------+--------------+-------------------+</pre>"
      ],
      "text/plain": [
       "+-----------+----------+-----------+--------------+-------------------+"
      ]
     },
     "metadata": {},
     "output_type": "display_data"
    },
    {
     "data": {
      "text/html": [
       "<pre>| 1         | 7        | 0.000403  | 0.142811     | 0.500000          |</pre>"
      ],
      "text/plain": [
       "| 1         | 7        | 0.000403  | 0.142811     | 0.500000          |"
      ]
     },
     "metadata": {},
     "output_type": "display_data"
    },
    {
     "data": {
      "text/html": [
       "<pre>| 2         | 9        | 1.000000  | 0.195996     | 1.000000          |</pre>"
      ],
      "text/plain": [
       "| 2         | 9        | 1.000000  | 0.195996     | 1.000000          |"
      ]
     },
     "metadata": {},
     "output_type": "display_data"
    },
    {
     "data": {
      "text/html": [
       "<pre>| 3         | 10       | 1.000000  | 0.224014     | 1.000000          |</pre>"
      ],
      "text/plain": [
       "| 3         | 10       | 1.000000  | 0.224014     | 1.000000          |"
      ]
     },
     "metadata": {},
     "output_type": "display_data"
    },
    {
     "data": {
      "text/html": [
       "<pre>| 4         | 11       | 1.000000  | 0.256423     | 1.000000          |</pre>"
      ],
      "text/plain": [
       "| 4         | 11       | 1.000000  | 0.256423     | 1.000000          |"
      ]
     },
     "metadata": {},
     "output_type": "display_data"
    },
    {
     "data": {
      "text/html": [
       "<pre>| 5         | 12       | 1.000000  | 0.278403     | 1.000000          |</pre>"
      ],
      "text/plain": [
       "| 5         | 12       | 1.000000  | 0.278403     | 1.000000          |"
      ]
     },
     "metadata": {},
     "output_type": "display_data"
    },
    {
     "data": {
      "text/html": [
       "<pre>| 6         | 13       | 1.000000  | 0.309732     | 1.000000          |</pre>"
      ],
      "text/plain": [
       "| 6         | 13       | 1.000000  | 0.309732     | 1.000000          |"
      ]
     },
     "metadata": {},
     "output_type": "display_data"
    },
    {
     "data": {
      "text/html": [
       "<pre>+-----------+----------+-----------+--------------+-------------------+</pre>"
      ],
      "text/plain": [
       "+-----------+----------+-----------+--------------+-------------------+"
      ]
     },
     "metadata": {},
     "output_type": "display_data"
    },
    {
     "data": {
      "text/html": [
       "<pre>TERMINATED: Iteration limit reached.</pre>"
      ],
      "text/plain": [
       "TERMINATED: Iteration limit reached."
      ]
     },
     "metadata": {},
     "output_type": "display_data"
    },
    {
     "data": {
      "text/html": [
       "<pre>This model may not be optimal. To improve it, consider increasing `max_iterations`.</pre>"
      ],
      "text/plain": [
       "This model may not be optimal. To improve it, consider increasing `max_iterations`."
      ]
     },
     "metadata": {},
     "output_type": "display_data"
    }
   ],
   "source": [
    "train, test = features_sf.random_split(0.5, seed=1)\n",
    "model = graphlab.logistic_classifier.create(train, target='label',\n",
    "                              features =  ['deep_features.image'])"
   ]
  },
  {
   "cell_type": "code",
   "execution_count": 43,
   "metadata": {
    "collapsed": false
   },
   "outputs": [
    {
     "data": {
      "text/plain": [
       "{'accuracy': 0.4132231404958678, 'auc': 0.5, 'confusion_matrix': Columns:\n",
       " \ttarget_label\tstr\n",
       " \tpredicted_label\tstr\n",
       " \tcount\tint\n",
       " \n",
       " Rows: 3\n",
       " \n",
       " Data:\n",
       " +--------------------------------+--------------------------------+-------+\n",
       " |          target_label          |        predicted_label         | count |\n",
       " +--------------------------------+--------------------------------+-------+\n",
       " |    Above_Average_Linen_Tee     | Abstract_Diamond_Fringe_Kimono |   43  |\n",
       " | Abstract_Diamond_Fringe_Kimono | Abstract_Diamond_Fringe_Kimono |   50  |\n",
       " | Abstract_Diamond_Print_Jum...  | Abstract_Diamond_Fringe_Kimono |   28  |\n",
       " +--------------------------------+--------------------------------+-------+\n",
       " [3 rows x 3 columns], 'f1_score': 0.19493177387914232, 'log_loss': 1.3926180074198842, 'precision': 0.4132231404958678, 'recall': 0.3333333333333333, 'roc_curve': Columns:\n",
       " \tthreshold\tfloat\n",
       " \tfpr\tfloat\n",
       " \ttpr\tfloat\n",
       " \tp\tint\n",
       " \tn\tint\n",
       " \tclass\tint\n",
       " \n",
       " Rows: 300003\n",
       " \n",
       " Data:\n",
       " +-----------+-----+-----+----+----+-------+\n",
       " | threshold | fpr | tpr | p  | n  | class |\n",
       " +-----------+-----+-----+----+----+-------+\n",
       " |    0.0    | 1.0 | 1.0 | 43 | 78 |   0   |\n",
       " |   1e-05   | 1.0 | 1.0 | 43 | 78 |   0   |\n",
       " |   2e-05   | 1.0 | 1.0 | 43 | 78 |   0   |\n",
       " |   3e-05   | 1.0 | 1.0 | 43 | 78 |   0   |\n",
       " |   4e-05   | 1.0 | 1.0 | 43 | 78 |   0   |\n",
       " |   5e-05   | 1.0 | 1.0 | 43 | 78 |   0   |\n",
       " |   6e-05   | 1.0 | 1.0 | 43 | 78 |   0   |\n",
       " |   7e-05   | 1.0 | 1.0 | 43 | 78 |   0   |\n",
       " |   8e-05   | 1.0 | 1.0 | 43 | 78 |   0   |\n",
       " |   9e-05   | 1.0 | 1.0 | 43 | 78 |   0   |\n",
       " +-----------+-----+-----+----+----+-------+\n",
       " [300003 rows x 6 columns]\n",
       " Note: Only the head of the SFrame is printed.\n",
       " You can use print_rows(num_rows=m, num_columns=n) to print more rows and columns.}"
      ]
     },
     "execution_count": 43,
     "metadata": {},
     "output_type": "execute_result"
    }
   ],
   "source": [
    "model.evaluate(data)"
   ]
  },
  {
   "cell_type": "code",
   "execution_count": 49,
   "metadata": {
    "collapsed": false
   },
   "outputs": [
    {
     "name": "stdout",
     "output_type": "stream",
     "text": [
      "['Above_Average_Linen_Tee']\n"
     ]
    },
    {
     "data": {
      "text/plain": [
       "61"
      ]
     },
     "execution_count": 49,
     "metadata": {},
     "output_type": "execute_result"
    }
   ],
   "source": [
    "print model.predict(test[1])\n",
    "len(test)"
   ]
  },
  {
   "cell_type": "code",
   "execution_count": 50,
   "metadata": {
    "collapsed": false
   },
   "outputs": [
    {
     "data": {
      "text/plain": [
       "'Above_Average_Linen_Tee'"
      ]
     },
     "execution_count": 50,
     "metadata": {},
     "output_type": "execute_result"
    }
   ],
   "source": [
    "test[1]['label']"
   ]
  },
  {
   "cell_type": "code",
   "execution_count": 46,
   "metadata": {
    "collapsed": false
   },
   "outputs": [],
   "source": [
    " predictions = model.predict(test)"
   ]
  },
  {
   "cell_type": "code",
   "execution_count": 21,
   "metadata": {
    "collapsed": false
   },
   "outputs": [
    {
     "ename": "RuntimeError",
     "evalue": "Runtime Exception. Unsupported type operation. cannot perform operation - between string and string",
     "output_type": "error",
     "traceback": [
      "\u001b[1;31m---------------------------------------------------------------------------\u001b[0m",
      "\u001b[1;31mRuntimeError\u001b[0m                              Traceback (most recent call last)",
      "\u001b[1;32m<ipython-input-21-ec6db4b6b17f>\u001b[0m in \u001b[0;36m<module>\u001b[1;34m()\u001b[0m\n\u001b[1;32m----> 1\u001b[1;33m \u001b[0merrors\u001b[0m \u001b[1;33m=\u001b[0m \u001b[0mpredictions\u001b[0m \u001b[1;33m-\u001b[0m \u001b[0mtest\u001b[0m\u001b[1;33m[\u001b[0m\u001b[1;34m'label'\u001b[0m\u001b[1;33m]\u001b[0m\u001b[1;33m\u001b[0m\u001b[0m\n\u001b[0m\u001b[0;32m      2\u001b[0m \u001b[1;32mprint\u001b[0m \u001b[0merrors\u001b[0m\u001b[1;33m\u001b[0m\u001b[0m\n",
      "\u001b[1;32mC:\\Users\\Ridhima\\Anaconda2\\envs\\gl-env\\lib\\site-packages\\graphlab\\data_structures\\sarray.pyc\u001b[0m in \u001b[0;36m__sub__\u001b[1;34m(self, other)\u001b[0m\n\u001b[0;32m    931\u001b[0m                 \u001b[1;32mreturn\u001b[0m \u001b[0mSArray\u001b[0m\u001b[1;33m(\u001b[0m\u001b[0m_proxy\u001b[0m \u001b[1;33m=\u001b[0m \u001b[0mself\u001b[0m\u001b[1;33m.\u001b[0m\u001b[0m__proxy__\u001b[0m\u001b[1;33m.\u001b[0m\u001b[0mvector_operator\u001b[0m\u001b[1;33m(\u001b[0m\u001b[0mother\u001b[0m\u001b[1;33m.\u001b[0m\u001b[0m__proxy__\u001b[0m\u001b[1;33m,\u001b[0m \u001b[1;34m'-'\u001b[0m\u001b[1;33m)\u001b[0m\u001b[1;33m)\u001b[0m\u001b[1;33m\u001b[0m\u001b[0m\n\u001b[0;32m    932\u001b[0m             \u001b[1;32melse\u001b[0m\u001b[1;33m:\u001b[0m\u001b[1;33m\u001b[0m\u001b[0m\n\u001b[1;32m--> 933\u001b[1;33m                 \u001b[1;32mreturn\u001b[0m \u001b[0mSArray\u001b[0m\u001b[1;33m(\u001b[0m\u001b[0m_proxy\u001b[0m \u001b[1;33m=\u001b[0m \u001b[0mself\u001b[0m\u001b[1;33m.\u001b[0m\u001b[0m__proxy__\u001b[0m\u001b[1;33m.\u001b[0m\u001b[0mleft_scalar_operator\u001b[0m\u001b[1;33m(\u001b[0m\u001b[0mother\u001b[0m\u001b[1;33m,\u001b[0m \u001b[1;34m'-'\u001b[0m\u001b[1;33m)\u001b[0m\u001b[1;33m)\u001b[0m\u001b[1;33m\u001b[0m\u001b[0m\n\u001b[0m\u001b[0;32m    934\u001b[0m \u001b[1;33m\u001b[0m\u001b[0m\n\u001b[0;32m    935\u001b[0m     \u001b[1;32mdef\u001b[0m \u001b[0m__mul__\u001b[0m\u001b[1;33m(\u001b[0m\u001b[0mself\u001b[0m\u001b[1;33m,\u001b[0m \u001b[0mother\u001b[0m\u001b[1;33m)\u001b[0m\u001b[1;33m:\u001b[0m\u001b[1;33m\u001b[0m\u001b[0m\n",
      "\u001b[1;32mC:\\Users\\Ridhima\\Anaconda2\\envs\\gl-env\\lib\\site-packages\\graphlab\\cython\\context.pyc\u001b[0m in \u001b[0;36m__exit__\u001b[1;34m(self, exc_type, exc_value, traceback)\u001b[0m\n\u001b[0;32m     47\u001b[0m             \u001b[1;32mif\u001b[0m \u001b[1;32mnot\u001b[0m \u001b[0mself\u001b[0m\u001b[1;33m.\u001b[0m\u001b[0mshow_cython_trace\u001b[0m\u001b[1;33m:\u001b[0m\u001b[1;33m\u001b[0m\u001b[0m\n\u001b[0;32m     48\u001b[0m                 \u001b[1;31m# To hide cython trace, we re-raise from here\u001b[0m\u001b[1;33m\u001b[0m\u001b[1;33m\u001b[0m\u001b[0m\n\u001b[1;32m---> 49\u001b[1;33m                 \u001b[1;32mraise\u001b[0m \u001b[0mexc_type\u001b[0m\u001b[1;33m(\u001b[0m\u001b[0mexc_value\u001b[0m\u001b[1;33m)\u001b[0m\u001b[1;33m\u001b[0m\u001b[0m\n\u001b[0m\u001b[0;32m     50\u001b[0m             \u001b[1;32melse\u001b[0m\u001b[1;33m:\u001b[0m\u001b[1;33m\u001b[0m\u001b[0m\n\u001b[0;32m     51\u001b[0m                 \u001b[1;31m# To show the full trace, we do nothing and let exception propagate\u001b[0m\u001b[1;33m\u001b[0m\u001b[1;33m\u001b[0m\u001b[0m\n",
      "\u001b[1;31mRuntimeError\u001b[0m: Runtime Exception. Unsupported type operation. cannot perform operation - between string and string"
     ]
    }
   ],
   "source": []
  },
  {
   "cell_type": "code",
   "execution_count": null,
   "metadata": {
    "collapsed": true
   },
   "outputs": [],
   "source": []
  },
  {
   "cell_type": "code",
   "execution_count": null,
   "metadata": {
    "collapsed": true
   },
   "outputs": [],
   "source": []
  }
 ],
 "metadata": {
  "kernelspec": {
   "display_name": "Python 2",
   "language": "python",
   "name": "python2"
  },
  "language_info": {
   "codemirror_mode": {
    "name": "ipython",
    "version": 2
   },
   "file_extension": ".py",
   "mimetype": "text/x-python",
   "name": "python",
   "nbconvert_exporter": "python",
   "pygments_lexer": "ipython2",
   "version": "2.7.11"
  }
 },
 "nbformat": 4,
 "nbformat_minor": 0
}
