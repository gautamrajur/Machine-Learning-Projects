{
 "cells": [
  {
   "cell_type": "code",
   "execution_count": 103,
   "metadata": {
    "collapsed": false
   },
   "outputs": [],
   "source": [
    "import graphlab"
   ]
  },
  {
   "cell_type": "code",
   "execution_count": 104,
   "metadata": {
    "collapsed": false
   },
   "outputs": [
    {
     "data": {
      "application/javascript": [
       "$(\"head\").append($(\"<link/>\").attr({\n",
       "  rel:  \"stylesheet\",\n",
       "  type: \"text/css\",\n",
       "  href: \"//cdnjs.cloudflare.com/ajax/libs/font-awesome/4.1.0/css/font-awesome.min.css\"\n",
       "}));\n",
       "$(\"head\").append($(\"<link/>\").attr({\n",
       "  rel:  \"stylesheet\",\n",
       "  type: \"text/css\",\n",
       "  href: \"https://static.turi.com/products/graphlab-create/2.1/canvas/css/canvas.css\"\n",
       "}));\n",
       "\n",
       "            (function(){\n",
       "\n",
       "                var e = null;\n",
       "                if (typeof element == 'undefined') {\n",
       "                    var scripts = document.getElementsByTagName('script');\n",
       "                    var thisScriptTag = scripts[scripts.length-1];\n",
       "                    var parentDiv = thisScriptTag.parentNode;\n",
       "                    e = document.createElement('div');\n",
       "                    parentDiv.appendChild(e);\n",
       "                } else {\n",
       "                    e = element[0];\n",
       "                }\n",
       "\n",
       "                if (typeof requirejs !== 'undefined') {\n",
       "                    // disable load timeout; ipython_app.js is large and can take a while to load.\n",
       "                    requirejs.config({waitSeconds: 0});\n",
       "                }\n",
       "\n",
       "                require(['https://static.turi.com/products/graphlab-create/2.1/canvas/js/ipython_app.js'], function(IPythonApp){\n",
       "                    var app = new IPythonApp();\n",
       "                    app.attachView('sframe','Summary', {\"ipython\": true, \"sketch\": {\"path\": {\"complete\": true, \"numeric\": false, \"num_unique\": 43, \"num_undefined\": 0, \"progress\": 1.0, \"frequent_items\": {\"G:/img-002/img/Above_Average_Linen_Tee/img_00000021.jpg\": {\"frequency\": 1, \"value\": \"G:/img-002/img/Abo ...\"}, \"G:/img-002/img/Above_Average_Linen_Tee/img_00000034.jpg\": {\"frequency\": 1, \"value\": \"G:/img-002/img/Abo ...\"}, \"G:/img-002/img/Above_Average_Linen_Tee/img_00000003.jpg\": {\"frequency\": 1, \"value\": \"G:/img-002/img/Abo ...\"}, \"G:/img-002/img/Above_Average_Linen_Tee/img_00000015.jpg\": {\"frequency\": 1, \"value\": \"G:/img-002/img/Abo ...\"}, \"G:/img-002/img/Above_Average_Linen_Tee/img_00000014.jpg\": {\"frequency\": 1, \"value\": \"G:/img-002/img/Abo ...\"}, \"G:/img-002/img/Above_Average_Linen_Tee/img_00000026.jpg\": {\"frequency\": 1, \"value\": \"G:/img-002/img/Abo ...\"}, \"G:/img-002/img/Above_Average_Linen_Tee/img_00000022.jpg\": {\"frequency\": 1, \"value\": \"G:/img-002/img/Abo ...\"}, \"G:/img-002/img/Above_Average_Linen_Tee/img_00000036.jpg\": {\"frequency\": 1, \"value\": \"G:/img-002/img/Abo ...\"}, \"G:/img-002/img/Above_Average_Linen_Tee/img_00000007.jpg\": {\"frequency\": 1, \"value\": \"G:/img-002/img/Abo ...\"}, \"G:/img-002/img/Above_Average_Linen_Tee/img_00000033.jpg\": {\"frequency\": 1, \"value\": \"G:/img-002/img/Abo ...\"}, \"G:/img-002/img/Above_Average_Linen_Tee/img_00000019.jpg\": {\"frequency\": 1, \"value\": \"G:/img-002/img/Abo ...\"}, \"G:/img-002/img/Above_Average_Linen_Tee/img_00000041.jpg\": {\"frequency\": 1, \"value\": \"G:/img-002/img/Abo ...\"}, \"G:/img-002/img/Above_Average_Linen_Tee/img_00000039.jpg\": {\"frequency\": 1, \"value\": \"G:/img-002/img/Abo ...\"}, \"G:/img-002/img/Above_Average_Linen_Tee/img_00000009.jpg\": {\"frequency\": 1, \"value\": \"G:/img-002/img/Abo ...\"}, \"G:/img-002/img/Above_Average_Linen_Tee/img_00000042.jpg\": {\"frequency\": 1, \"value\": \"G:/img-002/img/Abo ...\"}, \"G:/img-002/img/Above_Average_Linen_Tee/img_00000001.jpg\": {\"frequency\": 1, \"value\": \"G:/img-002/img/Abo ...\"}, \"G:/img-002/img/Above_Average_Linen_Tee/img_00000027.jpg\": {\"frequency\": 1, \"value\": \"G:/img-002/img/Abo ...\"}, \"G:/img-002/img/Above_Average_Linen_Tee/img_00000010.jpg\": {\"frequency\": 1, \"value\": \"G:/img-002/img/Abo ...\"}, \"G:/img-002/img/Above_Average_Linen_Tee/img_00000037.jpg\": {\"frequency\": 1, \"value\": \"G:/img-002/img/Abo ...\"}, \"G:/img-002/img/Above_Average_Linen_Tee/img_00000017.jpg\": {\"frequency\": 1, \"value\": \"G:/img-002/img/Abo ...\"}, \"G:/img-002/img/Above_Average_Linen_Tee/img_00000004.jpg\": {\"frequency\": 1, \"value\": \"G:/img-002/img/Abo ...\"}, \"G:/img-002/img/Above_Average_Linen_Tee/img_00000029.jpg\": {\"frequency\": 1, \"value\": \"G:/img-002/img/Abo ...\"}, \"G:/img-002/img/Above_Average_Linen_Tee/img_00000002.jpg\": {\"frequency\": 1, \"value\": \"G:/img-002/img/Abo ...\"}, \"G:/img-002/img/Above_Average_Linen_Tee/img_00000040.jpg\": {\"frequency\": 1, \"value\": \"G:/img-002/img/Abo ...\"}, \"G:/img-002/img/Above_Average_Linen_Tee/img_00000032.jpg\": {\"frequency\": 1, \"value\": \"G:/img-002/img/Abo ...\"}, \"G:/img-002/img/Above_Average_Linen_Tee/img_00000035.jpg\": {\"frequency\": 1, \"value\": \"G:/img-002/img/Abo ...\"}, \"G:/img-002/img/Above_Average_Linen_Tee/img_00000005.jpg\": {\"frequency\": 1, \"value\": \"G:/img-002/img/Abo ...\"}, \"G:/img-002/img/Above_Average_Linen_Tee/img_00000018.jpg\": {\"frequency\": 1, \"value\": \"G:/img-002/img/Abo ...\"}, \"G:/img-002/img/Above_Average_Linen_Tee/img_00000020.jpg\": {\"frequency\": 1, \"value\": \"G:/img-002/img/Abo ...\"}, \"G:/img-002/img/Above_Average_Linen_Tee/img_00000031.jpg\": {\"frequency\": 1, \"value\": \"G:/img-002/img/Abo ...\"}, \"G:/img-002/img/Above_Average_Linen_Tee/img_00000006.jpg\": {\"frequency\": 1, \"value\": \"G:/img-002/img/Abo ...\"}, \"G:/img-002/img/Above_Average_Linen_Tee/img_00000043.jpg\": {\"frequency\": 1, \"value\": \"G:/img-002/img/Abo ...\"}, \"G:/img-002/img/Above_Average_Linen_Tee/img_00000016.jpg\": {\"frequency\": 1, \"value\": \"G:/img-002/img/Abo ...\"}, \"G:/img-002/img/Above_Average_Linen_Tee/img_00000013.jpg\": {\"frequency\": 1, \"value\": \"G:/img-002/img/Abo ...\"}, \"G:/img-002/img/Above_Average_Linen_Tee/img_00000038.jpg\": {\"frequency\": 1, \"value\": \"G:/img-002/img/Abo ...\"}, \"G:/img-002/img/Above_Average_Linen_Tee/img_00000023.jpg\": {\"frequency\": 1, \"value\": \"G:/img-002/img/Abo ...\"}, \"G:/img-002/img/Above_Average_Linen_Tee/img_00000012.jpg\": {\"frequency\": 1, \"value\": \"G:/img-002/img/Abo ...\"}, \"G:/img-002/img/Above_Average_Linen_Tee/img_00000011.jpg\": {\"frequency\": 1, \"value\": \"G:/img-002/img/Abo ...\"}, \"G:/img-002/img/Above_Average_Linen_Tee/img_00000025.jpg\": {\"frequency\": 1, \"value\": \"G:/img-002/img/Abo ...\"}, \"G:/img-002/img/Above_Average_Linen_Tee/img_00000030.jpg\": {\"frequency\": 1, \"value\": \"G:/img-002/img/Abo ...\"}, \"G:/img-002/img/Above_Average_Linen_Tee/img_00000024.jpg\": {\"frequency\": 1, \"value\": \"G:/img-002/img/Abo ...\"}, \"G:/img-002/img/Above_Average_Linen_Tee/img_00000008.jpg\": {\"frequency\": 1, \"value\": \"G:/img-002/img/Abo ...\"}, \"G:/img-002/img/Above_Average_Linen_Tee/img_00000028.jpg\": {\"frequency\": 1, \"value\": \"G:/img-002/img/Abo ...\"}}, \"size\": 43}, \"image\": {\"progress\": 1.0, \"num_undefined\": 0, \"complete\": true, \"samples\": [{\"format\": \"jpeg\", \"value\": \"image/jpeg;base64,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\\n\", \"height\": 300, \"channels\": 3, \"width\": 205, \"type\": \"image\", \"id\": 2249958624}, {\"format\": \"jpeg\", \"value\": \"image/jpeg;base64,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\\n\", \"height\": 300, \"channels\": 3, \"width\": 300, \"type\": \"image\", \"id\": 2249959408}, {\"format\": \"jpeg\", \"value\": \"image/jpeg;base64,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\\n\", \"height\": 300, \"channels\": 3, \"width\": 300, \"type\": \"image\", \"id\": 2249959240}, {\"format\": \"jpeg\", \"value\": \"image/jpeg;base64,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\\n\", \"height\": 300, \"channels\": 3, \"width\": 300, \"type\": \"image\", \"id\": 2249958904}]}, \"label\": {\"complete\": true, \"numeric\": false, \"num_unique\": 1, \"num_undefined\": 0, \"progress\": 1.0, \"frequent_items\": {\"Above_Average_Linen_Tee\": {\"frequency\": 43, \"value\": \"Above_Average_Line ...\"}}, \"size\": 43}}, \"selected_variable\": {\"name\": [\"data\"], \"descriptives\": {\"rows\": 43, \"columns\": 3}, \"view_component\": \"Summary\", \"view_file\": \"sframe\", \"view_params\": {\"y\": null, \"x\": null, \"columns\": [\"path\", \"image\", \"label\"], \"view\": null}, \"view_components\": [\"Summary\", \"Table\", \"Bar Chart\", \"BoxWhisker Plot\", \"Line Chart\", \"Scatter Plot\", \"Heat Map\", \"Plots\"], \"type\": \"SFrame\", \"columns\": [{\"dtype\": \"str\", \"name\": \"path\"}, {\"dtype\": \"Image\", \"name\": \"image\"}, {\"dtype\": \"str\", \"name\": \"label\"}], \"column_identifiers\": [\"path\", \"image\", \"label\"]}, \"columns\": [{\"dtype\": \"str\", \"name\": \"path\"}, {\"dtype\": \"Image\", \"name\": \"image\"}, {\"dtype\": \"str\", \"name\": \"label\"}]}, e);\n",
       "                });\n",
       "            })();\n",
       "        "
      ]
     },
     "metadata": {},
     "output_type": "display_data"
    },
    {
     "data": {
      "text/html": [
       "<div style=\"max-height:1000px;max-width:1500px;overflow:auto;\"><table frame=\"box\" rules=\"cols\">\n",
       "    <tr>\n",
       "        <th style=\"padding-left: 1em; padding-right: 1em; text-align: center\">path</th>\n",
       "        <th style=\"padding-left: 1em; padding-right: 1em; text-align: center\">image</th>\n",
       "        <th style=\"padding-left: 1em; padding-right: 1em; text-align: center\">label</th>\n",
       "    </tr>\n",
       "    <tr>\n",
       "        <td style=\"padding-left: 1em; padding-right: 1em; text-align: center; vertical-align: top\">G:/img-002/img/Above_Aver<br>age_Linen_Tee/img_000 ...</td>\n",
       "        <td style=\"padding-left: 1em; padding-right: 1em; text-align: center; vertical-align: top\">Height: 300 Width: 205</td>\n",
       "        <td style=\"padding-left: 1em; padding-right: 1em; text-align: center; vertical-align: top\">Above_Average_Linen_Tee</td>\n",
       "    </tr>\n",
       "    <tr>\n",
       "        <td style=\"padding-left: 1em; padding-right: 1em; text-align: center; vertical-align: top\">G:/img-002/img/Above_Aver<br>age_Linen_Tee/img_000 ...</td>\n",
       "        <td style=\"padding-left: 1em; padding-right: 1em; text-align: center; vertical-align: top\">Height: 300 Width: 300</td>\n",
       "        <td style=\"padding-left: 1em; padding-right: 1em; text-align: center; vertical-align: top\">Above_Average_Linen_Tee</td>\n",
       "    </tr>\n",
       "    <tr>\n",
       "        <td style=\"padding-left: 1em; padding-right: 1em; text-align: center; vertical-align: top\">G:/img-002/img/Above_Aver<br>age_Linen_Tee/img_000 ...</td>\n",
       "        <td style=\"padding-left: 1em; padding-right: 1em; text-align: center; vertical-align: top\">Height: 300 Width: 300</td>\n",
       "        <td style=\"padding-left: 1em; padding-right: 1em; text-align: center; vertical-align: top\">Above_Average_Linen_Tee</td>\n",
       "    </tr>\n",
       "    <tr>\n",
       "        <td style=\"padding-left: 1em; padding-right: 1em; text-align: center; vertical-align: top\">G:/img-002/img/Above_Aver<br>age_Linen_Tee/img_000 ...</td>\n",
       "        <td style=\"padding-left: 1em; padding-right: 1em; text-align: center; vertical-align: top\">Height: 300 Width: 300</td>\n",
       "        <td style=\"padding-left: 1em; padding-right: 1em; text-align: center; vertical-align: top\">Above_Average_Linen_Tee</td>\n",
       "    </tr>\n",
       "    <tr>\n",
       "        <td style=\"padding-left: 1em; padding-right: 1em; text-align: center; vertical-align: top\">G:/img-002/img/Above_Aver<br>age_Linen_Tee/img_000 ...</td>\n",
       "        <td style=\"padding-left: 1em; padding-right: 1em; text-align: center; vertical-align: top\">Height: 300 Width: 205</td>\n",
       "        <td style=\"padding-left: 1em; padding-right: 1em; text-align: center; vertical-align: top\">Above_Average_Linen_Tee</td>\n",
       "    </tr>\n",
       "    <tr>\n",
       "        <td style=\"padding-left: 1em; padding-right: 1em; text-align: center; vertical-align: top\">G:/img-002/img/Above_Aver<br>age_Linen_Tee/img_000 ...</td>\n",
       "        <td style=\"padding-left: 1em; padding-right: 1em; text-align: center; vertical-align: top\">Height: 250 Width: 200</td>\n",
       "        <td style=\"padding-left: 1em; padding-right: 1em; text-align: center; vertical-align: top\">Above_Average_Linen_Tee</td>\n",
       "    </tr>\n",
       "    <tr>\n",
       "        <td style=\"padding-left: 1em; padding-right: 1em; text-align: center; vertical-align: top\">G:/img-002/img/Above_Aver<br>age_Linen_Tee/img_000 ...</td>\n",
       "        <td style=\"padding-left: 1em; padding-right: 1em; text-align: center; vertical-align: top\">Height: 300 Width: 196</td>\n",
       "        <td style=\"padding-left: 1em; padding-right: 1em; text-align: center; vertical-align: top\">Above_Average_Linen_Tee</td>\n",
       "    </tr>\n",
       "    <tr>\n",
       "        <td style=\"padding-left: 1em; padding-right: 1em; text-align: center; vertical-align: top\">G:/img-002/img/Above_Aver<br>age_Linen_Tee/img_000 ...</td>\n",
       "        <td style=\"padding-left: 1em; padding-right: 1em; text-align: center; vertical-align: top\">Height: 300 Width: 205</td>\n",
       "        <td style=\"padding-left: 1em; padding-right: 1em; text-align: center; vertical-align: top\">Above_Average_Linen_Tee</td>\n",
       "    </tr>\n",
       "    <tr>\n",
       "        <td style=\"padding-left: 1em; padding-right: 1em; text-align: center; vertical-align: top\">G:/img-002/img/Above_Aver<br>age_Linen_Tee/img_000 ...</td>\n",
       "        <td style=\"padding-left: 1em; padding-right: 1em; text-align: center; vertical-align: top\">Height: 301 Width: 199</td>\n",
       "        <td style=\"padding-left: 1em; padding-right: 1em; text-align: center; vertical-align: top\">Above_Average_Linen_Tee</td>\n",
       "    </tr>\n",
       "    <tr>\n",
       "        <td style=\"padding-left: 1em; padding-right: 1em; text-align: center; vertical-align: top\">G:/img-002/img/Above_Aver<br>age_Linen_Tee/img_000 ...</td>\n",
       "        <td style=\"padding-left: 1em; padding-right: 1em; text-align: center; vertical-align: top\">Height: 301 Width: 199</td>\n",
       "        <td style=\"padding-left: 1em; padding-right: 1em; text-align: center; vertical-align: top\">Above_Average_Linen_Tee</td>\n",
       "    </tr>\n",
       "</table>\n",
       "[43 rows x 3 columns]<br/>Note: Only the head of the SFrame is printed.<br/>You can use print_rows(num_rows=m, num_columns=n) to print more rows and columns.\n",
       "</div>"
      ],
      "text/plain": [
       "Columns:\n",
       "\tpath\tstr\n",
       "\timage\tImage\n",
       "\tlabel\tstr\n",
       "\n",
       "Rows: 43\n",
       "\n",
       "Data:\n",
       "+-------------------------------+------------------------+\n",
       "|              path             |         image          |\n",
       "+-------------------------------+------------------------+\n",
       "| G:/img-002/img/Above_Avera... | Height: 300 Width: 205 |\n",
       "| G:/img-002/img/Above_Avera... | Height: 300 Width: 300 |\n",
       "| G:/img-002/img/Above_Avera... | Height: 300 Width: 300 |\n",
       "| G:/img-002/img/Above_Avera... | Height: 300 Width: 300 |\n",
       "| G:/img-002/img/Above_Avera... | Height: 300 Width: 205 |\n",
       "| G:/img-002/img/Above_Avera... | Height: 250 Width: 200 |\n",
       "| G:/img-002/img/Above_Avera... | Height: 300 Width: 196 |\n",
       "| G:/img-002/img/Above_Avera... | Height: 300 Width: 205 |\n",
       "| G:/img-002/img/Above_Avera... | Height: 301 Width: 199 |\n",
       "| G:/img-002/img/Above_Avera... | Height: 301 Width: 199 |\n",
       "+-------------------------------+------------------------+\n",
       "+-------------------------+\n",
       "|          label          |\n",
       "+-------------------------+\n",
       "| Above_Average_Linen_Tee |\n",
       "| Above_Average_Linen_Tee |\n",
       "| Above_Average_Linen_Tee |\n",
       "| Above_Average_Linen_Tee |\n",
       "| Above_Average_Linen_Tee |\n",
       "| Above_Average_Linen_Tee |\n",
       "| Above_Average_Linen_Tee |\n",
       "| Above_Average_Linen_Tee |\n",
       "| Above_Average_Linen_Tee |\n",
       "| Above_Average_Linen_Tee |\n",
       "+-------------------------+\n",
       "[43 rows x 3 columns]\n",
       "Note: Only the head of the SFrame is printed.\n",
       "You can use print_rows(num_rows=m, num_columns=n) to print more rows and columns."
      ]
     },
     "execution_count": 104,
     "metadata": {},
     "output_type": "execute_result"
    }
   ],
   "source": [
    "url='G:\\img-002\\img\\Above_Average_Linen_Tee'\n",
    "data = graphlab.image_analysis.load_images(url)\n",
    "data['label']='Above_Average_Linen_Tee'\n",
    "graphlab.canvas.set_target('ipynb')\n",
    "data.show()\n",
    "data\n",
    "#img.show()"
   ]
  },
  {
   "cell_type": "code",
   "execution_count": 105,
   "metadata": {
    "collapsed": false
   },
   "outputs": [
    {
     "data": {
      "application/javascript": [
       "$(\"head\").append($(\"<link/>\").attr({\n",
       "  rel:  \"stylesheet\",\n",
       "  type: \"text/css\",\n",
       "  href: \"//cdnjs.cloudflare.com/ajax/libs/font-awesome/4.1.0/css/font-awesome.min.css\"\n",
       "}));\n",
       "$(\"head\").append($(\"<link/>\").attr({\n",
       "  rel:  \"stylesheet\",\n",
       "  type: \"text/css\",\n",
       "  href: \"https://static.turi.com/products/graphlab-create/2.1/canvas/css/canvas.css\"\n",
       "}));\n",
       "\n",
       "            (function(){\n",
       "\n",
       "                var e = null;\n",
       "                if (typeof element == 'undefined') {\n",
       "                    var scripts = document.getElementsByTagName('script');\n",
       "                    var thisScriptTag = scripts[scripts.length-1];\n",
       "                    var parentDiv = thisScriptTag.parentNode;\n",
       "                    e = document.createElement('div');\n",
       "                    parentDiv.appendChild(e);\n",
       "                } else {\n",
       "                    e = element[0];\n",
       "                }\n",
       "\n",
       "                if (typeof requirejs !== 'undefined') {\n",
       "                    // disable load timeout; ipython_app.js is large and can take a while to load.\n",
       "                    requirejs.config({waitSeconds: 0});\n",
       "                }\n",
       "\n",
       "                require(['https://static.turi.com/products/graphlab-create/2.1/canvas/js/ipython_app.js'], function(IPythonApp){\n",
       "                    var app = new IPythonApp();\n",
       "                    app.attachView('sframe','Summary', {\"ipython\": true, \"sketch\": {\"path\": {\"complete\": true, \"numeric\": false, \"num_unique\": 25, \"num_undefined\": 0, \"progress\": 1.0, \"frequent_items\": {\"G:/img-002/img/Abstract_Diamond_Fringe_Kimono/img_00000001.jpg\": {\"frequency\": 1, \"value\": \"G:/img-002/img/Abs ...\"}, \"G:/img-002/img/Abstract_Diamond_Fringe_Kimono/img_00000010.jpg\": {\"frequency\": 1, \"value\": \"G:/img-002/img/Abs ...\"}, \"G:/img-002/img/Abstract_Diamond_Fringe_Kimono/img_00000009.jpg\": {\"frequency\": 1, \"value\": \"G:/img-002/img/Abs ...\"}, \"G:/img-002/img/Abstract_Diamond_Fringe_Kimono/img_00000004.jpg\": {\"frequency\": 1, \"value\": \"G:/img-002/img/Abs ...\"}, \"G:/img-002/img/Abstract_Diamond_Fringe_Kimono/img_00000002.jpg\": {\"frequency\": 1, \"value\": \"G:/img-002/img/Abs ...\"}, \"G:/img-002/img/Abstract_Diamond_Fringe_Kimono/img_00000011.jpg\": {\"frequency\": 1, \"value\": \"G:/img-002/img/Abs ...\"}, \"G:/img-002/img/Abstract_Diamond_Fringe_Kimono/img_00000017.jpg\": {\"frequency\": 1, \"value\": \"G:/img-002/img/Abs ...\"}, \"G:/img-002/img/Abstract_Diamond_Fringe_Kimono/img_00000008.jpg\": {\"frequency\": 1, \"value\": \"G:/img-002/img/Abs ...\"}, \"G:/img-002/img/Abstract_Diamond_Fringe_Kimono/img_00000014.jpg\": {\"frequency\": 1, \"value\": \"G:/img-002/img/Abs ...\"}, \"G:/img-002/img/Abstract_Diamond_Fringe_Kimono/img_00000006.jpg\": {\"frequency\": 1, \"value\": \"G:/img-002/img/Abs ...\"}, \"G:/img-002/img/Abstract_Diamond_Fringe_Kimono/img_00000023.jpg\": {\"frequency\": 1, \"value\": \"G:/img-002/img/Abs ...\"}, \"G:/img-002/img/Abstract_Diamond_Fringe_Kimono/img_00000013.jpg\": {\"frequency\": 1, \"value\": \"G:/img-002/img/Abs ...\"}, \"G:/img-002/img/Abstract_Diamond_Fringe_Kimono/img_00000005.jpg\": {\"frequency\": 1, \"value\": \"G:/img-002/img/Abs ...\"}, \"G:/img-002/img/Abstract_Diamond_Fringe_Kimono/img_00000020.jpg\": {\"frequency\": 1, \"value\": \"G:/img-002/img/Abs ...\"}, \"G:/img-002/img/Abstract_Diamond_Fringe_Kimono/img_00000018.jpg\": {\"frequency\": 1, \"value\": \"G:/img-002/img/Abs ...\"}, \"G:/img-002/img/Abstract_Diamond_Fringe_Kimono/img_00000012.jpg\": {\"frequency\": 1, \"value\": \"G:/img-002/img/Abs ...\"}, \"G:/img-002/img/Abstract_Diamond_Fringe_Kimono/img_00000025.jpg\": {\"frequency\": 1, \"value\": \"G:/img-002/img/Abs ...\"}, \"G:/img-002/img/Abstract_Diamond_Fringe_Kimono/img_00000016.jpg\": {\"frequency\": 1, \"value\": \"G:/img-002/img/Abs ...\"}, \"G:/img-002/img/Abstract_Diamond_Fringe_Kimono/img_00000024.jpg\": {\"frequency\": 1, \"value\": \"G:/img-002/img/Abs ...\"}, \"G:/img-002/img/Abstract_Diamond_Fringe_Kimono/img_00000022.jpg\": {\"frequency\": 1, \"value\": \"G:/img-002/img/Abs ...\"}, \"G:/img-002/img/Abstract_Diamond_Fringe_Kimono/img_00000003.jpg\": {\"frequency\": 1, \"value\": \"G:/img-002/img/Abs ...\"}, \"G:/img-002/img/Abstract_Diamond_Fringe_Kimono/img_00000021.jpg\": {\"frequency\": 1, \"value\": \"G:/img-002/img/Abs ...\"}, \"G:/img-002/img/Abstract_Diamond_Fringe_Kimono/img_00000019.jpg\": {\"frequency\": 1, \"value\": \"G:/img-002/img/Abs ...\"}, \"G:/img-002/img/Abstract_Diamond_Fringe_Kimono/img_00000015.jpg\": {\"frequency\": 1, \"value\": \"G:/img-002/img/Abs ...\"}, \"G:/img-002/img/Abstract_Diamond_Fringe_Kimono/img_00000007.jpg\": {\"frequency\": 1, \"value\": \"G:/img-002/img/Abs ...\"}}, \"size\": 25}, \"image\": {\"progress\": 1.0, \"num_undefined\": 0, \"complete\": true, \"samples\": [{\"format\": \"jpeg\", \"value\": \"image/jpeg;base64,/9j/4AAQSkZJRgABAQAAAQABAAD/2wBDAAgGBgcGBQgHBwcJCQgKDBQNDAsLDBkSEw8UHRofHh0aHBwgJC4nICIsIxwcKDcpLDAxNDQ0Hyc5PTgyPC4zNDL/2wBDAQkJCQwLDBgNDRgyIRwhMjIyMjIyMjIyMjIyMjIyMjIyMjIyMjIyMjIyMjIyMjIyMjIyMjIyMjIyMjIyMjIyMjL/wAARCAEsAM0DASIAAhEBAxEB/8QAHwAAAQUBAQEBAQEAAAAAAAAAAAECAwQFBgcICQoL/8QAtRAAAgEDAwIEAwUFBAQAAAF9AQIDAAQRBRIhMUEGE1FhByJxFDKBkaEII0KxwRVS0fAkM2JyggkKFhcYGRolJicoKSo0NTY3ODk6Q0RFRkdISUpTVFVWV1hZWmNkZWZnaGlqc3R1dnd4eXqDhIWGh4iJipKTlJWWl5iZmqKjpKWmp6ipqrKztLW2t7i5usLDxMXGx8jJytLT1NXW19jZ2uHi4+Tl5ufo6erx8vP09fb3+Pn6/8QAHwEAAwEBAQEBAQEBAQAAAAAAAAECAwQFBgcICQoL/8QAtREAAgECBAQDBAcFBAQAAQJ3AAECAxEEBSExBhJBUQdhcRMiMoEIFEKRobHBCSMzUvAVYnLRChYkNOEl8RcYGRomJygpKjU2Nzg5OkNERUZHSElKU1RVVldYWVpjZGVmZ2hpanN0dXZ3eHl6goOEhYaHiImKkpOUlZaXmJmaoqOkpaanqKmqsrO0tba3uLm6wsPExcbHyMnK0tPU1dbX2Nna4uPk5ebn6Onq8vP09fb3+Pn6/9oADAMBAAIRAxEAPwD2ilpKKQx1FJRQA6ikozTAdS02lzQA6im5pc0AQ31/babYzXt5KsVvCpd3bsK8K8W/FHUdYuHtdPkaxsOgC/6yQerEdPoK0vjD4pM10mh2znybcCWcg8M5+6v4da8XknfduB+Y1lKV3ZG0Uoq73Otg1GbB2tub/aPJ/Cqmpa3qhXcbmYwoQoTfnYfasfTnnublYo0kdif4Bn867VfB2o3+l3R8vDMg2j1INZtxjuaR55LQreGPiHqumXKIt27oesU5yrf4V7/4V8U2niWx3xnZcIP3sLdV/wARXyqunyLO8M8ZRlba4IwVPrXe+CtVuNKvre6VmMtuQkuT99enP4ZH4CqU+X0E4OSs9z6OpajikWWNJEOVYAg+oNSVucwUUUUAFLRRQAUUUUAFFFFAFLNLmkzSUgHUU3NGaAHZpc1HmjdQBJmjNR7qA1AEuaqapqEWmabcXc77I4o2dm9AB/kfUirGa8u+LmvMmnx6RA2GnbdKf9kcgfnyfwpTlyq5UI80rHjev6jJqN5Pdy8PdzM+PRew/pVPSdKk1e9EanZEPvv6VSu7lZLhnz8ijYg9hXceGo47PS1mfgN8xOOa55txidMIqpPXY7fwtoNjYRKsNuuf7zDJNd/aWqqmMVwOjeKNLikSOaWWEnoZoiqn8a7+zvoJolZJFdT0ZTkYrnitbs6pbWR558RtAhtrmDVIYwoc+XMoHBB6H865HTyFvYyhG2eLHPqP8/rXqvja70uXQLiC4vII5iuUVnGc/TrXjVhd7IYWY5NvLg/7rcH+laLqjOXRn0f4Su/tnhixkzkqmw/8BOK3a4b4bX6S6Zc2QYFoZN6jP8Ld/wAxXcCuyDvFM4aitJoWlpKWqICiiigAooooAKKWigDPzRmkzTSaQDs00tTS1MLUASbqTdURak3UATbqUNUG6lDUAF5dx2lpLPKwCIpYkmvmrx7rsmp6pcTbjz8i56hf/r9a9n8b6gFtBAzYhCtJKB/EqjOPxOB+NfO+qO9zMZH6tkn65rGbvJI3grQbK1vbCazTdjk4UY5z616Zo1gZ9JSGLiTYAp98V53pM1mwWO7m8loWLK2cA16L4dvVkto5Yj8hGVNY1b3Ougo2ui3oXgub7YxvZ7jYYzkE/wDLTsfYV1nhKFotSuLKRvMjReCDxnHOPar1neLNZ5Y8hayfCmpWp1eQyzASS5KqOoGSOfes272NOVxTKfjXwtqdzMLiznIj53KqjOMfzry5kktpHimU7nU5H0r6XVoZ7Tf96NvukjGR+NeDfEGCOy8QmOEYZh5igdsdatO2hna6bZtfDvXjb6zbsrkvsMZGfvj0/HH54r32N1kjV1OVYBgfY18j+Hp3g8S2yqTsedVA+pr6u0kMNLtw2c7B17V0UtLo5K2tmXaWiitjAKKKKAClpKWgAooooAyyaaTQTTCaQATTC1BNRsaAFLU0tTGaoy1AybdS78Cq++nBsigDzn4l3v2e3uEyf3lukanHcuCf0U/lXj0e24SVD95AT+Br1H4tSCN4sgEFOPc5H+B/OvKNLhll1AoGA3KS7H+Eetc73bOmL0SMl1OWz2NegeC79PsX2ZjhlOV+hrlNVghS6FvancF+8c9Pqam04yWz/ISrr8yn/PalU96I6K5Z2PZIb+S3s3aKMyMBwgIGfzq1omoyvP58WkRFs4JadFZT1/LtXDaJ4lXzFjuF2nowPQ+4r0PQP7HuHM0kS5HYtgVzJa6nfdWu1c6ZdQuLiPEtqIh3YSBhn2rwzx/ci98WSeSdyRERlh6jkj8yB+Fdr468fWWkQHTNIdZb9xtLKcrAD3J7n2/OuBt4kUaa0pLs+ZPmPLEknJ/GtNVqzF2eiOi+HHhFtR8Sx3lzGfKt2BC+p96+h1AUADpXJ+C9KSws9+Q0jKjOw7sy7j/6FXXDpXXSTUbs4KrTloLRRRWhkFFFFAC0UUUAFFFFAGOTTGNKTTGNIBrGomNOY1ExoGNZqiZqVzULNSAk309WqsG5qRWoA84+L1jJNZ2dxGpIL7G59q8xtAsUrQw/MQDJM46ADp+vSvafiNGJPCzFhuk8wbeeAMHP/wCuvH1jVbV4kO0S4eaUDnb0GPr0Fc8/isdVJe7zGda2a3WqqmF2g9WbavuSewxXS6dZ2msae81rHtkgGZNmSFycLgkc5wcnp2p9jPBbt5NlbTpI48sBMSbyCrHcTj5fl5GMfXNbCCEQxwSS2zRqywqjSFZADIHKhWwyAbWIwMc9ea09mnuSqvKnYZo/gfUNZ8xrOGJ2iYKw85QfYgE9PcU+8tptDuZrC/j2XUYyy5B4IyORwa6XQ5luYxbWkDrdQqS8sYCiVSzDA6YZSCu7GDhfrVXVNNt9RSbDEysMM0zlpY9vDA9eQQeKyq0F0NaeKd/ePIboGbU2ZuPmyQK6G0hmkNpMp+aPMWPRlOR+YrN1K1Gm6rcI7bwzcN3Axk/4Vp6NcG4sbi3Vg8m0SRMP4iOfz7flUz2Kg02z6D8DXy3uiKwOdu0fhtAH8q6qvG/hP4iD6pNpknyiQErn1zn/AB/OvY1rooyvE5K0eWY6iiitTIKKKO9AC0UUUAFFFFAGIajY081GxpARsahY09jULGkMjc1A7U92qs7UgHq1LLdQWkBmuZUijHVnbAqs0vlxs55CgnHrXmnjHWFSCD7W/nXt180cQPywRk/Kcep6gfic8CplKxcI8zG/ETxjb6kY7K0Ym0i+Z26ea3YD/ZHX3rA0u232P2q4SWSR8uY0IUt0CqM85w2c4IAPtXJ3TvcXYUHLSPtUZ9TXdzpHZ2ixosq+bksqR88D5QVPUn3zx06UoRv7z3NJSt7q2ILJQ1zJNBcSutvEE8tmVSS5xjcOGTjBOACSB05rpPDd9BaSyy6nqdkZwxEa/akjkjVgeUVyFHOOuOB6deNNlcLqEhWOd45IZI3jt2CTN90jA/iO4qMAc+lXvt00BkitbsWenr5ZEjIDGilRkNhfnbIYYHJI9M1qYx+6x2NpJJDdO1lIDLa3ipHKrgIY7ghfvLkYDhDxnnd6mrv2CLxBdz+SCmovbNsmMZt0nJAEeCWYtk8ZJBzjjqK53wgh8vU5E82Ga4u7eOOSSFUZQGDhiicDhS2B/wDXresdTs4fDS3H21Fmlk8q1NuGlJMZ6hdhKZO3k46jkUNJqzNW38f9M8altby1e6sb9JItQtpWWaN/vA55/UVd8MQzPqtskfy+ZIsYB6HJrqviYYtS8c2t/YwrGNRsYZXkxt3v8ysSP4SNuCP9msrSbUz3lrFbErK8iqkn1PX68g1z1HbQ0pRvaXY6/wANQ+V4pu7xFCfZI2ulYEAACROD/wABYivfuM8dK8f8N6fDLD4guRHiO5nt9PiXGBsMgJ/8dx+VevoMIB7AVVDYjEPUfRRRW5zhQKKBQAtFFFABRRRQBhMahY1IxqFjUjI2NV3apXNVpGpARSNVZmp8jVXdqQxs+Gt5FOMFSOa8G1W8kvdQmu5M7jINpHQKOAPwAr2zUpdtjN1x5bk49lJxXklvpRu9Avpt26VHwij1HJ/PFZTeptT2ZgaRA0via3A4EbGUsRkKFBOcflXpR0mHUY4rpLmO1YZlx8wA45b5fugjnHrnoK850Wf7PqDP+7DSqYEeUZUMSCM59cY/Gu+ubpYYZkilBknRYTLvDqzZPyKFOS2VA2//AK61TsiHG7djndVhtTe25hxIULQ4lzmNgAV2BT8zfMAcd1Nad7pENm0HlfantbKBiIJZFWV5SfvxxHJUnIHzKMYyO1VLZrO2N1bItvK+FabdIWcneOQ4wFbqPkzjOSxxWxaXiG+tbxYbqS7mdYxcxAqrBmYLJJt5DbxtdRgNyQeatJ2uZyabsLDdPDY3cdgLSylV455lKOfswX5WEruv7x9kzksOyjANU4Wujod3IWe1jtrySKWfz8qqZZl3FcbcbsAAfNnjnioxa6k2kxG3S4NpaxwM0EbDdGwOJFMbE4Zt7sNwwVIPTgUtHFj5etwXkyGCe9UxOgDmJlJYSFehUZwRjkFgMEUM1p3StE1tbQ3lpp96ILoQfZ5Y45JU24UxxkewyfNOPc0eFIWXUonGAYVZskfxY4rq7Kys9Y8OXNj5Jt762YBoVXfhsdN38StnKn0cHuQee8PSR2+oSRzZ3ogjfPGTwVP44x9a5cQrSub4Zpxcex634bsEi0zTYwP9dey3LcdQgIX+S12ArG0KNRp+mkfw2ufxJGa2a6KatFHLUd5MUUUCirICgUUUALRRRQAUUUUAc8xqBzUrGoHNSMhc1VlarDmqkhpAV3aq8jVLIaqyGpYyvdDfA474I/MVw9lE1kuoWqqSFmZ4ie+MEj64I/Cu3kPtmuU8QSrptjdXTKqs8oaLPJLgAAAd88g+1ZyXU0g+h5wLaO4kS3RSD9qZpGP90dgPYA/n7V2tzDbrb2ySxp5H2ZMHADM2VLfN1O1TwvHc1zOn2kywSTM7l/L8pAyHadx2kj6bx9c9a128xIPtM8sS6bNtV2kkAaNlA2uvH3hnIA6gkdOa0Ww7XbZdsdJaCAW81vsiWRkcxsrNKpA+c/3RlQPbtyK1xBcWKIYpLbyvlgY7/NilAjyyYXLNlpZOMZ4zgVmaffmZYJ47WK5yiMnmReZt4I4XqoAGOSByTnmtmTUZ4r+ayv7GSKGOBEeVAjsu8bk3qrE8HLLtJYKxB4NaK7MXLl0Qf2YlvfT38kVxDYJtFqttZ7biM7AoKleZEUDBBO/GDjPNcpoGkR3+o6pBPfQlpLhQ0YbymuGZgFAB5Ay2QQhHXOK77xHqIvfCdvHpxaQLdfI1tJ5gfaC24k5zncQw5PPUdK5XREkl1LVjdu1vZX1qk7PcSny4Q6ECSRhhtvy4zn5jtHOaGjWErLSxv6eLI27RWtxcuEi8sRyQO29VJJTzAFRto3AA+uMHArnpYZdO8SwLNC0KXtuJYw4K7QT93n0bv/tZq9avqSyadGhu2kjjhISUkKRxHgKTkofL3Lu64PrV/wASI2uaeZ42mWSz3y2PnAsJF6yRpITkkKCSh3YKHBA4rOrHmjY0py5ZJnrHhecS6dCo42KVx6dDj88/pW/Xn/gLU0udNSZCcqqPIP8AZYAZ/Ajn/wCtXoFOk7wRjWVpsBS0lLWhmFFFFAC0UlLQAUUUUAc0xqBzUrVA9SMgkNVJatPVWSkBUkNVXNWZarNUjKV5dLapna0kjHCRIMs59B/j2rivEomigN9esr3SjbDGp+SN24VV9T1JPsK7gxgO0pPzkYBPYelcR4gRrvWI1IykCF1DHA3nGM+mAVz9azka0zmdIlHl3GdipAgBmQ8thcA7c5yD19+vNMvI5T5UjqXRECpvJUncDgKD91cg9OSVPParFzB5ZuzHGI/MuUC5JDnlt0bf7W8LnHHfoatatElro1rBLLE5ELE7GOQQ2XU5HcYbnowBwOa2RMtEWdFMFxcJNbWRkRFB+x78xtIfuIw7KMZJ64U9yK6SbTSUm064aW4undrmZ9xWR3cZZ2QA87QQoGcLwADnHFaXYtqDw28r/Lbu7biB3wM4YjGcDHrgn1rUis1s7VNTgl8i5EkJt4QNwMLuRvk3DncQMKR0+Y9RVxXukSdpXW/9f8MXdTt5rPwzaNDBuQTATyYcBk2Pgsc4YhTyOgGAasNcrZzQXUXkTWcdiLcXM+XSYAIrgW4+ZwvP3sc5I5rCuLi4/tGLUr+/vDNuaNpY3AeJCGKIg6DO3oBtwTkVu2V1paPJO1rGVWBnNth0cRuxV2xnDkEbuBjDE4GOG9NBRTbvsXdNGnvp+q6pe20N1FHlRCVZYJJvMKoqM4EkaqdvyZwNxPPQW7B4Vki1S0YiI36xSqIlaWRJcYBc84HmBcDAPWqn2qK60+S4gtLS03JI0m2MXHmrFGrxbhLkZCiTpgjbWh4SJbW1hW0aZJ5YnLRRCGJcheSDuxlVUgqMc/w0LUqWjs9yv8OtTNjrGl85hnd7C4XrjIyjfqBXuUQKJsPO3gfSvn7RdPm07X9Ts2VQ9rOzKM/xIzFcf98j86+hM5JPrzXPQ2aNsT8SYUtJSitzmCiiigAooooAWikpaAOXY8VA9TNUD1IyCSqslWZKqyUgKklV2qxJUDCpKIHXcMGuR1G1aXUbmYAhY45nIzjcRtCgn04H5V2JFY+tqtvpN7P0+TGfqQKhq5UZWPNLaWS4tpArNdMhBAVCisQpAwWOWOBt6A4+lXdeuowts3lhHe2IWMkEleTn/gWFHHYNVeE+bBMrTsJSQ0i84Xaccn/aJ/PA71N4jnX7PDOqu8JQPCT1Q4xsbvsz8yntkr6Y1ehC1L/gzRhqV3LC22SNImcxybljuJQcCN3+6FLE9OSAR0JrZj0zUo5rgahaXBuZ721U70AEnMjnawOGwV7HoAKyvD8K2mjrK0yx3EcMdxChJlW5aQjyl8sHcGVtzkqOwB9+ms7Se6/tmO5QzCGKZLVNQjHlgK+QzIxLbsbvnJztIHaqT0K5Wk+lzltZhngsIre+sNThHnCaa4kt9nmHGAqbucAYAHr+VdFp8K2Mdt9kWdLu5i2eZKCsxQHdhgchBvyR1425PWsTXiU8KS6hbWn2ZEuUTzImkjSQ56Ku8q2MfewMDHOTXd+HJLe/8KeeIPJhD7PJSR2Rd2QGKljuJY98jjtg0763Js1eL9NypNp9u2nW81sV2+bJG1vbqXUboZUcxgLnGWXIxtX1xwJPBshhkjs/LlVYJoWhT/XkqCDjKjG33H3cAHvm/aX0cGlhdGvIxG7YSXzA7XOCOSxwAewQY28/LSeL7azl8MzXFwbSPUAvmO0qHYChAcyY9M8HIckgd6p2Yopwsy5/wjbSfEbU7oj/AEd7yLd77k3n/D8a9J6msrTpEu2ScD/WwQXIJXBOUI5/KtSsoQ5blTm5W8haBRRVkC0UUUAFFFFABRRRQByrVC9TNUL1IyBzVSSrT1WekwKslQNVlxVdhUlERrA8YyJF4XvWdmAwoXYMktkYAHuR/OugNcv43m8jRoTlRm5Xl1yMYOeByeuOOeeKSBHncMsssciqw+0SFWkCHAQDJ/QgEe49TVzXkciK1bosWxmJGWGck57DJA/HNOsoEuLmUx3CGQOSpkBwDg8NlckEZ5GGHPGeaZq0dw8ge+iEKk7mQovzIpJIBHytluSeBwKpspLqux1OlaM1kiX7NdR2Ud1LAZ9KhbzImSMs0iBh90eoyTjir9pb3FleLqcws7eKfEaPMGIuHkIB3tvLeY0YCtxsU7jxiudk12ymWXda3dwUZmkvHZkcl4hH0B/d5CnoOhIA5zWpdRRXuiW093bWDwIXUNHcy25DZ5LgI0eTjrnnA54rSc5O1/QIU4K9tFu+u/X+tC54gnl1LwZHJKtvbBYxH9nCsFgdXKmBUHOQQT3zsJ9DWp4ZiluPDMDQyRRzLIkA3Q4CuQfmyJMPtUliGXqO2ayZpftFvH9nghM0sbgGa5FwZFEYSVlaNeuAhbgNjOByxqXwffGTSraw+2SXWJ9vlA4SMsy4G7GWfr0zgZJOCMhml8tTXS0tZLK4vTPE0QQLK8CCWR2DMFRo1JZyQoYZ+Zc8MvbGvrua6vW+22s0FnPk2sYlh2CT+KSXe4Dy4JKgsQvPcEVev7tNPhkt2WK6gmvJftbwrGrC3wQqZT+IqSQ/XIHPOKuSBbxW0m9eMzqjRq24qCY1DoyE/KoZdrjoPmPpQmrlyi+VJL+v+B1PSPDLLcaFpd2BIrGzWIh33EBTwGP94d/fNbdYHg2JrfwxBaO5eS1d4nYtkk5yTn33Z+hHXrW+KbMkLRSUtIYUuaSigBaKSigBaKKKAOUaoWqVqiapGQPVdxVh6gekMruKrsKsvVd6kaITXF/EX5tLs03qg84ud4wrYA4Lfwnngnj3rtTXB/EeRUXTT52xwZfkV8M4IUY+nBzQNGBp6/JdzbAWWIu25gcHB6Hueo/AetMuZZLW8heKSJXjlYrI3zAlj8wYY4GO2P8AGp9GnQWU6J9kjdoDbGSRGZc4KhgR93A74Oe4HWqumajNqMgEVxFLKh3CJFZfmLY3EHqPmPvz6VStfUG5K1jTvYbWC9S8igH2JwY/KBKtE2OYm7nAG5T/ABLxnIONWXT4dPtPs6pK0sKJI0cMa7ZVkAJHLHeAW6ehHTg0wwve/a4Y5zcWDJsISPcYWBLKytkJHhuRuYcEgirK3lpDbLZ32jSx3cAFsxgZJlEigDhGABI25xk555NW3pqVBWdoa9v6t2KuqzNDZ+HobK0lkgjE2+GJH80yD5t2MgnGGyMjj65qx4ftZ4kLvKJUtfLia3uCxK+ZxGISvGGjUBhknOORiqqa3p3mW1sn2q6t0u2mlS4jNucNGVC71djguEAPQZ5qtZaTqWk+L7iW5lFlZWS+RJiYzrbK8ZKW7EcrxlSe3J9Ki9jRrmkzRh8Q3pnlt1u7VSSyOg0xGiCKcncWkA2r64HA+lVrHxXqN3qDx26W0oeIW1tstBGJlTLL8jEgEEnGTnDY6dKc2mXc1/qVlcW8kUUDmS4XIDyljuUk/wDPMZO3+8RknjArToEu4p1nI2t5AVk2bOvTHA6fXPJPNPZCiuaSsn/w+n5n0B4Ilkm0iZ3na4EjrIkzKgLqyDBOwAdABjGRjBziulrzr4Sa0+pWV9A+zcpDuq/wSZIfH+yxw492avRao52rMWiiigQtFFFABRRRQAUUUUAco1RNUrVE1SMgeoG61M9QPSYyF6gapmNQtUjIzXl/xL8ttXtRIvC2wG4tjALtnjBJ6CvUTXlHxGZptfMaK5McSL8oz15/wpoLGLmU+HDNCozE0jMxPJYgKOvOcbj+BrH0mR4bjMYUsRt24ByMgkHkcH9eldVpMK/8IzLFdpNbxSs264aLdGjdAzMMshA45GDzzzxFeWhtZYHl+yv5EBl3ECQXBIwD7r0IJ7kY74q6Bp6FqW8U2+dRkkdUyPIPBiBHGxQxC+oBAFX28Wx3N1MLaG689rlZo3gkXJYDD9cbhgthfpXMxW817AVjkKzs4cBnG+QbXJIzjd05PT1qlBcS2OqJIzh4YJMlgjEbQTzn8x6UOTSdhxtpfo/60O8m1q0m06ONtOu7OVI4syTzB/MReCRDyQcFgDnAJyecYWx1ezitLn7TqM8FwiKHgtjKWcxu6jzdo5kweWZtvIA9t3TbCwvgEuraKZTyCy/1rZg8A6Fu81I503EllEmQckk8HPcmueOJi/iR0zoNWUWcTFc3l5PK8Kyxo48+zk2MEKyAM8AYjB7bcn76f7RqKJ7hgmo3EyRxRSK9vcNtRWUhtzPldzhSADgluvc10uqWyeHbxtOt5riCCRfOjkCrKSmVGzDcDDkncVIAb1rAHimdrRxJdTlIsyMDbwRMjHC8sMY3EgHgnrjoa6ItNepi073XQ63wfr+m6L4ntFv78AXNvciSWeIoiSbldjFIcboGxhAQT+dewZzz6189PZSazHbwak1zJcr9ntrCWa7EscTIQJWYhRhTgAHBUnHOTmvoZjl2PqaaM59AopKWmQFLSUUALmkoooAWikooA5RqiapWqFqkZC9V3NTvVZzSYyFzUZp7Uw1Ixhx3IA7k9q8I8TapLqetXF+jusE0hMSgnG1flXj6AV7D4ouzZeGNRnBIbyWQEerDH9a8WmTdpPmDbtVxGepORkjb6Dk/WlexvSgpJp9TqdEjuZLHTnhlaOaNUSRl+9seTBIPtnnr1HatO7tTPbC8LYivI9wMPy4yAwRxjjHTcOgzkdWqjpE6wLCIXRgUhZQzqoPUMvJ4fc5K5wPk68VryG1htFtYIY5DCCqOwKXCIQcK6YBAyzYIypz1Na2urnM24uyMI2cUlk8kkUcN0jSW6PJ+7di8fyhQRg52so3cKp455rntVsY7e6uboXsMkW5kSME+YOq7WXGFCnIz0OOM16Xp/h6yudDU3GJ1cGT7OzMIiXBCNgEEENjkY4yOa4LXr/8Atq/Uognxul2LKxVTyW3MSfl9hwMe5NLoUdf4K1Az6fArsTJCfKYnqcdD+WK9Tsn3QivAvCF3Ja6wUklRhcLgqnRGHIHp0zXuekSebaKw9K4KkeWZ305c1NXMfx3atLawTLGpXZJCzIP3p3YOOPmMYAZiF5yqnkZrgPEGiXFkEWeO3jt3m8x3jkLsGY4iaYY3IfLyQMHLMx64FereIbFtQ0crGqNLDKky72C9Dzhv4TtJ5HP515dqziTW7rUl1CJTclmMd3aTRo8LAbFY7CGG3A5IHcY4NdeHl7vocleN3ZvcxBqGoaU8FnFHFJblwBbTKJFRiQNyA525yOe/pkZr6ohlSaGOWNgyOoZSDkEEetfLM0lvHfWU9rcxXaNMjC3Fx5rxMGyUz1KHk7iM8c9Mn6X8P3Iu/D9hOF2b4RlP7p6Efh0rYwvdGnRSUUALS0lFAC0UlFAC0UlGaAOUaonqRqieoGQPVZ6sPUDjihjIDTDUhFNIpDOS8f3EUXhtopAxEzgbV6nHP9K5C60ln8NPGUaFbKwVmXHzvJu5z7bmYf8AAa6nx6ryrpcMSFnEzPnsDgBQfqTx9DVfUpVtPC93OeJbnKRg9SqAhfzdgfq1I1Tskc1pO6eKwRi0onj2kSwrIFjVeSW4IAI4XsCDmruo2V7axW7Xdo9vEjqYkBZsLgncjZIRe/B/MGsTRL27snljtPKa5ikXyfMMZ29iVDckkADjsTXTeIL3zNLsraOApbBlljtZFO63XdhkU91Vjlf9mTH8PFX0Dd6kV3qmpWXhhobCGQG5ypPmhxtwN21Sg29R0PGe9YcEK29/dO+wGPTzLjy/KGSUHTGSOTz6VreIjBpMf9mIUe5gASe4IKJHGxYAcdcrIrHOCO+eKymaMTQ3Ef2yzle22vGUUhgu3BDMDtBwGxgnABzzVNEJ3v3KE1vPaWI1KM4WGYPHng56jP19+a9p8HajHe2aGNgUdA6/QivDdVuZrvT4xIZW3OXeSSdnOR2wTtz9BXY/CnV5FkNkxOYX+X/dbnH5g/nXNXhpzG9GfvOB7Yi7/wB233W+Ug+9eNXNtNHftHNLJbp5Fum+OXBjlVAr/Jn5gQpzx1XrXs6sjAMp684riNd0OyvPFRSF/Jv5EEoaTkMecANj5R14OVJ9OtGGdm4ixC05jzNbxtI1ODUgYriLe2UjwVkQ8MqsRwcHPPTjrX0L4CukuvC0TR3BuFWV9sjPuYq2HBb0YhskHpnHbNeN69o1xbF5dUtRZ2qylBviKKRySCqsd7Yw3HHvxXdfBG5jk8MX1tFIjpDckoM/vFQ52iQAY3cZyM8EeldXQ5ZLW/RnqFFJS0CClpKKAFopM0UALRSUuaAOTaomqVqhc1AyF6gep2NQsaTGiEimkU+kpDKN5YpcvHLhTJDlkBHDNg7c+wJJrhfFcJt7vSNI80szLuyFywUMcDPqWOST6D616PiuV8R6eLzU45haNJJBGEWQZG1WBGPxye38I9aRpFnm2nwsNS1K0hlfeWzENqsJNpx8ysCDwc+tWZk+1aFDc28Vv56lXIhto4WO1gDkoASNzAA+o7UniNf7N1+31KNI3hnkkdFYArhXKYIPH8Ofxq5ZX9tdR3N5IXa4kiELQR5kZlLgnYmOSApPXA9qcWtmaypyceeKKU+q/wBp/Yo9URk06O8jkZtxZeSQ7OxyzEkgtnJ7elWdaS2kvwkSyJKVhS5eEOsWWJ5VXyAuAqjHbGB1pgtrEz3C+akqrKHF1EC+VK9gevYeuRntWvqmjWOk6YSuqO91LHGYZZy+2VCHG4oqko204wepG6qRk2c/e6U0UEZuZIWhCq8BtwTGyscFh6kOGVs9wO2KseArcw+KZyr7QsYyMEEfMOuaWKFI9JCTXlrGADJFIj7lRscgqB91hgEdQVU1N4HjWLXFZwUkuIGcRZzgBgM/n0+lTV+BjpL3/Q9xgBHl+/Wuc8dzvpUFlq0B8uZJVhMkZCytuztVWPCnJPzHpz16V0EMhBg54K4NM1zRofEXh+406cD9+h2Mf4XH3T+f6E1ywfK7nTNXVmeXa3qd/bu1xPaT3FyhEXnSQSNDaxdWSHeMsW/ilPJzxgV2HwkY2+va9ZllwcFY1gKGNVb5QWxyMMMde9cFaf2pOq29rpVtHJFsDumbZQTkdUdRzg4+h4r0L4c6hPcXOmpNeFyqXCFJPNZ15BMZZ8kkYU9cDNehyvc866tax6pRRRSAWikooAWijNJQAtFJRQByjVE1TNULVAyB6iapmqJqTGiLFJinUlIY3FIUVjg8ZIJI68HNOoOQCQAT2BNAzxTxuklqun2LoqvC80h2nIIdvlx+Ck49/euXgnkt5A0blSDkEGvSvFujLqviCDTPN2yQ2clzuVSS7seBj8MD2ArjpfDy291BC0vmNNsIz8p2soI4/E/lUM9KhOyVtylHqckMruVV97b2DjOT3/PPP1ro5/HtxeRJFNBEsYycKDksRgtkg56njoAcDFYb6VCIwTuyducH1OKH0iNbfzVlYsFLBfXnB/kDSVS2zNnQhKV5QT/r5Fm98SSXVvFCzDyokK7cdeMDnGcD0p/hrWXk8V2QZEBlfy8jPC7cKo9gefcms6TSwigCVvmTevH3qr6fCbfW9MlRiT9pjPHY7hxT5uZbmNeCja0EvT/hz6Ot7iFpUjD8mMFR3rUs7qOVGXd80bEEVx1xeRQeJLSbcyJFAI5FAzuLNkH8K2LIF7S/PmYP2l0LD+6JMfyrns1qRdN2MbV7Szg1S42WOoPcQSvJHNZqka4lw+1md1U8k5GM+9Hh+Oy0i/gZpBHbrflI5C3CSPvZi20/eJBXaemF7jih4w8OXEmpanqdvfFHlWNFhXBWRVjTKn35JFcrF4oa/wBDntpo7GK7UrIuoMoWQgNuC57nIA+meCa7Iy2TMJYduLnB3S37o+lu5pay9F1aDVdGtL+CVZreWJWEqKRzjnK9V5zWmDkZHStDkaadmLRSZpaBBRRmjNABRSZooA5ZqiepmqF6gZC1QtUzVC3WkUhlJSmkpAFJS0UDIFt40uZbgKPNlVUZsclRnA/U/nXnnjrT3tL7R5bZQ0/zKuBjODuAz68nH1r0rFcn41tnmOnyRsBJC5cZ79M/zqJ6ROjDv94jgnUOdwHyvsZeOgJakWEOCMYVVJOf7pYg/pzS3eYLh0KN5bZChex3Aj9DWpFbqzzMIyEkQBQ3dQCOnbP+Fcz2ues3ZGJdJ5mmrH92a3JUH1HUfof1rItpxaSWV/5Yk8mQSNHnGSrZxn6V0L6TcSzSxjIRhuL+oHH51mvo1yLdoTEdy5JOe3rTjJIiouZHX+D799c1rU9aniZLOPy0SJ3yF2gknP8AnrXcaXeM+nTyNE6vcu0yof8AabcBn6V5H4U1PUVR9KRFe0VWd0HDMByRn0r1PRpZdT0yK6niWJiDiJSfkPQg+9E3ZnOqbSLVtqtjr2k315btvSG4dwDj5xCgWTHttII/CvHJtKiiv7+zLPI0cIli4HPyhiD/AMBJP4V69oHhhtN06/vLfdcRNeNK9nkL5alNrsp77lZgV74X0ryrWI/+JiksBlX/AEFIyZAwaQqgVunQ7SOv9RXQ/hTHhLqckmexfCQRQ+DLOVlaLcz5cZCt85Az7jHX6enPoqqqj5QADyMdK4P4UXRbwzPYsio9tcEgKcgh1Vsj8c/mK7pI0jzsULnqB0raOyPOxP8AFl6j6KKM1RgFFFJmgBaKSigDmGqJqlNRPUDIWqFqnaoWpDRFRSmkpDCiilFAwxXOeK+Psv0b+ldKBXPeLVGy1P8Avj+VZ1fhZrQ+NHFzKuQxUEqcjIzzWlNtdlmAzuGQfY1mT8Amr1qxfTYie2QPpmuV7Ho3LcAHAAGTVwWscgIZRz1rPgJDCta3J/Ws2ULp2gafaSzSwwhZJl2uc9vSuit4khgSJBhUUKB9Ko2w4rQUkUyW2zpPDbf6DMn92Y/qBXCfFnRNPttKtbu3tZEnBkQtC5Hy+WSA3qo2cj0Fdv4b+7cj1Kn+dHieyhu10l5gSYtQiwM8ENlWB+oJFehDWmjz+Zwr3RyXgzTr7wrHaiTTdwvYxI8sR3SZ5JjKHGccHg5IHA4r0pDuQHPX2x+hpGjRwAyggdB6U6tUraGNWq6kuZ7i0Unal7UzMKKQ0UALRSUUAf/Z\\n\", \"height\": 300, \"channels\": 3, \"width\": 205, \"type\": \"image\", \"id\": 2249896792}, {\"format\": \"jpeg\", \"value\": \"image/jpeg;base64,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\\n\", \"height\": 300, \"channels\": 3, \"width\": 210, \"type\": \"image\", \"id\": 2248512624}, {\"format\": \"jpeg\", \"value\": \"image/jpeg;base64,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\\n\", \"height\": 239, \"channels\": 3, \"width\": 300, \"type\": \"image\", \"id\": 2248512736}, {\"format\": \"jpeg\", \"value\": \"image/jpeg;base64,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\\n\", \"height\": 300, \"channels\": 3, \"width\": 300, \"type\": \"image\", \"id\": 2248512792}]}, \"label\": {\"complete\": true, \"numeric\": false, \"num_unique\": 1, \"num_undefined\": 0, \"progress\": 1.0, \"frequent_items\": {\"Abstract_Diamond_Fringe_Kimono\": {\"frequency\": 25, \"value\": \"Abstract_Diamond_F ...\"}}, \"size\": 25}}, \"selected_variable\": {\"name\": [\"data2\"], \"descriptives\": {\"rows\": 25, \"columns\": 3}, \"view_component\": \"Summary\", \"view_file\": \"sframe\", \"view_params\": {\"y\": null, \"x\": null, \"columns\": [\"path\", \"image\", \"label\"], \"view\": null}, \"view_components\": [\"Summary\", \"Table\", \"Bar Chart\", \"BoxWhisker Plot\", \"Line Chart\", \"Scatter Plot\", \"Heat Map\", \"Plots\"], \"type\": \"SFrame\", \"columns\": [{\"dtype\": \"str\", \"name\": \"path\"}, {\"dtype\": \"Image\", \"name\": \"image\"}, {\"dtype\": \"str\", \"name\": \"label\"}], \"column_identifiers\": [\"path\", \"image\", \"label\"]}, \"columns\": [{\"dtype\": \"str\", \"name\": \"path\"}, {\"dtype\": \"Image\", \"name\": \"image\"}, {\"dtype\": \"str\", \"name\": \"label\"}]}, e);\n",
       "                });\n",
       "            })();\n",
       "        "
      ]
     },
     "metadata": {},
     "output_type": "display_data"
    },
    {
     "data": {
      "application/javascript": [
       "$(\"head\").append($(\"<link/>\").attr({\n",
       "  rel:  \"stylesheet\",\n",
       "  type: \"text/css\",\n",
       "  href: \"//cdnjs.cloudflare.com/ajax/libs/font-awesome/4.1.0/css/font-awesome.min.css\"\n",
       "}));\n",
       "$(\"head\").append($(\"<link/>\").attr({\n",
       "  rel:  \"stylesheet\",\n",
       "  type: \"text/css\",\n",
       "  href: \"https://static.turi.com/products/graphlab-create/2.1/canvas/css/canvas.css\"\n",
       "}));\n",
       "\n",
       "            (function(){\n",
       "\n",
       "                var e = null;\n",
       "                if (typeof element == 'undefined') {\n",
       "                    var scripts = document.getElementsByTagName('script');\n",
       "                    var thisScriptTag = scripts[scripts.length-1];\n",
       "                    var parentDiv = thisScriptTag.parentNode;\n",
       "                    e = document.createElement('div');\n",
       "                    parentDiv.appendChild(e);\n",
       "                } else {\n",
       "                    e = element[0];\n",
       "                }\n",
       "\n",
       "                if (typeof requirejs !== 'undefined') {\n",
       "                    // disable load timeout; ipython_app.js is large and can take a while to load.\n",
       "                    requirejs.config({waitSeconds: 0});\n",
       "                }\n",
       "\n",
       "                require(['https://static.turi.com/products/graphlab-create/2.1/canvas/js/ipython_app.js'], function(IPythonApp){\n",
       "                    var app = new IPythonApp();\n",
       "                    app.attachView('sframe','Summary', {\"ipython\": true, \"sketch\": {\"path\": {\"complete\": true, \"numeric\": false, \"num_unique\": 28, \"num_undefined\": 0, \"progress\": 1.0, \"frequent_items\": {\"G:/img-002/img/Abstract_Diamond_Print_Jumpsuit/img_00000019.jpg\": {\"frequency\": 1, \"value\": \"G:/img-002/img/Abs ...\"}, \"G:/img-002/img/Abstract_Diamond_Print_Jumpsuit/img_00000026.jpg\": {\"frequency\": 1, \"value\": \"G:/img-002/img/Abs ...\"}, \"G:/img-002/img/Abstract_Diamond_Print_Jumpsuit/img_00000005.jpg\": {\"frequency\": 1, \"value\": \"G:/img-002/img/Abs ...\"}, \"G:/img-002/img/Abstract_Diamond_Print_Jumpsuit/img_00000007.jpg\": {\"frequency\": 1, \"value\": \"G:/img-002/img/Abs ...\"}, \"G:/img-002/img/Abstract_Diamond_Print_Jumpsuit/img_00000020.jpg\": {\"frequency\": 1, \"value\": \"G:/img-002/img/Abs ...\"}, \"G:/img-002/img/Abstract_Diamond_Print_Jumpsuit/img_00000001.jpg\": {\"frequency\": 1, \"value\": \"G:/img-002/img/Abs ...\"}, \"G:/img-002/img/Abstract_Diamond_Print_Jumpsuit/img_00000009.jpg\": {\"frequency\": 1, \"value\": \"G:/img-002/img/Abs ...\"}, \"G:/img-002/img/Abstract_Diamond_Print_Jumpsuit/img_00000012.jpg\": {\"frequency\": 1, \"value\": \"G:/img-002/img/Abs ...\"}, \"G:/img-002/img/Abstract_Diamond_Print_Jumpsuit/img_00000025.jpg\": {\"frequency\": 1, \"value\": \"G:/img-002/img/Abs ...\"}, \"G:/img-002/img/Abstract_Diamond_Print_Jumpsuit/img_00000016.jpg\": {\"frequency\": 1, \"value\": \"G:/img-002/img/Abs ...\"}, \"G:/img-002/img/Abstract_Diamond_Print_Jumpsuit/img_00000002.jpg\": {\"frequency\": 1, \"value\": \"G:/img-002/img/Abs ...\"}, \"G:/img-002/img/Abstract_Diamond_Print_Jumpsuit/img_00000011.jpg\": {\"frequency\": 1, \"value\": \"G:/img-002/img/Abs ...\"}, \"G:/img-002/img/Abstract_Diamond_Print_Jumpsuit/img_00000017.jpg\": {\"frequency\": 1, \"value\": \"G:/img-002/img/Abs ...\"}, \"G:/img-002/img/Abstract_Diamond_Print_Jumpsuit/img_00000003.jpg\": {\"frequency\": 1, \"value\": \"G:/img-002/img/Abs ...\"}, \"G:/img-002/img/Abstract_Diamond_Print_Jumpsuit/img_00000014.jpg\": {\"frequency\": 1, \"value\": \"G:/img-002/img/Abs ...\"}, \"G:/img-002/img/Abstract_Diamond_Print_Jumpsuit/img_00000006.jpg\": {\"frequency\": 1, \"value\": \"G:/img-002/img/Abs ...\"}, \"G:/img-002/img/Abstract_Diamond_Print_Jumpsuit/img_00000013.jpg\": {\"frequency\": 1, \"value\": \"G:/img-002/img/Abs ...\"}, \"G:/img-002/img/Abstract_Diamond_Print_Jumpsuit/img_00000008.jpg\": {\"frequency\": 1, \"value\": \"G:/img-002/img/Abs ...\"}, \"G:/img-002/img/Abstract_Diamond_Print_Jumpsuit/img_00000018.jpg\": {\"frequency\": 1, \"value\": \"G:/img-002/img/Abs ...\"}, \"G:/img-002/img/Abstract_Diamond_Print_Jumpsuit/img_00000015.jpg\": {\"frequency\": 1, \"value\": \"G:/img-002/img/Abs ...\"}, \"G:/img-002/img/Abstract_Diamond_Print_Jumpsuit/img_00000027.jpg\": {\"frequency\": 1, \"value\": \"G:/img-002/img/Abs ...\"}, \"G:/img-002/img/Abstract_Diamond_Print_Jumpsuit/img_00000010.jpg\": {\"frequency\": 1, \"value\": \"G:/img-002/img/Abs ...\"}, \"G:/img-002/img/Abstract_Diamond_Print_Jumpsuit/img_00000023.jpg\": {\"frequency\": 1, \"value\": \"G:/img-002/img/Abs ...\"}, \"G:/img-002/img/Abstract_Diamond_Print_Jumpsuit/img_00000004.jpg\": {\"frequency\": 1, \"value\": \"G:/img-002/img/Abs ...\"}, \"G:/img-002/img/Abstract_Diamond_Print_Jumpsuit/img_00000028.jpg\": {\"frequency\": 1, \"value\": \"G:/img-002/img/Abs ...\"}, \"G:/img-002/img/Abstract_Diamond_Print_Jumpsuit/img_00000022.jpg\": {\"frequency\": 1, \"value\": \"G:/img-002/img/Abs ...\"}, \"G:/img-002/img/Abstract_Diamond_Print_Jumpsuit/img_00000024.jpg\": {\"frequency\": 1, \"value\": \"G:/img-002/img/Abs ...\"}, \"G:/img-002/img/Abstract_Diamond_Print_Jumpsuit/img_00000021.jpg\": {\"frequency\": 1, \"value\": \"G:/img-002/img/Abs ...\"}}, \"size\": 28}, \"image\": {\"progress\": 1.0, \"num_undefined\": 0, \"complete\": true, \"samples\": [{\"format\": \"jpeg\", \"value\": \"image/jpeg;base64,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\\n\", \"height\": 300, \"channels\": 3, \"width\": 205, \"type\": \"image\", \"id\": 2248513408}, {\"format\": \"jpeg\", \"value\": \"image/jpeg;base64,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\\n\", \"height\": 300, \"channels\": 3, \"width\": 240, \"type\": \"image\", \"id\": 2248513464}, {\"format\": \"jpeg\", \"value\": \"image/jpeg;base64,/9j/4AAQSkZJRgABAQAAAQABAAD/2wBDAAgGBgcGBQgHBwcJCQgKDBQNDAsLDBkSEw8UHRofHh0aHBwgJC4nICIsIxwcKDcpLDAxNDQ0Hyc5PTgyPC4zNDL/2wBDAQkJCQwLDBgNDRgyIRwhMjIyMjIyMjIyMjIyMjIyMjIyMjIyMjIyMjIyMjIyMjIyMjIyMjIyMjIyMjIyMjIyMjL/wAARCAEtAM0DASIAAhEBAxEB/8QAHwAAAQUBAQEBAQEAAAAAAAAAAAECAwQFBgcICQoL/8QAtRAAAgEDAwIEAwUFBAQAAAF9AQIDAAQRBRIhMUEGE1FhByJxFDKBkaEII0KxwRVS0fAkM2JyggkKFhcYGRolJicoKSo0NTY3ODk6Q0RFRkdISUpTVFVWV1hZWmNkZWZnaGlqc3R1dnd4eXqDhIWGh4iJipKTlJWWl5iZmqKjpKWmp6ipqrKztLW2t7i5usLDxMXGx8jJytLT1NXW19jZ2uHi4+Tl5ufo6erx8vP09fb3+Pn6/8QAHwEAAwEBAQEBAQEBAQAAAAAAAAECAwQFBgcICQoL/8QAtREAAgECBAQDBAcFBAQAAQJ3AAECAxEEBSExBhJBUQdhcRMiMoEIFEKRobHBCSMzUvAVYnLRChYkNOEl8RcYGRomJygpKjU2Nzg5OkNERUZHSElKU1RVVldYWVpjZGVmZ2hpanN0dXZ3eHl6goOEhYaHiImKkpOUlZaXmJmaoqOkpaanqKmqsrO0tba3uLm6wsPExcbHyMnK0tPU1dbX2Nna4uPk5ebn6Onq8vP09fb3+Pn6/9oADAMBAAIRAxEAPwD2ICnCkFOFIApaKKAFpaSimA6ikzRmkA6lBqPNLuoAkzTs1EGps06QQPLI4REGWZjwB60AStJjp09ay7zxPpFhcGG7voYGH/PRgM/1rxrxx8Vru6aS00cmC1UlfNDYeT/AV5xG95qc5lm3OWOSzDJ/OsnU7G0aV9z6y03X9K1YkWOoW9w46qjjcPw61p18waZBe6ZLHcMW2qwIdDhhXu3gzXn1Oz8i4l8yVFyj55df8/zpQrKT5WOpQcVc6qijFLitzAKKKWgBKKWigBKKWigBKKXFJigChTqSlpAFLSUtMAoopKACkJoJpjGkApammSomeoWkoAtiXFeafGbWLu08Lww2sxjFxNtcDugHQ/jiu8M3vXjnxhvhOyWu7PlKvHuck1nUlZI1pRux+k+CtMu7eB7reZGGSUOBn2FakPw7BkaTSr6CVQcMhI3fQ44/lUHgS4k8WaZc27whfKg3IynAfkgA4OQcjkehrovB1tq9neFbq/eSLoYJI1AQ99uOg9PauJJ395noNpr3EctrWn3eiRvDcw5Vl5XuR6g96v8AgTUmjgt70FkMbkOrDGcHnr6gk/iPSvSL2xtdRZVuIUlVMkblyM15be3b2niLULPejMs6byvZio4+uAM0pe7qgS5lZnuiOsiK6HKsMg+op1c74N1H7Zoogdv31qxhcE88dD9COa6KvRhLmimeZKPK2gpaKKokKKKKACiiigAooooAo0UUooAKKKKACkpaQ9KAGMaiY1I1QOaQEUjVUlkxU0rVn3EmAaTGgafB615L8TdMm+3m+wTBJtO7sCBjB/z3r0aSY78ZrI8SWg1bSzYcb5mAUnoAOSfyrCq/dv2NqLal6nJ/DDxLaaXby2khjinifYXYZ+UnIIHfuK9P0yWCa4kdZNxJz90jIP1r548i9sPF7Pp8M0xR8MkSklkzgjivWB4n1VdOU6f4W1SW4C4DTptVfzOTXPJXs11O2MlytPdHf6pcJDpk+DhmQqADgknivFNLUQazIJ1AhvAHRuxcZJ/PJ/Kul03xHd33mw6vFOASUmNsm91I/hx0X8evGPWteTwZouuaTHJomoFUVt8UgbeFbrg/4dqU4T3a0FCpDa5Domtvo+pLcRnfE7iOdR3XsfqM/pXrsMqTwpLGwZHAZSO4r5ukuLvw54kax1aIoSArg/dkUnhkPp0+nSvfPC+//hHLQt3DFT6qWOD+VbYZyTcWYYqK0kjYoopa7DjEpaKKACiiigAooooAoUtJS0AFFFFABSGlppoAY9VpOlWWqCQUgKUx4rLuT1rTm6VmXHepY0ZUpw1YOramLXUIIy+C4Cj2ycf5+lbs/WvMfG00q6s7IxHlKr8eo6CuSsrpROrD25mz0zQre3ikby4lXLfNgdT6n1rqljQYArktCmWSTcOj4YfQ811y4Ee49B3rmg97nZMw/E3hqDVbCSaCFPtqAMp2Bi4GTtweMnsTXH6JrcujahHIWZYmYq8M84LsueQsMYwGz/h3NeoI1cB4u0l9M1F9QtjLHaXO6SUQskQWQjBLOeQCdp45zu9q7sPNNckjirQt7yN/x1Hp9xotu80Ec0ryA2xdeQQC2RnnoOn6Gt3wd4ki1qy+zmJIprdQuI/uMMdR/h/+qvKLjUJrqzs7dtjpbgiNRIZFZi28DLffJKYGeDkbSK6fwGGiuLi6UsypsQOc/Nj9fu7evIxg54rblVOLbMbupJI9XooByMjoaKszCikpaACiiigAooooAoUtFFABRRRQAlIaWmmkAxqgc8VKxqB+lAFWbmsu571py1mXR4NSxoyJz81eceMEkl1f7PCufNZXdgMlQq/06+/FeiSnkn0rz3Vka3smlnYvcXjtK42k7YwcgYHrgZ5ArnavJI3g+WLZ1fha7WSys3QFQYguCOQV+U/yr0ONRJp8i+qH+VeR+Dp8adBCAoNvI0RCkHB69uO5r1yxO+zHuK5eW05I7W704sign3KvpiuY8Z63aSQ/2ZGnn3G8HKoHKMOuzPBcbh8p65x3rCuvGF7KWhtUS2UOYv3vLBxkFH7Ixx8vXpk4HBwmzgFy5ZyAPObYSVBOGPUSLnIbjcD6tx2YehJe9M5K9aL92JJCi5ijyg3IMBfnHl9yoP3o8YyOCp2kV6P4Yt4YNCheOTzWnHmSPu3ZY9s98dOeeK84UgI8beRLJMN0iGMsVAyfmjBwrk7t+SFyw9OO28E3ctxBLbu5YQhepBOeQcYG3GV4C8cda0xKfJdGeHa5j1C2O61iPqg/lUtQ2nNnD/uCpq0jsjKW7CkpaKYgooooAKKKKAKNFFFABRRQaAENMNPNMakBE1QvUzVA9AFSWsu76GtSXpWbcjg1LGjFlXduB71xPjKBUmtsAEMuAhBbcQemwfe7DngZ967mUYY1x/jZCba1bGQXKEE4Bzjg45YHkbR1/Cs47ldDP8ISBUmUNuUMjfe3c4x2GBwF4Fey6JIJLRSK8S8NPnVblB0CDJVsjO48ED5VI9B2Ir2Tw5kWWDXJPSsz0KetBHk13GLe+uomYuEkNrmQBQ4LZ8qQds4yrf7WWOOD1Hhnw60832+/Riu7hJM5fHGHz94KRlW6k81ai8MJ/wAJDe396wMPnyeWmMM6knKv2K5OR3rqIuIhgAcdB0HtXRWr6csTnpUNeaR5zq9gLHW7m2AXySVdVyCqrkkZQAL2UZcnpnBrtfCVkLaxaUpiWbliSScDoOf8/TpXPeL5BDqUUxJzsAVcnBYkgf5xnjqO/ZaFg6bF/uiidS9OKHCnabkdbZf8eUP+7ViobQYs4v8AdFTV0x2Ryy+JhRRRTJCiiigAooooAo0UUUAFBooNACGmGnmozSAiaoZKmaoHoAqy9KoTjir8vSqMw4qWNGNcDDVyHjZ1jsLZyBuEjbctt/h557cd/rXZXQ+bNcrqsa32tRIw3RWa5IIyC7dvwGPzrKUlH3maQi5tRRleFNJngDTXHDzsGwV2kfUfwnpx2xXqekzrCmxiAOg5rmLK2JCkDnNU9c1ZIo5bG2/eylSkgKMVIPylQw/iyVGPVh71xU+erUuelU5KNOxn3/iq7fU7u4triOW285nVWbKbM/Kd54Gc7doyQQPetaHxnKnytZ7lAJ+8QQAAfTrhgx9B/tcVx8sZO5mMmY4xuZSCUZ+oBHyRBs5wAWDLjuM2AnmfJ8hdmxlN3OZMfKDzgsTtzyQ0hPIFek6FN7o8xVprZnSaqE1jw7da0IissV1AgB5wFbBA/GQ/lXbaT8lgmO6iuETUof8AhHbPRrVF33lyH2r91IVKkH8SAPzrtraKU/Z7eLO5mC/Qetcla0Z8sTrotuF5HaW3FrF/uD+VS0gAVQo6AYFLXatjherCkoopiCiiigAooooApCikpaACkNLSUAIaY1PNMakBE1QSVM1QSUAVpKpS1ckNUpjxSY0ZV66RIXc4UVzUcMlxdmdGXLD51c7SxHcHp0wOfStXV1knvY4RkpjOPesLVNYi0wtZ2q+ddgHeRz5eMZwP4nAYNt9OtefVcqk+SKPQoRjSh7STL2rayNMtFihO24lXJPV406F1X+Mr1x045PrzGJpDOZklkcELNtYEBzjdlxhYkcMc7eQVzn1rIzNIJJZUaR2DtI2SGc8KwK8ujgMpVcKCevq5SvkLuiUIqbt3mErDlxujMQ+VwpJ/djPDcn17qNJU42Rx1arqSuydWDGMowIyPKKJtGQo3eWh6npuc9OHFTheGYgrGWbLgbs8Yc7jwxC5JYcMz59CIWRjLKrvKCZFjk8z5zkLlVdh1I6oq/eBw2c1NGRvyFRpWYDncDk8qvHAXPzbBygRhzyK3Mjf8OQiXUgZIz5ibuSMY5xj8MbfXKHPqfUdEtRua4YdPlT+prybw82zWLXy9h3yIow3IVsAE546EN/2078V7dDEsEKxoPlUYFYSp/vOY1VT93yktFJmitDIWikpaACiiigAopKKAKVLSUtABSUtJQAhqM1IajakBE1V5KsNVeSgCpKaozHirktZ8x61LGjl59WgsfENyl4SoUK8I6+Z8v3QPXKn864BpftU8s+VDzt5hcNu5YnEmM9Mkoy5CjjJNdN46jHnQuQCGjKlfM2bhuHVuw5GT6ZrmR13F4zyxy8XBJ4BZe+fu7O3DnrUwgk3JdS5VHJKL6FhAZPkWNyJi0YjBL71GN8XGC44DqBtQZPOKl3rJmUzAhiredgAqgACSBlGBjKK6IMkA5IquVULJuJVdojZyxZlKnALEcySIGIZRhcY+lWh5sckj5aCSJggO8Yt5G/hLAYCPk/LGM5x04xsjMlTG8DYilCf3at5exT8wUZ4iRsllb7+ePosg+7EzuUaPBGQCVY9Ui4++cDkh87yKaoRFZSpjjjUqsTKEMSk/vE77CvLKzbmI6DvRISqyscAh9zMmMIeAXMRyzhwUYZ5ySQO9MC/aHz3CyglWYlwBxuz8+PoxRex+U5Hc+/RuJIkcHIZQfzr51tyFlICqME/L5m/ABwAG/jAyQH6l22mvefD0/2jw9YS5BJhUEqcjjj+lD2EadFJS1IBS0lLQAUUUUAFFJRQMp0tJS0AFIaWkoAQ1G1S1GwpAQtVeSrDVXkoApTd6zJz8xFaU54NZsv3s1EikcL47dE+zg+TuMTkeYpbAyoJwOvXp36VzI3ZPEgO1/vH8G3N2HaRvQrjpXT+PVffZbRIQyuMJgcgqQQ3ZvTtnntXKpgbiUAAG4g9FxnBYd8c4T+P5vSnEGTLnOVY7ggIIXYyoq4zx9xBjDd3Xke8qqv7sKiYyRGqHaNjFuEB+7C244kPIJ47U2FXKxs3nhvOVhu/ebiFBBUD70gByqngKMEZGKUMqxozvCF5kcyDcmWwctjmQNg5jHCHr0q0ItIzLtZGZGUeYjbxgEnar57YPyM5yzAgjrkVHeMsNmUCEJGFAVl5ONuOUcYxhiWccDrVoRtCD5yMrLGrtHJIqNnZtJGc5JAKluxUBeeRRjdmlWJd5Z5CSFkHYnjeeC2ORL7bRzTYi1bs3mhTGgVtzAbQgIPAKr2BG5Sn8DEE/Ma948JnPhXTyHDgxk5AwD8xrwZGVWkbBwIsj+LOc4Y+mQSfK6lgCeTX0D4fUL4c00LnH2aPqMH7ooewGjS0lFIBaKKKACiiigAopKKAKlFFFAC0lFFABTGp9MakBC9VpBVp6rS0AUJ+9Z0o5rSm71nzVDKRw/xARDb2DOqEbpV+d8AfJnkDkjjn2z61yFvt8scIuCoXy5A/zHO0Ie7n+Fv4MHPWuy8fcW2nYxu85wPk3EfIeR9OvviuNgIMC7fuvEw+VPLRlLYbA/gjJxvPUHGKcQZYtBkyhI8nLZEUu0tgKx+c/wCrYEZLDknctP3FIoWRyn7rcrgbF2NuUuoP+riPG/PzZII9aggO9bhTsZGCj94CEY7SFXYP4sjCepBbuKsPndncA3mK7F1EhMm770gPHm84aP7oBLdq0Wwh02yGxlQRsqmMfKE8kxZA4DNlnXAGPUA9zxUtc/vP3scgyYkVFKqQT8qAHpnGU7IQSeTU9+XhtFYW8rkzkB93msm3ICh85ZlI3Kfujjrg1FGhWxVF3TAIqAEHYVduAe/lSf8AfRYdhS6gXbfhIgkqtJNIrhVJUkggk7jwsnGTIeu3jqMfQWjIY9D09CCCLaPILbj90d+/1r5+uAxjxIXMKRoG85cxe3mKOT2OB/EG7bc/RNsnlWkEeMbI1X8gKbES0UZopAFFFFABRRRQAUUZpKAKtFFFIAooopgFMNONMNICJqryVYaq0lAFObvWfN1rQlqhN1qGUjiviAD/AGVZlQxxc5wGCj7jdSenOMe+K4mLcIAX85CBvkNyN3Rj8z4++Bn7g++CT2rtfiFsGl2RfZtFwTlxkD5G7d+v9e1cNZkJbp5Y2kOAggbcwbcSNinpJwcE8L8w704gy9aq265LblcjyyJCC5zgFWbooIwC/wDAvl+pqQPFgM00SJlVVpFby+NuVKjk4Bwz/wAYbA9RDZlFhm+WMJgHnJjC7hncOrR5YZ7vuXstWPNmgaX95PDIzrCxmcAk44jmYfT5QvOGPOcVothGXqcYOoxxPaNG0cKBiV54yNnXGQQVUD+6oz1q8IxcSxAxpOWcONrEBs8FlxyUfABbs3CjpVRosavK0Mc0EYdYfLa3LMDgZwhOdxAJHuCMHJq1C4d3ZsszqWbYMKSxXJ3j+8N3yjhGwBzikIt2bLLeIImPmmSONPLP70AHJKjpt43E+zgdBX0eRg49K8A8J2wvtd0y3ZhJE92s0iJEBGTnIYsOQTjhRwGBU9K9+J70wCiiikAUUUUAFFFFABRRSUAVaWkopALRSUUABphpxphoAjaq0lWGqvJQBTlqhNV+WqE1Qxo4j4gsVsLArw32j5Sv384x8n+0c8E8fnXDW5P9nTq5JAbDLtwdu8A7iOi5xkjktt7Zrt/iKR/Z1mp53SkbQuS3TjPYevtXD2zKdPnIeILGzMGQ8Kd/BC9/QL0A+bqopxGy5acu7KQSF++FwwPP3uw47dERm7irUR2qwRIwuWXaJQAEySUUnkoQciX7xJAGKr2fysDINmI1P7xM4XdnIXqUyc+r5Ze1SKBsG5VJwNy5G9QwBGGxjBGSij/VnGeeK0WxJQVi1+4DySbDJISr+UxABx8/c4565GCg6mrJLCAbJ8M4wF3GNXHJDKoGIwcEjP3WGTyRVGzkzLfSN5RXftQou1C3OFVcn58glT0B3E9a0FXdMEMkfzjc2y3dySwU5kXq7EgHKjhgCewpIDqvAG0+OdOV5I5dkchjyoTGUJyoHQ8nKH7nX+Kvb68Y+GwMnjdXDBcWsjspcO3J6E/xNzkuOc4U8ivZqGAtFJRQAtFJmlzQAUUZpKAFpM0UUAVaWm0tIBaSiigBDTDTjTTQBE1V5KsNVd6AKktUJjzV6WqE3WoZSOH+IibtMsm4O2fgF9ozx0Prxx+NcPbyNJb3EO9WnDOArJ+9BJyfmHAOAdx/u5A613vxBSM6FE0nlgrNw0kZcDg54/Dr9a8+tiDBdRCUBD/yz58v7xPLnlh0I/2tqnvTQM0NMfDL5Iudw2DES5dSAMbSf4uCVHRcNnripI3ISLZLGiqm9HUMUQM2C6nBJQsBvJyd+AOKq2Wx4YzlnDRy7Y55SrEZJIDHlEyOT13DHQ1ZmDiIyPHC8bpvV3YRtIwLAt5f8PHDJ/CPm61a2JMTR0BimjRlaSaTymW2XfLtJwUIPABx165wOOa2Y5GcC5V5lCk5IGR8xwSnfcSAGx0b5uijOFojCSKCFgW2vu8s5jUZA4LjnB5JP8OCR1FbUDkxGVpixDIN4bayt0Cpj7kpCkB+mzGaSGegfDEFPFMylcKLWRAC6uFIdTgHrnGdzDhic9RXrdeP/DhQnipcLCP3bICqYAwpyqegB69iS5HUV6/mqYhaWkzRSAWikooELRSUZoAKTNFFAytRSUUgFoopKAAmmGnGmGgCNqrvU7VA9DAqS1Qm61elqjN1qGUjkPHhkOjQpGsxdpxhocZX5W5//VzXn9m4Z8I8UjcAKP8AaOAUB4wc4z/eJbsK7b4iBW06xVgrZnPD8L06k9sf4ds1wcDFjEGKPCSxY3I2R8Z5IHKggYK9gQO9CBluzlaSzh3SpIpdt4mj3jptyT1c9to6HDGp7pYpYZFZpNp3F2LAy5Ckkl/UZ5PSXt6VXss+U8TS3Cuhkx5rYdBt+Y4GdqgEbl6txjoauzRNNCyTW8jBwoKjChjtJUd8HHMf90fewa0WxJzFgrgLnMbHoiBiTngjjknvt4yCR/EK6CEMY0279zQuoEChuDkssfZlOcv3XgDHbE0r/j3kk2SLsYEtvBWPsTnrnkBSOh56Cti12uiQqpcspXb5nlhiBkjP/LPb3P8Ay0OeuaSGd18OiD4rhYYwYjgqOCuzC7f+mYGdh6kZz0r2LNeM/Dtt/iqAZbcQ0mOm4FWyxxwueP3f8Pbqa9lqmIXNGabmjNIB1FJRQAtGaSigQUZpKKBlalpKKQC0UmaKAENMNONMNADGqu9TsaruaAKsveqE1XZT1qhMetQxo4f4gMuzTA7oi+ZI2ZE3LkL/AHe55/LPfFcPal42yDLG5dlLM4c567XT+Nu4Pc4HQV2/jqRlk03aZAcyAbIwxJO3ABPRs4x7+wrhLYKJlVAhKo5CRD5wg5+Vz0Tqc9cg+tNDL1koivpShKoAmSoyiON2Azn78q8bSOGJ/GrOxFR12gIONinePmAyAc/MScE/3XCKDhqrRsBdeYxXIhCLIewwcII+w67GPIB3H3vJmOaUMUUElThMhgPlO0fwkH5WPc4fotWiTkdNTzA2IA2WCIqoflbPQc/eGDx7se1b1u8f2g5lgeMDByxeERqwClu5iHRR1De1c9pJO68+TeAxBJOGK5PAXqCTj5hyvJresXZrhHDt5Yk3rIsYLb+BmMdHYDAC9x831lDO++GoLeKRw42pIZEzna2Dgyn+KUj+LuK9hzXj3wt2jW4FG3CwSKgzgIOCQnOWzn5jztbIr2CqELS03NLQAtGaSigBaKSigAzRmkooAr0tNzRmkA6kpM0hNAAaYaUmmMaAGOaryHg1I7VVlelcCCZutZ0z1Ynl681lzzgNyahspI5Lxy+ZLFcoSVkyruVBXjJyPu4Gct2BPrXFR5LxB2baxYgtHxnA+YKOrccR9OAa6/xq6v8AYX7KzFiUyo6YLfTsv8R471yEJ2XEZ+ZTvCk5yxJBwMdmI/j/AIRhe1NbAX13LJM/70OqSK5iUMV67ldu4GRuYcBSoHIq0i7WG1Btlwy+XkowAxweeQpwP+mZB6nimigywkIrfu3CSCXaFCgEYToUXnbn74xmrMeI3PmQkqxUHL5MZK54+vBI424C9DWgjj7E+VqF4N0iuJGCpv8AnJJIwGx19T3Ab1ro7ZWS3ttvmMWJCGM4DMNuUjH8DjBy/AODg88cvDlNYuI1CojSMpQNlSN33cnqOOvpXSYBgkb5nUoFkPOxgMBUJ/ufL8h6sVwe+ZA9G+GW063E25HzBIUcx4LjOMp/cXg5B6spPfn1uvL/AIcJjXW3qTIto5LS8S8uoy47MccjoNgx3A9RqhCUtJRQAtFJRQAZoopKAFpKKSgCvRRRSAKTFLRQA0imFM1LRQBVeEmqstoxB5rUxSFQaVgOaubKUg4NYtzp8xblj+Vd4YlPUVVuNPSVTjg1LgmUpHjnjO1a3is5HPG5gGJ6H5ei/wAR9u3XtXHM+JCDnckhBVSS4AyWG7uO7f3jyK9U8Z+DdX1OSGWymjZYlK7D8rDJySp9eAM9q8wvtM1XSnEd/ZtbqWUDn92CD8oAHXHbvk56DFCVlYNy1IdhlOIwCGaVZlOAMgB3A/hBOFUdCc9DVxCQ77gwdDhlcFnVsk7ZAPvSHG5iOGC49DWfFOs0W9C67cldq7ihK9l6EkfKewCseMVbhZo3QxN5ZhjDRMnKwqHJwrfxx5x855LY/C0I5JrSeSQXSYYOSS4IwepP06Z9q3LLasbtJKEyp3N5W4JlWAUJ/EDj7/8ACR2yaz4dSS61K9kijS2jkkY+UoyFBzyB36k4HpgV0NspLyeXGVbcIyjNuVQwyYpGHUNjKqvALYOM0ID0n4Zbf7Tu93ySCEqYyd7KQwG0v/EQMZP8RbPrn07gV5b8Mt51K6KyTvbxweWhkUYyCFPIGM8Y/A16cGJpsQ80ZptFAC0UlFAC0maKKAEOaMn0paKAK9FFFIAooooAKKKKACiiigAooooAQgGql3p1reRGO4t45UPUMuauUUAcBqfwu0a7dpbJ5rCYjGYzlfyP1P51X0r4ai2vGk1Ga3uoh9xEjKgnqCR0AGThRx09K9HwKMUWC55fq/wisLuf7Vplw2n3Oc5CblP4cVW0n4UalBPtv9Xtnt1BCmCEhxkEHr8uTnOSCc/U59Zp6gUDuZ2g6JBoWmJZQPJIqsWZ5CNzMepOMD8hWsBiiimIKKSigBaKSloAKKKKACiiigD/2Q==\\n\", \"height\": 301, \"channels\": 3, \"width\": 205, \"type\": \"image\", \"id\": 2248513520}, {\"format\": \"jpeg\", \"value\": \"image/jpeg;base64,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\\n\", \"height\": 300, \"channels\": 3, \"width\": 205, \"type\": \"image\", \"id\": 2248513576}]}, \"label\": {\"complete\": true, \"numeric\": false, \"num_unique\": 1, \"num_undefined\": 0, \"progress\": 1.0, \"frequent_items\": {\"Abstract_Diamond_Print_Jumpsuit\": {\"frequency\": 28, \"value\": \"Abstract_Diamond_P ...\"}}, \"size\": 28}}, \"selected_variable\": {\"name\": [\"data3\"], \"descriptives\": {\"rows\": 28, \"columns\": 3}, \"view_component\": \"Summary\", \"view_file\": \"sframe\", \"view_params\": {\"y\": null, \"x\": null, \"columns\": [\"path\", \"image\", \"label\"], \"view\": null}, \"view_components\": [\"Summary\", \"Table\", \"Bar Chart\", \"BoxWhisker Plot\", \"Line Chart\", \"Scatter Plot\", \"Heat Map\", \"Plots\"], \"type\": \"SFrame\", \"columns\": [{\"dtype\": \"str\", \"name\": \"path\"}, {\"dtype\": \"Image\", \"name\": \"image\"}, {\"dtype\": \"str\", \"name\": \"label\"}], \"column_identifiers\": [\"path\", \"image\", \"label\"]}, \"columns\": [{\"dtype\": \"str\", \"name\": \"path\"}, {\"dtype\": \"Image\", \"name\": \"image\"}, {\"dtype\": \"str\", \"name\": \"label\"}]}, e);\n",
       "                });\n",
       "            })();\n",
       "        "
      ]
     },
     "metadata": {},
     "output_type": "display_data"
    },
    {
     "data": {
      "text/html": [
       "<div style=\"max-height:1000px;max-width:1500px;overflow:auto;\"><table frame=\"box\" rules=\"cols\">\n",
       "    <tr>\n",
       "        <th style=\"padding-left: 1em; padding-right: 1em; text-align: center\">path</th>\n",
       "        <th style=\"padding-left: 1em; padding-right: 1em; text-align: center\">image</th>\n",
       "        <th style=\"padding-left: 1em; padding-right: 1em; text-align: center\">label</th>\n",
       "    </tr>\n",
       "    <tr>\n",
       "        <td style=\"padding-left: 1em; padding-right: 1em; text-align: center; vertical-align: top\">G:/img-002/img/Abstract_D<br>iamond_Print_Jumpsuit ...</td>\n",
       "        <td style=\"padding-left: 1em; padding-right: 1em; text-align: center; vertical-align: top\">Height: 300 Width: 205</td>\n",
       "        <td style=\"padding-left: 1em; padding-right: 1em; text-align: center; vertical-align: top\">Abstract_Diamond_Print_Ju<br>mpsuit ...</td>\n",
       "    </tr>\n",
       "    <tr>\n",
       "        <td style=\"padding-left: 1em; padding-right: 1em; text-align: center; vertical-align: top\">G:/img-002/img/Abstract_D<br>iamond_Print_Jumpsuit ...</td>\n",
       "        <td style=\"padding-left: 1em; padding-right: 1em; text-align: center; vertical-align: top\">Height: 300 Width: 240</td>\n",
       "        <td style=\"padding-left: 1em; padding-right: 1em; text-align: center; vertical-align: top\">Abstract_Diamond_Print_Ju<br>mpsuit ...</td>\n",
       "    </tr>\n",
       "    <tr>\n",
       "        <td style=\"padding-left: 1em; padding-right: 1em; text-align: center; vertical-align: top\">G:/img-002/img/Abstract_D<br>iamond_Print_Jumpsuit ...</td>\n",
       "        <td style=\"padding-left: 1em; padding-right: 1em; text-align: center; vertical-align: top\">Height: 301 Width: 205</td>\n",
       "        <td style=\"padding-left: 1em; padding-right: 1em; text-align: center; vertical-align: top\">Abstract_Diamond_Print_Ju<br>mpsuit ...</td>\n",
       "    </tr>\n",
       "    <tr>\n",
       "        <td style=\"padding-left: 1em; padding-right: 1em; text-align: center; vertical-align: top\">G:/img-002/img/Abstract_D<br>iamond_Print_Jumpsuit ...</td>\n",
       "        <td style=\"padding-left: 1em; padding-right: 1em; text-align: center; vertical-align: top\">Height: 300 Width: 205</td>\n",
       "        <td style=\"padding-left: 1em; padding-right: 1em; text-align: center; vertical-align: top\">Abstract_Diamond_Print_Ju<br>mpsuit ...</td>\n",
       "    </tr>\n",
       "    <tr>\n",
       "        <td style=\"padding-left: 1em; padding-right: 1em; text-align: center; vertical-align: top\">G:/img-002/img/Abstract_D<br>iamond_Print_Jumpsuit ...</td>\n",
       "        <td style=\"padding-left: 1em; padding-right: 1em; text-align: center; vertical-align: top\">Height: 300 Width: 209</td>\n",
       "        <td style=\"padding-left: 1em; padding-right: 1em; text-align: center; vertical-align: top\">Abstract_Diamond_Print_Ju<br>mpsuit ...</td>\n",
       "    </tr>\n",
       "    <tr>\n",
       "        <td style=\"padding-left: 1em; padding-right: 1em; text-align: center; vertical-align: top\">G:/img-002/img/Abstract_D<br>iamond_Print_Jumpsuit ...</td>\n",
       "        <td style=\"padding-left: 1em; padding-right: 1em; text-align: center; vertical-align: top\">Height: 300 Width: 300</td>\n",
       "        <td style=\"padding-left: 1em; padding-right: 1em; text-align: center; vertical-align: top\">Abstract_Diamond_Print_Ju<br>mpsuit ...</td>\n",
       "    </tr>\n",
       "    <tr>\n",
       "        <td style=\"padding-left: 1em; padding-right: 1em; text-align: center; vertical-align: top\">G:/img-002/img/Abstract_D<br>iamond_Print_Jumpsuit ...</td>\n",
       "        <td style=\"padding-left: 1em; padding-right: 1em; text-align: center; vertical-align: top\">Height: 300 Width: 200</td>\n",
       "        <td style=\"padding-left: 1em; padding-right: 1em; text-align: center; vertical-align: top\">Abstract_Diamond_Print_Ju<br>mpsuit ...</td>\n",
       "    </tr>\n",
       "    <tr>\n",
       "        <td style=\"padding-left: 1em; padding-right: 1em; text-align: center; vertical-align: top\">G:/img-002/img/Abstract_D<br>iamond_Print_Jumpsuit ...</td>\n",
       "        <td style=\"padding-left: 1em; padding-right: 1em; text-align: center; vertical-align: top\">Height: 300 Width: 300</td>\n",
       "        <td style=\"padding-left: 1em; padding-right: 1em; text-align: center; vertical-align: top\">Abstract_Diamond_Print_Ju<br>mpsuit ...</td>\n",
       "    </tr>\n",
       "    <tr>\n",
       "        <td style=\"padding-left: 1em; padding-right: 1em; text-align: center; vertical-align: top\">G:/img-002/img/Abstract_D<br>iamond_Print_Jumpsuit ...</td>\n",
       "        <td style=\"padding-left: 1em; padding-right: 1em; text-align: center; vertical-align: top\">Height: 300 Width: 300</td>\n",
       "        <td style=\"padding-left: 1em; padding-right: 1em; text-align: center; vertical-align: top\">Abstract_Diamond_Print_Ju<br>mpsuit ...</td>\n",
       "    </tr>\n",
       "    <tr>\n",
       "        <td style=\"padding-left: 1em; padding-right: 1em; text-align: center; vertical-align: top\">G:/img-002/img/Abstract_D<br>iamond_Print_Jumpsuit ...</td>\n",
       "        <td style=\"padding-left: 1em; padding-right: 1em; text-align: center; vertical-align: top\">Height: 300 Width: 236</td>\n",
       "        <td style=\"padding-left: 1em; padding-right: 1em; text-align: center; vertical-align: top\">Abstract_Diamond_Print_Ju<br>mpsuit ...</td>\n",
       "    </tr>\n",
       "</table>\n",
       "[28 rows x 3 columns]<br/>Note: Only the head of the SFrame is printed.<br/>You can use print_rows(num_rows=m, num_columns=n) to print more rows and columns.\n",
       "</div>"
      ],
      "text/plain": [
       "Columns:\n",
       "\tpath\tstr\n",
       "\timage\tImage\n",
       "\tlabel\tstr\n",
       "\n",
       "Rows: 28\n",
       "\n",
       "Data:\n",
       "+-------------------------------+------------------------+\n",
       "|              path             |         image          |\n",
       "+-------------------------------+------------------------+\n",
       "| G:/img-002/img/Abstract_Di... | Height: 300 Width: 205 |\n",
       "| G:/img-002/img/Abstract_Di... | Height: 300 Width: 240 |\n",
       "| G:/img-002/img/Abstract_Di... | Height: 301 Width: 205 |\n",
       "| G:/img-002/img/Abstract_Di... | Height: 300 Width: 205 |\n",
       "| G:/img-002/img/Abstract_Di... | Height: 300 Width: 209 |\n",
       "| G:/img-002/img/Abstract_Di... | Height: 300 Width: 300 |\n",
       "| G:/img-002/img/Abstract_Di... | Height: 300 Width: 200 |\n",
       "| G:/img-002/img/Abstract_Di... | Height: 300 Width: 300 |\n",
       "| G:/img-002/img/Abstract_Di... | Height: 300 Width: 300 |\n",
       "| G:/img-002/img/Abstract_Di... | Height: 300 Width: 236 |\n",
       "+-------------------------------+------------------------+\n",
       "+-------------------------------+\n",
       "|             label             |\n",
       "+-------------------------------+\n",
       "| Abstract_Diamond_Print_Jum... |\n",
       "| Abstract_Diamond_Print_Jum... |\n",
       "| Abstract_Diamond_Print_Jum... |\n",
       "| Abstract_Diamond_Print_Jum... |\n",
       "| Abstract_Diamond_Print_Jum... |\n",
       "| Abstract_Diamond_Print_Jum... |\n",
       "| Abstract_Diamond_Print_Jum... |\n",
       "| Abstract_Diamond_Print_Jum... |\n",
       "| Abstract_Diamond_Print_Jum... |\n",
       "| Abstract_Diamond_Print_Jum... |\n",
       "+-------------------------------+\n",
       "[28 rows x 3 columns]\n",
       "Note: Only the head of the SFrame is printed.\n",
       "You can use print_rows(num_rows=m, num_columns=n) to print more rows and columns."
      ]
     },
     "execution_count": 105,
     "metadata": {},
     "output_type": "execute_result"
    }
   ],
   "source": [
    "url='G:\\img-002\\img\\Abstract_Diamond_Fringe_Kimono'\n",
    "data2 = graphlab.image_analysis.load_images(url)\n",
    "data2['label']='Abstract_Diamond_Fringe_Kimono'\n",
    "graphlab.canvas.set_target('ipynb')\n",
    "data2.show()\n",
    "data2\n",
    "url='G:\\img-002\\img\\Abstract_Diamond_Print_Jumpsuit'\n",
    "data3 = graphlab.image_analysis.load_images(url)\n",
    "data3['label']='Abstract_Diamond_Print_Jumpsuit'\n",
    "graphlab.canvas.set_target('ipynb')\n",
    "data3.show()\n",
    "data3"
   ]
  },
  {
   "cell_type": "code",
   "execution_count": 106,
   "metadata": {
    "collapsed": false
   },
   "outputs": [],
   "source": [
    "data = data.append(data2)\n",
    "data = data.append(data3)"
   ]
  },
  {
   "cell_type": "code",
   "execution_count": 107,
   "metadata": {
    "collapsed": false
   },
   "outputs": [
    {
     "name": "stdout",
     "output_type": "stream",
     "text": [
      "Canvas is accessible via web browser at the URL: http://localhost:56646/index.html\n",
      "Opening Canvas in default web browser.\n",
      "+-------------------------------+------------------------+\n",
      "|              path             |         image          |\n",
      "+-------------------------------+------------------------+\n",
      "| G:/img-002/img/Above_Avera... | Height: 300 Width: 205 |\n",
      "| G:/img-002/img/Above_Avera... | Height: 300 Width: 300 |\n",
      "| G:/img-002/img/Above_Avera... | Height: 300 Width: 300 |\n",
      "| G:/img-002/img/Above_Avera... | Height: 300 Width: 300 |\n",
      "| G:/img-002/img/Above_Avera... | Height: 300 Width: 205 |\n",
      "| G:/img-002/img/Above_Avera... | Height: 250 Width: 200 |\n",
      "| G:/img-002/img/Above_Avera... | Height: 300 Width: 196 |\n",
      "| G:/img-002/img/Above_Avera... | Height: 300 Width: 205 |\n",
      "| G:/img-002/img/Above_Avera... | Height: 301 Width: 199 |\n",
      "| G:/img-002/img/Above_Avera... | Height: 301 Width: 199 |\n",
      "| G:/img-002/img/Above_Avera... | Height: 300 Width: 300 |\n",
      "| G:/img-002/img/Above_Avera... | Height: 300 Width: 300 |\n",
      "| G:/img-002/img/Above_Avera... | Height: 300 Width: 247 |\n",
      "| G:/img-002/img/Above_Avera... | Height: 300 Width: 226 |\n",
      "| G:/img-002/img/Above_Avera... | Height: 300 Width: 192 |\n",
      "| G:/img-002/img/Above_Avera... | Height: 300 Width: 196 |\n",
      "| G:/img-002/img/Above_Avera... | Height: 301 Width: 199 |\n",
      "| G:/img-002/img/Above_Avera... | Height: 300 Width: 300 |\n",
      "| G:/img-002/img/Above_Avera... | Height: 300 Width: 196 |\n",
      "| G:/img-002/img/Above_Avera... | Height: 300 Width: 205 |\n",
      "| G:/img-002/img/Above_Avera... | Height: 250 Width: 200 |\n",
      "| G:/img-002/img/Above_Avera... | Height: 300 Width: 300 |\n",
      "| G:/img-002/img/Above_Avera... | Height: 300 Width: 300 |\n",
      "| G:/img-002/img/Above_Avera... | Height: 301 Width: 199 |\n",
      "| G:/img-002/img/Above_Avera... | Height: 300 Width: 207 |\n",
      "| G:/img-002/img/Above_Avera... | Height: 300 Width: 300 |\n",
      "| G:/img-002/img/Above_Avera... | Height: 300 Width: 300 |\n",
      "| G:/img-002/img/Above_Avera... | Height: 279 Width: 300 |\n",
      "| G:/img-002/img/Above_Avera... | Height: 301 Width: 205 |\n",
      "| G:/img-002/img/Above_Avera... | Height: 250 Width: 200 |\n",
      "| G:/img-002/img/Above_Avera... | Height: 300 Width: 205 |\n",
      "| G:/img-002/img/Above_Avera... | Height: 300 Width: 213 |\n",
      "| G:/img-002/img/Above_Avera... | Height: 301 Width: 199 |\n",
      "| G:/img-002/img/Above_Avera... | Height: 300 Width: 205 |\n",
      "| G:/img-002/img/Above_Avera... | Height: 301 Width: 227 |\n",
      "| G:/img-002/img/Above_Avera... | Height: 301 Width: 205 |\n",
      "| G:/img-002/img/Above_Avera... | Height: 301 Width: 227 |\n",
      "| G:/img-002/img/Above_Avera... | Height: 300 Width: 210 |\n",
      "| G:/img-002/img/Above_Avera... | Height: 300 Width: 205 |\n",
      "| G:/img-002/img/Above_Avera... | Height: 300 Width: 300 |\n",
      "| G:/img-002/img/Above_Avera... | Height: 300 Width: 205 |\n",
      "| G:/img-002/img/Above_Avera... | Height: 301 Width: 199 |\n",
      "| G:/img-002/img/Above_Avera... | Height: 300 Width: 205 |\n",
      "| G:/img-002/img/Abstract_Di... | Height: 300 Width: 205 |\n",
      "| G:/img-002/img/Abstract_Di... | Height: 300 Width: 210 |\n",
      "| G:/img-002/img/Abstract_Di... | Height: 239 Width: 300 |\n",
      "| G:/img-002/img/Abstract_Di... | Height: 300 Width: 300 |\n",
      "| G:/img-002/img/Abstract_Di... | Height: 300 Width: 200 |\n",
      "| G:/img-002/img/Abstract_Di... | Height: 300 Width: 200 |\n",
      "| G:/img-002/img/Abstract_Di... | Height: 300 Width: 241 |\n",
      "| G:/img-002/img/Abstract_Di... | Height: 301 Width: 205 |\n",
      "| G:/img-002/img/Abstract_Di... | Height: 300 Width: 200 |\n",
      "| G:/img-002/img/Abstract_Di... | Height: 300 Width: 200 |\n",
      "| G:/img-002/img/Abstract_Di... | Height: 300 Width: 205 |\n",
      "| G:/img-002/img/Abstract_Di... | Height: 300 Width: 205 |\n",
      "| G:/img-002/img/Abstract_Di... | Height: 300 Width: 300 |\n",
      "| G:/img-002/img/Abstract_Di... | Height: 301 Width: 205 |\n",
      "| G:/img-002/img/Abstract_Di... | Height: 300 Width: 293 |\n",
      "| G:/img-002/img/Abstract_Di... | Height: 300 Width: 205 |\n",
      "| G:/img-002/img/Abstract_Di... | Height: 300 Width: 205 |\n",
      "| G:/img-002/img/Abstract_Di... | Height: 300 Width: 300 |\n",
      "| G:/img-002/img/Abstract_Di... | Height: 201 Width: 300 |\n",
      "| G:/img-002/img/Abstract_Di... | Height: 301 Width: 205 |\n",
      "| G:/img-002/img/Abstract_Di... | Height: 300 Width: 300 |\n",
      "| G:/img-002/img/Abstract_Di... | Height: 300 Width: 205 |\n",
      "| G:/img-002/img/Abstract_Di... | Height: 300 Width: 205 |\n",
      "| G:/img-002/img/Abstract_Di... | Height: 300 Width: 236 |\n",
      "| G:/img-002/img/Abstract_Di... | Height: 300 Width: 240 |\n",
      "| G:/img-002/img/Abstract_Di... | Height: 300 Width: 205 |\n",
      "| G:/img-002/img/Abstract_Di... | Height: 300 Width: 240 |\n",
      "| G:/img-002/img/Abstract_Di... | Height: 301 Width: 205 |\n",
      "| G:/img-002/img/Abstract_Di... | Height: 300 Width: 205 |\n",
      "| G:/img-002/img/Abstract_Di... | Height: 300 Width: 209 |\n",
      "| G:/img-002/img/Abstract_Di... | Height: 300 Width: 300 |\n",
      "| G:/img-002/img/Abstract_Di... | Height: 300 Width: 200 |\n",
      "| G:/img-002/img/Abstract_Di... | Height: 300 Width: 300 |\n",
      "| G:/img-002/img/Abstract_Di... | Height: 300 Width: 300 |\n",
      "| G:/img-002/img/Abstract_Di... | Height: 300 Width: 236 |\n",
      "| G:/img-002/img/Abstract_Di... | Height: 300 Width: 300 |\n",
      "| G:/img-002/img/Abstract_Di... | Height: 274 Width: 224 |\n",
      "| G:/img-002/img/Abstract_Di... | Height: 300 Width: 200 |\n",
      "| G:/img-002/img/Abstract_Di... | Height: 300 Width: 201 |\n",
      "| G:/img-002/img/Abstract_Di... | Height: 300 Width: 199 |\n",
      "| G:/img-002/img/Abstract_Di... | Height: 301 Width: 246 |\n",
      "| G:/img-002/img/Abstract_Di... | Height: 301 Width: 200 |\n",
      "| G:/img-002/img/Abstract_Di... | Height: 300 Width: 300 |\n",
      "| G:/img-002/img/Abstract_Di... | Height: 300 Width: 205 |\n",
      "| G:/img-002/img/Abstract_Di... | Height: 300 Width: 300 |\n",
      "| G:/img-002/img/Abstract_Di... | Height: 300 Width: 300 |\n",
      "| G:/img-002/img/Abstract_Di... | Height: 300 Width: 205 |\n",
      "| G:/img-002/img/Abstract_Di... | Height: 300 Width: 205 |\n",
      "| G:/img-002/img/Abstract_Di... | Height: 300 Width: 219 |\n",
      "| G:/img-002/img/Abstract_Di... | Height: 300 Width: 300 |\n",
      "| G:/img-002/img/Abstract_Di... | Height: 300 Width: 170 |\n",
      "| G:/img-002/img/Abstract_Di... | Height: 300 Width: 196 |\n",
      "| G:/img-002/img/Abstract_Di... | Height: 300 Width: 200 |\n",
      "+-------------------------------+------------------------+\n",
      "+--------------------------------+\n",
      "|             label              |\n",
      "+--------------------------------+\n",
      "|    Above_Average_Linen_Tee     |\n",
      "|    Above_Average_Linen_Tee     |\n",
      "|    Above_Average_Linen_Tee     |\n",
      "|    Above_Average_Linen_Tee     |\n",
      "|    Above_Average_Linen_Tee     |\n",
      "|    Above_Average_Linen_Tee     |\n",
      "|    Above_Average_Linen_Tee     |\n",
      "|    Above_Average_Linen_Tee     |\n",
      "|    Above_Average_Linen_Tee     |\n",
      "|    Above_Average_Linen_Tee     |\n",
      "|    Above_Average_Linen_Tee     |\n",
      "|    Above_Average_Linen_Tee     |\n",
      "|    Above_Average_Linen_Tee     |\n",
      "|    Above_Average_Linen_Tee     |\n",
      "|    Above_Average_Linen_Tee     |\n",
      "|    Above_Average_Linen_Tee     |\n",
      "|    Above_Average_Linen_Tee     |\n",
      "|    Above_Average_Linen_Tee     |\n",
      "|    Above_Average_Linen_Tee     |\n",
      "|    Above_Average_Linen_Tee     |\n",
      "|    Above_Average_Linen_Tee     |\n",
      "|    Above_Average_Linen_Tee     |\n",
      "|    Above_Average_Linen_Tee     |\n",
      "|    Above_Average_Linen_Tee     |\n",
      "|    Above_Average_Linen_Tee     |\n",
      "|    Above_Average_Linen_Tee     |\n",
      "|    Above_Average_Linen_Tee     |\n",
      "|    Above_Average_Linen_Tee     |\n",
      "|    Above_Average_Linen_Tee     |\n",
      "|    Above_Average_Linen_Tee     |\n",
      "|    Above_Average_Linen_Tee     |\n",
      "|    Above_Average_Linen_Tee     |\n",
      "|    Above_Average_Linen_Tee     |\n",
      "|    Above_Average_Linen_Tee     |\n",
      "|    Above_Average_Linen_Tee     |\n",
      "|    Above_Average_Linen_Tee     |\n",
      "|    Above_Average_Linen_Tee     |\n",
      "|    Above_Average_Linen_Tee     |\n",
      "|    Above_Average_Linen_Tee     |\n",
      "|    Above_Average_Linen_Tee     |\n",
      "|    Above_Average_Linen_Tee     |\n",
      "|    Above_Average_Linen_Tee     |\n",
      "|    Above_Average_Linen_Tee     |\n",
      "| Abstract_Diamond_Fringe_Kimono |\n",
      "| Abstract_Diamond_Fringe_Kimono |\n",
      "| Abstract_Diamond_Fringe_Kimono |\n",
      "| Abstract_Diamond_Fringe_Kimono |\n",
      "| Abstract_Diamond_Fringe_Kimono |\n",
      "| Abstract_Diamond_Fringe_Kimono |\n",
      "| Abstract_Diamond_Fringe_Kimono |\n",
      "| Abstract_Diamond_Fringe_Kimono |\n",
      "| Abstract_Diamond_Fringe_Kimono |\n",
      "| Abstract_Diamond_Fringe_Kimono |\n",
      "| Abstract_Diamond_Fringe_Kimono |\n",
      "| Abstract_Diamond_Fringe_Kimono |\n",
      "| Abstract_Diamond_Fringe_Kimono |\n",
      "| Abstract_Diamond_Fringe_Kimono |\n",
      "| Abstract_Diamond_Fringe_Kimono |\n",
      "| Abstract_Diamond_Fringe_Kimono |\n",
      "| Abstract_Diamond_Fringe_Kimono |\n",
      "| Abstract_Diamond_Fringe_Kimono |\n",
      "| Abstract_Diamond_Fringe_Kimono |\n",
      "| Abstract_Diamond_Fringe_Kimono |\n",
      "| Abstract_Diamond_Fringe_Kimono |\n",
      "| Abstract_Diamond_Fringe_Kimono |\n",
      "| Abstract_Diamond_Fringe_Kimono |\n",
      "| Abstract_Diamond_Fringe_Kimono |\n",
      "| Abstract_Diamond_Fringe_Kimono |\n",
      "| Abstract_Diamond_Print_Jum...  |\n",
      "| Abstract_Diamond_Print_Jum...  |\n",
      "| Abstract_Diamond_Print_Jum...  |\n",
      "| Abstract_Diamond_Print_Jum...  |\n",
      "| Abstract_Diamond_Print_Jum...  |\n",
      "| Abstract_Diamond_Print_Jum...  |\n",
      "| Abstract_Diamond_Print_Jum...  |\n",
      "| Abstract_Diamond_Print_Jum...  |\n",
      "| Abstract_Diamond_Print_Jum...  |\n",
      "| Abstract_Diamond_Print_Jum...  |\n",
      "| Abstract_Diamond_Print_Jum...  |\n",
      "| Abstract_Diamond_Print_Jum...  |\n",
      "| Abstract_Diamond_Print_Jum...  |\n",
      "| Abstract_Diamond_Print_Jum...  |\n",
      "| Abstract_Diamond_Print_Jum...  |\n",
      "| Abstract_Diamond_Print_Jum...  |\n",
      "| Abstract_Diamond_Print_Jum...  |\n",
      "| Abstract_Diamond_Print_Jum...  |\n",
      "| Abstract_Diamond_Print_Jum...  |\n",
      "| Abstract_Diamond_Print_Jum...  |\n",
      "| Abstract_Diamond_Print_Jum...  |\n",
      "| Abstract_Diamond_Print_Jum...  |\n",
      "| Abstract_Diamond_Print_Jum...  |\n",
      "| Abstract_Diamond_Print_Jum...  |\n",
      "| Abstract_Diamond_Print_Jum...  |\n",
      "| Abstract_Diamond_Print_Jum...  |\n",
      "| Abstract_Diamond_Print_Jum...  |\n",
      "| Abstract_Diamond_Print_Jum...  |\n",
      "+--------------------------------+\n",
      "[96 rows x 3 columns]\n",
      "\n"
     ]
    }
   ],
   "source": [
    "graphlab.canvas.set_target('browser')\n",
    "data.show()\n",
    "data.print_rows(num_rows=121, num_columns=3)"
   ]
  },
  {
   "cell_type": "code",
   "execution_count": 108,
   "metadata": {
    "collapsed": false
   },
   "outputs": [],
   "source": [
    "extractor = graphlab.feature_engineering.DeepFeatureExtractor(features = 'image',\n",
    "                                                        model='auto')"
   ]
  },
  {
   "cell_type": "code",
   "execution_count": 109,
   "metadata": {
    "collapsed": true
   },
   "outputs": [],
   "source": [
    "extractor = extractor.fit(data)"
   ]
  },
  {
   "cell_type": "code",
   "execution_count": 110,
   "metadata": {
    "collapsed": true
   },
   "outputs": [],
   "source": [
    "extracted_model = extractor['model']"
   ]
  },
  {
   "cell_type": "code",
   "execution_count": 111,
   "metadata": {
    "collapsed": false
   },
   "outputs": [
    {
     "data": {
      "text/html": [
       "<pre>Images being resized.</pre>"
      ],
      "text/plain": [
       "Images being resized."
      ]
     },
     "metadata": {},
     "output_type": "display_data"
    }
   ],
   "source": [
    "features_sf = extractor.transform(data)"
   ]
  },
  {
   "cell_type": "code",
   "execution_count": 112,
   "metadata": {
    "collapsed": false
   },
   "outputs": [
    {
     "name": "stdout",
     "output_type": "stream",
     "text": [
      "+-------------------------------+------------------------+\n",
      "|              path             |         image          |\n",
      "+-------------------------------+------------------------+\n",
      "| G:/img-002/img/Above_Avera... | Height: 300 Width: 205 |\n",
      "| G:/img-002/img/Above_Avera... | Height: 300 Width: 300 |\n",
      "| G:/img-002/img/Above_Avera... | Height: 300 Width: 300 |\n",
      "| G:/img-002/img/Above_Avera... | Height: 300 Width: 300 |\n",
      "| G:/img-002/img/Above_Avera... | Height: 300 Width: 205 |\n",
      "| G:/img-002/img/Above_Avera... | Height: 250 Width: 200 |\n",
      "| G:/img-002/img/Above_Avera... | Height: 300 Width: 196 |\n",
      "| G:/img-002/img/Above_Avera... | Height: 300 Width: 205 |\n",
      "| G:/img-002/img/Above_Avera... | Height: 301 Width: 199 |\n",
      "| G:/img-002/img/Above_Avera... | Height: 301 Width: 199 |\n",
      "| G:/img-002/img/Above_Avera... | Height: 300 Width: 300 |\n",
      "| G:/img-002/img/Above_Avera... | Height: 300 Width: 300 |\n",
      "| G:/img-002/img/Above_Avera... | Height: 300 Width: 247 |\n",
      "| G:/img-002/img/Above_Avera... | Height: 300 Width: 226 |\n",
      "| G:/img-002/img/Above_Avera... | Height: 300 Width: 192 |\n",
      "| G:/img-002/img/Above_Avera... | Height: 300 Width: 196 |\n",
      "| G:/img-002/img/Above_Avera... | Height: 301 Width: 199 |\n",
      "| G:/img-002/img/Above_Avera... | Height: 300 Width: 300 |\n",
      "| G:/img-002/img/Above_Avera... | Height: 300 Width: 196 |\n",
      "| G:/img-002/img/Above_Avera... | Height: 300 Width: 205 |\n",
      "| G:/img-002/img/Above_Avera... | Height: 250 Width: 200 |\n",
      "| G:/img-002/img/Above_Avera... | Height: 300 Width: 300 |\n",
      "| G:/img-002/img/Above_Avera... | Height: 300 Width: 300 |\n",
      "| G:/img-002/img/Above_Avera... | Height: 301 Width: 199 |\n",
      "| G:/img-002/img/Above_Avera... | Height: 300 Width: 207 |\n",
      "| G:/img-002/img/Above_Avera... | Height: 300 Width: 300 |\n",
      "| G:/img-002/img/Above_Avera... | Height: 300 Width: 300 |\n",
      "| G:/img-002/img/Above_Avera... | Height: 279 Width: 300 |\n",
      "| G:/img-002/img/Above_Avera... | Height: 301 Width: 205 |\n",
      "| G:/img-002/img/Above_Avera... | Height: 250 Width: 200 |\n",
      "| G:/img-002/img/Above_Avera... | Height: 300 Width: 205 |\n",
      "| G:/img-002/img/Above_Avera... | Height: 300 Width: 213 |\n",
      "| G:/img-002/img/Above_Avera... | Height: 301 Width: 199 |\n",
      "| G:/img-002/img/Above_Avera... | Height: 300 Width: 205 |\n",
      "| G:/img-002/img/Above_Avera... | Height: 301 Width: 227 |\n",
      "| G:/img-002/img/Above_Avera... | Height: 301 Width: 205 |\n",
      "| G:/img-002/img/Above_Avera... | Height: 301 Width: 227 |\n",
      "| G:/img-002/img/Above_Avera... | Height: 300 Width: 210 |\n",
      "| G:/img-002/img/Above_Avera... | Height: 300 Width: 205 |\n",
      "| G:/img-002/img/Above_Avera... | Height: 300 Width: 300 |\n",
      "| G:/img-002/img/Above_Avera... | Height: 300 Width: 205 |\n",
      "| G:/img-002/img/Above_Avera... | Height: 301 Width: 199 |\n",
      "| G:/img-002/img/Above_Avera... | Height: 300 Width: 205 |\n",
      "| G:/img-002/img/Abstract_Di... | Height: 300 Width: 205 |\n",
      "| G:/img-002/img/Abstract_Di... | Height: 300 Width: 210 |\n",
      "| G:/img-002/img/Abstract_Di... | Height: 239 Width: 300 |\n",
      "| G:/img-002/img/Abstract_Di... | Height: 300 Width: 300 |\n",
      "| G:/img-002/img/Abstract_Di... | Height: 300 Width: 200 |\n",
      "| G:/img-002/img/Abstract_Di... | Height: 300 Width: 200 |\n",
      "| G:/img-002/img/Abstract_Di... | Height: 300 Width: 241 |\n",
      "| G:/img-002/img/Abstract_Di... | Height: 301 Width: 205 |\n",
      "| G:/img-002/img/Abstract_Di... | Height: 300 Width: 200 |\n",
      "| G:/img-002/img/Abstract_Di... | Height: 300 Width: 200 |\n",
      "| G:/img-002/img/Abstract_Di... | Height: 300 Width: 205 |\n",
      "| G:/img-002/img/Abstract_Di... | Height: 300 Width: 205 |\n",
      "| G:/img-002/img/Abstract_Di... | Height: 300 Width: 300 |\n",
      "| G:/img-002/img/Abstract_Di... | Height: 301 Width: 205 |\n",
      "| G:/img-002/img/Abstract_Di... | Height: 300 Width: 293 |\n",
      "| G:/img-002/img/Abstract_Di... | Height: 300 Width: 205 |\n",
      "| G:/img-002/img/Abstract_Di... | Height: 300 Width: 205 |\n",
      "| G:/img-002/img/Abstract_Di... | Height: 300 Width: 300 |\n",
      "| G:/img-002/img/Abstract_Di... | Height: 201 Width: 300 |\n",
      "| G:/img-002/img/Abstract_Di... | Height: 301 Width: 205 |\n",
      "| G:/img-002/img/Abstract_Di... | Height: 300 Width: 300 |\n",
      "| G:/img-002/img/Abstract_Di... | Height: 300 Width: 205 |\n",
      "| G:/img-002/img/Abstract_Di... | Height: 300 Width: 205 |\n",
      "| G:/img-002/img/Abstract_Di... | Height: 300 Width: 236 |\n",
      "| G:/img-002/img/Abstract_Di... | Height: 300 Width: 240 |\n",
      "| G:/img-002/img/Abstract_Di... | Height: 300 Width: 205 |\n",
      "| G:/img-002/img/Abstract_Di... | Height: 300 Width: 240 |\n",
      "| G:/img-002/img/Abstract_Di... | Height: 301 Width: 205 |\n",
      "| G:/img-002/img/Abstract_Di... | Height: 300 Width: 205 |\n",
      "| G:/img-002/img/Abstract_Di... | Height: 300 Width: 209 |\n",
      "| G:/img-002/img/Abstract_Di... | Height: 300 Width: 300 |\n",
      "| G:/img-002/img/Abstract_Di... | Height: 300 Width: 200 |\n",
      "| G:/img-002/img/Abstract_Di... | Height: 300 Width: 300 |\n",
      "| G:/img-002/img/Abstract_Di... | Height: 300 Width: 300 |\n",
      "| G:/img-002/img/Abstract_Di... | Height: 300 Width: 236 |\n",
      "| G:/img-002/img/Abstract_Di... | Height: 300 Width: 300 |\n",
      "| G:/img-002/img/Abstract_Di... | Height: 274 Width: 224 |\n",
      "| G:/img-002/img/Abstract_Di... | Height: 300 Width: 200 |\n",
      "| G:/img-002/img/Abstract_Di... | Height: 300 Width: 201 |\n",
      "| G:/img-002/img/Abstract_Di... | Height: 300 Width: 199 |\n",
      "| G:/img-002/img/Abstract_Di... | Height: 301 Width: 246 |\n",
      "| G:/img-002/img/Abstract_Di... | Height: 301 Width: 200 |\n",
      "| G:/img-002/img/Abstract_Di... | Height: 300 Width: 300 |\n",
      "| G:/img-002/img/Abstract_Di... | Height: 300 Width: 205 |\n",
      "| G:/img-002/img/Abstract_Di... | Height: 300 Width: 300 |\n",
      "| G:/img-002/img/Abstract_Di... | Height: 300 Width: 300 |\n",
      "| G:/img-002/img/Abstract_Di... | Height: 300 Width: 205 |\n",
      "| G:/img-002/img/Abstract_Di... | Height: 300 Width: 205 |\n",
      "| G:/img-002/img/Abstract_Di... | Height: 300 Width: 219 |\n",
      "| G:/img-002/img/Abstract_Di... | Height: 300 Width: 300 |\n",
      "| G:/img-002/img/Abstract_Di... | Height: 300 Width: 170 |\n",
      "| G:/img-002/img/Abstract_Di... | Height: 300 Width: 196 |\n",
      "| G:/img-002/img/Abstract_Di... | Height: 300 Width: 200 |\n",
      "+-------------------------------+------------------------+\n",
      "+--------------------------------+-------------------------------+\n",
      "|             label              |      deep_features.image      |\n",
      "+--------------------------------+-------------------------------+\n",
      "|    Above_Average_Linen_Tee     | [0.0, 0.0, 3.62335371971, ... |\n",
      "|    Above_Average_Linen_Tee     | [0.0, 0.0, 0.633937895298,... |\n",
      "|    Above_Average_Linen_Tee     | [0.0, 0.0, 0.891608417034,... |\n",
      "|    Above_Average_Linen_Tee     | [0.0, 0.0, 4.64549255371, ... |\n",
      "|    Above_Average_Linen_Tee     | [0.0, 0.0, 0.854649960995,... |\n",
      "|    Above_Average_Linen_Tee     | [0.0, 0.0, 0.0, 0.32578104... |\n",
      "|    Above_Average_Linen_Tee     | [0.0, 0.0, 0.0, 0.0, 0.0, ... |\n",
      "|    Above_Average_Linen_Tee     | [0.0, 0.0, 3.85754084587, ... |\n",
      "|    Above_Average_Linen_Tee     | [0.0, 0.0, 3.7734913826, 0... |\n",
      "|    Above_Average_Linen_Tee     | [0.0, 0.0, 3.61040472984, ... |\n",
      "|    Above_Average_Linen_Tee     | [0.0, 0.0, 2.53580236435, ... |\n",
      "|    Above_Average_Linen_Tee     | [0.0, 0.0, 3.19046235085, ... |\n",
      "|    Above_Average_Linen_Tee     | [0.0, 0.0, 0.0706681609154... |\n",
      "|    Above_Average_Linen_Tee     | [0.0, 0.0, 1.85925030708, ... |\n",
      "|    Above_Average_Linen_Tee     | [0.0, 0.0, 0.0, 1.14009273... |\n",
      "|    Above_Average_Linen_Tee     | [0.0, 0.237813591957, 4.62... |\n",
      "|    Above_Average_Linen_Tee     | [0.0, 0.0, 2.63520240784, ... |\n",
      "|    Above_Average_Linen_Tee     | [0.0, 0.0, 2.30908203125, ... |\n",
      "|    Above_Average_Linen_Tee     | [0.0, 0.0, 2.18659234047, ... |\n",
      "|    Above_Average_Linen_Tee     | [0.0, 0.0, 3.44956660271, ... |\n",
      "|    Above_Average_Linen_Tee     | [0.0, 0.0, 3.84852290154, ... |\n",
      "|    Above_Average_Linen_Tee     | [0.0, 0.0, 0.947343170643,... |\n",
      "|    Above_Average_Linen_Tee     | [0.0, 0.183017671108, 0.93... |\n",
      "|    Above_Average_Linen_Tee     | [0.0, 0.0, 1.52621901035, ... |\n",
      "|    Above_Average_Linen_Tee     | [0.0, 0.0, 2.00495672226, ... |\n",
      "|    Above_Average_Linen_Tee     | [0.0, 0.0, 1.44604110718, ... |\n",
      "|    Above_Average_Linen_Tee     | [0.0, 0.0, 3.19691038132, ... |\n",
      "|    Above_Average_Linen_Tee     | [0.0, 0.0245332717896, 0.4... |\n",
      "|    Above_Average_Linen_Tee     | [0.0, 0.0, 5.83628749847, ... |\n",
      "|    Above_Average_Linen_Tee     | [0.0, 0.0, 1.7976783514, 0... |\n",
      "|    Above_Average_Linen_Tee     | [0.0, 0.0, 0.0, 0.0, 0.0, ... |\n",
      "|    Above_Average_Linen_Tee     | [0.0, 0.0, 0.0, 0.13515180... |\n",
      "|    Above_Average_Linen_Tee     | [0.0, 0.0, 4.25287723541, ... |\n",
      "|    Above_Average_Linen_Tee     | [0.0, 0.0, 3.08246254921, ... |\n",
      "|    Above_Average_Linen_Tee     | [0.0, 0.0, 0.0, 0.0, 0.597... |\n",
      "|    Above_Average_Linen_Tee     | [0.0, 0.0, 0.0, 0.27762132... |\n",
      "|    Above_Average_Linen_Tee     | [0.0, 1.20726561546, 3.607... |\n",
      "|    Above_Average_Linen_Tee     | [0.0, 0.48774433136, 3.748... |\n",
      "|    Above_Average_Linen_Tee     | [0.0, 0.0, 5.50026702881, ... |\n",
      "|    Above_Average_Linen_Tee     | [0.0, 0.0, 3.06293344498, ... |\n",
      "|    Above_Average_Linen_Tee     | [0.0, 0.0, 0.46381354332, ... |\n",
      "|    Above_Average_Linen_Tee     | [0.0, 0.0, 0.0, 3.59661769... |\n",
      "|    Above_Average_Linen_Tee     | [0.0, 0.0, 1.03586626053, ... |\n",
      "| Abstract_Diamond_Fringe_Kimono | [0.0, 0.0, 4.38139200211, ... |\n",
      "| Abstract_Diamond_Fringe_Kimono | [0.0, 0.80502808094, 0.0, ... |\n",
      "| Abstract_Diamond_Fringe_Kimono | [0.0, 0.0, 0.0, 1.97085022... |\n",
      "| Abstract_Diamond_Fringe_Kimono | [0.0, 0.0, 3.03551149368, ... |\n",
      "| Abstract_Diamond_Fringe_Kimono | [0.0, 0.0, 0.340844988823,... |\n",
      "| Abstract_Diamond_Fringe_Kimono | [0.0, 0.0, 0.0, 0.71267461... |\n",
      "| Abstract_Diamond_Fringe_Kimono | [0.0, 0.0, 2.88076496124, ... |\n",
      "| Abstract_Diamond_Fringe_Kimono | [0.0, 0.0, 1.38334560394, ... |\n",
      "| Abstract_Diamond_Fringe_Kimono | [0.0, 0.0, 3.67813754082, ... |\n",
      "| Abstract_Diamond_Fringe_Kimono | [0.0, 0.0, 1.32953238487, ... |\n",
      "| Abstract_Diamond_Fringe_Kimono | [0.0, 0.0, 2.45643377304, ... |\n",
      "| Abstract_Diamond_Fringe_Kimono | [0.0, 0.691367149353, 2.63... |\n",
      "| Abstract_Diamond_Fringe_Kimono | [0.0, 0.0, 0.0, 0.0, 0.0, ... |\n",
      "| Abstract_Diamond_Fringe_Kimono | [0.0, 0.0, 2.83542919159, ... |\n",
      "| Abstract_Diamond_Fringe_Kimono | [0.0, 0.0, 2.60927438736, ... |\n",
      "| Abstract_Diamond_Fringe_Kimono | [0.0, 0.0, 3.60492634773, ... |\n",
      "| Abstract_Diamond_Fringe_Kimono | [0.0, 0.0, 3.52417993546, ... |\n",
      "| Abstract_Diamond_Fringe_Kimono | [0.0, 0.66091799736, 2.535... |\n",
      "| Abstract_Diamond_Fringe_Kimono | [0.0, 0.0, 0.0, 0.0, 0.0, ... |\n",
      "| Abstract_Diamond_Fringe_Kimono | [0.0, 0.0, 3.75547766685, ... |\n",
      "| Abstract_Diamond_Fringe_Kimono | [0.0, 0.0, 1.92849957943, ... |\n",
      "| Abstract_Diamond_Fringe_Kimono | [0.0, 0.0, 4.08398628235, ... |\n",
      "| Abstract_Diamond_Fringe_Kimono | [0.0, 0.666020154953, 0.0,... |\n",
      "| Abstract_Diamond_Fringe_Kimono | [0.0, 0.0, 1.93627369404, ... |\n",
      "| Abstract_Diamond_Fringe_Kimono | [0.0, 0.0, 1.40088689327, ... |\n",
      "| Abstract_Diamond_Print_Jum...  | [0.0, 0.0, 0.0, 0.0, 0.0, ... |\n",
      "| Abstract_Diamond_Print_Jum...  | [0.0, 0.0, 1.43227553368, ... |\n",
      "| Abstract_Diamond_Print_Jum...  | [0.0, 0.0, 0.0, 0.0, 0.0, ... |\n",
      "| Abstract_Diamond_Print_Jum...  | [1.40610814095, 0.0, 1.467... |\n",
      "| Abstract_Diamond_Print_Jum...  | [0.0, 0.788640320301, 0.0,... |\n",
      "| Abstract_Diamond_Print_Jum...  | [0.0, 0.55071169138, 0.0, ... |\n",
      "| Abstract_Diamond_Print_Jum...  | [0.0, 0.0, 1.57291936874, ... |\n",
      "| Abstract_Diamond_Print_Jum...  | [0.0, 0.0, 0.0, 0.0, 0.0, ... |\n",
      "| Abstract_Diamond_Print_Jum...  | [0.0, 0.0, 0.268594264984,... |\n",
      "| Abstract_Diamond_Print_Jum...  | [0.0, 0.0, 0.0, 0.0, 0.0, ... |\n",
      "| Abstract_Diamond_Print_Jum...  | [0.0, 0.0, 0.0, 0.0, 0.0, ... |\n",
      "| Abstract_Diamond_Print_Jum...  | [0.0, 0.0, 2.07240271568, ... |\n",
      "| Abstract_Diamond_Print_Jum...  | [0.0, 0.0, 0.0, 0.0, 0.0, ... |\n",
      "| Abstract_Diamond_Print_Jum...  | [0.0, 0.0, 0.0, 2.78088998... |\n",
      "| Abstract_Diamond_Print_Jum...  | [0.0, 0.0, 0.0, 0.0, 0.0, ... |\n",
      "| Abstract_Diamond_Print_Jum...  | [0.0, 0.0, 1.64257526398, ... |\n",
      "| Abstract_Diamond_Print_Jum...  | [0.0, 0.0, 0.0, 0.0, 0.0, ... |\n",
      "| Abstract_Diamond_Print_Jum...  | [0.0, 1.59007573128, 0.640... |\n",
      "| Abstract_Diamond_Print_Jum...  | [0.0, 0.0, 0.0, 0.0, 0.0, ... |\n",
      "| Abstract_Diamond_Print_Jum...  | [0.0, 0.430367171764, 3.47... |\n",
      "| Abstract_Diamond_Print_Jum...  | [0.0, 0.0, 2.54203486443, ... |\n",
      "| Abstract_Diamond_Print_Jum...  | [0.0, 0.0, 0.0, 0.0, 0.0, ... |\n",
      "| Abstract_Diamond_Print_Jum...  | [0.0, 0.0, 2.47177743912, ... |\n",
      "| Abstract_Diamond_Print_Jum...  | [1.20553815365, 0.0, 0.0, ... |\n",
      "| Abstract_Diamond_Print_Jum...  | [0.0, 0.0, 0.0, 0.0, 0.0, ... |\n",
      "| Abstract_Diamond_Print_Jum...  | [0.0, 0.0, 3.88695478439, ... |\n",
      "| Abstract_Diamond_Print_Jum...  | [0.0, 0.0, 2.30815458298, ... |\n",
      "| Abstract_Diamond_Print_Jum...  | [0.0, 0.0, 0.0, 0.0, 0.362... |\n",
      "+--------------------------------+-------------------------------+\n",
      "[96 rows x 4 columns]\n",
      "\n",
      "None\n"
     ]
    }
   ],
   "source": [
    "print features_sf.print_rows(num_rows=121)"
   ]
  },
  {
   "cell_type": "code",
   "execution_count": 168,
   "metadata": {
    "collapsed": false
   },
   "outputs": [
    {
     "data": {
      "text/html": [
       "<pre>WARNING: The number of feature dimensions in this problem is very large in comparison with the number of examples. Unless an appropriate regularization value is set, this model may not provide accurate predictions for a validation/test set.</pre>"
      ],
      "text/plain": [
       "WARNING: The number of feature dimensions in this problem is very large in comparison with the number of examples. Unless an appropriate regularization value is set, this model may not provide accurate predictions for a validation/test set."
      ]
     },
     "metadata": {},
     "output_type": "display_data"
    },
    {
     "data": {
      "text/html": [
       "<pre>WARNING: Detected extremely low variance for feature(s) 'deep_features.image' because all entries are nearly the same.\n",
       "Proceeding with model training using all features. If the model does not provide results of adequate quality, exclude the above mentioned feature(s) from the input dataset.</pre>"
      ],
      "text/plain": [
       "WARNING: Detected extremely low variance for feature(s) 'deep_features.image' because all entries are nearly the same.\n",
       "Proceeding with model training using all features. If the model does not provide results of adequate quality, exclude the above mentioned feature(s) from the input dataset."
      ]
     },
     "metadata": {},
     "output_type": "display_data"
    },
    {
     "data": {
      "text/html": [
       "<pre>Logistic regression:</pre>"
      ],
      "text/plain": [
       "Logistic regression:"
      ]
     },
     "metadata": {},
     "output_type": "display_data"
    },
    {
     "data": {
      "text/html": [
       "<pre>--------------------------------------------------------</pre>"
      ],
      "text/plain": [
       "--------------------------------------------------------"
      ]
     },
     "metadata": {},
     "output_type": "display_data"
    },
    {
     "data": {
      "text/html": [
       "<pre>Number of examples          : 49</pre>"
      ],
      "text/plain": [
       "Number of examples          : 49"
      ]
     },
     "metadata": {},
     "output_type": "display_data"
    },
    {
     "data": {
      "text/html": [
       "<pre>Number of classes           : 3</pre>"
      ],
      "text/plain": [
       "Number of classes           : 3"
      ]
     },
     "metadata": {},
     "output_type": "display_data"
    },
    {
     "data": {
      "text/html": [
       "<pre>Number of feature columns   : 1</pre>"
      ],
      "text/plain": [
       "Number of feature columns   : 1"
      ]
     },
     "metadata": {},
     "output_type": "display_data"
    },
    {
     "data": {
      "text/html": [
       "<pre>Number of unpacked features : 4096</pre>"
      ],
      "text/plain": [
       "Number of unpacked features : 4096"
      ]
     },
     "metadata": {},
     "output_type": "display_data"
    },
    {
     "data": {
      "text/html": [
       "<pre>Number of coefficients    : 8194</pre>"
      ],
      "text/plain": [
       "Number of coefficients    : 8194"
      ]
     },
     "metadata": {},
     "output_type": "display_data"
    },
    {
     "data": {
      "text/html": [
       "<pre>Starting L-BFGS</pre>"
      ],
      "text/plain": [
       "Starting L-BFGS"
      ]
     },
     "metadata": {},
     "output_type": "display_data"
    },
    {
     "data": {
      "text/html": [
       "<pre>--------------------------------------------------------</pre>"
      ],
      "text/plain": [
       "--------------------------------------------------------"
      ]
     },
     "metadata": {},
     "output_type": "display_data"
    },
    {
     "data": {
      "text/html": [
       "<pre>+-----------+----------+-----------+--------------+-------------------+</pre>"
      ],
      "text/plain": [
       "+-----------+----------+-----------+--------------+-------------------+"
      ]
     },
     "metadata": {},
     "output_type": "display_data"
    },
    {
     "data": {
      "text/html": [
       "<pre>| Iteration | Passes   | Step size | Elapsed Time | Training-accuracy |</pre>"
      ],
      "text/plain": [
       "| Iteration | Passes   | Step size | Elapsed Time | Training-accuracy |"
      ]
     },
     "metadata": {},
     "output_type": "display_data"
    },
    {
     "data": {
      "text/html": [
       "<pre>+-----------+----------+-----------+--------------+-------------------+</pre>"
      ],
      "text/plain": [
       "+-----------+----------+-----------+--------------+-------------------+"
      ]
     },
     "metadata": {},
     "output_type": "display_data"
    },
    {
     "data": {
      "text/html": [
       "<pre>| 1         | 3        | 0.020408  | 0.053553     | 0.959184          |</pre>"
      ],
      "text/plain": [
       "| 1         | 3        | 0.020408  | 0.053553     | 0.959184          |"
      ]
     },
     "metadata": {},
     "output_type": "display_data"
    },
    {
     "data": {
      "text/html": [
       "<pre>| 2         | 5        | 1.000000  | 0.086953     | 1.000000          |</pre>"
      ],
      "text/plain": [
       "| 2         | 5        | 1.000000  | 0.086953     | 1.000000          |"
      ]
     },
     "metadata": {},
     "output_type": "display_data"
    },
    {
     "data": {
      "text/html": [
       "<pre>| 3         | 6        | 1.000000  | 0.109657     | 1.000000          |</pre>"
      ],
      "text/plain": [
       "| 3         | 6        | 1.000000  | 0.109657     | 1.000000          |"
      ]
     },
     "metadata": {},
     "output_type": "display_data"
    },
    {
     "data": {
      "text/html": [
       "<pre>+-----------+----------+-----------+--------------+-------------------+</pre>"
      ],
      "text/plain": [
       "+-----------+----------+-----------+--------------+-------------------+"
      ]
     },
     "metadata": {},
     "output_type": "display_data"
    },
    {
     "data": {
      "text/html": [
       "<pre>SUCCESS: Optimal solution found.</pre>"
      ],
      "text/plain": [
       "SUCCESS: Optimal solution found."
      ]
     },
     "metadata": {},
     "output_type": "display_data"
    },
    {
     "data": {
      "text/html": [
       "<pre></pre>"
      ],
      "text/plain": []
     },
     "metadata": {},
     "output_type": "display_data"
    },
    {
     "ename": "KeyError",
     "evalue": "'deep_features.image'",
     "output_type": "error",
     "traceback": [
      "\u001b[1;31m---------------------------------------------------------------------------\u001b[0m",
      "\u001b[1;31mKeyError\u001b[0m                                  Traceback (most recent call last)",
      "\u001b[1;32m<ipython-input-168-efb1d8a2b748>\u001b[0m in \u001b[0;36m<module>\u001b[1;34m()\u001b[0m\n\u001b[0;32m      4\u001b[0m \u001b[1;31m#knn_model = graphlab.nearest_neighbors.create(data)\u001b[0m\u001b[1;33m\u001b[0m\u001b[1;33m\u001b[0m\u001b[0m\n\u001b[0;32m      5\u001b[0m knn_model = graphlab.nearest_neighbors.create(data,features=['deep_features.image'],\n\u001b[1;32m----> 6\u001b[1;33m                                              label='label')\n\u001b[0m",
      "\u001b[1;32mC:\\Users\\Ridhima\\Anaconda2\\envs\\gl-env\\lib\\site-packages\\graphlab\\toolkits\\nearest_neighbors\\_nearest_neighbors.pyc\u001b[0m in \u001b[0;36mcreate\u001b[1;34m(dataset, label, features, distance, method, verbose, **kwargs)\u001b[0m\n\u001b[0;32m    462\u001b[0m                                             \u001b[0m_dataset\u001b[0m\u001b[1;33m.\u001b[0m\u001b[0mcolumn_names\u001b[0m\u001b[1;33m(\u001b[0m\u001b[1;33m)\u001b[0m\u001b[1;33m,\u001b[0m\u001b[1;33m\u001b[0m\u001b[0m\n\u001b[0;32m    463\u001b[0m                                             \u001b[0m_dataset\u001b[0m\u001b[1;33m.\u001b[0m\u001b[0mcolumn_types\u001b[0m\u001b[1;33m(\u001b[0m\u001b[1;33m)\u001b[0m\u001b[1;33m,\u001b[0m\u001b[1;33m\u001b[0m\u001b[0m\n\u001b[1;32m--> 464\u001b[1;33m                                             sample)\n\u001b[0m\u001b[0;32m    465\u001b[0m \u001b[1;33m\u001b[0m\u001b[0m\n\u001b[0;32m    466\u001b[0m     \u001b[1;32melse\u001b[0m\u001b[1;33m:\u001b[0m\u001b[1;33m\u001b[0m\u001b[0m\n",
      "\u001b[1;32mC:\\Users\\Ridhima\\Anaconda2\\envs\\gl-env\\lib\\site-packages\\graphlab\\toolkits\\nearest_neighbors\\_nearest_neighbors.pyc\u001b[0m in \u001b[0;36m_construct_auto_distance\u001b[1;34m(feature_names, column_names, column_types, sample)\u001b[0m\n\u001b[0;32m     50\u001b[0m \u001b[1;33m\u001b[0m\u001b[0m\n\u001b[0;32m     51\u001b[0m     \u001b[1;32mfor\u001b[0m \u001b[0mc\u001b[0m \u001b[1;32min\u001b[0m \u001b[0mfeature_names\u001b[0m\u001b[1;33m:\u001b[0m\u001b[1;33m\u001b[0m\u001b[0m\n\u001b[1;32m---> 52\u001b[1;33m         \u001b[1;32mif\u001b[0m \u001b[0mcol_type_dict\u001b[0m\u001b[1;33m[\u001b[0m\u001b[0mc\u001b[0m\u001b[1;33m]\u001b[0m \u001b[1;33m==\u001b[0m \u001b[0mstr\u001b[0m\u001b[1;33m:\u001b[0m\u001b[1;33m\u001b[0m\u001b[0m\n\u001b[0m\u001b[0;32m     53\u001b[0m             \u001b[0mcomposite_distance_params\u001b[0m\u001b[1;33m.\u001b[0m\u001b[0mappend\u001b[0m\u001b[1;33m(\u001b[0m\u001b[1;33m[\u001b[0m\u001b[1;33m[\u001b[0m\u001b[0mc\u001b[0m\u001b[1;33m]\u001b[0m\u001b[1;33m,\u001b[0m \u001b[0m_graphlab\u001b[0m\u001b[1;33m.\u001b[0m\u001b[0mdistances\u001b[0m\u001b[1;33m.\u001b[0m\u001b[0mlevenshtein\u001b[0m\u001b[1;33m,\u001b[0m \u001b[1;36m1\u001b[0m\u001b[1;33m]\u001b[0m\u001b[1;33m)\u001b[0m\u001b[1;33m\u001b[0m\u001b[0m\n\u001b[0;32m     54\u001b[0m         \u001b[1;32melif\u001b[0m \u001b[0mcol_type_dict\u001b[0m\u001b[1;33m[\u001b[0m\u001b[0mc\u001b[0m\u001b[1;33m]\u001b[0m \u001b[1;33m==\u001b[0m \u001b[0mdict\u001b[0m\u001b[1;33m:\u001b[0m\u001b[1;33m\u001b[0m\u001b[0m\n",
      "\u001b[1;31mKeyError\u001b[0m: 'deep_features.image'"
     ]
    }
   ],
   "source": [
    "train, test = features_sf.random_split(0.5, seed=1)\n",
    "model = graphlab.logistic_classifier.create(train, target='label',\n",
    "                              features =  ['deep_features.image'])\n",
    "#knn_model = graphlab.nearest_neighbors.create(data)\n",
    "knn_model = graphlab.nearest_neighbors.create(data,features=['deep_features.image'],\n",
    "                                             label='label')"
   ]
  },
  {
   "cell_type": "code",
   "execution_count": 166,
   "metadata": {
    "collapsed": false
   },
   "outputs": [
    {
     "name": "stdout",
     "output_type": "stream",
     "text": [
      "Class                                : NearestNeighborClassifier\n",
      "\n",
      "Schema\n",
      "------\n",
      "Number of examples                   : 60\n",
      "Number of feature columns            : 1\n",
      "Number of unpacked features          : 4096\n",
      "Number of distance components        : 1\n",
      "Number of classes                    : 3\n",
      "\n",
      "Training Summary\n",
      "----------------\n",
      "Training time (seconds)              : 1.171\n",
      "\n"
     ]
    }
   ],
   "source": [
    "model.evaluate(data)\n",
    "knn_model.summary()"
   ]
  },
  {
   "cell_type": "code",
   "execution_count": 157,
   "metadata": {
    "collapsed": false
   },
   "outputs": [
    {
     "name": "stdout",
     "output_type": "stream",
     "text": [
      "['Above_Average_Linen_Tee']\n"
     ]
    },
    {
     "data": {
      "text/plain": [
       "47"
      ]
     },
     "execution_count": 157,
     "metadata": {},
     "output_type": "execute_result"
    }
   ],
   "source": [
    "print model.predict(test[1])\n",
    "len(test)"
   ]
  },
  {
   "cell_type": "code",
   "execution_count": 158,
   "metadata": {
    "collapsed": false
   },
   "outputs": [
    {
     "data": {
      "text/plain": [
       "'Above_Average_Linen_Tee'"
      ]
     },
     "execution_count": 158,
     "metadata": {},
     "output_type": "execute_result"
    }
   ],
   "source": [
    "test[1]['label']"
   ]
  },
  {
   "cell_type": "code",
   "execution_count": 159,
   "metadata": {
    "collapsed": false
   },
   "outputs": [],
   "source": [
    " predictions = model.predict(test)"
   ]
  },
  {
   "cell_type": "code",
   "execution_count": 160,
   "metadata": {
    "collapsed": false
   },
   "outputs": [],
   "source": [
    "graphlab.canvas.set_target('ipynb')"
   ]
  },
  {
   "cell_type": "code",
   "execution_count": 161,
   "metadata": {
    "collapsed": true
   },
   "outputs": [],
   "source": [
    "def get_images_from_ids(query_result):\n",
    "    return data.filter_by(query_result['reference_label'],'label')"
   ]
  },
  {
   "cell_type": "code",
   "execution_count": 162,
   "metadata": {
    "collapsed": false
   },
   "outputs": [
    {
     "data": {
      "application/javascript": [
       "$(\"head\").append($(\"<link/>\").attr({\n",
       "  rel:  \"stylesheet\",\n",
       "  type: \"text/css\",\n",
       "  href: \"//cdnjs.cloudflare.com/ajax/libs/font-awesome/4.1.0/css/font-awesome.min.css\"\n",
       "}));\n",
       "$(\"head\").append($(\"<link/>\").attr({\n",
       "  rel:  \"stylesheet\",\n",
       "  type: \"text/css\",\n",
       "  href: \"https://static.turi.com/products/graphlab-create/2.1/canvas/css/canvas.css\"\n",
       "}));\n",
       "\n",
       "            (function(){\n",
       "\n",
       "                var e = null;\n",
       "                if (typeof element == 'undefined') {\n",
       "                    var scripts = document.getElementsByTagName('script');\n",
       "                    var thisScriptTag = scripts[scripts.length-1];\n",
       "                    var parentDiv = thisScriptTag.parentNode;\n",
       "                    e = document.createElement('div');\n",
       "                    parentDiv.appendChild(e);\n",
       "                } else {\n",
       "                    e = element[0];\n",
       "                }\n",
       "\n",
       "                if (typeof requirejs !== 'undefined') {\n",
       "                    // disable load timeout; ipython_app.js is large and can take a while to load.\n",
       "                    requirejs.config({waitSeconds: 0});\n",
       "                }\n",
       "\n",
       "                require(['https://static.turi.com/products/graphlab-create/2.1/canvas/js/ipython_app.js'], function(IPythonApp){\n",
       "                    var app = new IPythonApp();\n",
       "                    app.attachView('sarray','Images', {\"ipython\": true, \"rows\": [{\"format\": \"jpeg\", \"value\": \"image/jpeg;base64,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\\n\", \"height\": 300, \"channels\": 3, \"width\": 196, \"type\": \"image\", \"id\": 2248313824}], \"selected_variable\": {\"name\": [\"<SArray>\"], \"dtype\": \"Image\", \"view_component\": \"Images\", \"view_file\": \"sarray\", \"descriptives\": {\"rows\": 1}, \"type\": \"SArray\", \"view_components\": [\"Images\"]}}, e);\n",
       "                });\n",
       "            })();\n",
       "        "
      ]
     },
     "metadata": {},
     "output_type": "display_data"
    }
   ],
   "source": [
    "jumpsuit = data[94:95]\n",
    "jumpsuit['image'].show()"
   ]
  },
  {
   "cell_type": "code",
   "execution_count": 163,
   "metadata": {
    "collapsed": false
   },
   "outputs": [
    {
     "ename": "AttributeError",
     "evalue": "'NearestNeighborClassifier' object has no attribute 'query'",
     "output_type": "error",
     "traceback": [
      "\u001b[1;31m---------------------------------------------------------------------------\u001b[0m",
      "\u001b[1;31mAttributeError\u001b[0m                            Traceback (most recent call last)",
      "\u001b[1;32m<ipython-input-163-4a6247de8b35>\u001b[0m in \u001b[0;36m<module>\u001b[1;34m()\u001b[0m\n\u001b[1;32m----> 1\u001b[1;33m \u001b[0mknn_model\u001b[0m\u001b[1;33m.\u001b[0m\u001b[0mquery\u001b[0m\u001b[1;33m(\u001b[0m\u001b[0mjumpsuit\u001b[0m\u001b[1;33m,\u001b[0m\u001b[0mk\u001b[0m\u001b[1;33m=\u001b[0m\u001b[1;36m1\u001b[0m\u001b[1;33m)\u001b[0m\u001b[1;33m[\u001b[0m\u001b[1;34m'image'\u001b[0m\u001b[1;33m]\u001b[0m\u001b[1;33m.\u001b[0m\u001b[0mshow\u001b[0m\u001b[1;33m(\u001b[0m\u001b[1;33m)\u001b[0m\u001b[1;33m\u001b[0m\u001b[0m\n\u001b[0m\u001b[0;32m      2\u001b[0m \u001b[1;31m#knn_model.query(jumpsuit,k=1)\u001b[0m\u001b[1;33m\u001b[0m\u001b[1;33m\u001b[0m\u001b[0m\n",
      "\u001b[1;31mAttributeError\u001b[0m: 'NearestNeighborClassifier' object has no attribute 'query'"
     ]
    }
   ],
   "source": [
    "knn_model.query(jumpsuit,k=1)['image'].show()\n",
    "#knn_model.query(jumpsuit,k=1)"
   ]
  },
  {
   "cell_type": "code",
   "execution_count": 164,
   "metadata": {
    "collapsed": false
   },
   "outputs": [
    {
     "ename": "AttributeError",
     "evalue": "'NearestNeighborClassifier' object has no attribute 'similarity_graph'",
     "output_type": "error",
     "traceback": [
      "\u001b[1;31m---------------------------------------------------------------------------\u001b[0m",
      "\u001b[1;31mAttributeError\u001b[0m                            Traceback (most recent call last)",
      "\u001b[1;32m<ipython-input-164-722a717e3282>\u001b[0m in \u001b[0;36m<module>\u001b[1;34m()\u001b[0m\n\u001b[1;32m----> 1\u001b[1;33m \u001b[0msim_graph\u001b[0m \u001b[1;33m=\u001b[0m\u001b[0mknn_model\u001b[0m\u001b[1;33m.\u001b[0m\u001b[0msimilarity_graph\u001b[0m\u001b[1;33m(\u001b[0m\u001b[0mk\u001b[0m\u001b[1;33m=\u001b[0m\u001b[1;36m3\u001b[0m\u001b[1;33m)\u001b[0m\u001b[1;33m\u001b[0m\u001b[0m\n\u001b[0m\u001b[0;32m      2\u001b[0m \u001b[0msim_graph\u001b[0m\u001b[1;33m.\u001b[0m\u001b[0mshow\u001b[0m\u001b[1;33m(\u001b[0m\u001b[0mvlabel\u001b[0m\u001b[1;33m=\u001b[0m\u001b[1;34m'id'\u001b[0m\u001b[1;33m,\u001b[0m \u001b[0marrows\u001b[0m\u001b[1;33m=\u001b[0m\u001b[0mTrue\u001b[0m\u001b[1;33m)\u001b[0m\u001b[1;33m\u001b[0m\u001b[0m\n",
      "\u001b[1;31mAttributeError\u001b[0m: 'NearestNeighborClassifier' object has no attribute 'similarity_graph'"
     ]
    }
   ],
   "source": [
    "sim_graph =knn_model.similarity_graph(k=3)\n",
    "sim_graph.show(vlabel='id', arrows=True)"
   ]
  },
  {
   "cell_type": "code",
   "execution_count": null,
   "metadata": {
    "collapsed": true
   },
   "outputs": [],
   "source": []
  },
  {
   "cell_type": "code",
   "execution_count": null,
   "metadata": {
    "collapsed": true
   },
   "outputs": [],
   "source": []
  }
 ],
 "metadata": {
  "kernelspec": {
   "display_name": "Python 2",
   "language": "python",
   "name": "python2"
  },
  "language_info": {
   "codemirror_mode": {
    "name": "ipython",
    "version": 2
   },
   "file_extension": ".py",
   "mimetype": "text/x-python",
   "name": "python",
   "nbconvert_exporter": "python",
   "pygments_lexer": "ipython2",
   "version": "2.7.11"
  }
 },
 "nbformat": 4,
 "nbformat_minor": 0
}
